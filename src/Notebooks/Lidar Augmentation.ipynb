{
 "cells": [
  {
   "cell_type": "code",
   "execution_count": 1,
   "metadata": {},
   "outputs": [],
   "source": [
    "%load_ext autoreload\n",
    "%autoreload 2.0\n",
    "%matplotlib inline"
   ]
  },
  {
   "cell_type": "code",
   "execution_count": 2,
   "metadata": {},
   "outputs": [],
   "source": [
    "# %reload_ext autoreload"
   ]
  },
  {
   "cell_type": "code",
   "execution_count": 3,
   "metadata": {},
   "outputs": [
    {
     "name": "stderr",
     "output_type": "stream",
     "text": [
      "/home/injy/mariam_workspace/env/lib/python3.5/site-packages/tensorflow/python/framework/dtypes.py:516: FutureWarning: Passing (type, 1) or '1type' as a synonym of type is deprecated; in a future version of numpy, it will be understood as (type, (1,)) / '(1,)type'.\n",
      "  _np_qint8 = np.dtype([(\"qint8\", np.int8, 1)])\n",
      "/home/injy/mariam_workspace/env/lib/python3.5/site-packages/tensorflow/python/framework/dtypes.py:517: FutureWarning: Passing (type, 1) or '1type' as a synonym of type is deprecated; in a future version of numpy, it will be understood as (type, (1,)) / '(1,)type'.\n",
      "  _np_quint8 = np.dtype([(\"quint8\", np.uint8, 1)])\n",
      "/home/injy/mariam_workspace/env/lib/python3.5/site-packages/tensorflow/python/framework/dtypes.py:518: FutureWarning: Passing (type, 1) or '1type' as a synonym of type is deprecated; in a future version of numpy, it will be understood as (type, (1,)) / '(1,)type'.\n",
      "  _np_qint16 = np.dtype([(\"qint16\", np.int16, 1)])\n",
      "/home/injy/mariam_workspace/env/lib/python3.5/site-packages/tensorflow/python/framework/dtypes.py:519: FutureWarning: Passing (type, 1) or '1type' as a synonym of type is deprecated; in a future version of numpy, it will be understood as (type, (1,)) / '(1,)type'.\n",
      "  _np_quint16 = np.dtype([(\"quint16\", np.uint16, 1)])\n",
      "/home/injy/mariam_workspace/env/lib/python3.5/site-packages/tensorflow/python/framework/dtypes.py:520: FutureWarning: Passing (type, 1) or '1type' as a synonym of type is deprecated; in a future version of numpy, it will be understood as (type, (1,)) / '(1,)type'.\n",
      "  _np_qint32 = np.dtype([(\"qint32\", np.int32, 1)])\n",
      "/home/injy/mariam_workspace/env/lib/python3.5/site-packages/tensorflow/python/framework/dtypes.py:525: FutureWarning: Passing (type, 1) or '1type' as a synonym of type is deprecated; in a future version of numpy, it will be understood as (type, (1,)) / '(1,)type'.\n",
      "  np_resource = np.dtype([(\"resource\", np.ubyte, 1)])\n",
      "/home/injy/mariam_workspace/env/lib/python3.5/site-packages/tensorboard/compat/tensorflow_stub/dtypes.py:541: FutureWarning: Passing (type, 1) or '1type' as a synonym of type is deprecated; in a future version of numpy, it will be understood as (type, (1,)) / '(1,)type'.\n",
      "  _np_qint8 = np.dtype([(\"qint8\", np.int8, 1)])\n",
      "/home/injy/mariam_workspace/env/lib/python3.5/site-packages/tensorboard/compat/tensorflow_stub/dtypes.py:542: FutureWarning: Passing (type, 1) or '1type' as a synonym of type is deprecated; in a future version of numpy, it will be understood as (type, (1,)) / '(1,)type'.\n",
      "  _np_quint8 = np.dtype([(\"quint8\", np.uint8, 1)])\n",
      "/home/injy/mariam_workspace/env/lib/python3.5/site-packages/tensorboard/compat/tensorflow_stub/dtypes.py:543: FutureWarning: Passing (type, 1) or '1type' as a synonym of type is deprecated; in a future version of numpy, it will be understood as (type, (1,)) / '(1,)type'.\n",
      "  _np_qint16 = np.dtype([(\"qint16\", np.int16, 1)])\n",
      "/home/injy/mariam_workspace/env/lib/python3.5/site-packages/tensorboard/compat/tensorflow_stub/dtypes.py:544: FutureWarning: Passing (type, 1) or '1type' as a synonym of type is deprecated; in a future version of numpy, it will be understood as (type, (1,)) / '(1,)type'.\n",
      "  _np_quint16 = np.dtype([(\"quint16\", np.uint16, 1)])\n",
      "/home/injy/mariam_workspace/env/lib/python3.5/site-packages/tensorboard/compat/tensorflow_stub/dtypes.py:545: FutureWarning: Passing (type, 1) or '1type' as a synonym of type is deprecated; in a future version of numpy, it will be understood as (type, (1,)) / '(1,)type'.\n",
      "  _np_qint32 = np.dtype([(\"qint32\", np.int32, 1)])\n",
      "/home/injy/mariam_workspace/env/lib/python3.5/site-packages/tensorboard/compat/tensorflow_stub/dtypes.py:550: FutureWarning: Passing (type, 1) or '1type' as a synonym of type is deprecated; in a future version of numpy, it will be understood as (type, (1,)) / '(1,)type'.\n",
      "  np_resource = np.dtype([(\"resource\", np.ubyte, 1)])\n"
     ]
    }
   ],
   "source": [
    "import glob\n",
    "import os\n",
    "import matplotlib.pyplot as plt\n",
    "import matplotlib.image as mpimg\n",
    "import matplotlib.patches as patches\n",
    "import numpy as np\n",
    "import tensorflow as tf"
   ]
  },
  {
   "cell_type": "code",
   "execution_count": 4,
   "metadata": {},
   "outputs": [],
   "source": [
    "import sys\n",
    "sys.path.insert(0, '../.')"
   ]
  },
  {
   "cell_type": "code",
   "execution_count": 5,
   "metadata": {},
   "outputs": [],
   "source": [
    "from data.segmentation_dataset_loader import *\n",
    "from data.detection_dataset_loader import *\n",
    "from model import *\n",
    "from Trainer import *\n",
    "from evaluation.evaluate import *"
   ]
  },
  {
   "cell_type": "code",
   "execution_count": 6,
   "metadata": {},
   "outputs": [],
   "source": [
    "import numpy as np\n",
    "from PIL import Image, ImageDraw\n",
    "import math\n",
    "import numpy.matlib as npm\n",
    "from scipy import ndimage, misc"
   ]
  },
  {
   "cell_type": "code",
   "execution_count": 7,
   "metadata": {},
   "outputs": [],
   "source": [
    "from skimage.transform import rescale"
   ]
  },
  {
   "cell_type": "code",
   "execution_count": 8,
   "metadata": {},
   "outputs": [],
   "source": [
    "from data.data_utils.reader import *"
   ]
  },
  {
   "cell_type": "code",
   "execution_count": 9,
   "metadata": {},
   "outputs": [],
   "source": [
    "from scipy.ndimage import rotate"
   ]
  },
  {
   "cell_type": "code",
   "execution_count": 10,
   "metadata": {},
   "outputs": [],
   "source": [
    "def convert5Pointto8Point(cx_, cy_, w_, h_, a_):\n",
    "\n",
    "    theta = math.radians(a_)\n",
    "    bbox = npm.repmat([[cx_], [cy_]], 1, 5) + \\\n",
    "       np.matmul([[math.cos(theta), math.sin(theta)],\n",
    "                  [-math.sin(theta), math.cos(theta)]],\n",
    "                 [[-w_ / 2, w_/ 2, w_ / 2, -w_ / 2, w_ / 2 + 8],\n",
    "                  [-h_ / 2, -h_ / 2, h_ / 2, h_ / 2, 0]])\n",
    "    # add first point\n",
    "    x1, y1 = bbox[0][0], bbox[1][0]\n",
    "    # add second point\n",
    "    x2, y2 = bbox[0][1], bbox[1][1]\n",
    "    # add third point\n",
    "    #x3, y3 = bbox[0][4], bbox[1][4]   \n",
    "    # add forth point\n",
    "    x3, y3 = bbox[0][2], bbox[1][2]\n",
    "    # add fifth point\n",
    "    x4, y4 = bbox[0][3], bbox[1][3]\n",
    "\n",
    "    return [x1, y1, x2, y2, x3, y3, x4, y4]"
   ]
  },
  {
   "cell_type": "code",
   "execution_count": 11,
   "metadata": {},
   "outputs": [],
   "source": [
    "import math\n",
    "\n",
    "def rotate2(origin, point, angle):\n",
    "    \"\"\"\n",
    "    Rotate a point counterclockwise by a given angle around a given origin.\n",
    "\n",
    "    The angle should be given in radians.\n",
    "    \"\"\"\n",
    "    ox, oy = origin\n",
    "    px, py = point\n",
    "\n",
    "    qx = ox + math.cos(angle) * (px - ox) - math.sin(angle) * (py - oy)\n",
    "    qy = oy + math.sin(angle) * (px - ox) + math.cos(angle) * (py - oy)\n",
    "    return qx, qy"
   ]
  },
  {
   "cell_type": "code",
   "execution_count": 12,
   "metadata": {},
   "outputs": [],
   "source": [
    "base_path = '../../../Data'"
   ]
  },
  {
   "cell_type": "code",
   "execution_count": 13,
   "metadata": {},
   "outputs": [],
   "source": [
    "list_files = list(map(lambda x: x.split('.')[0], os.listdir(base_path+'/data_object_image_3/training/image_3')))\n",
    "random.seed(0)\n",
    "random.shuffle(list_files)\n",
    "ln = int(len(list_files) * 0.8)\n",
    "list_files= list_files[ln:]"
   ]
  },
  {
   "cell_type": "code",
   "execution_count": 14,
   "metadata": {},
   "outputs": [
    {
     "data": {
      "text/plain": [
       "'002705'"
      ]
     },
     "execution_count": 14,
     "metadata": {},
     "output_type": "execute_result"
    }
   ],
   "source": [
    "i = 10\n",
    "current_file = list_files[i]\n",
    "current_file"
   ]
  },
  {
   "cell_type": "code",
   "execution_count": 15,
   "metadata": {},
   "outputs": [],
   "source": [
    "dataset = DetectionDatasetLoader(base_path='../../../Data', batch_size=4, random_seed=0, training=True)\n",
    "temp = dataset.get_next(batch_size=4)"
   ]
  },
  {
   "cell_type": "code",
   "execution_count": 16,
   "metadata": {},
   "outputs": [],
   "source": [
    "temp = dataset.get_next(batch_size=4)"
   ]
  },
  {
   "cell_type": "code",
   "execution_count": 17,
   "metadata": {},
   "outputs": [
    {
     "name": "stdout",
     "output_type": "stream",
     "text": [
      "0.0 1.0\n",
      "0.0 1.0\n",
      "0.0 1.0\n",
      "0.0 1.0\n"
     ]
    }
   ],
   "source": [
    "for i in range(4):\n",
    "    print(np.min(temp[1][i, :, :, :]), np.max(temp[1][i, :, :, :]))"
   ]
  },
  {
   "cell_type": "code",
   "execution_count": 18,
   "metadata": {},
   "outputs": [
    {
     "data": {
      "text/plain": [
       "<Figure size 432x288 with 0 Axes>"
      ]
     },
     "metadata": {},
     "output_type": "display_data"
    },
    {
     "data": {
      "image/png": "[encoded data removed]",
      "text/plain": [
       "<Figure size 432x288 with 1 Axes>"
      ]
     },
     "metadata": {
      "needs_background": "light"
     },
     "output_type": "display_data"
    }
   ],
   "source": [
    "plt.clf()\n",
    "fig,ax = plt.subplots(1)\n",
    "\n",
    "img = np.clip(np.mean(temp[1][0, :, :, :]*255., 2), 0, 1)\n",
    "ax.imshow(img)\n",
    "\n",
    "        \n",
    "plt.show()"
   ]
  },
  {
   "cell_type": "code",
   "execution_count": 19,
   "metadata": {},
   "outputs": [
    {
     "data": {
      "text/plain": [
       "<Figure size 432x288 with 0 Axes>"
      ]
     },
     "metadata": {},
     "output_type": "display_data"
    },
    {
     "data": {
      "image/png": "[encoded data removed]",
      "text/plain": [
       "<Figure size 432x288 with 1 Axes>"
      ]
     },
     "metadata": {
      "needs_background": "light"
     },
     "output_type": "display_data"
    }
   ],
   "source": [
    "plt.clf()\n",
    "fig,ax = plt.subplots(1)\n",
    "\n",
    "img = np.clip(np.mean(temp[1][1, :, :, :], 2), 0, 1)\n",
    "ax.imshow(img)\n",
    "\n",
    "        \n",
    "plt.show()"
   ]
  },
  {
   "cell_type": "code",
   "execution_count": 20,
   "metadata": {},
   "outputs": [
    {
     "data": {
      "text/plain": [
       "<Figure size 432x288 with 0 Axes>"
      ]
     },
     "metadata": {},
     "output_type": "display_data"
    },
    {
     "data": {
      "image/png": "[encoded data removed]",
      "text/plain": [
       "<Figure size 432x288 with 1 Axes>"
      ]
     },
     "metadata": {
      "needs_background": "light"
     },
     "output_type": "display_data"
    }
   ],
   "source": [
    "plt.clf()\n",
    "fig,ax = plt.subplots(1)\n",
    "\n",
    "img = np.clip(np.mean(temp[1][2, :, :, :], 2), 0, 1)\n",
    "ax.imshow(img)\n",
    "\n",
    "        \n",
    "plt.show()"
   ]
  },
  {
   "cell_type": "code",
   "execution_count": 21,
   "metadata": {},
   "outputs": [
    {
     "data": {
      "text/plain": [
       "<Figure size 432x288 with 0 Axes>"
      ]
     },
     "metadata": {},
     "output_type": "display_data"
    },
    {
     "data": {
      "image/png": "[encoded data removed]",
      "text/plain": [
       "<Figure size 432x288 with 1 Axes>"
      ]
     },
     "metadata": {
      "needs_background": "light"
     },
     "output_type": "display_data"
    }
   ],
   "source": [
    "plt.clf()\n",
    "fig,ax = plt.subplots(1)\n",
    "\n",
    "img = np.clip(np.mean(temp[1][3, :, :, :], 2), 0, 1)\n",
    "ax.imshow(img)\n",
    "\n",
    "        \n",
    "plt.show()"
   ]
  },
  {
   "cell_type": "code",
   "execution_count": null,
   "metadata": {},
   "outputs": [],
   "source": []
  },
  {
   "cell_type": "code",
   "execution_count": null,
   "metadata": {},
   "outputs": [],
   "source": []
  },
  {
   "cell_type": "code",
   "execution_count": null,
   "metadata": {},
   "outputs": [],
   "source": []
  },
  {
   "cell_type": "code",
   "execution_count": 21,
   "metadata": {},
   "outputs": [],
   "source": [
    "# !cat ../../../Data/data_object_calib/training/calib/002705.txt"
   ]
  },
  {
   "cell_type": "code",
   "execution_count": 22,
   "metadata": {},
   "outputs": [
    {
     "name": "stdout",
     "output_type": "stream",
     "text": [
      "Car 0.52 0 -2.53 0.00 205.84 187.52 316.87 1.41 1.59 3.94 -8.60 1.94 10.40 3.07\r\n",
      "Car 0.02 3 -2.56 0.00 181.94 258.18 286.02 1.69 1.77 3.51 -8.50 1.87 12.85 -3.13\r\n",
      "Car 0.00 2 -2.68 117.51 188.64 336.12 269.90 1.61 1.66 3.86 -8.25 1.98 15.70 3.12\r\n",
      "Car 0.00 1 2.97 233.23 182.92 392.19 246.52 1.59 1.71 3.90 -8.38 1.90 20.32 2.58\r\n",
      "Car 0.00 2 2.98 354.03 185.62 425.11 224.79 1.43 1.57 2.43 -8.66 1.95 28.21 2.68\r\n",
      "Car 0.00 2 3.04 374.45 183.46 469.09 220.57 1.48 1.74 3.77 -8.14 1.96 31.03 2.79\r\n",
      "Car 0.00 0 1.76 474.32 182.54 510.23 210.05 1.55 1.54 3.06 -6.98 2.14 42.86 1.60\r\n",
      "DontCare -1 -1 -10 512.15 178.59 545.43 201.52 -1 -1 -1 -1000 -1000 -1000 -10\r\n",
      "DontCare -1 -1 -10 609.18 176.00 633.41 188.58 -1 -1 -1 -1000 -1000 -1000 -10\r\n",
      "DontCare -1 -1 -10 652.52 173.42 692.27 195.71 -1 -1 -1 -1000 -1000 -1000 -10\r\n",
      "DontCare -1 -1 -10 795.48 150.13 1240.00 188.59 -1 -1 -1 -1000 -1000 -1000 -10\r\n"
     ]
    }
   ],
   "source": [
    "!cat ../../../Data/data_object_label_2/training/label_2/002705.txt"
   ]
  },
  {
   "cell_type": "code",
   "execution_count": 476,
   "metadata": {},
   "outputs": [],
   "source": [
    "def read_label(label_path, calib_path, shift_h, shift_w, x_range=(0, 71), y_range=(-40, 40), z_range=(-3.0, 1), \n",
    "                    size=(512, 448, 32), get_actual_dims=False, from_file=True, translate_x=0, translate_y=0,\n",
    "                   translate_z=0, ang=0, get_neg=False):\n",
    "\n",
    "    if from_file:\n",
    "        lines = []\n",
    "        with open(label_path) as label_file:\n",
    "            lines = label_file.readlines()\n",
    "    else:\n",
    "        lines = label_path.split('\\n')\n",
    "    # filter car class\n",
    "    lines = list(map(lambda x: x.split(), lines))\n",
    "    if len(lines) > 0:\n",
    "        if get_neg:\n",
    "            lines = list(filter(lambda x: len(x) > 0 and ( x[0] not in ['Car', 'Van', 'Truck', 'Tram', 'DontCare']), lines))\n",
    "            if len(lines) > 0:\n",
    "                lines = lines[:1]\n",
    "        else:\n",
    "            lines = list(filter(lambda x: len(x) > 0 and ( x[0] in ['Car', 'Van', 'Truck', 'Tram']), lines))\n",
    "    \n",
    "    def get_parameter(index):\n",
    "        return list(map(lambda x: x[index], lines))\n",
    "    \n",
    "    classes = np.array(get_parameter(0))\n",
    "    dimension_height = np.array(get_parameter(8)).astype(float)\n",
    "    dimension_width = np.array(get_parameter(9)).astype(float)\n",
    "    dimension_length = np.array(get_parameter(10)).astype(float)\n",
    "    # TODO: take shift into consideration - URGENT\n",
    "    location_x = np.array(get_parameter(11)).astype(float)\n",
    "    location_y = np.array(get_parameter(12)).astype(float)\n",
    "    location_z = np.array(get_parameter(13)).astype(float)\n",
    "    angles = np.array(get_parameter(14)).astype(float)\n",
    "    \n",
    "    # print(len(classes))\n",
    "    calib_data = read_calib(calib_path)\n",
    "\n",
    "    locations = np.array([[location_x[i], location_y[i], location_z[i]] for i in range(len(classes))])\n",
    "    # print(locations)\n",
    "    if len(locations) > 0 and len(locations[0]) > 0:\n",
    "        locations = project_rect_to_velo(locations, calib_data['R0_rect'].reshape((3, 3)), calib_data['Tr_velo_to_cam'].reshape((3, 4)))\n",
    "    # print(locations)\n",
    "    # print(z_range)\n",
    "    locations = np.array(list(filter(lambda point: (point[0] >= x_range[0]  and point[0] <= x_range[1])\n",
    "                                    and (point[1] >= y_range[0] and point[1] <= y_range[1])\n",
    "                                    and (point[2] >= z_range[0] and point[2] <= z_range[1]) , locations)))\n",
    "\n",
    "    indx = []\n",
    "    i = 0\n",
    "    for point in locations:\n",
    "        if (point[0] >= x_range[0]  and point[0] <= x_range[1])\\\n",
    "            and (point[1] >= y_range[0] and point[1] <= y_range[1])\\\n",
    "            and (point[2] >= z_range[0] and point[2] <= z_range[1]):\n",
    "            indx.append(i)\n",
    "        i += 1\n",
    "\n",
    "    if len(indx) > 0:\n",
    "        dimension_height = dimension_height[indx]\n",
    "        dimension_width = dimension_width[indx]\n",
    "        dimension_length = dimension_length[indx]\n",
    "        location_x = location_x[indx]\n",
    "        location_y = location_y[indx]\n",
    "        location_z = location_z[indx]\n",
    "        angles = angles[indx]\n",
    "        classes = classes[indx]\n",
    "\n",
    "    if len(locations) > 0:\n",
    "        locations[:, :3] = locations[:, :3] - np.array([translate_x, translate_y, -translate_z])\n",
    "\n",
    "    # print('.......')\n",
    "    # print(len(locations))\n",
    "\n",
    "    points = [project_point_from_camera_coor_to_velo_coor([location_x[i], location_y[i], location_z[i]], \n",
    "                                                        [dimension_height[i], dimension_width[i], dimension_length[i]],\n",
    "                                                        angles[i],\n",
    "                                                         calib_data)\n",
    "                for i in range(len(locations))]\n",
    "    \n",
    "    x_size = (x_range[1] - x_range[0])\n",
    "    y_size = (y_range[1] - y_range[0])\n",
    "    z_size = (z_range[1] - z_range[0])\n",
    "            \n",
    "    x_fac = (size[0]-1) / x_size\n",
    "    y_fac = (size[1]-1) / y_size\n",
    "    z_fac = (size[2]-1) / z_size\n",
    "    if get_actual_dims:\n",
    "        import math64\n",
    "        for i in range(len(points)):\n",
    "            b = points[i]\n",
    "            x0 = b[0][0]\n",
    "            y0 = b[0][1]\n",
    "            x1 = b[1][0]\n",
    "            y1 = b[1][1]\n",
    "            x2 = b[2][0]\n",
    "            y2 = b[2][1]\n",
    "            u0 = -(x0) * x_fac + size[0]\n",
    "            v0 = -(y0 + 40) * y_fac + size[1]\n",
    "            u1 = -(x1) * x_fac + size[0]\n",
    "            v1 = -(y1 + 40) * y_fac + size[1]\n",
    "            u2 = -(x2) * x_fac + size[0]\n",
    "            v2 = -(y2 + 40) * y_fac + size[1]\n",
    "            dimension_length[i] = math.sqrt((v1-v2)**2 + (u1-u2)**2)\n",
    "            dimension_width[i] = math.sqrt((v1-v0)**2 + (u1-u0)**2)\n",
    "            dimension_height[i] = math.sqrt((-(b[0][2]+(-1*z_range[1]))*z_fac+(-b[4][2]+z_range[1])*z_fac)**2)\n",
    "\n",
    "      \n",
    "\n",
    "    x_range = (x_range[0] + translate_x, x_range[1] + translate_x)\n",
    "    y_range = (y_range[0] + translate_y, y_range[1] + translate_y)\n",
    "    z_range = (z_range[0] + translate_z, z_range[1] + translate_z)\n",
    "    \n",
    "#     if translate_x <= 0:\n",
    "    output = [[-(locations[i][0] + -1*x_range[0]) * x_fac + size[0], -(locations[i][1] + -1*y_range[0]) * y_fac + size[1], -(locations[i][2] + -1*z_range[0]) * z_fac + size[2], \n",
    "                    dimension_height[i], dimension_width[i], dimension_length[i], angles[i]] \n",
    "                    for i in range(len(locations))]\n",
    "#     else:\n",
    "#         output = [[-(locations[i][0]) * x_fac + size[0], -(locations[i][1] + -1*y_range[0]) * y_fac + size[1], -(locations[i][2] + -1*z_range[0]) * z_fac + size[2], \n",
    "#                     dimension_height[i], dimension_width[i], dimension_length[i], angles[i]] \n",
    "#                     for i in range(len(locations))]\n",
    "    # import math\n",
    "    if ang != 0:\n",
    "        for i in range(len(locations)):\n",
    "            w = size[0]\n",
    "            h = size[1]\n",
    "            output[i][0], output[i][1] = rotate2((w//2, h//2), (output[i][0], output[i][1]), ang / 57.2958)\n",
    "            output[i][6] = output[i][6] - ang / 57.2958\n",
    "\n",
    "    output = list(filter(lambda point: 0 <= point[0] < size[0] and 0 <= point[1] < size[1] and 0 <= point[2] < size[2] , output))\n",
    "    output = np.array(output)\n",
    "    return points, output, calib_data['Tr_velo_to_cam'], calib_data['R0_rect'], calib_data['P2']\n"
   ]
  },
  {
   "cell_type": "code",
   "execution_count": 490,
   "metadata": {},
   "outputs": [],
   "source": [
    "def velo_points_bev(lidar_path, calib_path, x_range=(0, 71), y_range=(-40, 40), z_range=(-3.0, 1), size=(512, 448, 32), img_width=1224, img_height=370, translate_x=0, translate_y=0, translate_z=0, ang=0):\n",
    "    \"\"\"\n",
    "    # TODO :  8-neighbor interpolation\n",
    "    \"\"\"\n",
    "    points = np.fromfile(lidar_path, dtype=np.float32).reshape(-1, 4)\n",
    "    calib = Calibration(calib_path)\n",
    "    imgfov_pc_velo, pts_2d, fov_inds = get_lidar_in_image_fov(points[:, :3],\n",
    "        calib, 0, 0, img_width, img_height, True)\n",
    "    points = imgfov_pc_velo\n",
    "    x = points[:, 0]\n",
    "    y = points[:, 1]\n",
    "    z = points[:, 2]\n",
    "\n",
    "    x_lim = in_range_points(x, x, y, z, x_range, y_range, z_range)\n",
    "    y_lim = in_range_points(y, x, y, z, x_range, y_range, z_range)\n",
    "    z_lim = in_range_points(z, x, y, z, x_range, y_range, z_range)\n",
    "\n",
    "    x_lim -= translate_x\n",
    "    y_lim -= translate_y\n",
    "    z_lim += translate_z\n",
    "    x_range = (x_range[0] + translate_x, x_range[1] + translate_x)\n",
    "    y_range = (y_range[0] + translate_y, y_range[1] + translate_y)\n",
    "    print(z_range)\n",
    "    z_range = (z_range[0] + translate_z, z_range[1] + translate_z)\n",
    "    print(z_range)\n",
    "\n",
    "    x_size = (x_range[1] - x_range[0])\n",
    "    y_size = (y_range[1] - y_range[0])\n",
    "    z_size = (z_range[1] - z_range[0])\n",
    "        \n",
    "    x_fac = (size[0]-1) / x_size\n",
    "    y_fac = (size[1]-1) / y_size\n",
    "    z_fac = (size[2]-1) / z_size\n",
    "\n",
    "#     if x_range[0] < 0:\n",
    "    x_lim = x_lim + -1*x_range[0]\n",
    "#     if y_range[0] < 0:\n",
    "    y_lim = y_lim + -1*y_range[0]\n",
    "#     if z_range[0] < 0:\n",
    "    print(np.max(z_lim), np.min(z_lim))\n",
    "    z_lim = z_lim + -1*z_range[0]\n",
    "    print(np.max(z_lim), np.min(z_lim))\n",
    "        \n",
    "    x_lim = -1 * (x_lim * x_fac).astype(np.int32)\n",
    "    y_lim = -1 * (y_lim * y_fac).astype(np.int32)\n",
    "    z_lim = 1 * (z_lim * z_fac).astype(np.int32)\n",
    "    x_lim2 = x_lim[:]\n",
    "    y_lim2 = y_lim[:]\n",
    "    z_lim2 = z_lim[:]\n",
    "#     print(np.max(x_lim), np.min(x_lim))\n",
    "#     print(np.max(y_lim), np.min(y_lim))\n",
    "    print(np.max(z_lim), np.min(z_lim))\n",
    "    x_lim = x_lim[(x_lim2>-size[0]) & (x_lim2<= 0) & (y_lim2>-size[1]) & (y_lim2 <= 0) & (z_lim2<size[2]) & (z_lim2 >= 0)]\n",
    "    y_lim = y_lim[(x_lim2>-size[0]) & (x_lim2<= 0) & (y_lim2>-size[1]) & (y_lim2 <= 0) & (z_lim2<size[2]) & (z_lim2 >= 0)]\n",
    "    z_lim = z_lim[(x_lim2>-size[0]) & (x_lim2<= 0) & (y_lim2>-size[1]) & (y_lim2 <= 0) & (z_lim2<size[2]) & (z_lim2 >= 0)]\n",
    "#     print(np.max(x_lim), np.min(x_lim))\n",
    "#     print(np.max(y_lim), np.min(y_lim))\n",
    "    print(np.max(z_lim), np.min(z_lim))\n",
    "    \n",
    "    \n",
    "\n",
    "#     print(np.max(x_lim), np.min(x_lim))\n",
    "    img = np.zeros([size[0], size[1], size[2]], dtype=np.uint8)\n",
    "    # occupancy grid\n",
    "    img[x_lim, y_lim, z_lim] = 255\n",
    "    if ang != 0:\n",
    "        # img = rotate(img, ang, reshape=False)\n",
    "        img = rotateImage(img, ang)\n",
    "        img[img<255//2]=0\n",
    "        img[img>=255//2]=255.\n",
    "    return img\n"
   ]
  },
  {
   "cell_type": "code",
   "execution_count": 15,
   "metadata": {},
   "outputs": [
    {
     "data": {
      "text/plain": [
       "'001579'"
      ]
     },
     "execution_count": 15,
     "metadata": {},
     "output_type": "execute_result"
    }
   ],
   "source": [
    "i = 3\n",
    "current_file = list_files[i]\n",
    "current_file"
   ]
  },
  {
   "cell_type": "code",
   "execution_count": 16,
   "metadata": {},
   "outputs": [],
   "source": [
    "translate_x = 0\n",
    "translate_y = 0\n",
    "translate_z = 0.25\n",
    "ang = 0\n",
    "                        \n",
    "h, w, _ = cv2.imread(base_path + '/data_object_image_3/training/image_3/'+ current_file + '.png').shape\n",
    "lidar_image = velo_points_bev(base_path + '/data_object_velodyne/training/velodyne/'+ current_file + '.bin', \n",
    "                           size=(512, 448, 40), img_height=h, img_width=w, ang=ang, translate_x=translate_x,\n",
    "                              translate_y=translate_y, translate_z=translate_z,\n",
    "                            calib_path=base_path + '/data_object_calib/training/calib/'+ current_file + '.txt')\n",
    "\n",
    "_, labels, _, _, _, _ = read_label(base_path + '/data_object_label_2/training/label_2/'+ current_file + '.txt', \n",
    "                                base_path + '/data_object_calib/training/calib/'+ current_file + '.txt', \n",
    "                                0, 0, get_actual_dims=True, translate_x=translate_x, translate_y=translate_y,\n",
    "                                translate_z=-translate_z, ang=ang)\n",
    "\n",
    "\n"
   ]
  },
  {
   "cell_type": "code",
   "execution_count": 17,
   "metadata": {},
   "outputs": [
    {
     "name": "stdout",
     "output_type": "stream",
     "text": [
      "35.650322073587674 9.742349302129796 17.54806340468203\n",
      "29.43907896446317 8.81829472937727 15.695767823076704\n",
      "37.068005077664715 11.654118861282948 25.24971345451469\n"
     ]
    },
    {
     "data": {
      "text/plain": [
       "<Figure size 432x288 with 0 Axes>"
      ]
     },
     "metadata": {},
     "output_type": "display_data"
    },
    {
     "data": {
      "image/png": "[encoded data removed]",
      "text/plain": [
       "<Figure size 432x288 with 1 Axes>"
      ]
     },
     "metadata": {
      "needs_background": "light"
     },
     "output_type": "display_data"
    }
   ],
   "source": [
    "# Create figure and axes\n",
    "plt.clf()\n",
    "fig,ax = plt.subplots(1)\n",
    "\n",
    "# Display the image\n",
    "img = np.clip(np.mean(lidar_image.transpose()[:, :, :], 2), 0, 1)\n",
    "# img = cv2.resize(img, (112, 128))\n",
    "ax.imshow(img)\n",
    "\n",
    "for i in range(0, len(labels)):\n",
    "    w = labels[i][3]\n",
    "    h = labels[i][4] \n",
    "    d = labels[i][5]\n",
    "    x = labels[i][0]\n",
    "    y = labels[i][1]\n",
    "    z = labels[i][2]\n",
    "    print(w, h, d)\n",
    "    plt.scatter(y, z, s=30)\n",
    "    a = labels[i][6]\n",
    "    if a < 0:\n",
    "      a = a + 3.14\n",
    "    \n",
    "    rect = patches.Rectangle((y-h/2, z-d/2),h, d, angle= 0,linewidth=0.75,edgecolor='r',facecolor='none')\n",
    "\n",
    "    ax.add_patch(rect)\n",
    "    \n",
    "plt.show()\n"
   ]
  },
  {
   "cell_type": "code",
   "execution_count": 18,
   "metadata": {},
   "outputs": [
    {
     "name": "stdout",
     "output_type": "stream",
     "text": [
      "35.650322073587674 9.742349302129796 17.54806340468203\n",
      "29.43907896446317 8.81829472937727 15.695767823076704\n",
      "37.068005077664715 11.654118861282948 25.24971345451469\n"
     ]
    },
    {
     "data": {
      "text/plain": [
       "<Figure size 432x288 with 0 Axes>"
      ]
     },
     "metadata": {},
     "output_type": "display_data"
    },
    {
     "data": {
      "image/png": "[encoded data removed]",
      "text/plain": [
       "<Figure size 432x288 with 1 Axes>"
      ]
     },
     "metadata": {
      "needs_background": "light"
     },
     "output_type": "display_data"
    }
   ],
   "source": [
    "# Create figure and axes\n",
    "plt.clf()\n",
    "fig,ax = plt.subplots(1)\n",
    "\n",
    "# Display the image\n",
    "img = np.clip(np.mean(lidar_image.transpose()[:, :, :], 2), 0, 1)\n",
    "# img = cv2.resize(img, (112, 128))\n",
    "ax.imshow(img)\n",
    "\n",
    "for i in range(0, len(labels)):\n",
    "    w = labels[i][3]\n",
    "    h = labels[i][4] \n",
    "    d = labels[i][5]\n",
    "    x = labels[i][0]\n",
    "    y = labels[i][1]\n",
    "    z = labels[i][2]\n",
    "    print(w, h, d)\n",
    "    plt.scatter(y, z, s=30)\n",
    "    a = labels[i][6]\n",
    "    if a < 0:\n",
    "      a = a + 3.14\n",
    "    \n",
    "    rect = patches.Rectangle((y-h/2, z-d/2),h, d, angle= 0,linewidth=0.75,edgecolor='r',facecolor='none')\n",
    "\n",
    "    ax.add_patch(rect)\n",
    "    \n",
    "plt.show()\n"
   ]
  },
  {
   "cell_type": "code",
   "execution_count": null,
   "metadata": {},
   "outputs": [],
   "source": []
  },
  {
   "cell_type": "code",
   "execution_count": 23,
   "metadata": {
    "scrolled": false
   },
   "outputs": [
    {
     "data": {
      "text/plain": [
       "<Figure size 432x288 with 0 Axes>"
      ]
     },
     "metadata": {},
     "output_type": "display_data"
    },
    {
     "data": {
      "image/png": "[encoded data removed]",
      "text/plain": [
       "<Figure size 432x288 with 1 Axes>"
      ]
     },
     "metadata": {
      "needs_background": "light"
     },
     "output_type": "display_data"
    }
   ],
   "source": [
    "\n",
    "\n",
    "plt.clf()\n",
    "fig,ax = plt.subplots(1)\n",
    "\n",
    "\n",
    "\n",
    "img = np.clip(np.mean(lidar_image[:, :, 20:], 2), 0, 1)\n",
    "ax.imshow(img)\n",
    "\n",
    "\n",
    "for j in range(0, len(labels)):\n",
    "\n",
    "    w = labels[j][3]\n",
    "    h = labels[j][4] \n",
    "    x = labels[j][0] \n",
    "    y = labels[j][1] \n",
    "#     x, y = rotate2((512//2, 448//2), (x, y), math.radians(ang))\n",
    "    a = labels[j][6]\n",
    "    if a < 0:\n",
    "          a = a + 3.14\n",
    "#     print(y, x)\n",
    "    plt.scatter(y, x, s=10)\n",
    "\n",
    "    polygon = convert5Pointto8Point(y, x, w, h, -a*57.2958)\n",
    "    xs = polygon[0::2]\n",
    "    ys = polygon[1::2]\n",
    "    l = []\n",
    "    for i in range(4):\n",
    "        l.append([xs[i], ys[i]])\n",
    "            \n",
    "    rect = patches.Polygon(l,linewidth=0.75,edgecolor='r',facecolor='none')\n",
    "    ax.add_patch(rect)\n",
    "\n",
    "plt.show()"
   ]
  },
  {
   "cell_type": "code",
   "execution_count": null,
   "metadata": {},
   "outputs": [],
   "source": []
  },
  {
   "cell_type": "code",
   "execution_count": null,
   "metadata": {},
   "outputs": [],
   "source": []
  },
  {
   "cell_type": "code",
   "execution_count": 32,
   "metadata": {},
   "outputs": [
    {
     "ename": "NameError",
     "evalue": "name 'lidar_image' is not defined",
     "output_type": "error",
     "traceback": [
      "\u001b[0;31m---------------------------------------------------------------------------\u001b[0m",
      "\u001b[0;31mNameError\u001b[0m                                 Traceback (most recent call last)",
      "\u001b[0;32m<ipython-input-32-743b0de0d177>\u001b[0m in \u001b[0;36m<module>\u001b[0;34m\u001b[0m\n\u001b[1;32m      4\u001b[0m \u001b[0;34m\u001b[0m\u001b[0m\n\u001b[1;32m      5\u001b[0m \u001b[0;34m\u001b[0m\u001b[0m\n\u001b[0;32m----> 6\u001b[0;31m \u001b[0mimg\u001b[0m \u001b[0;34m=\u001b[0m \u001b[0mnp\u001b[0m\u001b[0;34m.\u001b[0m\u001b[0mclip\u001b[0m\u001b[0;34m(\u001b[0m\u001b[0mnp\u001b[0m\u001b[0;34m.\u001b[0m\u001b[0mmean\u001b[0m\u001b[0;34m(\u001b[0m\u001b[0mlidar_image\u001b[0m\u001b[0;34m[\u001b[0m\u001b[0;34m:\u001b[0m\u001b[0;34m,\u001b[0m \u001b[0;34m:\u001b[0m\u001b[0;34m,\u001b[0m \u001b[0;34m:\u001b[0m\u001b[0;34m]\u001b[0m\u001b[0;34m,\u001b[0m \u001b[0;36m2\u001b[0m\u001b[0;34m)\u001b[0m\u001b[0;34m,\u001b[0m \u001b[0;36m0\u001b[0m\u001b[0;34m,\u001b[0m \u001b[0;36m1\u001b[0m\u001b[0;34m)\u001b[0m\u001b[0;34m\u001b[0m\u001b[0m\n\u001b[0m\u001b[1;32m      7\u001b[0m \u001b[0max\u001b[0m\u001b[0;34m.\u001b[0m\u001b[0mimshow\u001b[0m\u001b[0;34m(\u001b[0m\u001b[0mimg\u001b[0m\u001b[0;34m)\u001b[0m\u001b[0;34m\u001b[0m\u001b[0m\n\u001b[1;32m      8\u001b[0m \u001b[0;34m\u001b[0m\u001b[0m\n",
      "\u001b[0;31mNameError\u001b[0m: name 'lidar_image' is not defined"
     ]
    },
    {
     "data": {
      "text/plain": [
       "<Figure size 432x288 with 0 Axes>"
      ]
     },
     "metadata": {},
     "output_type": "display_data"
    },
    {
     "data": {
      "image/png": "[encoded data removed]",
      "text/plain": [
       "<Figure size 432x288 with 1 Axes>"
      ]
     },
     "metadata": {
      "needs_background": "light"
     },
     "output_type": "display_data"
    }
   ],
   "source": [
    "\n",
    "\n",
    "plt.clf()\n",
    "fig,ax = plt.subplots(1)\n",
    "\n",
    "\n",
    "\n",
    "img = np.clip(np.mean(lidar_image[:, :, :], 2), 0, 1)\n",
    "ax.imshow(img)\n",
    "\n",
    "boxes = []\n",
    "\n",
    "for j in range(0, len(labels)):\n",
    "\n",
    "    w = labels[j][3]\n",
    "    h = labels[j][4] \n",
    "    x = labels[j][0] \n",
    "    y = labels[j][1] \n",
    "#     x, y = rotate2((512//2, 448//2), (x, y), math.radians(ang))\n",
    "    a = labels[j][6]\n",
    "    if a < 0:\n",
    "          a = a + 3.14\n",
    "#     print(y, x)\n",
    "    plt.scatter(y, x, s=10)\n",
    "    a -= ang/57.2958\n",
    "\n",
    "    polygon = convert5Pointto8Point(y, x, w, h, -a*57.2958)\n",
    "    xs = polygon[0::2]\n",
    "    ys = polygon[1::2]\n",
    "    l = []\n",
    "    for i in range(4):\n",
    "        l.append([xs[i], ys[i]])\n",
    "        \n",
    "    boxes.append([xs[0], ys[0], xs[2], ys[2]])\n",
    "    \n",
    "    rect = patches.Polygon(l,linewidth=0.75,edgecolor='r',facecolor='none')\n",
    "#     ax.add_patch(rect)\n",
    "\n",
    "plt.show()"
   ]
  },
  {
   "cell_type": "code",
   "execution_count": 459,
   "metadata": {},
   "outputs": [
    {
     "data": {
      "text/plain": [
       "<Figure size 432x288 with 0 Axes>"
      ]
     },
     "metadata": {},
     "output_type": "display_data"
    },
    {
     "data": {
      "image/png": "[encoded data removed]",
      "text/plain": [
       "<Figure size 432x288 with 1 Axes>"
      ]
     },
     "metadata": {
      "needs_background": "light"
     },
     "output_type": "display_data"
    }
   ],
   "source": [
    "\n",
    "\n",
    "plt.clf()\n",
    "fig,ax = plt.subplots(1)\n",
    "\n",
    "\n",
    "\n",
    "img = np.clip(np.mean(lidar_image[:, :, :], 2), 0, 1)\n",
    "ax.imshow(img)\n",
    "\n",
    "boxes = []\n",
    "\n",
    "for j in range(0, len(labels)):\n",
    "\n",
    "    w = labels[j][5]\n",
    "    h = labels[j][4] \n",
    "    x = labels[j][0] \n",
    "    y = labels[j][1] \n",
    "#     x, y = rotate2((512//2, 448//2), (x, y), math.radians(ang))\n",
    "    a = labels[j][6]\n",
    "    if a < 0:\n",
    "          a = a + 3.14\n",
    "#     print(y, x)\n",
    "    plt.scatter(y, x, s=10)\n",
    "    a -= ang/57.2958\n",
    "\n",
    "    polygon = convert5Pointto8Point(y, x, w, h, -a*57.2958)\n",
    "    xs = polygon[0::2]\n",
    "    ys = polygon[1::2]\n",
    "    l = []\n",
    "    for i in range(4):\n",
    "        l.append([xs[i], ys[i]])\n",
    "        \n",
    "    boxes.append([xs[0], ys[0], xs[2], ys[2]])\n",
    "    \n",
    "    rect = patches.Polygon(l,linewidth=0.75,edgecolor='r',facecolor='none')\n",
    "#     ax.add_patch(rect)\n",
    "\n",
    "plt.show()"
   ]
  },
  {
   "cell_type": "code",
   "execution_count": 460,
   "metadata": {},
   "outputs": [
    {
     "data": {
      "text/plain": [
       "<Figure size 432x288 with 0 Axes>"
      ]
     },
     "metadata": {},
     "output_type": "display_data"
    },
    {
     "data": {
      "image/png": "[encoded data removed]",
      "text/plain": [
       "<Figure size 432x288 with 1 Axes>"
      ]
     },
     "metadata": {
      "needs_background": "light"
     },
     "output_type": "display_data"
    }
   ],
   "source": [
    "\n",
    "\n",
    "plt.clf()\n",
    "fig,ax = plt.subplots(1)\n",
    "\n",
    "\n",
    "\n",
    "img = np.clip(np.mean(lidar_image[:, :, 0:], 2), 0, 1)\n",
    "ax.imshow(img)\n",
    "\n",
    "boxes = []\n",
    "\n",
    "for j in range(0, len(labels)):\n",
    "\n",
    "    w = labels[j][5]\n",
    "    h = labels[j][4] \n",
    "    x = labels[j][0] \n",
    "    y = labels[j][1] \n",
    "#     x, y = rotate2((512//2, 448//2), (x, y), math.radians(ang))\n",
    "    a = labels[j][6]\n",
    "    if a < 0:\n",
    "          a = a + 3.14\n",
    "#     print(y, x)\n",
    "    plt.scatter(y, x, s=10)\n",
    "    a -= ang/57.2958\n",
    "\n",
    "    polygon = convert5Pointto8Point(y, x, w, h, -a*57.2958)\n",
    "    xs = polygon[0::2]\n",
    "    ys = polygon[1::2]\n",
    "    l = []\n",
    "    for i in range(4):\n",
    "        l.append([xs[i], ys[i]])\n",
    "        \n",
    "    boxes.append([xs[0], ys[0], xs[2], ys[2]])\n",
    "    \n",
    "    rect = patches.Polygon(l,linewidth=0.75,edgecolor='r',facecolor='none')\n",
    "    ax.add_patch(rect)\n",
    "\n",
    "plt.show()"
   ]
  },
  {
   "cell_type": "code",
   "execution_count": 461,
   "metadata": {},
   "outputs": [
    {
     "data": {
      "text/plain": [
       "<Figure size 432x288 with 0 Axes>"
      ]
     },
     "metadata": {},
     "output_type": "display_data"
    },
    {
     "data": {
      "image/png": "[encoded data removed]",
      "text/plain": [
       "<Figure size 432x288 with 1 Axes>"
      ]
     },
     "metadata": {
      "needs_background": "light"
     },
     "output_type": "display_data"
    }
   ],
   "source": [
    "# Create figure and axes\n",
    "plt.clf()\n",
    "fig,ax = plt.subplots(1)\n",
    "\n",
    "# Display the image\n",
    "img = np.clip(np.mean(lidar_image.transpose()[:, :, :], 2), 0, 1)\n",
    "# img = cv2.resize(img, (112, 128))\n",
    "ax.imshow(img)\n",
    "\n",
    "for i in range(0, len(labels)):\n",
    "    w = labels[i][5]\n",
    "    h = labels[i][4] \n",
    "    d = labels[i][3]\n",
    "    x = labels[i][0]\n",
    "    y = labels[i][1]\n",
    "    z = labels[i][2]\n",
    "\n",
    "    plt.scatter(y, z, s=30)\n",
    "    a = labels[i][6]\n",
    "    if a < 0:\n",
    "      a = a + 3.14\n",
    "    \n",
    "    rect = patches.Rectangle((y-w/2, z-d/2),w, d, angle= 0,linewidth=0.75,edgecolor='r',facecolor='none')\n",
    "\n",
    "    ax.add_patch(rect)\n",
    "    \n",
    "plt.show()\n"
   ]
  },
  {
   "cell_type": "code",
   "execution_count": 97,
   "metadata": {},
   "outputs": [
    {
     "data": {
      "text/plain": [
       "<Figure size 432x288 with 0 Axes>"
      ]
     },
     "metadata": {},
     "output_type": "display_data"
    },
    {
     "data": {
      "image/png": "[encoded data removed]",
      "text/plain": [
       "<Figure size 432x288 with 1 Axes>"
      ]
     },
     "metadata": {
      "needs_background": "light"
     },
     "output_type": "display_data"
    }
   ],
   "source": [
    "# Create figure and axes\n",
    "plt.clf()\n",
    "fig,ax = plt.subplots(1)\n",
    "\n",
    "# Display the image\n",
    "img = np.clip(np.mean(lidar_image.transpose()[:, :, :], 2), 0, 1)\n",
    "# img = cv2.resize(img, (112, 128))\n",
    "ax.imshow(img)\n",
    "\n",
    "for i in range(0, len(labels)):\n",
    "    w = labels[i][5]\n",
    "    h = labels[i][4] \n",
    "    d = labels[i][3]\n",
    "    x = labels[i][0]\n",
    "    y = labels[i][1]\n",
    "    z = labels[i][2]\n",
    "\n",
    "    plt.scatter(y, z, s=30)\n",
    "    a = labels[i][6]\n",
    "    if a < 0:\n",
    "      a = a + 3.14\n",
    "    \n",
    "    rect = patches.Rectangle((y-w/2, z-d/2),w, d, angle= 0,linewidth=0.75,edgecolor='r',facecolor='none')\n",
    "\n",
    "    ax.add_patch(rect)\n",
    "    \n",
    "plt.show()\n"
   ]
  },
  {
   "cell_type": "code",
   "execution_count": null,
   "metadata": {},
   "outputs": [],
   "source": []
  },
  {
   "cell_type": "code",
   "execution_count": 31,
   "metadata": {},
   "outputs": [
    {
     "name": "stdout",
     "output_type": "stream",
     "text": [
      "213.44088198142998 470.9414182099751\n",
      "215.5361926411182 453.4303603952318\n",
      "218.70762826240806 433.1098955856667\n",
      "220.88287605061427 399.9302864991778\n",
      "224.26523532236203 343.22332711568487\n",
      "228.92593997014578 323.2569762432431\n",
      "242.78525666464398 238.99070749476869\n"
     ]
    },
    {
     "data": {
      "text/plain": [
       "<Figure size 432x288 with 0 Axes>"
      ]
     },
     "metadata": {},
     "output_type": "display_data"
    },
    {
     "data": {
      "image/png": "[encoded data removed]",
      "text/plain": [
       "<Figure size 432x288 with 1 Axes>"
      ]
     },
     "metadata": {
      "needs_background": "light"
     },
     "output_type": "display_data"
    }
   ],
   "source": [
    "\n",
    "\n",
    "plt.clf()\n",
    "fig,ax = plt.subplots(1)\n",
    "\n",
    "\n",
    "img = np.clip(np.mean(lidar_image[:, :, 13:], 2), 0, 1)\n",
    "ax.imshow(img)\n",
    "\n",
    "boxes = []\n",
    "\n",
    "for j in range(0, len(labels)):\n",
    "\n",
    "    w = labels[j][5]\n",
    "    h = labels[j][4] \n",
    "    x = labels[j][0] \n",
    "    y = labels[j][1] \n",
    "    a = labels[j][6]\n",
    "    if a < 0:\n",
    "          a = a + 3.14\n",
    "    print(y, x)\n",
    "    plt.scatter(y, x, s=10)\n",
    "\n",
    "    polygon = convert5Pointto8Point(y, x, w, h, -a*57.2958)\n",
    "    xs = polygon[0::2]\n",
    "    ys = polygon[1::2]\n",
    "    l = []\n",
    "    for i in range(4):\n",
    "        l.append([xs[i], ys[i]])\n",
    "        \n",
    "    boxes.append([xs[0], ys[0], xs[2], ys[2]])\n",
    "    \n",
    "    rect = patches.Polygon(l,linewidth=0.75,edgecolor='r',facecolor='none')\n",
    "    ax.add_patch(rect)\n",
    "\n",
    "plt.show()"
   ]
  },
  {
   "cell_type": "code",
   "execution_count": 32,
   "metadata": {},
   "outputs": [
    {
     "data": {
      "text/plain": [
       "<Figure size 432x288 with 0 Axes>"
      ]
     },
     "metadata": {},
     "output_type": "display_data"
    },
    {
     "data": {
      "image/png": "[encoded data removed]",
      "text/plain": [
       "<Figure size 432x288 with 1 Axes>"
      ]
     },
     "metadata": {
      "needs_background": "light"
     },
     "output_type": "display_data"
    }
   ],
   "source": [
    "\n",
    "\n",
    "plt.clf()\n",
    "fig,ax = plt.subplots(1)\n",
    "\n",
    "lidar_image_copy = lidar_image.copy()\n",
    "lidar_image_copy[:10, :10, :] = 0.\n",
    "lidar_image_copy[10:, 10:, :] = lidar_image[:-10, :-10, :]\n",
    "\n",
    "img = np.clip(np.mean(lidar_image_copy[:, :, 13:], 2), 0, 1)\n",
    "ax.imshow(img)\n",
    "\n",
    "boxes = []\n",
    "\n",
    "for j in range(0, len(labels)):\n",
    "\n",
    "    w = labels[j][5]\n",
    "    h = labels[j][4] \n",
    "    x = labels[j][0] + 10\n",
    "    y = labels[j][1] + 10\n",
    "    a = labels[j][6]\n",
    "    if a < 0:\n",
    "          a = a + 3.14\n",
    "    \n",
    "    plt.scatter(y, x, s=10)\n",
    "\n",
    "    polygon = convert5Pointto8Point(y, x, w, h, -a*57.2958)\n",
    "    xs = polygon[0::2]\n",
    "    ys = polygon[1::2]\n",
    "    l = []\n",
    "    for i in range(4):\n",
    "        l.append([xs[i], ys[i]])\n",
    "        \n",
    "    boxes.append([xs[0], ys[0], xs[2], ys[2]])\n",
    "    \n",
    "    rect = patches.Polygon(l,linewidth=0.75,edgecolor='r',facecolor='none')\n",
    "    ax.add_patch(rect)\n",
    "\n",
    "plt.show()"
   ]
  },
  {
   "cell_type": "code",
   "execution_count": 109,
   "metadata": {},
   "outputs": [
    {
     "data": {
      "text/plain": [
       "<Figure size 432x288 with 0 Axes>"
      ]
     },
     "metadata": {},
     "output_type": "display_data"
    },
    {
     "data": {
      "image/png": "[encoded data removed]",
      "text/plain": [
       "<Figure size 432x288 with 1 Axes>"
      ]
     },
     "metadata": {
      "needs_background": "light"
     },
     "output_type": "display_data"
    }
   ],
   "source": [
    "\n",
    "\n",
    "plt.clf()\n",
    "fig,ax = plt.subplots(1)\n",
    "\n",
    "ang = 30\n",
    "lidar_image_copy = lidar_image.copy()\n",
    "lidar_image_copy = ndimage.rotate(lidar_image_copy, ang, reshape=False)\n",
    "\n",
    "img = np.clip(np.mean(lidar_image_copy[:, :, 13:], 2), 0, 1)\n",
    "ax.imshow(img)\n",
    "\n",
    "boxes = []\n",
    "\n",
    "for j in range(0, len(labels)):\n",
    "    \n",
    "    w = labels[j][5]\n",
    "    h = labels[j][4] \n",
    "    x = labels[j][0] \n",
    "    y = labels[j][1]\n",
    "    x, y = rotate((512//2, 448//2), (x, y), math.radians(ang))\n",
    "    a = labels[j][6]\n",
    "    if a < 0:\n",
    "          a = a + 3.14\n",
    "    \n",
    "    plt.scatter(y, x, s=10)\n",
    "\n",
    "    polygon = convert5Pointto8Point(y, x, w, h, -a*57.2958 + ang)\n",
    "    xs = polygon[0::2]\n",
    "    ys = polygon[1::2]\n",
    "    l = []\n",
    "    for i in range(4):\n",
    "        l.append([xs[i], ys[i]])\n",
    "        \n",
    "    boxes.append([xs[0], ys[0], xs[2], ys[2]])\n",
    "    \n",
    "    rect = patches.Polygon(l,linewidth=0.75,edgecolor='r',facecolor='none')\n",
    "    ax.add_patch(rect)\n",
    "\n",
    "plt.show()"
   ]
  },
  {
   "cell_type": "code",
   "execution_count": null,
   "metadata": {},
   "outputs": [],
   "source": []
  },
  {
   "cell_type": "code",
   "execution_count": null,
   "metadata": {},
   "outputs": [],
   "source": []
  },
  {
   "cell_type": "code",
   "execution_count": null,
   "metadata": {},
   "outputs": [],
   "source": []
  },
  {
   "cell_type": "code",
   "execution_count": null,
   "metadata": {},
   "outputs": [],
   "source": []
  }
 ],
 "metadata": {
  "kernelspec": {
   "display_name": "env",
   "language": "python",
   "name": "env"
  },
  "language_info": {
   "codemirror_mode": {
    "name": "ipython",
    "version": 3
   },
   "file_extension": ".py",
   "mimetype": "text/x-python",
   "name": "python",
   "nbconvert_exporter": "python",
   "pygments_lexer": "ipython3",
   "version": "3.5.2"
  }
 },
 "nbformat": 4,
 "nbformat_minor": 2
}
