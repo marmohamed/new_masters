{
 "cells": [
  {
   "cell_type": "code",
   "execution_count": 1,
   "metadata": {
    "collapsed": true
   },
   "outputs": [],
   "source": [
    "%load_ext autoreload"
   ]
  },
  {
   "cell_type": "code",
   "execution_count": 2,
   "metadata": {
    "collapsed": true
   },
   "outputs": [],
   "source": [
    "%autoreload 2"
   ]
  },
  {
   "cell_type": "code",
   "execution_count": 3,
   "metadata": {
    "collapsed": true
   },
   "outputs": [],
   "source": [
    "%matplotlib inline"
   ]
  },
  {
   "cell_type": "code",
   "execution_count": 4,
   "metadata": {
    "collapsed": true
   },
   "outputs": [],
   "source": [
    "import sys\n",
    "sys.path.insert(0, '../.')"
   ]
  },
  {
   "cell_type": "code",
   "execution_count": 5,
   "metadata": {},
   "outputs": [],
   "source": [
    "from data.preprocessing import *"
   ]
  },
  {
   "cell_type": "code",
   "execution_count": 6,
   "metadata": {
    "collapsed": true
   },
   "outputs": [],
   "source": [
    "import glob\n",
    "import os"
   ]
  },
  {
   "cell_type": "code",
   "execution_count": 7,
   "metadata": {
    "collapsed": true
   },
   "outputs": [],
   "source": [
    "import matplotlib.pyplot as plt\n",
    "import matplotlib.image as mpimg\n",
    "import matplotlib.patches as patches"
   ]
  },
  {
   "cell_type": "code",
   "execution_count": 9,
   "metadata": {},
   "outputs": [],
   "source": [
    "# from kdtree import *"
   ]
  },
  {
   "cell_type": "code",
   "execution_count": 10,
   "metadata": {
    "collapsed": true
   },
   "outputs": [],
   "source": [
    "from tqdm import tqdm"
   ]
  },
  {
   "cell_type": "code",
   "execution_count": 11,
   "metadata": {
    "collapsed": true
   },
   "outputs": [],
   "source": [
    "from multiprocessing import Pool\n",
    "import datetime"
   ]
  },
  {
   "cell_type": "code",
   "execution_count": 12,
   "metadata": {
    "collapsed": true
   },
   "outputs": [],
   "source": [
    "import numpy as np\n",
    "# import faiss"
   ]
  },
  {
   "cell_type": "code",
   "execution_count": 13,
   "metadata": {
    "collapsed": true
   },
   "outputs": [],
   "source": [
    "from model import *"
   ]
  },
  {
   "cell_type": "code",
   "execution_count": 14,
   "metadata": {
    "collapsed": true
   },
   "outputs": [],
   "source": [
    "from Trainer import *"
   ]
  },
  {
   "cell_type": "code",
   "execution_count": null,
   "metadata": {
    "collapsed": true
   },
   "outputs": [],
   "source": []
  },
  {
   "cell_type": "code",
   "execution_count": 15,
   "metadata": {
    "collapsed": true
   },
   "outputs": [],
   "source": [
    "model = Model()"
   ]
  },
  {
   "cell_type": "code",
   "execution_count": 18,
   "metadata": {},
   "outputs": [
    {
     "data": {
      "text/plain": [
       "<tf.Tensor 'lidar_branch/concat_2:0' shape=(?, 128, 112, 2, 9) dtype=float32>"
      ]
     },
     "execution_count": 18,
     "metadata": {},
     "output_type": "execute_result"
    }
   ],
   "source": [
    "model.final_output"
   ]
  },
  {
   "cell_type": "code",
   "execution_count": null,
   "metadata": {},
   "outputs": [],
   "source": [
    "with model.graph.as_default():\n",
    "    with tf.Session() as sess:\n",
    "        final_output = sess.run(model.final_output)"
   ]
  },
  {
   "cell_type": "code",
   "execution_count": null,
   "metadata": {},
   "outputs": [],
   "source": [
    "anchors_values.shape"
   ]
  },
  {
   "cell_type": "code",
   "execution_count": 35,
   "metadata": {},
   "outputs": [
    {
     "data": {
      "text/plain": [
       "array([160.  ,   4.  ,   1.  ,   2.08,   2.59,   6.05], dtype=float32)"
      ]
     },
     "execution_count": 35,
     "metadata": {},
     "output_type": "execute_result"
    }
   ],
   "source": [
    "anchors_values[0][40, 1, 1, :]"
   ]
  },
  {
   "cell_type": "code",
   "execution_count": 17,
   "metadata": {},
   "outputs": [
    {
     "name": "stdout",
     "output_type": "stream",
     "text": [
      "[0. 1.]\n",
      "Generating the kdtree\n",
      "Start training\n"
     ]
    },
    {
     "data": {
      "text/plain": [
       "[]"
      ]
     },
     "execution_count": 17,
     "metadata": {},
     "output_type": "execute_result"
    }
   ],
   "source": [
    "model.train()"
   ]
  },
  {
   "cell_type": "code",
   "execution_count": 172,
   "metadata": {
    "collapsed": true
   },
   "outputs": [],
   "source": [
    "dataset = make_dataset(batch_size=1)"
   ]
  },
  {
   "cell_type": "code",
   "execution_count": 180,
   "metadata": {},
   "outputs": [
    {
     "name": "stdout",
     "output_type": "stream",
     "text": [
      "/Volumes/My Passport/Kitti_data/training/label_2/002970.txt\n",
      "/Volumes/My Passport/Kitti_data/training/label_2/005525.txt\n"
     ]
    }
   ],
   "source": [
    "# with model.graph.as_default():\n",
    "with tf.Session() as sess:\n",
    "    camera_tensor, lidar_tensor, label_tensor, Tr_velo_to_cam, R0_rect, P3, shift_h, shift_w = sess.run(dataset)  \n",
    "    camera_tensor, lidar_tensor, label_tensor, Tr_velo_to_cam, R0_rect, P3, shift_h, shift_w = sess.run(dataset)  "
   ]
  },
  {
   "cell_type": "code",
   "execution_count": 133,
   "metadata": {},
   "outputs": [
    {
     "data": {
      "text/plain": [
       "(1, 128, 112, 2, 9)"
      ]
     },
     "execution_count": 133,
     "metadata": {},
     "output_type": "execute_result"
    }
   ],
   "source": [
    "label_tensor.shape"
   ]
  },
  {
   "cell_type": "code",
   "execution_count": 134,
   "metadata": {
    "collapsed": true
   },
   "outputs": [],
   "source": [
    "output_indx = np.where(label_tensor>0)"
   ]
  },
  {
   "cell_type": "code",
   "execution_count": 135,
   "metadata": {},
   "outputs": [
    {
     "data": {
      "text/plain": [
       "(array([0, 0, 0, 0, 0, 0, 0, 0, 0, 0, 0, 0, 0, 0, 0, 0, 0, 0, 0]),\n",
       " array([  0,   0,   0,   0,   0,   0,   0, 124, 124, 124, 124, 124, 124,\n",
       "        124, 124, 124, 124, 124, 124]),\n",
       " array([10, 10, 10, 10, 10, 10, 10, 13, 13, 13, 13, 13, 13, 15, 15, 15, 15,\n",
       "        15, 15]),\n",
       " array([1, 1, 1, 1, 1, 1, 1, 1, 1, 1, 1, 1, 1, 1, 1, 1, 1, 1, 1]),\n",
       " array([0, 2, 3, 4, 5, 7, 8, 2, 4, 5, 6, 7, 8, 2, 4, 5, 6, 7, 8]))"
      ]
     },
     "execution_count": 135,
     "metadata": {},
     "output_type": "execute_result"
    }
   ],
   "source": [
    "output_indx"
   ]
  },
  {
   "cell_type": "code",
   "execution_count": 136,
   "metadata": {},
   "outputs": [
    {
     "data": {
      "text/plain": [
       "[[0, 0, 10, 1],\n",
       " [0, 0, 10, 1],\n",
       " [0, 0, 10, 1],\n",
       " [0, 0, 10, 1],\n",
       " [0, 0, 10, 1],\n",
       " [0, 0, 10, 1],\n",
       " [0, 0, 10, 1],\n",
       " [0, 124, 13, 1],\n",
       " [0, 124, 13, 1],\n",
       " [0, 124, 13, 1],\n",
       " [0, 124, 13, 1],\n",
       " [0, 124, 13, 1],\n",
       " [0, 124, 13, 1],\n",
       " [0, 124, 15, 1],\n",
       " [0, 124, 15, 1],\n",
       " [0, 124, 15, 1],\n",
       " [0, 124, 15, 1],\n",
       " [0, 124, 15, 1],\n",
       " [0, 124, 15, 1]]"
      ]
     },
     "execution_count": 136,
     "metadata": {},
     "output_type": "execute_result"
    }
   ],
   "source": [
    "indx = list(map(lambda i: [output_indx[j][i] for j in range(4)], range(len(output_indx[0]))))\n",
    "indx"
   ]
  },
  {
   "cell_type": "code",
   "execution_count": 137,
   "metadata": {},
   "outputs": [
    {
     "data": {
      "text/plain": [
       "array([ 0.6175   , -0.31     ,  0.9125   ,  7.5437813,  1.68     ,\n",
       "       26.217205 , -1.42     ,  1.       ,  1.       ], dtype=float32)"
      ]
     },
     "execution_count": 137,
     "metadata": {},
     "output_type": "execute_result"
    }
   ],
   "source": [
    "label_tensor[0, 0, 10, 1]"
   ]
  },
  {
   "cell_type": "code",
   "execution_count": 98,
   "metadata": {},
   "outputs": [
    {
     "data": {
      "text/plain": [
       "array([ 0.6175   , -0.31     ,  0.9125   ,  7.5437813,  1.68     ,\n",
       "       26.217205 , -1.42     ,  1.       ,  1.       ], dtype=float32)"
      ]
     },
     "execution_count": 98,
     "metadata": {},
     "output_type": "execute_result"
    }
   ],
   "source": [
    "label_tensor[0,0,10,1,:]"
   ]
  },
  {
   "cell_type": "code",
   "execution_count": 76,
   "metadata": {},
   "outputs": [
    {
     "data": {
      "text/plain": [
       "array([-1.6474064e+01, -3.9999999e-02,  3.9560001e+01, -3.7814606e+01,\n",
       "        1.1400000e+00,  1.0315633e+02,  1.6200000e+00,  1.0000000e+00,\n",
       "        1.0000000e+00], dtype=float32)"
      ]
     },
     "execution_count": 76,
     "metadata": {},
     "output_type": "execute_result"
    }
   ],
   "source": [
    "label_tensor[0,123,13,1,:]"
   ]
  },
  {
   "cell_type": "code",
   "execution_count": 44,
   "metadata": {},
   "outputs": [
    {
     "data": {
      "text/plain": [
       "array([  0.6175   ,  -1.8275   , -69.0875   ,  -0.6796146,  -3.855    ,\n",
       "       -97.17472  ,  -1.42     ,   1.       ,   1.       ], dtype=float32)"
      ]
     },
     "execution_count": 44,
     "metadata": {},
     "output_type": "execute_result"
    }
   ],
   "source": [
    "label_tensor[0,0,10,1,:]"
   ]
  },
  {
   "cell_type": "code",
   "execution_count": null,
   "metadata": {
    "collapsed": true
   },
   "outputs": [],
   "source": []
  },
  {
   "cell_type": "code",
   "execution_count": null,
   "metadata": {
    "collapsed": true
   },
   "outputs": [],
   "source": []
  },
  {
   "cell_type": "code",
   "execution_count": null,
   "metadata": {
    "collapsed": true
   },
   "outputs": [],
   "source": []
  },
  {
   "cell_type": "code",
   "execution_count": 54,
   "metadata": {
    "collapsed": true
   },
   "outputs": [],
   "source": [
    "with model.graph.as_default() as g:\n",
    "    model_vars = tf.trainable_variables()"
   ]
  },
  {
   "cell_type": "code",
   "execution_count": 56,
   "metadata": {},
   "outputs": [
    {
     "name": "stdout",
     "output_type": "stream",
     "text": [
      "---------\n",
      "Variables: name (type shape) [size]\n",
      "---------\n",
      "network/conv2d/kernel:0 (float32 7x7x3x64) [9408, bytes: 37632]\n",
      "network/batch_normalization/gamma:0 (float32_ref 64) [64, bytes: 256]\n",
      "network/batch_normalization/beta:0 (float32_ref 64) [64, bytes: 256]\n",
      "network/resblock_10/conv2d_1/kernel:0 (float32 3x3x64x64) [36864, bytes: 147456]\n",
      "network/resblock_10/batch_normalization/gamma:0 (float32_ref 64) [64, bytes: 256]\n",
      "network/resblock_10/batch_normalization/beta:0 (float32_ref 64) [64, bytes: 256]\n",
      "network/resblock_10/conv2d_2/kernel:0 (float32 3x3x64x64) [36864, bytes: 147456]\n",
      "network/resblock_10/batch_normalization_1/gamma:0 (float32_ref 64) [64, bytes: 256]\n",
      "network/resblock_10/batch_normalization_1/beta:0 (float32_ref 64) [64, bytes: 256]\n",
      "network/resblock_11/conv2d_3/kernel:0 (float32 3x3x64x64) [36864, bytes: 147456]\n",
      "network/resblock_11/batch_normalization/gamma:0 (float32_ref 64) [64, bytes: 256]\n",
      "network/resblock_11/batch_normalization/beta:0 (float32_ref 64) [64, bytes: 256]\n",
      "network/resblock_11/conv2d_4/kernel:0 (float32 3x3x64x64) [36864, bytes: 147456]\n",
      "network/resblock_11/batch_normalization_1/gamma:0 (float32_ref 64) [64, bytes: 256]\n",
      "network/resblock_11/batch_normalization_1/beta:0 (float32_ref 64) [64, bytes: 256]\n",
      "network/resblock_21/conv2d_5/kernel:0 (float32 3x3x64x128) [73728, bytes: 294912]\n",
      "network/resblock_21/batch_normalization/gamma:0 (float32_ref 128) [128, bytes: 512]\n",
      "network/resblock_21/batch_normalization/beta:0 (float32_ref 128) [128, bytes: 512]\n",
      "network/resblock_21/conv2d_6/kernel:0 (float32 3x3x128x128) [147456, bytes: 589824]\n",
      "network/resblock_21/batch_normalization_1/gamma:0 (float32_ref 128) [128, bytes: 512]\n",
      "network/resblock_21/batch_normalization_1/beta:0 (float32_ref 128) [128, bytes: 512]\n",
      "network/resblock_21/conv2d_7/kernel:0 (float32 1x1x64x128) [8192, bytes: 32768]\n",
      "network/resblock_21/batch_normalization_2/gamma:0 (float32_ref 128) [128, bytes: 512]\n",
      "network/resblock_21/batch_normalization_2/beta:0 (float32_ref 128) [128, bytes: 512]\n",
      "network/resblock_22/conv2d_8/kernel:0 (float32 3x3x128x128) [147456, bytes: 589824]\n",
      "network/resblock_22/batch_normalization/gamma:0 (float32_ref 128) [128, bytes: 512]\n",
      "network/resblock_22/batch_normalization/beta:0 (float32_ref 128) [128, bytes: 512]\n",
      "network/resblock_22/conv2d_9/kernel:0 (float32 3x3x128x128) [147456, bytes: 589824]\n",
      "network/resblock_22/batch_normalization_1/gamma:0 (float32_ref 128) [128, bytes: 512]\n",
      "network/resblock_22/batch_normalization_1/beta:0 (float32_ref 128) [128, bytes: 512]\n",
      "network/resblock_31/conv2d_10/kernel:0 (float32 3x3x128x256) [294912, bytes: 1179648]\n",
      "network/resblock_31/batch_normalization/gamma:0 (float32_ref 256) [256, bytes: 1024]\n",
      "network/resblock_31/batch_normalization/beta:0 (float32_ref 256) [256, bytes: 1024]\n",
      "network/resblock_31/conv2d_11/kernel:0 (float32 3x3x256x256) [589824, bytes: 2359296]\n",
      "network/resblock_31/batch_normalization_1/gamma:0 (float32_ref 256) [256, bytes: 1024]\n",
      "network/resblock_31/batch_normalization_1/beta:0 (float32_ref 256) [256, bytes: 1024]\n",
      "network/resblock_31/conv2d_12/kernel:0 (float32 1x1x128x256) [32768, bytes: 131072]\n",
      "network/resblock_31/batch_normalization_2/gamma:0 (float32_ref 256) [256, bytes: 1024]\n",
      "network/resblock_31/batch_normalization_2/beta:0 (float32_ref 256) [256, bytes: 1024]\n",
      "network/resblock_32/conv2d_13/kernel:0 (float32 3x3x256x256) [589824, bytes: 2359296]\n",
      "network/resblock_32/batch_normalization/gamma:0 (float32_ref 256) [256, bytes: 1024]\n",
      "network/resblock_32/batch_normalization/beta:0 (float32_ref 256) [256, bytes: 1024]\n",
      "network/resblock_32/conv2d_14/kernel:0 (float32 3x3x256x256) [589824, bytes: 2359296]\n",
      "network/resblock_32/batch_normalization_1/gamma:0 (float32_ref 256) [256, bytes: 1024]\n",
      "network/resblock_32/batch_normalization_1/beta:0 (float32_ref 256) [256, bytes: 1024]\n",
      "network/resblock_41/conv2d_15/kernel:0 (float32 3x3x256x512) [1179648, bytes: 4718592]\n",
      "network/resblock_41/batch_normalization/gamma:0 (float32_ref 512) [512, bytes: 2048]\n",
      "network/resblock_41/batch_normalization/beta:0 (float32_ref 512) [512, bytes: 2048]\n",
      "network/resblock_41/conv2d_16/kernel:0 (float32 3x3x512x512) [2359296, bytes: 9437184]\n",
      "network/resblock_41/batch_normalization_1/gamma:0 (float32_ref 512) [512, bytes: 2048]\n",
      "network/resblock_41/batch_normalization_1/beta:0 (float32_ref 512) [512, bytes: 2048]\n",
      "network/resblock_41/conv2d_17/kernel:0 (float32 1x1x256x512) [131072, bytes: 524288]\n",
      "network/resblock_41/batch_normalization_2/gamma:0 (float32_ref 512) [512, bytes: 2048]\n",
      "network/resblock_41/batch_normalization_2/beta:0 (float32_ref 512) [512, bytes: 2048]\n",
      "network/resblock_42/conv2d_18/kernel:0 (float32 3x3x512x512) [2359296, bytes: 9437184]\n",
      "network/resblock_42/batch_normalization/gamma:0 (float32_ref 512) [512, bytes: 2048]\n",
      "network/resblock_42/batch_normalization/beta:0 (float32_ref 512) [512, bytes: 2048]\n",
      "network/resblock_42/conv2d_19/kernel:0 (float32 3x3x512x512) [2359296, bytes: 9437184]\n",
      "network/resblock_42/batch_normalization_1/gamma:0 (float32_ref 512) [512, bytes: 2048]\n",
      "network/resblock_42/batch_normalization_1/beta:0 (float32_ref 512) [512, bytes: 2048]\n",
      "network/dense/kernel:0 (float32_ref 512x1000) [512000, bytes: 2048000]\n",
      "network/dense/bias:0 (float32_ref 1000) [1000, bytes: 4000]\n",
      "fpn_rgb/conv0_3/conv2d/kernel:0 (float32_ref 1x1x512x32) [16384, bytes: 65536]\n",
      "fpn_rgb/conv0_3/conv2d/bias:0 (float32_ref 32) [32, bytes: 128]\n",
      "fpn_rgb/conv1_3/conv2d/kernel:0 (float32_ref 3x3x32x256) [73728, bytes: 294912]\n",
      "fpn_rgb/conv1_3/conv2d/bias:0 (float32_ref 256) [256, bytes: 1024]\n",
      "fpn_rgb/conv0_2/conv2d/kernel:0 (float32_ref 1x1x256x32) [8192, bytes: 32768]\n",
      "fpn_rgb/conv0_2/conv2d/bias:0 (float32_ref 32) [32, bytes: 128]\n",
      "fpn_rgb/conv1_2/conv2d/kernel:0 (float32_ref 3x3x32x256) [73728, bytes: 294912]\n",
      "fpn_rgb/conv1_2/conv2d/bias:0 (float32_ref 256) [256, bytes: 1024]\n",
      "fpn_rgb/conv0_1/conv2d/kernel:0 (float32_ref 1x1x128x32) [4096, bytes: 16384]\n",
      "fpn_rgb/conv0_1/conv2d/bias:0 (float32_ref 32) [32, bytes: 128]\n",
      "fpn_rgb/conv1_1/conv2d/kernel:0 (float32_ref 3x3x32x256) [73728, bytes: 294912]\n",
      "fpn_rgb/conv1_1/conv2d/bias:0 (float32_ref 256) [256, bytes: 1024]\n",
      "fpn_rgb/conv0_0/conv2d/kernel:0 (float32_ref 1x1x64x32) [2048, bytes: 8192]\n",
      "fpn_rgb/conv0_0/conv2d/bias:0 (float32_ref 32) [32, bytes: 128]\n",
      "fpn_rgb/conv1_0/conv2d/kernel:0 (float32_ref 3x3x32x256) [73728, bytes: 294912]\n",
      "fpn_rgb/conv1_0/conv2d/bias:0 (float32_ref 256) [256, bytes: 1024]\n",
      "fusion_layer/b1:0 (float32 10) [10, bytes: 40]\n",
      "fusion_layer/b2:0 (float32 20) [20, bytes: 80]\n",
      "fusion_layer/b3:0 (float32 10) [10, bytes: 40]\n",
      "fusion_layer/w1:0 (float32 259x10) [2590, bytes: 10360]\n",
      "fusion_layer/w2:0 (float32 10x20) [200, bytes: 800]\n",
      "fusion_layer/w3:0 (float32 20x10) [200, bytes: 800]\n",
      "conv_fusion_0/conv2d/kernel:0 (float32_ref 1x1x32x1) [32, bytes: 128]\n",
      "conv_fusion_0/conv2d/bias:0 (float32_ref 1) [1, bytes: 4]\n",
      "fusion_layer_1/b1:0 (float32 10) [10, bytes: 40]\n",
      "fusion_layer_1/b2:0 (float32 20) [20, bytes: 80]\n",
      "fusion_layer_1/b3:0 (float32 10) [10, bytes: 40]\n",
      "fusion_layer_1/w1:0 (float32 259x10) [2590, bytes: 10360]\n",
      "fusion_layer_1/w2:0 (float32 10x20) [200, bytes: 800]\n",
      "fusion_layer_1/w3:0 (float32 20x10) [200, bytes: 800]\n",
      "conv_fusion_1/conv2d/kernel:0 (float32_ref 1x1x32x1) [32, bytes: 128]\n",
      "conv_fusion_1/conv2d/bias:0 (float32_ref 1) [1, bytes: 4]\n",
      "fusion_layer_2/b1:0 (float32 10) [10, bytes: 40]\n",
      "fusion_layer_2/b2:0 (float32 20) [20, bytes: 80]\n",
      "fusion_layer_2/b3:0 (float32 10) [10, bytes: 40]\n",
      "fusion_layer_2/w1:0 (float32 259x10) [2590, bytes: 10360]\n",
      "fusion_layer_2/w2:0 (float32 10x20) [200, bytes: 800]\n",
      "fusion_layer_2/w3:0 (float32 20x10) [200, bytes: 800]\n",
      "conv_fusion_2/conv2d/kernel:0 (float32_ref 1x1x32x1) [32, bytes: 128]\n",
      "conv_fusion_2/conv2d/bias:0 (float32_ref 1) [1, bytes: 4]\n",
      "fusion_layer_3/b1:0 (float32 10) [10, bytes: 40]\n",
      "fusion_layer_3/b2:0 (float32 20) [20, bytes: 80]\n",
      "fusion_layer_3/b3:0 (float32 10) [10, bytes: 40]\n",
      "fusion_layer_3/w1:0 (float32 259x10) [2590, bytes: 10360]\n",
      "fusion_layer_3/w2:0 (float32 10x20) [200, bytes: 800]\n",
      "fusion_layer_3/w3:0 (float32 20x10) [200, bytes: 800]\n",
      "conv_fusion_3/conv2d/kernel:0 (float32_ref 1x1x32x1) [32, bytes: 128]\n",
      "conv_fusion_3/conv2d/bias:0 (float32_ref 1) [1, bytes: 4]\n",
      "network_lidar/conv0_0/conv2d/kernel:0 (float32_ref 3x3x32x32) [9216, bytes: 36864]\n",
      "network_lidar/conv0_1/conv2d/kernel:0 (float32_ref 3x3x32x32) [9216, bytes: 36864]\n",
      "network_lidar/resblock1_0/conv_0/conv2d/kernel:0 (float32_ref 3x3x32x64) [18432, bytes: 73728]\n",
      "network_lidar/resblock1_0/batch_norm_0/beta:0 (float32_ref 64) [64, bytes: 256]\n",
      "network_lidar/resblock1_0/batch_norm_0/gamma:0 (float32_ref 64) [64, bytes: 256]\n",
      "network_lidar/resblock1_0/conv_1/conv2d/kernel:0 (float32_ref 3x3x64x64) [36864, bytes: 147456]\n",
      "network_lidar/resblock1_0/batch_norm_1/beta:0 (float32_ref 64) [64, bytes: 256]\n",
      "network_lidar/resblock1_0/batch_norm_1/gamma:0 (float32_ref 64) [64, bytes: 256]\n",
      "network_lidar/resblock1_0/conv_init/conv2d/kernel:0 (float32_ref 1x1x32x64) [2048, bytes: 8192]\n",
      "network_lidar/resblock1_0/batch_norm_init/beta:0 (float32_ref 64) [64, bytes: 256]\n",
      "network_lidar/resblock1_0/batch_norm_init/gamma:0 (float32_ref 64) [64, bytes: 256]\n",
      "network_lidar/resblock1_1/conv_0/conv2d/kernel:0 (float32_ref 3x3x64x64) [36864, bytes: 147456]\n",
      "network_lidar/resblock1_1/batch_norm_0/beta:0 (float32_ref 64) [64, bytes: 256]\n",
      "network_lidar/resblock1_1/batch_norm_0/gamma:0 (float32_ref 64) [64, bytes: 256]\n",
      "network_lidar/resblock1_1/conv_1/conv2d/kernel:0 (float32_ref 3x3x64x64) [36864, bytes: 147456]\n",
      "network_lidar/resblock1_1/batch_norm_1/beta:0 (float32_ref 64) [64, bytes: 256]\n",
      "network_lidar/resblock1_1/batch_norm_1/gamma:0 (float32_ref 64) [64, bytes: 256]\n",
      "network_lidar/resblock1_2/conv_0/conv2d/kernel:0 (float32_ref 3x3x64x64) [36864, bytes: 147456]\n",
      "network_lidar/resblock1_2/batch_norm_0/beta:0 (float32_ref 64) [64, bytes: 256]\n",
      "network_lidar/resblock1_2/batch_norm_0/gamma:0 (float32_ref 64) [64, bytes: 256]\n",
      "network_lidar/resblock1_2/conv_1/conv2d/kernel:0 (float32_ref 3x3x64x64) [36864, bytes: 147456]\n",
      "network_lidar/resblock1_2/batch_norm_1/beta:0 (float32_ref 64) [64, bytes: 256]\n",
      "network_lidar/resblock1_2/batch_norm_1/gamma:0 (float32_ref 64) [64, bytes: 256]\n",
      "network_lidar/resblock1_3/conv_0/conv2d/kernel:0 (float32_ref 3x3x64x64) [36864, bytes: 147456]\n",
      "network_lidar/resblock1_3/batch_norm_0/beta:0 (float32_ref 64) [64, bytes: 256]\n",
      "network_lidar/resblock1_3/batch_norm_0/gamma:0 (float32_ref 64) [64, bytes: 256]\n",
      "network_lidar/resblock1_3/conv_1/conv2d/kernel:0 (float32_ref 3x3x64x64) [36864, bytes: 147456]\n",
      "network_lidar/resblock1_3/batch_norm_1/beta:0 (float32_ref 64) [64, bytes: 256]\n",
      "network_lidar/resblock1_3/batch_norm_1/gamma:0 (float32_ref 64) [64, bytes: 256]\n",
      "network_lidar/resblock2_0/conv_0/conv2d/kernel:0 (float32_ref 3x3x64x128) [73728, bytes: 294912]\n",
      "network_lidar/resblock2_0/batch_norm_0/beta:0 (float32_ref 128) [128, bytes: 512]\n",
      "network_lidar/resblock2_0/batch_norm_0/gamma:0 (float32_ref 128) [128, bytes: 512]\n",
      "network_lidar/resblock2_0/conv_1/conv2d/kernel:0 (float32_ref 3x3x128x128) [147456, bytes: 589824]\n",
      "network_lidar/resblock2_0/batch_norm_1/beta:0 (float32_ref 128) [128, bytes: 512]\n",
      "network_lidar/resblock2_0/batch_norm_1/gamma:0 (float32_ref 128) [128, bytes: 512]\n",
      "network_lidar/resblock2_0/conv_init/conv2d/kernel:0 (float32_ref 1x1x64x128) [8192, bytes: 32768]\n",
      "network_lidar/resblock2_0/batch_norm_init/beta:0 (float32_ref 128) [128, bytes: 512]\n",
      "network_lidar/resblock2_0/batch_norm_init/gamma:0 (float32_ref 128) [128, bytes: 512]\n",
      "network_lidar/resblock2_1/conv_0/conv2d/kernel:0 (float32_ref 3x3x128x128) [147456, bytes: 589824]\n",
      "network_lidar/resblock2_1/batch_norm_0/beta:0 (float32_ref 128) [128, bytes: 512]\n",
      "network_lidar/resblock2_1/batch_norm_0/gamma:0 (float32_ref 128) [128, bytes: 512]\n",
      "network_lidar/resblock2_1/conv_1/conv2d/kernel:0 (float32_ref 3x3x128x128) [147456, bytes: 589824]\n",
      "network_lidar/resblock2_1/batch_norm_1/beta:0 (float32_ref 128) [128, bytes: 512]\n",
      "network_lidar/resblock2_1/batch_norm_1/gamma:0 (float32_ref 128) [128, bytes: 512]\n",
      "network_lidar/resblock2_2/conv_0/conv2d/kernel:0 (float32_ref 3x3x128x128) [147456, bytes: 589824]\n",
      "network_lidar/resblock2_2/batch_norm_0/beta:0 (float32_ref 128) [128, bytes: 512]\n",
      "network_lidar/resblock2_2/batch_norm_0/gamma:0 (float32_ref 128) [128, bytes: 512]\n",
      "network_lidar/resblock2_2/conv_1/conv2d/kernel:0 (float32_ref 3x3x128x128) [147456, bytes: 589824]\n",
      "network_lidar/resblock2_2/batch_norm_1/beta:0 (float32_ref 128) [128, bytes: 512]\n",
      "network_lidar/resblock2_2/batch_norm_1/gamma:0 (float32_ref 128) [128, bytes: 512]\n",
      "network_lidar/resblock2_3/conv_0/conv2d/kernel:0 (float32_ref 3x3x128x128) [147456, bytes: 589824]\n",
      "network_lidar/resblock2_3/batch_norm_0/beta:0 (float32_ref 128) [128, bytes: 512]\n",
      "network_lidar/resblock2_3/batch_norm_0/gamma:0 (float32_ref 128) [128, bytes: 512]\n",
      "network_lidar/resblock2_3/conv_1/conv2d/kernel:0 (float32_ref 3x3x128x128) [147456, bytes: 589824]\n",
      "network_lidar/resblock2_3/batch_norm_1/beta:0 (float32_ref 128) [128, bytes: 512]\n",
      "network_lidar/resblock2_3/batch_norm_1/gamma:0 (float32_ref 128) [128, bytes: 512]\n",
      "network_lidar/resblock2_4/conv_0/conv2d/kernel:0 (float32_ref 3x3x128x128) [147456, bytes: 589824]\n",
      "network_lidar/resblock2_4/batch_norm_0/beta:0 (float32_ref 128) [128, bytes: 512]\n",
      "network_lidar/resblock2_4/batch_norm_0/gamma:0 (float32_ref 128) [128, bytes: 512]\n",
      "network_lidar/resblock2_4/conv_1/conv2d/kernel:0 (float32_ref 3x3x128x128) [147456, bytes: 589824]\n",
      "network_lidar/resblock2_4/batch_norm_1/beta:0 (float32_ref 128) [128, bytes: 512]\n",
      "network_lidar/resblock2_4/batch_norm_1/gamma:0 (float32_ref 128) [128, bytes: 512]\n",
      "network_lidar/resblock2_5/conv_0/conv2d/kernel:0 (float32_ref 3x3x128x128) [147456, bytes: 589824]\n",
      "network_lidar/resblock2_5/batch_norm_0/beta:0 (float32_ref 128) [128, bytes: 512]\n",
      "network_lidar/resblock2_5/batch_norm_0/gamma:0 (float32_ref 128) [128, bytes: 512]\n",
      "network_lidar/resblock2_5/conv_1/conv2d/kernel:0 (float32_ref 3x3x128x128) [147456, bytes: 589824]\n",
      "network_lidar/resblock2_5/batch_norm_1/beta:0 (float32_ref 128) [128, bytes: 512]\n",
      "network_lidar/resblock2_5/batch_norm_1/gamma:0 (float32_ref 128) [128, bytes: 512]\n",
      "network_lidar/resblock2_6/conv_0/conv2d/kernel:0 (float32_ref 3x3x128x128) [147456, bytes: 589824]\n",
      "network_lidar/resblock2_6/batch_norm_0/beta:0 (float32_ref 128) [128, bytes: 512]\n",
      "network_lidar/resblock2_6/batch_norm_0/gamma:0 (float32_ref 128) [128, bytes: 512]\n",
      "network_lidar/resblock2_6/conv_1/conv2d/kernel:0 (float32_ref 3x3x128x128) [147456, bytes: 589824]\n",
      "network_lidar/resblock2_6/batch_norm_1/beta:0 (float32_ref 128) [128, bytes: 512]\n",
      "network_lidar/resblock2_6/batch_norm_1/gamma:0 (float32_ref 128) [128, bytes: 512]\n",
      "network_lidar/resblock2_7/conv_0/conv2d/kernel:0 (float32_ref 3x3x128x128) [147456, bytes: 589824]\n",
      "network_lidar/resblock2_7/batch_norm_0/beta:0 (float32_ref 128) [128, bytes: 512]\n",
      "network_lidar/resblock2_7/batch_norm_0/gamma:0 (float32_ref 128) [128, bytes: 512]\n",
      "network_lidar/resblock2_7/conv_1/conv2d/kernel:0 (float32_ref 3x3x128x128) [147456, bytes: 589824]\n",
      "network_lidar/resblock2_7/batch_norm_1/beta:0 (float32_ref 128) [128, bytes: 512]\n",
      "network_lidar/resblock2_7/batch_norm_1/gamma:0 (float32_ref 128) [128, bytes: 512]\n",
      "network_lidar/resblock3_0/conv_0/conv2d/kernel:0 (float32_ref 3x3x128x192) [221184, bytes: 884736]\n",
      "network_lidar/resblock3_0/batch_norm_0/beta:0 (float32_ref 192) [192, bytes: 768]\n",
      "network_lidar/resblock3_0/batch_norm_0/gamma:0 (float32_ref 192) [192, bytes: 768]\n",
      "network_lidar/resblock3_0/conv_1/conv2d/kernel:0 (float32_ref 3x3x192x192) [331776, bytes: 1327104]\n",
      "network_lidar/resblock3_0/batch_norm_1/beta:0 (float32_ref 192) [192, bytes: 768]\n",
      "network_lidar/resblock3_0/batch_norm_1/gamma:0 (float32_ref 192) [192, bytes: 768]\n",
      "network_lidar/resblock3_0/conv_init/conv2d/kernel:0 (float32_ref 1x1x128x192) [24576, bytes: 98304]\n",
      "network_lidar/resblock3_0/batch_norm_init/beta:0 (float32_ref 192) [192, bytes: 768]\n",
      "network_lidar/resblock3_0/batch_norm_init/gamma:0 (float32_ref 192) [192, bytes: 768]\n",
      "network_lidar/resblock3_1/conv_0/conv2d/kernel:0 (float32_ref 3x3x192x192) [331776, bytes: 1327104]\n",
      "network_lidar/resblock3_1/batch_norm_0/beta:0 (float32_ref 192) [192, bytes: 768]\n",
      "network_lidar/resblock3_1/batch_norm_0/gamma:0 (float32_ref 192) [192, bytes: 768]\n",
      "network_lidar/resblock3_1/conv_1/conv2d/kernel:0 (float32_ref 3x3x192x192) [331776, bytes: 1327104]\n",
      "network_lidar/resblock3_1/batch_norm_1/beta:0 (float32_ref 192) [192, bytes: 768]\n",
      "network_lidar/resblock3_1/batch_norm_1/gamma:0 (float32_ref 192) [192, bytes: 768]\n",
      "network_lidar/resblock3_2/conv_0/conv2d/kernel:0 (float32_ref 3x3x192x192) [331776, bytes: 1327104]\n",
      "network_lidar/resblock3_2/batch_norm_0/beta:0 (float32_ref 192) [192, bytes: 768]\n",
      "network_lidar/resblock3_2/batch_norm_0/gamma:0 (float32_ref 192) [192, bytes: 768]\n",
      "network_lidar/resblock3_2/conv_1/conv2d/kernel:0 (float32_ref 3x3x192x192) [331776, bytes: 1327104]\n",
      "network_lidar/resblock3_2/batch_norm_1/beta:0 (float32_ref 192) [192, bytes: 768]\n",
      "network_lidar/resblock3_2/batch_norm_1/gamma:0 (float32_ref 192) [192, bytes: 768]\n",
      "network_lidar/resblock3_3/conv_0/conv2d/kernel:0 (float32_ref 3x3x192x192) [331776, bytes: 1327104]\n",
      "network_lidar/resblock3_3/batch_norm_0/beta:0 (float32_ref 192) [192, bytes: 768]\n",
      "network_lidar/resblock3_3/batch_norm_0/gamma:0 (float32_ref 192) [192, bytes: 768]\n",
      "network_lidar/resblock3_3/conv_1/conv2d/kernel:0 (float32_ref 3x3x192x192) [331776, bytes: 1327104]\n",
      "network_lidar/resblock3_3/batch_norm_1/beta:0 (float32_ref 192) [192, bytes: 768]\n",
      "network_lidar/resblock3_3/batch_norm_1/gamma:0 (float32_ref 192) [192, bytes: 768]\n",
      "network_lidar/resblock3_4/conv_0/conv2d/kernel:0 (float32_ref 3x3x192x192) [331776, bytes: 1327104]\n",
      "network_lidar/resblock3_4/batch_norm_0/beta:0 (float32_ref 192) [192, bytes: 768]\n",
      "network_lidar/resblock3_4/batch_norm_0/gamma:0 (float32_ref 192) [192, bytes: 768]\n",
      "network_lidar/resblock3_4/conv_1/conv2d/kernel:0 (float32_ref 3x3x192x192) [331776, bytes: 1327104]\n",
      "network_lidar/resblock3_4/batch_norm_1/beta:0 (float32_ref 192) [192, bytes: 768]\n",
      "network_lidar/resblock3_4/batch_norm_1/gamma:0 (float32_ref 192) [192, bytes: 768]\n",
      "network_lidar/resblock3_5/conv_0/conv2d/kernel:0 (float32_ref 3x3x192x192) [331776, bytes: 1327104]\n",
      "network_lidar/resblock3_5/batch_norm_0/beta:0 (float32_ref 192) [192, bytes: 768]\n",
      "network_lidar/resblock3_5/batch_norm_0/gamma:0 (float32_ref 192) [192, bytes: 768]\n",
      "network_lidar/resblock3_5/conv_1/conv2d/kernel:0 (float32_ref 3x3x192x192) [331776, bytes: 1327104]\n",
      "network_lidar/resblock3_5/batch_norm_1/beta:0 (float32_ref 192) [192, bytes: 768]\n",
      "network_lidar/resblock3_5/batch_norm_1/gamma:0 (float32_ref 192) [192, bytes: 768]\n",
      "network_lidar/resblock3_6/conv_0/conv2d/kernel:0 (float32_ref 3x3x192x192) [331776, bytes: 1327104]\n",
      "network_lidar/resblock3_6/batch_norm_0/beta:0 (float32_ref 192) [192, bytes: 768]\n",
      "network_lidar/resblock3_6/batch_norm_0/gamma:0 (float32_ref 192) [192, bytes: 768]\n",
      "network_lidar/resblock3_6/conv_1/conv2d/kernel:0 (float32_ref 3x3x192x192) [331776, bytes: 1327104]\n",
      "network_lidar/resblock3_6/batch_norm_1/beta:0 (float32_ref 192) [192, bytes: 768]\n",
      "network_lidar/resblock3_6/batch_norm_1/gamma:0 (float32_ref 192) [192, bytes: 768]\n",
      "network_lidar/resblock3_7/conv_0/conv2d/kernel:0 (float32_ref 3x3x192x192) [331776, bytes: 1327104]\n",
      "network_lidar/resblock3_7/batch_norm_0/beta:0 (float32_ref 192) [192, bytes: 768]\n",
      "network_lidar/resblock3_7/batch_norm_0/gamma:0 (float32_ref 192) [192, bytes: 768]\n",
      "network_lidar/resblock3_7/conv_1/conv2d/kernel:0 (float32_ref 3x3x192x192) [331776, bytes: 1327104]\n",
      "network_lidar/resblock3_7/batch_norm_1/beta:0 (float32_ref 192) [192, bytes: 768]\n",
      "network_lidar/resblock3_7/batch_norm_1/gamma:0 (float32_ref 192) [192, bytes: 768]\n",
      "network_lidar/resblock3_8/conv_0/conv2d/kernel:0 (float32_ref 3x3x192x192) [331776, bytes: 1327104]\n",
      "network_lidar/resblock3_8/batch_norm_0/beta:0 (float32_ref 192) [192, bytes: 768]\n",
      "network_lidar/resblock3_8/batch_norm_0/gamma:0 (float32_ref 192) [192, bytes: 768]\n",
      "network_lidar/resblock3_8/conv_1/conv2d/kernel:0 (float32_ref 3x3x192x192) [331776, bytes: 1327104]\n",
      "network_lidar/resblock3_8/batch_norm_1/beta:0 (float32_ref 192) [192, bytes: 768]\n",
      "network_lidar/resblock3_8/batch_norm_1/gamma:0 (float32_ref 192) [192, bytes: 768]\n",
      "network_lidar/resblock3_9/conv_0/conv2d/kernel:0 (float32_ref 3x3x192x192) [331776, bytes: 1327104]\n",
      "network_lidar/resblock3_9/batch_norm_0/beta:0 (float32_ref 192) [192, bytes: 768]\n",
      "network_lidar/resblock3_9/batch_norm_0/gamma:0 (float32_ref 192) [192, bytes: 768]\n",
      "network_lidar/resblock3_9/conv_1/conv2d/kernel:0 (float32_ref 3x3x192x192) [331776, bytes: 1327104]\n",
      "network_lidar/resblock3_9/batch_norm_1/beta:0 (float32_ref 192) [192, bytes: 768]\n",
      "network_lidar/resblock3_9/batch_norm_1/gamma:0 (float32_ref 192) [192, bytes: 768]\n",
      "network_lidar/resblock3_10/conv_0/conv2d/kernel:0 (float32_ref 3x3x192x192) [331776, bytes: 1327104]\n",
      "network_lidar/resblock3_10/batch_norm_0/beta:0 (float32_ref 192) [192, bytes: 768]\n",
      "network_lidar/resblock3_10/batch_norm_0/gamma:0 (float32_ref 192) [192, bytes: 768]\n",
      "network_lidar/resblock3_10/conv_1/conv2d/kernel:0 (float32_ref 3x3x192x192) [331776, bytes: 1327104]\n",
      "network_lidar/resblock3_10/batch_norm_1/beta:0 (float32_ref 192) [192, bytes: 768]\n",
      "network_lidar/resblock3_10/batch_norm_1/gamma:0 (float32_ref 192) [192, bytes: 768]\n",
      "network_lidar/resblock3_11/conv_0/conv2d/kernel:0 (float32_ref 3x3x192x192) [331776, bytes: 1327104]\n",
      "network_lidar/resblock3_11/batch_norm_0/beta:0 (float32_ref 192) [192, bytes: 768]\n",
      "network_lidar/resblock3_11/batch_norm_0/gamma:0 (float32_ref 192) [192, bytes: 768]\n",
      "network_lidar/resblock3_11/conv_1/conv2d/kernel:0 (float32_ref 3x3x192x192) [331776, bytes: 1327104]\n",
      "network_lidar/resblock3_11/batch_norm_1/beta:0 (float32_ref 192) [192, bytes: 768]\n",
      "network_lidar/resblock3_11/batch_norm_1/gamma:0 (float32_ref 192) [192, bytes: 768]\n",
      "network_lidar/resblock4_0/conv_0/conv2d/kernel:0 (float32_ref 3x3x192x256) [442368, bytes: 1769472]\n",
      "network_lidar/resblock4_0/batch_norm_0/beta:0 (float32_ref 256) [256, bytes: 1024]\n",
      "network_lidar/resblock4_0/batch_norm_0/gamma:0 (float32_ref 256) [256, bytes: 1024]\n",
      "network_lidar/resblock4_0/conv_1/conv2d/kernel:0 (float32_ref 3x3x256x256) [589824, bytes: 2359296]\n",
      "network_lidar/resblock4_0/batch_norm_1/beta:0 (float32_ref 256) [256, bytes: 1024]\n",
      "network_lidar/resblock4_0/batch_norm_1/gamma:0 (float32_ref 256) [256, bytes: 1024]\n",
      "network_lidar/resblock4_0/conv_init/conv2d/kernel:0 (float32_ref 1x1x192x256) [49152, bytes: 196608]\n",
      "network_lidar/resblock4_0/batch_norm_init/beta:0 (float32_ref 256) [256, bytes: 1024]\n",
      "network_lidar/resblock4_0/batch_norm_init/gamma:0 (float32_ref 256) [256, bytes: 1024]\n",
      "network_lidar/resblock4_1/conv_0/conv2d/kernel:0 (float32_ref 3x3x256x256) [589824, bytes: 2359296]\n",
      "network_lidar/resblock4_1/batch_norm_0/beta:0 (float32_ref 256) [256, bytes: 1024]\n",
      "network_lidar/resblock4_1/batch_norm_0/gamma:0 (float32_ref 256) [256, bytes: 1024]\n",
      "network_lidar/resblock4_1/conv_1/conv2d/kernel:0 (float32_ref 3x3x256x256) [589824, bytes: 2359296]\n",
      "network_lidar/resblock4_1/batch_norm_1/beta:0 (float32_ref 256) [256, bytes: 1024]\n",
      "network_lidar/resblock4_1/batch_norm_1/gamma:0 (float32_ref 256) [256, bytes: 1024]\n",
      "network_lidar/resblock4_2/conv_0/conv2d/kernel:0 (float32_ref 3x3x256x256) [589824, bytes: 2359296]\n",
      "network_lidar/resblock4_2/batch_norm_0/beta:0 (float32_ref 256) [256, bytes: 1024]\n",
      "network_lidar/resblock4_2/batch_norm_0/gamma:0 (float32_ref 256) [256, bytes: 1024]\n",
      "network_lidar/resblock4_2/conv_1/conv2d/kernel:0 (float32_ref 3x3x256x256) [589824, bytes: 2359296]\n",
      "network_lidar/resblock4_2/batch_norm_1/beta:0 (float32_ref 256) [256, bytes: 1024]\n",
      "network_lidar/resblock4_2/batch_norm_1/gamma:0 (float32_ref 256) [256, bytes: 1024]\n",
      "network_lidar/resblock4_3/conv_0/conv2d/kernel:0 (float32_ref 3x3x256x256) [589824, bytes: 2359296]\n",
      "network_lidar/resblock4_3/batch_norm_0/beta:0 (float32_ref 256) [256, bytes: 1024]\n",
      "network_lidar/resblock4_3/batch_norm_0/gamma:0 (float32_ref 256) [256, bytes: 1024]\n",
      "network_lidar/resblock4_3/conv_1/conv2d/kernel:0 (float32_ref 3x3x256x256) [589824, bytes: 2359296]\n",
      "network_lidar/resblock4_3/batch_norm_1/beta:0 (float32_ref 256) [256, bytes: 1024]\n",
      "network_lidar/resblock4_3/batch_norm_1/gamma:0 (float32_ref 256) [256, bytes: 1024]\n",
      "network_lidar/resblock4_4/conv_0/conv2d/kernel:0 (float32_ref 3x3x256x256) [589824, bytes: 2359296]\n",
      "network_lidar/resblock4_4/batch_norm_0/beta:0 (float32_ref 256) [256, bytes: 1024]\n",
      "network_lidar/resblock4_4/batch_norm_0/gamma:0 (float32_ref 256) [256, bytes: 1024]\n",
      "network_lidar/resblock4_4/conv_1/conv2d/kernel:0 (float32_ref 3x3x256x256) [589824, bytes: 2359296]\n",
      "network_lidar/resblock4_4/batch_norm_1/beta:0 (float32_ref 256) [256, bytes: 1024]\n",
      "network_lidar/resblock4_4/batch_norm_1/gamma:0 (float32_ref 256) [256, bytes: 1024]\n",
      "network_lidar/resblock4_5/conv_0/conv2d/kernel:0 (float32_ref 3x3x256x256) [589824, bytes: 2359296]\n",
      "network_lidar/resblock4_5/batch_norm_0/beta:0 (float32_ref 256) [256, bytes: 1024]\n",
      "network_lidar/resblock4_5/batch_norm_0/gamma:0 (float32_ref 256) [256, bytes: 1024]\n",
      "network_lidar/resblock4_5/conv_1/conv2d/kernel:0 (float32_ref 3x3x256x256) [589824, bytes: 2359296]\n",
      "network_lidar/resblock4_5/batch_norm_1/beta:0 (float32_ref 256) [256, bytes: 1024]\n",
      "network_lidar/resblock4_5/batch_norm_1/gamma:0 (float32_ref 256) [256, bytes: 1024]\n",
      "network_lidar/resblock4_6/conv_0/conv2d/kernel:0 (float32_ref 3x3x256x256) [589824, bytes: 2359296]\n",
      "network_lidar/resblock4_6/batch_norm_0/beta:0 (float32_ref 256) [256, bytes: 1024]\n",
      "network_lidar/resblock4_6/batch_norm_0/gamma:0 (float32_ref 256) [256, bytes: 1024]\n",
      "network_lidar/resblock4_6/conv_1/conv2d/kernel:0 (float32_ref 3x3x256x256) [589824, bytes: 2359296]\n",
      "network_lidar/resblock4_6/batch_norm_1/beta:0 (float32_ref 256) [256, bytes: 1024]\n",
      "network_lidar/resblock4_6/batch_norm_1/gamma:0 (float32_ref 256) [256, bytes: 1024]\n",
      "network_lidar/resblock4_7/conv_0/conv2d/kernel:0 (float32_ref 3x3x256x256) [589824, bytes: 2359296]\n",
      "network_lidar/resblock4_7/batch_norm_0/beta:0 (float32_ref 256) [256, bytes: 1024]\n",
      "network_lidar/resblock4_7/batch_norm_0/gamma:0 (float32_ref 256) [256, bytes: 1024]\n",
      "network_lidar/resblock4_7/conv_1/conv2d/kernel:0 (float32_ref 3x3x256x256) [589824, bytes: 2359296]\n",
      "network_lidar/resblock4_7/batch_norm_1/beta:0 (float32_ref 256) [256, bytes: 1024]\n",
      "network_lidar/resblock4_7/batch_norm_1/gamma:0 (float32_ref 256) [256, bytes: 1024]\n",
      "network_lidar/resblock4_8/conv_0/conv2d/kernel:0 (float32_ref 3x3x256x256) [589824, bytes: 2359296]\n",
      "network_lidar/resblock4_8/batch_norm_0/beta:0 (float32_ref 256) [256, bytes: 1024]\n",
      "network_lidar/resblock4_8/batch_norm_0/gamma:0 (float32_ref 256) [256, bytes: 1024]\n",
      "network_lidar/resblock4_8/conv_1/conv2d/kernel:0 (float32_ref 3x3x256x256) [589824, bytes: 2359296]\n",
      "network_lidar/resblock4_8/batch_norm_1/beta:0 (float32_ref 256) [256, bytes: 1024]\n",
      "network_lidar/resblock4_8/batch_norm_1/gamma:0 (float32_ref 256) [256, bytes: 1024]\n",
      "network_lidar/resblock4_9/conv_0/conv2d/kernel:0 (float32_ref 3x3x256x256) [589824, bytes: 2359296]\n",
      "network_lidar/resblock4_9/batch_norm_0/beta:0 (float32_ref 256) [256, bytes: 1024]\n",
      "network_lidar/resblock4_9/batch_norm_0/gamma:0 (float32_ref 256) [256, bytes: 1024]\n",
      "network_lidar/resblock4_9/conv_1/conv2d/kernel:0 (float32_ref 3x3x256x256) [589824, bytes: 2359296]\n",
      "network_lidar/resblock4_9/batch_norm_1/beta:0 (float32_ref 256) [256, bytes: 1024]\n",
      "network_lidar/resblock4_9/batch_norm_1/gamma:0 (float32_ref 256) [256, bytes: 1024]\n"
     ]
    },
    {
     "name": "stdout",
     "output_type": "stream",
     "text": [
      "network_lidar/resblock4_10/conv_0/conv2d/kernel:0 (float32_ref 3x3x256x256) [589824, bytes: 2359296]\n",
      "network_lidar/resblock4_10/batch_norm_0/beta:0 (float32_ref 256) [256, bytes: 1024]\n",
      "network_lidar/resblock4_10/batch_norm_0/gamma:0 (float32_ref 256) [256, bytes: 1024]\n",
      "network_lidar/resblock4_10/conv_1/conv2d/kernel:0 (float32_ref 3x3x256x256) [589824, bytes: 2359296]\n",
      "network_lidar/resblock4_10/batch_norm_1/beta:0 (float32_ref 256) [256, bytes: 1024]\n",
      "network_lidar/resblock4_10/batch_norm_1/gamma:0 (float32_ref 256) [256, bytes: 1024]\n",
      "network_lidar/resblock4_11/conv_0/conv2d/kernel:0 (float32_ref 3x3x256x256) [589824, bytes: 2359296]\n",
      "network_lidar/resblock4_11/batch_norm_0/beta:0 (float32_ref 256) [256, bytes: 1024]\n",
      "network_lidar/resblock4_11/batch_norm_0/gamma:0 (float32_ref 256) [256, bytes: 1024]\n",
      "network_lidar/resblock4_11/conv_1/conv2d/kernel:0 (float32_ref 3x3x256x256) [589824, bytes: 2359296]\n",
      "network_lidar/resblock4_11/batch_norm_1/beta:0 (float32_ref 256) [256, bytes: 1024]\n",
      "network_lidar/resblock4_11/batch_norm_1/gamma:0 (float32_ref 256) [256, bytes: 1024]\n",
      "fpn_lidar/conv0_2/conv2d/kernel:0 (float32_ref 1x1x256x32) [8192, bytes: 32768]\n",
      "fpn_lidar/conv0_2/conv2d/bias:0 (float32_ref 32) [32, bytes: 128]\n",
      "fpn_lidar/conv1_2/conv2d/kernel:0 (float32_ref 3x3x32x256) [73728, bytes: 294912]\n",
      "fpn_lidar/conv1_2/conv2d/bias:0 (float32_ref 256) [256, bytes: 1024]\n",
      "fpn_lidar/conv0_1/conv2d/kernel:0 (float32_ref 1x1x192x32) [6144, bytes: 24576]\n",
      "fpn_lidar/conv0_1/conv2d/bias:0 (float32_ref 32) [32, bytes: 128]\n",
      "fpn_lidar/conv1_1/conv2d/kernel:0 (float32_ref 3x3x32x256) [73728, bytes: 294912]\n",
      "fpn_lidar/conv1_1/conv2d/bias:0 (float32_ref 256) [256, bytes: 1024]\n",
      "fpn_lidar/conv0_0/conv2d/kernel:0 (float32_ref 1x1x128x32) [4096, bytes: 16384]\n",
      "fpn_lidar/conv0_0/conv2d/bias:0 (float32_ref 32) [32, bytes: 128]\n",
      "fpn_lidar/conv1_0/conv2d/kernel:0 (float32_ref 3x3x32x256) [73728, bytes: 294912]\n",
      "fpn_lidar/conv1_0/conv2d/bias:0 (float32_ref 256) [256, bytes: 1024]\n",
      "conv_out_1/conv2d/kernel:0 (float32_ref 1x1x768x9) [6912, bytes: 27648]\n",
      "conv_out_1/conv2d/bias:0 (float32_ref 9) [9, bytes: 36]\n",
      "conv_out_2/conv2d/kernel:0 (float32_ref 1x1x768x9) [6912, bytes: 27648]\n",
      "conv_out_2/conv2d/bias:0 (float32_ref 9) [9, bytes: 36]\n",
      "Total size of variables: 36835574\n",
      "Total bytes of variables: 147342296\n"
     ]
    },
    {
     "data": {
      "text/plain": [
       "(36835574, 147342296)"
      ]
     },
     "execution_count": 56,
     "metadata": {},
     "output_type": "execute_result"
    }
   ],
   "source": [
    "slim.model_analyzer.analyze_vars(model_vars, print_info=True)"
   ]
  },
  {
   "cell_type": "code",
   "execution_count": 45,
   "metadata": {},
   "outputs": [
    {
     "name": "stdout",
     "output_type": "stream",
     "text": [
      "---------\n",
      "Variables: name (type shape) [size]\n",
      "---------\n",
      "Total size of variables: 0\n",
      "Total bytes of variables: 0\n"
     ]
    }
   ],
   "source": [
    "def model_summary():\n",
    "    model_vars = tf.trainable_variables()\n",
    "    slim.model_analyzer.analyze_vars(model_vars, print_info=True)\n",
    "\n",
    "model_summary()"
   ]
  },
  {
   "cell_type": "code",
   "execution_count": null,
   "metadata": {
    "collapsed": true
   },
   "outputs": [],
   "source": []
  },
  {
   "cell_type": "code",
   "execution_count": 12,
   "metadata": {
    "collapsed": true
   },
   "outputs": [],
   "source": [
    "list_files = list(map(lambda x: x.split('.')[0], os.listdir('/Volumes/My Passport/Kitti_data/data_object_image_3/training/image_3')))"
   ]
  },
  {
   "cell_type": "code",
   "execution_count": 14,
   "metadata": {
    "collapsed": true
   },
   "outputs": [],
   "source": [
    "my_gen = data_generator(image_size=(370, 1224), lidar_size=(512, 448, 32))"
   ]
  },
  {
   "cell_type": "code",
   "execution_count": 48,
   "metadata": {},
   "outputs": [
    {
     "name": "stdout",
     "output_type": "stream",
     "text": [
      "(370, 1224, 3)\n"
     ]
    },
    {
     "data": {
      "text/plain": [
       "<matplotlib.image.AxesImage at 0x1c48f9e898>"
      ]
     },
     "execution_count": 48,
     "metadata": {},
     "output_type": "execute_result"
    },
    {
     "data": {
      "image/png": "[encoded data removed]",
      "text/plain": [
       "<Figure size 432x288 with 1 Axes>"
      ]
     },
     "metadata": {},
     "output_type": "display_data"
    }
   ],
   "source": [
    "img, lidar_data, label, Tr_velo_to_cam, R0_rect, P3, shift_h, shift_w = next(my_gen)\n",
    "print(img.shape)\n",
    "plt.imshow(img)"
   ]
  },
  {
   "cell_type": "code",
   "execution_count": 49,
   "metadata": {},
   "outputs": [
    {
     "data": {
      "text/plain": [
       "(512, 448, 32)"
      ]
     },
     "execution_count": 49,
     "metadata": {},
     "output_type": "execute_result"
    }
   ],
   "source": [
    "lidar_data.shape"
   ]
  },
  {
   "cell_type": "code",
   "execution_count": 50,
   "metadata": {},
   "outputs": [
    {
     "data": {
      "text/plain": [
       "<matplotlib.image.AxesImage at 0x1c48af1358>"
      ]
     },
     "execution_count": 50,
     "metadata": {},
     "output_type": "execute_result"
    },
    {
     "data": {
      "image/png": "[encoded data removed]",
      "text/plain": [
       "<Figure size 432x288 with 1 Axes>"
      ]
     },
     "metadata": {},
     "output_type": "display_data"
    }
   ],
   "source": [
    "plt.imshow(np.clip(np.sum(lidar_data[:, :, :], 2), 0, 1))"
   ]
  },
  {
   "cell_type": "code",
   "execution_count": 52,
   "metadata": {},
   "outputs": [
    {
     "data": {
      "text/plain": [
       "<matplotlib.image.AxesImage at 0x1c4e636a58>"
      ]
     },
     "execution_count": 52,
     "metadata": {},
     "output_type": "execute_result"
    },
    {
     "data": {
      "image/png": "[encoded data removed]",
      "text/plain": [
       "<Figure size 432x288 with 1 Axes>"
      ]
     },
     "metadata": {},
     "output_type": "display_data"
    }
   ],
   "source": [
    "plt.imshow(np.clip(np.sum(lidar_data[:, :, 10:25], 2), 0, 1))"
   ]
  },
  {
   "cell_type": "code",
   "execution_count": null,
   "metadata": {
    "collapsed": true
   },
   "outputs": [],
   "source": []
  },
  {
   "cell_type": "code",
   "execution_count": null,
   "metadata": {
    "collapsed": true
   },
   "outputs": [],
   "source": []
  },
  {
   "cell_type": "code",
   "execution_count": 15,
   "metadata": {
    "collapsed": true
   },
   "outputs": [],
   "source": [
    "model = Model()"
   ]
  },
  {
   "cell_type": "code",
   "execution_count": 16,
   "metadata": {},
   "outputs": [
    {
     "name": "stdout",
     "output_type": "stream",
     "text": [
      "Tensor(\"fusion_layer/map/while/map/while/map/while/map_1/while/truediv_1:0\", shape=(?, 2), dtype=float32)\n",
      "Tensor(\"fusion_layer/map/while/map/while/map/while/map_1/while/concat:0\", shape=(?, 2), dtype=float32)\n",
      "Tensor(\"fusion_layer/map/while/map/while/map/while/map_1/while/add_2:0\", shape=(?, 2), dtype=float32)\n",
      "Tensor(\"fusion_layer_1/map/while/map/while/map/while/map_1/while/truediv_1:0\", shape=(?, 2), dtype=float32)\n",
      "Tensor(\"fusion_layer_1/map/while/map/while/map/while/map_1/while/concat:0\", shape=(?, 2), dtype=float32)\n",
      "Tensor(\"fusion_layer_1/map/while/map/while/map/while/map_1/while/add_2:0\", shape=(?, 2), dtype=float32)\n",
      "Tensor(\"fusion_layer_2/map/while/map/while/map/while/map_1/while/truediv_1:0\", shape=(?, 2), dtype=float32)\n",
      "Tensor(\"fusion_layer_2/map/while/map/while/map/while/map_1/while/concat:0\", shape=(?, 2), dtype=float32)\n",
      "Tensor(\"fusion_layer_2/map/while/map/while/map/while/map_1/while/add_2:0\", shape=(?, 2), dtype=float32)\n",
      "Tensor(\"fusion_layer_3/map/while/map/while/map/while/map_1/while/truediv_1:0\", shape=(?, 2), dtype=float32)\n",
      "Tensor(\"fusion_layer_3/map/while/map/while/map/while/map_1/while/concat:0\", shape=(?, 2), dtype=float32)\n",
      "Tensor(\"fusion_layer_3/map/while/map/while/map/while/map_1/while/add_2:0\", shape=(?, 2), dtype=float32)\n"
     ]
    }
   ],
   "source": [
    "model.build_model()"
   ]
  },
  {
   "cell_type": "code",
   "execution_count": null,
   "metadata": {},
   "outputs": [
    {
     "name": "stdout",
     "output_type": "stream",
     "text": [
      "xx (1, 1)\n",
      "(1, 3, 4)\n",
      "xxx\n"
     ]
    }
   ],
   "source": [
    "model.train()"
   ]
  },
  {
   "cell_type": "code",
   "execution_count": null,
   "metadata": {
    "collapsed": true
   },
   "outputs": [],
   "source": [
    "temp = model.kdtrees"
   ]
  },
  {
   "cell_type": "code",
   "execution_count": null,
   "metadata": {
    "collapsed": true
   },
   "outputs": [],
   "source": [
    "temp.shape"
   ]
  },
  {
   "cell_type": "code",
   "execution_count": null,
   "metadata": {
    "collapsed": true
   },
   "outputs": [],
   "source": []
  },
  {
   "cell_type": "code",
   "execution_count": null,
   "metadata": {
    "collapsed": true
   },
   "outputs": [],
   "source": []
  },
  {
   "cell_type": "code",
   "execution_count": 29,
   "metadata": {
    "collapsed": true
   },
   "outputs": [],
   "source": [
    "def velo_points_bev2(lidar_path, x_range=(0, 70), y_range=(-40, 40), z_range=(-2.5, 1), size=(512, 448, 32)):\n",
    "    \"\"\"\n",
    "    # TODO :  8-neighbor interpolation\n",
    "    \"\"\"\n",
    "    points = np.fromfile(lidar_path, dtype=np.float32).reshape(-1, 4)\n",
    "    x = points[:, 0]\n",
    "    y = points[:, 1]\n",
    "    z = points[:, 2]\n",
    "\n",
    "    x_lim = in_range_points(x, x, y, z, x_range, y_range, z_range)\n",
    "    y_lim = in_range_points(y, x, y, z, x_range, y_range, z_range)\n",
    "    z_lim = in_range_points(z, x, y, z, x_range, y_range, z_range)\n",
    "\n",
    "    x_size = (x_range[1] - x_range[0])\n",
    "    y_size = (y_range[1] - y_range[0])\n",
    "    z_size = (z_range[1] - z_range[0])\n",
    "        \n",
    "    x_fac = (size[0]-1) / x_size\n",
    "    y_fac = (size[1]-1) / y_size\n",
    "    z_fac = (size[2]-1) / z_size\n",
    "    \n",
    "    if x_range[0] < 0:\n",
    "        x_lim = x_lim + -1*x_range[0]\n",
    "    if y_range[0] < 0:\n",
    "        y_lim = y_lim + -1*y_range[0]\n",
    "    if z_range[0] < 0:\n",
    "        z_lim = z_lim + -1*z_range[0]\n",
    "        \n",
    "    x_lim = -1 * (x_lim * x_fac).astype(np.int32) + size[0] - 1\n",
    "    y_lim = -1 * (y_lim * y_fac).astype(np.int32) + size[1] - 1\n",
    "    z_lim = -1 * (z_lim * z_fac).astype(np.int32) + size[2] - 1\n",
    "    \n",
    "    img = np.zeros([size[0], size[1], size[2]], dtype=np.uint8)\n",
    "    # occupancy grid\n",
    "    img[x_lim, y_lim, z_lim] = 255\n",
    "    return img"
   ]
  },
  {
   "cell_type": "code",
   "execution_count": 37,
   "metadata": {
    "collapsed": true
   },
   "outputs": [],
   "source": [
    "def velo_points_bev3(lidar_path, x_range=(0, 70), y_range=(-40, 40), z_range=(-2.5, 1), size=(512, 448, 32)):\n",
    "    \"\"\"\n",
    "    # TODO :  8-neighbor interpolation\n",
    "    \"\"\"\n",
    "    points = np.fromfile(lidar_path, dtype=np.float32).reshape(-1, 4)\n",
    "    x = points[:, 0]\n",
    "    y = points[:, 1]\n",
    "    z = points[:, 2]\n",
    "\n",
    "    x_lim = in_range_points(x, x, y, z, x_range, y_range, z_range)\n",
    "    y_lim = in_range_points(y, x, y, z, x_range, y_range, z_range)\n",
    "    z_lim = in_range_points(z, x, y, z, x_range, y_range, z_range)\n",
    "\n",
    "    x_size = (x_range[1] - x_range[0])\n",
    "    y_size = (y_range[1] - y_range[0])\n",
    "    z_size = (z_range[1] - z_range[0])\n",
    "        \n",
    "    x_fac = (size[0]-1) / x_size\n",
    "    y_fac = (size[1]-1) / y_size\n",
    "    z_fac = (size[2]-1) / z_size\n",
    "    \n",
    "    if x_range[0] < 0:\n",
    "        x_lim = x_lim + -1*x_range[0]\n",
    "    if y_range[0] < 0:\n",
    "        y_lim = y_lim + -1*y_range[0]\n",
    "    if z_range[0] < 0:\n",
    "        z_lim = z_lim + -1*z_range[0]\n",
    "        \n",
    "    x_lim = -1 * (x_lim * x_fac).astype(np.int32) + size[0] - 1\n",
    "    y_lim = -1 * (y_lim * y_fac).astype(np.int32) + size[1] - 1\n",
    "    z_lim = -1 * (z_lim * z_fac).astype(np.int32) + size[2] - 1\n",
    "    \n",
    "    img = np.zeros([size[0], size[1], size[2]], dtype=np.uint8)\n",
    "    # occupancy grid\n",
    "    img[x_lim, y_lim, z_lim] = 255\n",
    "    return list(zip(x_lim, y_lim, z_lim))"
   ]
  },
  {
   "cell_type": "code",
   "execution_count": 72,
   "metadata": {
    "collapsed": true
   },
   "outputs": [],
   "source": [
    "img = velo_points_bev2('/Volumes/My Passport/Kitti_data/data_object_velodyne/training/velodyne/000000.bin')"
   ]
  },
  {
   "cell_type": "code",
   "execution_count": 33,
   "metadata": {},
   "outputs": [
    {
     "data": {
      "text/plain": [
       "<matplotlib.image.AxesImage at 0x1c3ad07278>"
      ]
     },
     "execution_count": 33,
     "metadata": {},
     "output_type": "execute_result"
    },
    {
     "data": {
      "image/png": "[encoded data removed]",
      "text/plain": [
       "<Figure size 432x288 with 1 Axes>"
      ]
     },
     "metadata": {},
     "output_type": "display_data"
    }
   ],
   "source": [
    "plt.imshow(np.clip(np.sum(img, 2), 0, 1))"
   ]
  },
  {
   "cell_type": "code",
   "execution_count": 34,
   "metadata": {
    "collapsed": true
   },
   "outputs": [],
   "source": [
    "lidar_size = (512, 448, 32)"
   ]
  },
  {
   "cell_type": "code",
   "execution_count": 61,
   "metadata": {
    "collapsed": true
   },
   "outputs": [],
   "source": [
    "indx = velo_points_bev3('/Volumes/My Passport/Kitti_data/data_object_velodyne/training/velodyne/000000.bin')"
   ]
  },
  {
   "cell_type": "code",
   "execution_count": 63,
   "metadata": {
    "collapsed": true
   },
   "outputs": [],
   "source": [
    "indx = np.array(indx)"
   ]
  },
  {
   "cell_type": "code",
   "execution_count": 65,
   "metadata": {},
   "outputs": [
    {
     "data": {
      "text/plain": [
       "(62773, (62773, 3))"
      ]
     },
     "execution_count": 65,
     "metadata": {},
     "output_type": "execute_result"
    }
   ],
   "source": [
    "len(points), indx.shape"
   ]
  },
  {
   "cell_type": "code",
   "execution_count": 66,
   "metadata": {
    "collapsed": true
   },
   "outputs": [],
   "source": [
    "# points"
   ]
  },
  {
   "cell_type": "code",
   "execution_count": 246,
   "metadata": {},
   "outputs": [
    {
     "name": "stdout",
     "output_type": "stream",
     "text": [
      "(25622, 3)\n"
     ]
    }
   ],
   "source": [
    "p = np.where(lidar_data > 0)\n",
    "temp = np.array(list(map(lambda i: [p[0][i], p[1][i], p[2][i]], range(len(p[0])))))\n",
    "print(temp.shape)"
   ]
  },
  {
   "cell_type": "code",
   "execution_count": 21,
   "metadata": {
    "collapsed": true
   },
   "outputs": [],
   "source": [
    "points = np.where(lidar_data > 0)\n",
    "indx = np.array(list(map(lambda i: [points[0][i], points[1][i], points[2][i]], range(len(points[0])))))\n",
    "xb = indx.astype('float32')\n",
    "xq = np.array([(i, j, h) for i in range(lidar_size[0]) for j in range(lidar_size[1]) for h in range(lidar_size[2])]).astype('float32')"
   ]
  },
  {
   "cell_type": "code",
   "execution_count": 343,
   "metadata": {},
   "outputs": [
    {
     "data": {
      "text/plain": [
       "array([[  0,  72,  26],\n",
       "       [  0,  73,  28],\n",
       "       [  0,  74,  26],\n",
       "       ...,\n",
       "       [511, 371,  30],\n",
       "       [511, 372,   2],\n",
       "       [511, 386,  18]])"
      ]
     },
     "execution_count": 343,
     "metadata": {},
     "output_type": "execute_result"
    }
   ],
   "source": [
    "indx"
   ]
  },
  {
   "cell_type": "code",
   "execution_count": 22,
   "metadata": {},
   "outputs": [
    {
     "data": {
      "text/plain": [
       "(25622, 3)"
      ]
     },
     "execution_count": 22,
     "metadata": {},
     "output_type": "execute_result"
    }
   ],
   "source": [
    "indx.shape"
   ]
  },
  {
   "cell_type": "code",
   "execution_count": 23,
   "metadata": {
    "collapsed": true
   },
   "outputs": [],
   "source": [
    "k=1\n",
    "index = faiss.IndexFlatL2(3)   # build the index\n",
    "index.add(xb) "
   ]
  },
  {
   "cell_type": "code",
   "execution_count": 24,
   "metadata": {},
   "outputs": [
    {
     "name": "stdout",
     "output_type": "stream",
     "text": [
      "CPU times: user 14min 29s, sys: 12.3 s, total: 14min 41s\n",
      "Wall time: 1min 52s\n"
     ]
    }
   ],
   "source": [
    "%%time\n",
    "D, I = index.search(xq, k) "
   ]
  },
  {
   "cell_type": "code",
   "execution_count": 25,
   "metadata": {
    "collapsed": true
   },
   "outputs": [],
   "source": [
    "result = xq[I].reshape((-1, 3))\n",
    "result = np.array(list(map(lambda p1: [p1[0], p1[1], p1[2], 1], result)))\n",
    "\n",
    "result = result.reshape((lidar_size[0], lidar_size[1], lidar_size[2], k, 4))"
   ]
  },
  {
   "cell_type": "code",
   "execution_count": 26,
   "metadata": {},
   "outputs": [
    {
     "data": {
      "text/plain": [
       "(512, 448, 32, 1, 4)"
      ]
     },
     "execution_count": 26,
     "metadata": {},
     "output_type": "execute_result"
    }
   ],
   "source": [
    "result.shape"
   ]
  },
  {
   "cell_type": "code",
   "execution_count": 27,
   "metadata": {},
   "outputs": [
    {
     "data": {
      "text/plain": [
       "array([  1., 261.,  15.,   1.])"
      ]
     },
     "execution_count": 27,
     "metadata": {},
     "output_type": "execute_result"
    }
   ],
   "source": [
    "result[500, 400, 30, 0, :]"
   ]
  },
  {
   "cell_type": "code",
   "execution_count": 28,
   "metadata": {
    "collapsed": true
   },
   "outputs": [],
   "source": [
    "x_range=(0, 70)\n",
    "y_range=(-40, 40)\n",
    "z_range=(-2.5, 1)\n",
    "size=(512, 448, 32)\n",
    "\n",
    "x_size = (x_range[1] - x_range[0])\n",
    "y_size = (y_range[1] - y_range[0])\n",
    "z_size = (z_range[1] - z_range[0])\n",
    "        \n",
    "x_fac = (size[0]-1) / x_size\n",
    "y_fac = (size[1]-1) / y_size\n",
    "z_fac = (size[2]-1) / z_size"
   ]
  },
  {
   "cell_type": "code",
   "execution_count": 29,
   "metadata": {},
   "outputs": [
    {
     "data": {
      "text/plain": [
       "(7.3, 5.5875, 8.857142857142858)"
      ]
     },
     "execution_count": 29,
     "metadata": {},
     "output_type": "execute_result"
    }
   ],
   "source": [
    "x_fac, y_fac, z_fac"
   ]
  },
  {
   "cell_type": "code",
   "execution_count": 382,
   "metadata": {},
   "outputs": [
    {
     "data": {
      "text/plain": [
       "(512, 448, 32, 1, 4)"
      ]
     },
     "execution_count": 382,
     "metadata": {},
     "output_type": "execute_result"
    }
   ],
   "source": [
    "result.shape"
   ]
  },
  {
   "cell_type": "code",
   "execution_count": 30,
   "metadata": {},
   "outputs": [
    {
     "data": {
      "text/plain": [
       "array([  1., 273.,  26.,   1.])"
      ]
     },
     "execution_count": 30,
     "metadata": {},
     "output_type": "execute_result"
    }
   ],
   "source": [
    "result[500, 440, 2, 0, :] "
   ]
  },
  {
   "cell_type": "code",
   "execution_count": 31,
   "metadata": {},
   "outputs": [
    {
     "data": {
      "text/plain": [
       "array([-582.1369863 , -568.17897092,  -38.11290323])"
      ]
     },
     "execution_count": 31,
     "metadata": {},
     "output_type": "execute_result"
    }
   ],
   "source": [
    "[-1, -1, -1] * np.array([   512, 448, 32]) / [x_fac, y_fac, z_fac] + [0, -40, -2.5] - [512, 448, 32]"
   ]
  },
  {
   "cell_type": "code",
   "execution_count": 341,
   "metadata": {},
   "outputs": [
    {
     "data": {
      "text/plain": [
       "array([ -0.1369863 , -90.11185682,  -3.29032258])"
      ]
     },
     "execution_count": 341,
     "metadata": {},
     "output_type": "execute_result"
    }
   ],
   "source": [
    "-1 * np.array([ 1., 280.,   7.]) / [x_fac, y_fac, z_fac] + [0, -40, -2.5]"
   ]
  },
  {
   "cell_type": "code",
   "execution_count": 365,
   "metadata": {},
   "outputs": [
    {
     "data": {
      "text/plain": [
       "array([512. , 302. ,  24.7])"
      ]
     },
     "execution_count": 365,
     "metadata": {},
     "output_type": "execute_result"
    }
   ],
   "source": [
    "p = np.array([0.        , -20.0,  -1.5])\n",
    "p = p + [0, 40, 2.5]\n",
    "p = -1 * (p * x_fac)\n",
    "p + [512, 448, 32]"
   ]
  },
  {
   "cell_type": "code",
   "execution_count": null,
   "metadata": {
    "collapsed": true
   },
   "outputs": [],
   "source": []
  },
  {
   "cell_type": "code",
   "execution_count": null,
   "metadata": {
    "collapsed": true
   },
   "outputs": [],
   "source": []
  },
  {
   "cell_type": "code",
   "execution_count": null,
   "metadata": {
    "collapsed": true
   },
   "outputs": [],
   "source": []
  },
  {
   "cell_type": "code",
   "execution_count": 90,
   "metadata": {},
   "outputs": [
    {
     "data": {
      "text/plain": [
       "(4, 4)"
      ]
     },
     "execution_count": 90,
     "metadata": {},
     "output_type": "execute_result"
    }
   ],
   "source": [
    "Tr_velo_to_cam.shape"
   ]
  },
  {
   "cell_type": "code",
   "execution_count": 120,
   "metadata": {
    "collapsed": true
   },
   "outputs": [],
   "source": [
    "def project_point_from_camera_coor_to_img_coor(point, Tr_velo_to_cam, R0_rect, P3):\n",
    "    img_point = P3.dot(R0_rect.dot(Tr_velo_to_cam.dot(point)))\n",
    "    return img_point\n",
    "\n",
    "def project_point_from_lidar_to_image(point, Tr_velo_to_cam, R0_rect, P3):\n",
    "    point = tf.reshape(point, (-1, 4, 1))\n",
    "    Tr_velo_to_cam2 = tf.reshape(Tr_velo_to_cam, (1, 4, 4))\n",
    "    x = tf.matmul(tf.cast(Tr_velo_to_cam2, tf.float32), tf.cast(point, tf.float32))\n",
    "    R0_rect2 = tf.reshape(R0_rect, (-1, 4, 4))\n",
    "    x2 = tf.matmul(tf.cast(R0_rect2, tf.float32), x)\n",
    "    P3_2 = tf.reshape(P3, (-1, 3, 4))\n",
    "    rgb_point = tf.matmul(tf.cast(P3_2, tf.float32), x2)\n",
    "#     return rgb_point[:, :2, 0]\n",
    "    return rgb_point[:, :2, 0] / rgb_point[:, 2, 0]"
   ]
  },
  {
   "cell_type": "code",
   "execution_count": 220,
   "metadata": {},
   "outputs": [
    {
     "data": {
      "text/plain": [
       "array([  0., 102.,  23.,   1.])"
      ]
     },
     "execution_count": 220,
     "metadata": {},
     "output_type": "execute_result"
    }
   ],
   "source": [
    "result[500, 400, 30, 0, :]"
   ]
  },
  {
   "cell_type": "code",
   "execution_count": 121,
   "metadata": {
    "collapsed": true
   },
   "outputs": [],
   "source": [
    "point = project_point_from_lidar_to_image(result[500, 400, 30, 0, :], Tr_velo_to_cam, R0_rect, P3)"
   ]
  },
  {
   "cell_type": "code",
   "execution_count": 122,
   "metadata": {},
   "outputs": [
    {
     "name": "stdout",
     "output_type": "stream",
     "text": [
      "[[4536826.   971450.7]]\n"
     ]
    }
   ],
   "source": [
    "with tf.Session() as sess:\n",
    "    print(sess.run(point))"
   ]
  },
  {
   "cell_type": "code",
   "execution_count": 123,
   "metadata": {},
   "outputs": [
    {
     "data": {
      "text/plain": [
       "array([[ 7.533745e-03, -9.999714e-01, -6.166020e-04, -4.069766e-03],\n",
       "       [ 1.480249e-02,  7.280733e-04, -9.998902e-01, -7.631618e-02],\n",
       "       [ 9.998621e-01,  7.523790e-03,  1.480755e-02, -2.717806e-01],\n",
       "       [ 0.000000e+00,  0.000000e+00,  0.000000e+00,  1.000000e+00]])"
      ]
     },
     "execution_count": 123,
     "metadata": {},
     "output_type": "execute_result"
    }
   ],
   "source": [
    "Tr_velo_to_cam"
   ]
  },
  {
   "cell_type": "code",
   "execution_count": 124,
   "metadata": {},
   "outputs": [
    {
     "data": {
      "text/plain": [
       "array([[ 0.9999239 ,  0.00983776, -0.00744505,  0.        ],\n",
       "       [-0.0098698 ,  0.9999421 , -0.00427846,  0.        ],\n",
       "       [ 0.00740253,  0.00435161,  0.9999631 ,  0.        ],\n",
       "       [ 0.        ,  0.        ,  0.        ,  1.        ]])"
      ]
     },
     "execution_count": 124,
     "metadata": {},
     "output_type": "execute_result"
    }
   ],
   "source": [
    "R0_rect"
   ]
  },
  {
   "cell_type": "code",
   "execution_count": 125,
   "metadata": {},
   "outputs": [
    {
     "data": {
      "text/plain": [
       "array([[ 7.215377e+02,  0.000000e+00,  6.095593e+02, -3.395242e+02],\n",
       "       [ 0.000000e+00,  7.215377e+02,  1.728540e+02,  2.199936e+00],\n",
       "       [ 0.000000e+00,  0.000000e+00,  1.000000e+00,  2.729905e-03]])"
      ]
     },
     "execution_count": 125,
     "metadata": {},
     "output_type": "execute_result"
    }
   ],
   "source": [
    "P3"
   ]
  },
  {
   "cell_type": "code",
   "execution_count": 345,
   "metadata": {},
   "outputs": [
    {
     "data": {
      "text/plain": [
       "array([[  0,  72,  26],\n",
       "       [  0,  73,  28],\n",
       "       [  0,  74,  26],\n",
       "       ...,\n",
       "       [511, 371,  30],\n",
       "       [511, 372,   2],\n",
       "       [511, 386,  18]])"
      ]
     },
     "execution_count": 345,
     "metadata": {},
     "output_type": "execute_result"
    }
   ],
   "source": [
    "indx"
   ]
  },
  {
   "cell_type": "code",
   "execution_count": 35,
   "metadata": {},
   "outputs": [
    {
     "data": {
      "text/plain": [
       "array([-93, 140])"
      ]
     },
     "execution_count": 35,
     "metadata": {},
     "output_type": "execute_result"
    }
   ],
   "source": [
    "p = np.matmul(P3, \n",
    "          (np.matmul(R0_rect, \n",
    "                     np.matmul(Tr_velo_to_cam, np.array([-582.1369863 , -568.17897092,  -38.11290323, 1]))))) \n",
    "\n",
    "p = (p // p[2]) [ :2] + [shift_h, shift_w]\n",
    "p.astype(int) "
   ]
  },
  {
   "cell_type": "code",
   "execution_count": 36,
   "metadata": {},
   "outputs": [
    {
     "data": {
      "text/plain": [
       "[1, 0]"
      ]
     },
     "execution_count": 36,
     "metadata": {},
     "output_type": "execute_result"
    }
   ],
   "source": [
    "[shift_h, shift_w]"
   ]
  },
  {
   "cell_type": "code",
   "execution_count": null,
   "metadata": {
    "collapsed": true
   },
   "outputs": [],
   "source": []
  },
  {
   "cell_type": "code",
   "execution_count": 283,
   "metadata": {
    "collapsed": true
   },
   "outputs": [],
   "source": [
    "points = np.fromfile('/Volumes/My Passport/Kitti_data/data_object_velodyne/training/velodyne/000000.bin', dtype=np.float32).reshape(-1, 4)"
   ]
  },
  {
   "cell_type": "code",
   "execution_count": 286,
   "metadata": {
    "collapsed": true
   },
   "outputs": [],
   "source": [
    "points = points[:, :3]"
   ]
  },
  {
   "cell_type": "code",
   "execution_count": 295,
   "metadata": {},
   "outputs": [
    {
     "data": {
      "text/plain": [
       "(-71.036, -21.105, -5.16)"
      ]
     },
     "execution_count": 295,
     "metadata": {},
     "output_type": "execute_result"
    }
   ],
   "source": [
    "np.min(points[:, 0]), np.min(points[:, 1]), np.min(points[:, 2])"
   ]
  },
  {
   "cell_type": "code",
   "execution_count": 298,
   "metadata": {},
   "outputs": [
    {
     "data": {
      "text/plain": [
       "(array([  5556,  65567,  67521,  83014,  85891,  94806, 100783]),)"
      ]
     },
     "execution_count": 298,
     "metadata": {},
     "output_type": "execute_result"
    }
   ],
   "source": [
    "np.where(points[:, 0] == 0)"
   ]
  },
  {
   "cell_type": "code",
   "execution_count": 303,
   "metadata": {},
   "outputs": [
    {
     "data": {
      "text/plain": [
       "(array([ 4271, 58960]),)"
      ]
     },
     "execution_count": 303,
     "metadata": {},
     "output_type": "execute_result"
    }
   ],
   "source": [
    "np.where(points[:, 1] == 9)"
   ]
  },
  {
   "cell_type": "code",
   "execution_count": 311,
   "metadata": {},
   "outputs": [
    {
     "data": {
      "text/plain": [
       "(array([15776, 15777, 17097, 17098, 17100, 17101, 18379, 18380, 18743,\n",
       "        18744, 20040, 20161, 20300, 20301, 20302, 20303, 20565, 20566,\n",
       "        20572, 20573, 21437, 21439, 21440, 21589, 21684, 21685, 21718,\n",
       "        23338, 23448, 23449]),)"
      ]
     },
     "execution_count": 311,
     "metadata": {},
     "output_type": "execute_result"
    }
   ],
   "source": [
    "np.where(points[:, 2] == 0)"
   ]
  },
  {
   "cell_type": "code",
   "execution_count": 312,
   "metadata": {},
   "outputs": [
    {
     "data": {
      "text/plain": [
       "-0.0"
      ]
     },
     "execution_count": 312,
     "metadata": {},
     "output_type": "execute_result"
    }
   ],
   "source": [
    "points[15776, 2]"
   ]
  },
  {
   "cell_type": "code",
   "execution_count": 296,
   "metadata": {},
   "outputs": [
    {
     "data": {
      "text/plain": [
       "(73.039, 53.797, 2.672)"
      ]
     },
     "execution_count": 296,
     "metadata": {},
     "output_type": "execute_result"
    }
   ],
   "source": [
    "np.max(points[:, 0]), np.max(points[:, 1]), np.max(points[:, 2])"
   ]
  },
  {
   "cell_type": "code",
   "execution_count": null,
   "metadata": {
    "collapsed": true
   },
   "outputs": [],
   "source": []
  },
  {
   "cell_type": "code",
   "execution_count": 54,
   "metadata": {
    "collapsed": true
   },
   "outputs": [],
   "source": [
    "model = Model()"
   ]
  },
  {
   "cell_type": "code",
   "execution_count": 55,
   "metadata": {
    "scrolled": true
   },
   "outputs": [
    {
     "ename": "TypeError",
     "evalue": "super(type, obj): obj must be an instance or subtype of type",
     "output_type": "error",
     "traceback": [
      "\u001b[0;31m---------------------------------------------------------------------------\u001b[0m",
      "\u001b[0;31mTypeError\u001b[0m                                 Traceback (most recent call last)",
      "\u001b[0;32m<ipython-input-55-242e13f33f9b>\u001b[0m in \u001b[0;36m<module>\u001b[0;34m()\u001b[0m\n\u001b[0;32m----> 1\u001b[0;31m \u001b[0mmodel\u001b[0m\u001b[0;34m.\u001b[0m\u001b[0mbuild_model\u001b[0m\u001b[0;34m(\u001b[0m\u001b[0;34m)\u001b[0m\u001b[0;34m\u001b[0m\u001b[0;34m\u001b[0m\u001b[0m\n\u001b[0m",
      "\u001b[0;32m~/Desktop/Master/Code/src/model.py\u001b[0m in \u001b[0;36mbuild_model\u001b[0;34m(self)\u001b[0m\n\u001b[1;32m     86\u001b[0m                                     \u001b[0mR0_rect\u001b[0m\u001b[0;34m=\u001b[0m\u001b[0mself\u001b[0m\u001b[0;34m.\u001b[0m\u001b[0mR0_rect\u001b[0m\u001b[0;34m,\u001b[0m \u001b[0mP3\u001b[0m\u001b[0;34m=\u001b[0m\u001b[0mself\u001b[0m\u001b[0;34m.\u001b[0m\u001b[0mP3\u001b[0m\u001b[0;34m,\u001b[0m\u001b[0;34m\u001b[0m\u001b[0;34m\u001b[0m\u001b[0m\n\u001b[1;32m     87\u001b[0m                                     \u001b[0mshift_h\u001b[0m \u001b[0;34m=\u001b[0m \u001b[0mself\u001b[0m\u001b[0;34m.\u001b[0m\u001b[0mshift_h\u001b[0m\u001b[0;34m,\u001b[0m\u001b[0;34m\u001b[0m\u001b[0;34m\u001b[0m\u001b[0m\n\u001b[0;32m---> 88\u001b[0;31m                                     shift_w = self.shift_w)(fpn_images[i])\n\u001b[0m\u001b[1;32m     89\u001b[0m                 \u001b[0;31m# print('fusion', fusion)\u001b[0m\u001b[0;34m\u001b[0m\u001b[0;34m\u001b[0m\u001b[0;34m\u001b[0m\u001b[0m\n\u001b[1;32m     90\u001b[0m                 \u001b[0mfusion_out\u001b[0m\u001b[0;34m.\u001b[0m\u001b[0mappend\u001b[0m\u001b[0;34m(\u001b[0m\u001b[0mfusion\u001b[0m\u001b[0;34m)\u001b[0m\u001b[0;34m\u001b[0m\u001b[0;34m\u001b[0m\u001b[0m\n",
      "\u001b[0;32m~/Desktop/Master/Code/src/FusionLayer.py\u001b[0m in \u001b[0;36m__init__\u001b[0;34m(self, dense_bev_height, dense_bev_width, lidar_scale_height, lidar_scale_width, rgb_scale_height, rgb_scale_width, rgb_height, rgb_width, layer_nodes, kdtree, k, scope, Tr_velo_to_cam, R0_rect, P3, shift_h, shift_w, is_training, reuse, bev_ch)\u001b[0m\n\u001b[1;32m     10\u001b[0m                 \u001b[0mlayer_nodes\u001b[0m\u001b[0;34m,\u001b[0m \u001b[0mkdtree\u001b[0m\u001b[0;34m,\u001b[0m \u001b[0mk\u001b[0m\u001b[0;34m,\u001b[0m \u001b[0mscope\u001b[0m\u001b[0;34m,\u001b[0m \u001b[0mTr_velo_to_cam\u001b[0m\u001b[0;34m,\u001b[0m \u001b[0mR0_rect\u001b[0m\u001b[0;34m,\u001b[0m \u001b[0mP3\u001b[0m\u001b[0;34m,\u001b[0m \u001b[0mshift_h\u001b[0m\u001b[0;34m,\u001b[0m \u001b[0mshift_w\u001b[0m\u001b[0;34m,\u001b[0m\u001b[0;34m\u001b[0m\u001b[0;34m\u001b[0m\u001b[0m\n\u001b[1;32m     11\u001b[0m                 is_training=True, reuse=False, bev_ch=32):\n\u001b[0;32m---> 12\u001b[0;31m         \u001b[0msuper\u001b[0m\u001b[0;34m(\u001b[0m\u001b[0mFusionLayer\u001b[0m\u001b[0;34m,\u001b[0m \u001b[0mself\u001b[0m\u001b[0;34m)\u001b[0m\u001b[0;34m.\u001b[0m\u001b[0m__init__\u001b[0m\u001b[0;34m(\u001b[0m\u001b[0;34m)\u001b[0m\u001b[0;34m\u001b[0m\u001b[0;34m\u001b[0m\u001b[0m\n\u001b[0m\u001b[1;32m     13\u001b[0m         \u001b[0;31m# self.image_feature_maps = image_feature_maps\u001b[0m\u001b[0;34m\u001b[0m\u001b[0;34m\u001b[0m\u001b[0;34m\u001b[0m\u001b[0m\n\u001b[1;32m     14\u001b[0m         \u001b[0mself\u001b[0m\u001b[0;34m.\u001b[0m\u001b[0mdense_bev_height\u001b[0m \u001b[0;34m=\u001b[0m \u001b[0mdense_bev_height\u001b[0m\u001b[0;34m\u001b[0m\u001b[0;34m\u001b[0m\u001b[0m\n",
      "\u001b[0;31mTypeError\u001b[0m: super(type, obj): obj must be an instance or subtype of type"
     ]
    }
   ],
   "source": [
    "model.build_model()"
   ]
  },
  {
   "cell_type": "code",
   "execution_count": null,
   "metadata": {
    "collapsed": true
   },
   "outputs": [],
   "source": [
    "model.kdtrees = temp"
   ]
  },
  {
   "cell_type": "code",
   "execution_count": 17,
   "metadata": {
    "scrolled": false
   },
   "outputs": [
    {
     "name": "stdout",
     "output_type": "stream",
     "text": [
      "(1, 370, 1224, 3)\n",
      "(1, 512, 448, 32)\n"
     ]
    },
    {
     "ename": "AttributeError",
     "evalue": "'Model' object has no attribute 'kdtrees'",
     "output_type": "error",
     "traceback": [
      "\u001b[0;31m---------------------------------------------------------------------------\u001b[0m",
      "\u001b[0;31mAttributeError\u001b[0m                            Traceback (most recent call last)",
      "\u001b[0;32m<ipython-input-17-22a9f6312119>\u001b[0m in \u001b[0;36m<module>\u001b[0;34m()\u001b[0m\n\u001b[0;32m----> 1\u001b[0;31m \u001b[0mmodel\u001b[0m\u001b[0;34m.\u001b[0m\u001b[0mtrain\u001b[0m\u001b[0;34m(\u001b[0m\u001b[0;34m)\u001b[0m\u001b[0;34m\u001b[0m\u001b[0;34m\u001b[0m\u001b[0m\n\u001b[0m",
      "\u001b[0;32m~/Desktop/Master/Code/src/model.py\u001b[0m in \u001b[0;36mtrain\u001b[0;34m(self, batch_size, epochs)\u001b[0m\n\u001b[1;32m    147\u001b[0m                                 \u001b[0mprint\u001b[0m\u001b[0;34m(\u001b[0m\u001b[0mlidar_tensor\u001b[0m\u001b[0;34m.\u001b[0m\u001b[0mshape\u001b[0m\u001b[0;34m)\u001b[0m\u001b[0;34m\u001b[0m\u001b[0;34m\u001b[0m\u001b[0m\n\u001b[1;32m    148\u001b[0m                                 \u001b[0;31m# self.kdtrees = self.__prepare_kdree(lidar_tensor)\u001b[0m\u001b[0;34m\u001b[0m\u001b[0;34m\u001b[0m\u001b[0;34m\u001b[0m\u001b[0m\n\u001b[0;32m--> 149\u001b[0;31m                                 \u001b[0mprint\u001b[0m\u001b[0;34m(\u001b[0m\u001b[0;34m'XXX'\u001b[0m\u001b[0;34m,\u001b[0m \u001b[0mself\u001b[0m\u001b[0;34m.\u001b[0m\u001b[0mkdtrees\u001b[0m\u001b[0;34m.\u001b[0m\u001b[0mshape\u001b[0m\u001b[0;34m)\u001b[0m\u001b[0;34m\u001b[0m\u001b[0;34m\u001b[0m\u001b[0m\n\u001b[0m\u001b[1;32m    150\u001b[0m                                 _, _, loss = sess.run([self.final_output, self.train_op, self.model_loss], \n\u001b[1;32m    151\u001b[0m                                                     feed_dict={self.train_inptus_rgb: camera_tensor,\n",
      "\u001b[0;31mAttributeError\u001b[0m: 'Model' object has no attribute 'kdtrees'"
     ]
    }
   ],
   "source": [
    "model.train()"
   ]
  },
  {
   "cell_type": "code",
   "execution_count": null,
   "metadata": {
    "collapsed": true
   },
   "outputs": [],
   "source": []
  },
  {
   "cell_type": "code",
   "execution_count": 19,
   "metadata": {
    "collapsed": true
   },
   "outputs": [],
   "source": [
    "temp = model.kdtrees"
   ]
  },
  {
   "cell_type": "code",
   "execution_count": null,
   "metadata": {
    "collapsed": true
   },
   "outputs": [],
   "source": []
  },
  {
   "cell_type": "code",
   "execution_count": null,
   "metadata": {
    "collapsed": true
   },
   "outputs": [],
   "source": []
  },
  {
   "cell_type": "code",
   "execution_count": 47,
   "metadata": {
    "collapsed": true
   },
   "outputs": [],
   "source": [
    "temp = temp.reshape((1, 512, 448, 32, 1, 3))"
   ]
  },
  {
   "cell_type": "code",
   "execution_count": 48,
   "metadata": {},
   "outputs": [
    {
     "data": {
      "text/plain": [
       "(1, 512, 448, 32, 1, 3)"
      ]
     },
     "execution_count": 48,
     "metadata": {},
     "output_type": "execute_result"
    }
   ],
   "source": [
    "temp.shape"
   ]
  },
  {
   "cell_type": "code",
   "execution_count": null,
   "metadata": {
    "collapsed": true
   },
   "outputs": [],
   "source": []
  },
  {
   "cell_type": "code",
   "execution_count": 20,
   "metadata": {
    "collapsed": true
   },
   "outputs": [],
   "source": [
    "lidar_size = (512, 448, 32)"
   ]
  },
  {
   "cell_type": "code",
   "execution_count": 60,
   "metadata": {
    "collapsed": true
   },
   "outputs": [],
   "source": [
    "points = np.where(lidar_data > 0)\n",
    "indx = np.array(list(map(lambda i: [points[0][i], points[1][i], points[2][i]], range(len(points[0])))))\n",
    "xb = indx.astype('float32')\n",
    "xq = np.array([(i, j, h) for i in range(lidar_size[0]) for j in range(lidar_size[1]) for h in range(lidar_size[2])]).astype('float32')"
   ]
  },
  {
   "cell_type": "code",
   "execution_count": 62,
   "metadata": {
    "collapsed": true
   },
   "outputs": [],
   "source": [
    "k=1"
   ]
  },
  {
   "cell_type": "code",
   "execution_count": 63,
   "metadata": {
    "collapsed": true
   },
   "outputs": [],
   "source": [
    "index = faiss.IndexFlatL2(3)   # build the index\n",
    "index.add(xb) \n",
    "\n",
    "D, I = index.search(xq, k) \n",
    "    "
   ]
  },
  {
   "cell_type": "code",
   "execution_count": 67,
   "metadata": {
    "collapsed": true
   },
   "outputs": [],
   "source": [
    "result = xq[I].reshape((-1, 3))\n",
    "result = np.array(list(map(lambda p: [p[0], p[1], p[2], 1], result)))\n",
    "\n",
    "result = result.reshape((lidar_size[0], lidar_size[1], lidar_size[2], k, 4))"
   ]
  },
  {
   "cell_type": "code",
   "execution_count": 68,
   "metadata": {},
   "outputs": [
    {
     "data": {
      "text/plain": [
       "(512, 448, 32, 1, 4)"
      ]
     },
     "execution_count": 68,
     "metadata": {},
     "output_type": "execute_result"
    }
   ],
   "source": [
    "result.shape"
   ]
  },
  {
   "cell_type": "code",
   "execution_count": null,
   "metadata": {
    "collapsed": true
   },
   "outputs": [],
   "source": []
  },
  {
   "cell_type": "code",
   "execution_count": 56,
   "metadata": {},
   "outputs": [
    {
     "ename": "IndexError",
     "evalue": "index 1 is out of bounds for axis 0 with size 1",
     "output_type": "error",
     "traceback": [
      "\u001b[0;31m---------------------------------------------------------------------------\u001b[0m",
      "\u001b[0;31mIndexError\u001b[0m                                Traceback (most recent call last)",
      "\u001b[0;32m<ipython-input-56-6b1bd218a28d>\u001b[0m in \u001b[0;36m<module>\u001b[0;34m()\u001b[0m\n\u001b[0;32m----> 1\u001b[0;31m \u001b[0mtemp\u001b[0m \u001b[0;34m=\u001b[0m \u001b[0mKNN\u001b[0m\u001b[0;34m(\u001b[0m\u001b[0mlidar_data\u001b[0m\u001b[0;34m)\u001b[0m\u001b[0;34m\u001b[0m\u001b[0;34m\u001b[0m\u001b[0m\n\u001b[0m",
      "\u001b[0;32m~/Desktop/Master/Code/src/kdtree.py\u001b[0m in \u001b[0;36mKNN\u001b[0;34m(lidar_data, lidar_size, k, distance)\u001b[0m\n\u001b[1;32m     18\u001b[0m         \u001b[0mresult\u001b[0m \u001b[0;34m=\u001b[0m \u001b[0mxq\u001b[0m\u001b[0;34m[\u001b[0m\u001b[0mI\u001b[0m\u001b[0;34m]\u001b[0m\u001b[0;34m\u001b[0m\u001b[0;34m\u001b[0m\u001b[0m\n\u001b[1;32m     19\u001b[0m \u001b[0;34m\u001b[0m\u001b[0m\n\u001b[0;32m---> 20\u001b[0;31m         \u001b[0mresult\u001b[0m \u001b[0;34m=\u001b[0m \u001b[0mnp\u001b[0m\u001b[0;34m.\u001b[0m\u001b[0marray\u001b[0m\u001b[0;34m(\u001b[0m\u001b[0mlist\u001b[0m\u001b[0;34m(\u001b[0m\u001b[0mmap\u001b[0m\u001b[0;34m(\u001b[0m\u001b[0;32mlambda\u001b[0m \u001b[0mp\u001b[0m\u001b[0;34m:\u001b[0m \u001b[0;34m[\u001b[0m\u001b[0mp\u001b[0m\u001b[0;34m[\u001b[0m\u001b[0;36m0\u001b[0m\u001b[0;34m]\u001b[0m\u001b[0;34m,\u001b[0m \u001b[0mp\u001b[0m\u001b[0;34m[\u001b[0m\u001b[0;36m1\u001b[0m\u001b[0;34m]\u001b[0m\u001b[0;34m,\u001b[0m \u001b[0mp\u001b[0m\u001b[0;34m[\u001b[0m\u001b[0;36m2\u001b[0m\u001b[0;34m]\u001b[0m\u001b[0;34m,\u001b[0m \u001b[0;36m1\u001b[0m\u001b[0;34m]\u001b[0m\u001b[0;34m,\u001b[0m \u001b[0mresult\u001b[0m\u001b[0;34m)\u001b[0m\u001b[0;34m)\u001b[0m\u001b[0;34m)\u001b[0m\u001b[0;34m\u001b[0m\u001b[0;34m\u001b[0m\u001b[0m\n\u001b[0m\u001b[1;32m     21\u001b[0m \u001b[0;34m\u001b[0m\u001b[0m\n\u001b[1;32m     22\u001b[0m         \u001b[0mresult\u001b[0m \u001b[0;34m=\u001b[0m \u001b[0mresult\u001b[0m\u001b[0;34m.\u001b[0m\u001b[0mreshape\u001b[0m\u001b[0;34m(\u001b[0m\u001b[0;34m(\u001b[0m\u001b[0mlidar_size\u001b[0m\u001b[0;34m[\u001b[0m\u001b[0;36m0\u001b[0m\u001b[0;34m]\u001b[0m\u001b[0;34m,\u001b[0m \u001b[0mlidar_size\u001b[0m\u001b[0;34m[\u001b[0m\u001b[0;36m1\u001b[0m\u001b[0;34m]\u001b[0m\u001b[0;34m,\u001b[0m \u001b[0mlidar_size\u001b[0m\u001b[0;34m[\u001b[0m\u001b[0;36m2\u001b[0m\u001b[0;34m]\u001b[0m\u001b[0;34m,\u001b[0m \u001b[0mk\u001b[0m\u001b[0;34m,\u001b[0m \u001b[0;36m4\u001b[0m\u001b[0;34m)\u001b[0m\u001b[0;34m)\u001b[0m\u001b[0;34m\u001b[0m\u001b[0;34m\u001b[0m\u001b[0m\n",
      "\u001b[0;32m~/Desktop/Master/Code/src/kdtree.py\u001b[0m in \u001b[0;36m<lambda>\u001b[0;34m(p)\u001b[0m\n\u001b[1;32m     18\u001b[0m         \u001b[0mresult\u001b[0m \u001b[0;34m=\u001b[0m \u001b[0mxq\u001b[0m\u001b[0;34m[\u001b[0m\u001b[0mI\u001b[0m\u001b[0;34m]\u001b[0m\u001b[0;34m\u001b[0m\u001b[0;34m\u001b[0m\u001b[0m\n\u001b[1;32m     19\u001b[0m \u001b[0;34m\u001b[0m\u001b[0m\n\u001b[0;32m---> 20\u001b[0;31m         \u001b[0mresult\u001b[0m \u001b[0;34m=\u001b[0m \u001b[0mnp\u001b[0m\u001b[0;34m.\u001b[0m\u001b[0marray\u001b[0m\u001b[0;34m(\u001b[0m\u001b[0mlist\u001b[0m\u001b[0;34m(\u001b[0m\u001b[0mmap\u001b[0m\u001b[0;34m(\u001b[0m\u001b[0;32mlambda\u001b[0m \u001b[0mp\u001b[0m\u001b[0;34m:\u001b[0m \u001b[0;34m[\u001b[0m\u001b[0mp\u001b[0m\u001b[0;34m[\u001b[0m\u001b[0;36m0\u001b[0m\u001b[0;34m]\u001b[0m\u001b[0;34m,\u001b[0m \u001b[0mp\u001b[0m\u001b[0;34m[\u001b[0m\u001b[0;36m1\u001b[0m\u001b[0;34m]\u001b[0m\u001b[0;34m,\u001b[0m \u001b[0mp\u001b[0m\u001b[0;34m[\u001b[0m\u001b[0;36m2\u001b[0m\u001b[0;34m]\u001b[0m\u001b[0;34m,\u001b[0m \u001b[0;36m1\u001b[0m\u001b[0;34m]\u001b[0m\u001b[0;34m,\u001b[0m \u001b[0mresult\u001b[0m\u001b[0;34m)\u001b[0m\u001b[0;34m)\u001b[0m\u001b[0;34m)\u001b[0m\u001b[0;34m\u001b[0m\u001b[0;34m\u001b[0m\u001b[0m\n\u001b[0m\u001b[1;32m     21\u001b[0m \u001b[0;34m\u001b[0m\u001b[0m\n\u001b[1;32m     22\u001b[0m         \u001b[0mresult\u001b[0m \u001b[0;34m=\u001b[0m \u001b[0mresult\u001b[0m\u001b[0;34m.\u001b[0m\u001b[0mreshape\u001b[0m\u001b[0;34m(\u001b[0m\u001b[0;34m(\u001b[0m\u001b[0mlidar_size\u001b[0m\u001b[0;34m[\u001b[0m\u001b[0;36m0\u001b[0m\u001b[0;34m]\u001b[0m\u001b[0;34m,\u001b[0m \u001b[0mlidar_size\u001b[0m\u001b[0;34m[\u001b[0m\u001b[0;36m1\u001b[0m\u001b[0;34m]\u001b[0m\u001b[0;34m,\u001b[0m \u001b[0mlidar_size\u001b[0m\u001b[0;34m[\u001b[0m\u001b[0;36m2\u001b[0m\u001b[0;34m]\u001b[0m\u001b[0;34m,\u001b[0m \u001b[0mk\u001b[0m\u001b[0;34m,\u001b[0m \u001b[0;36m4\u001b[0m\u001b[0;34m)\u001b[0m\u001b[0;34m)\u001b[0m\u001b[0;34m\u001b[0m\u001b[0;34m\u001b[0m\u001b[0m\n",
      "\u001b[0;31mIndexError\u001b[0m: index 1 is out of bounds for axis 0 with size 1"
     ]
    }
   ],
   "source": [
    "temp = KNN(lidar_data)"
   ]
  },
  {
   "cell_type": "code",
   "execution_count": null,
   "metadata": {
    "collapsed": true
   },
   "outputs": [],
   "source": []
  },
  {
   "cell_type": "code",
   "execution_count": null,
   "metadata": {
    "collapsed": true
   },
   "outputs": [],
   "source": []
  },
  {
   "cell_type": "code",
   "execution_count": 20,
   "metadata": {},
   "outputs": [
    {
     "data": {
      "text/plain": [
       "(512, 448, 32)"
      ]
     },
     "execution_count": 20,
     "metadata": {},
     "output_type": "execute_result"
    }
   ],
   "source": [
    "lidar_data.shape"
   ]
  },
  {
   "cell_type": "code",
   "execution_count": 17,
   "metadata": {
    "collapsed": true
   },
   "outputs": [],
   "source": [
    "points = np.where(lidar_data > 0)\n",
    "indx = np.array(list(map(lambda i: [points[0][i], points[1][i], points[2][i]], range(len(points[0])))))"
   ]
  },
  {
   "cell_type": "code",
   "execution_count": 19,
   "metadata": {},
   "outputs": [
    {
     "data": {
      "text/plain": [
       "(25622, 3)"
      ]
     },
     "execution_count": 19,
     "metadata": {},
     "output_type": "execute_result"
    }
   ],
   "source": [
    "indx.shape"
   ]
  },
  {
   "cell_type": "code",
   "execution_count": null,
   "metadata": {
    "collapsed": true
   },
   "outputs": [],
   "source": []
  },
  {
   "cell_type": "code",
   "execution_count": null,
   "metadata": {
    "collapsed": true
   },
   "outputs": [],
   "source": []
  },
  {
   "cell_type": "code",
   "execution_count": null,
   "metadata": {
    "collapsed": true
   },
   "outputs": [],
   "source": []
  },
  {
   "cell_type": "code",
   "execution_count": null,
   "metadata": {
    "collapsed": true
   },
   "outputs": [],
   "source": []
  },
  {
   "cell_type": "code",
   "execution_count": 25,
   "metadata": {
    "collapsed": true
   },
   "outputs": [],
   "source": [
    "d = 3                          # dimension\n",
    "nb = 25622                      # database size\n",
    "nq = 512 * 448 * 32                       # nb of queries\n",
    "np.random.seed(1234)             # make reproducible\n",
    "xb = indx.astype('float32')\n",
    "xq = np.array([(i, j, k) for i in range(512) for j in range(448) for k in range(32)]).astype('float32')"
   ]
  },
  {
   "cell_type": "code",
   "execution_count": 26,
   "metadata": {},
   "outputs": [
    {
     "data": {
      "text/plain": [
       "(7340032, 3)"
      ]
     },
     "execution_count": 26,
     "metadata": {},
     "output_type": "execute_result"
    }
   ],
   "source": [
    "xq.shape"
   ]
  },
  {
   "cell_type": "code",
   "execution_count": 27,
   "metadata": {
    "collapsed": true
   },
   "outputs": [],
   "source": [
    "index = faiss.IndexFlatL2(d)   # build the index\n",
    "index.add(xb) "
   ]
  },
  {
   "cell_type": "code",
   "execution_count": 83,
   "metadata": {},
   "outputs": [
    {
     "name": "stdout",
     "output_type": "stream",
     "text": [
      "CPU times: user 15min 38s, sys: 25.8 s, total: 16min 4s\n",
      "Wall time: 2min 9s\n"
     ]
    }
   ],
   "source": [
    "%%time\n",
    "D, I = index.search(xq, 1) "
   ]
  },
  {
   "cell_type": "code",
   "execution_count": 84,
   "metadata": {},
   "outputs": [
    {
     "data": {
      "text/plain": [
       "(7340032, 1)"
      ]
     },
     "execution_count": 84,
     "metadata": {},
     "output_type": "execute_result"
    }
   ],
   "source": [
    "I.shape"
   ]
  },
  {
   "cell_type": "code",
   "execution_count": 85,
   "metadata": {},
   "outputs": [
    {
     "data": {
      "text/plain": [
       "(7340032, 3)"
      ]
     },
     "execution_count": 85,
     "metadata": {},
     "output_type": "execute_result"
    }
   ],
   "source": [
    "xq.shape"
   ]
  },
  {
   "cell_type": "code",
   "execution_count": 86,
   "metadata": {},
   "outputs": [
    {
     "data": {
      "text/plain": [
       "array([[3],\n",
       "       [3],\n",
       "       [0],\n",
       "       [0],\n",
       "       [0],\n",
       "       [0],\n",
       "       [0],\n",
       "       [0],\n",
       "       [0],\n",
       "       [0]])"
      ]
     },
     "execution_count": 86,
     "metadata": {},
     "output_type": "execute_result"
    }
   ],
   "source": [
    "I[:10]"
   ]
  },
  {
   "cell_type": "code",
   "execution_count": 87,
   "metadata": {},
   "outputs": [
    {
     "data": {
      "text/plain": [
       "(7340032, 1, 3)"
      ]
     },
     "execution_count": 87,
     "metadata": {},
     "output_type": "execute_result"
    }
   ],
   "source": [
    "xq[I].shape"
   ]
  },
  {
   "cell_type": "code",
   "execution_count": 88,
   "metadata": {},
   "outputs": [
    {
     "data": {
      "text/plain": [
       "array([[ 0., 72., 26.],\n",
       "       [ 0., 73., 28.],\n",
       "       [ 0., 74., 26.],\n",
       "       [ 0., 76.,  2.],\n",
       "       [ 0., 76.,  6.],\n",
       "       [ 0., 76., 10.],\n",
       "       [ 0., 77., 25.],\n",
       "       [ 0., 78.,  8.],\n",
       "       [ 0., 78., 13.],\n",
       "       [ 0., 78., 15.]], dtype=float32)"
      ]
     },
     "execution_count": 88,
     "metadata": {},
     "output_type": "execute_result"
    }
   ],
   "source": [
    "xb[:10]"
   ]
  },
  {
   "cell_type": "code",
   "execution_count": 91,
   "metadata": {},
   "outputs": [
    {
     "data": {
      "text/plain": [
       "(512, 448, 32, 3)"
      ]
     },
     "execution_count": 91,
     "metadata": {},
     "output_type": "execute_result"
    }
   ],
   "source": [
    "xq[I].reshape((512, 448, 32, 3)).shape"
   ]
  },
  {
   "cell_type": "code",
   "execution_count": 93,
   "metadata": {},
   "outputs": [
    {
     "data": {
      "text/plain": [
       "array([[[[ 0.,  0.,  3.],\n",
       "         [ 0.,  0.,  3.],\n",
       "         [ 0.,  0.,  0.],\n",
       "         ...,\n",
       "         [ 0.,  0.,  0.],\n",
       "         [ 0.,  0.,  0.],\n",
       "         [ 0.,  0.,  0.]],\n",
       "\n",
       "        [[ 0.,  0.,  3.],\n",
       "         [ 0.,  0.,  3.],\n",
       "         [ 0.,  0.,  0.],\n",
       "         ...,\n",
       "         [ 0.,  0.,  0.],\n",
       "         [ 0.,  0.,  0.],\n",
       "         [ 0.,  0.,  0.]],\n",
       "\n",
       "        [[ 0.,  0.,  3.],\n",
       "         [ 0.,  0.,  3.],\n",
       "         [ 0.,  0.,  0.],\n",
       "         ...,\n",
       "         [ 0.,  0.,  0.],\n",
       "         [ 0.,  0.,  0.],\n",
       "         [ 0.,  0.,  0.]],\n",
       "\n",
       "        ...,\n",
       "\n",
       "        [[ 0.,  5., 28.],\n",
       "         [ 0.,  5., 28.],\n",
       "         [ 0.,  5., 28.],\n",
       "         ...,\n",
       "         [ 0.,  5., 28.],\n",
       "         [ 0.,  5., 28.],\n",
       "         [ 0.,  5., 28.]],\n",
       "\n",
       "        [[ 0.,  5., 28.],\n",
       "         [ 0.,  5., 28.],\n",
       "         [ 0.,  5., 28.],\n",
       "         ...,\n",
       "         [ 0.,  5., 28.],\n",
       "         [ 0.,  5., 28.],\n",
       "         [ 0.,  5., 28.]],\n",
       "\n",
       "        [[ 0.,  5., 28.],\n",
       "         [ 0.,  5., 28.],\n",
       "         [ 0.,  5., 28.],\n",
       "         ...,\n",
       "         [ 0.,  5., 28.],\n",
       "         [ 0.,  5., 28.],\n",
       "         [ 0.,  5., 28.]]]], dtype=float32)"
      ]
     },
     "execution_count": 93,
     "metadata": {},
     "output_type": "execute_result"
    }
   ],
   "source": [
    "xq[I].reshape((512, 448, 32, 3))[:1]"
   ]
  },
  {
   "cell_type": "code",
   "execution_count": null,
   "metadata": {
    "collapsed": true
   },
   "outputs": [],
   "source": []
  },
  {
   "cell_type": "code",
   "execution_count": null,
   "metadata": {
    "collapsed": true
   },
   "outputs": [],
   "source": []
  },
  {
   "cell_type": "code",
   "execution_count": null,
   "metadata": {
    "collapsed": true
   },
   "outputs": [],
   "source": []
  },
  {
   "cell_type": "code",
   "execution_count": 58,
   "metadata": {},
   "outputs": [
    {
     "data": {
      "text/plain": [
       "7.340032"
      ]
     },
     "execution_count": 58,
     "metadata": {},
     "output_type": "execute_result"
    }
   ],
   "source": [
    "xq.shape[0] / 1000000"
   ]
  },
  {
   "cell_type": "code",
   "execution_count": 56,
   "metadata": {},
   "outputs": [
    {
     "data": {
      "text/plain": [
       "array([[5780., 5812., 5860.],\n",
       "       [5777., 5801., 5809.],\n",
       "       [5760., 5776., 5792.],\n",
       "       [5713., 5777., 5785.],\n",
       "       [5668., 5780., 5780.],\n",
       "       [5625., 5777., 5785.],\n",
       "       [5584., 5776., 5792.],\n",
       "       [5545., 5770., 5777.],\n",
       "       [5508., 5729., 5780.],\n",
       "       [5473., 5690., 5765.]], dtype=float32)"
      ]
     },
     "execution_count": 56,
     "metadata": {},
     "output_type": "execute_result"
    }
   ],
   "source": [
    "D[:10]"
   ]
  },
  {
   "cell_type": "code",
   "execution_count": 57,
   "metadata": {},
   "outputs": [
    {
     "data": {
      "text/plain": [
       "array([[3, 4, 0],\n",
       "       [3, 4, 0],\n",
       "       [0, 3, 4],\n",
       "       [0, 3, 4],\n",
       "       [0, 4, 3],\n",
       "       [0, 4, 3],\n",
       "       [0, 4, 3],\n",
       "       [0, 1, 4],\n",
       "       [0, 1, 4],\n",
       "       [0, 1, 2]])"
      ]
     },
     "execution_count": 57,
     "metadata": {},
     "output_type": "execute_result"
    }
   ],
   "source": [
    "I[:10]"
   ]
  },
  {
   "cell_type": "code",
   "execution_count": null,
   "metadata": {
    "collapsed": true
   },
   "outputs": [],
   "source": []
  },
  {
   "cell_type": "code",
   "execution_count": null,
   "metadata": {
    "collapsed": true
   },
   "outputs": [],
   "source": []
  },
  {
   "cell_type": "code",
   "execution_count": 14,
   "metadata": {
    "collapsed": true
   },
   "outputs": [],
   "source": [
    "points = np.where(lidar_data > 0)\n",
    "indx = np.array(list(map(lambda i: [points[0][i], points[1][i], points[2][i]], range(len(points[0])))))\n",
    "kd = KNN(indx)"
   ]
  },
  {
   "cell_type": "code",
   "execution_count": 15,
   "metadata": {
    "collapsed": true
   },
   "outputs": [],
   "source": [
    "dist, ind = kd.tree.query([100, 100, 3], 3)"
   ]
  },
  {
   "cell_type": "code",
   "execution_count": 17,
   "metadata": {},
   "outputs": [
    {
     "data": {
      "text/plain": [
       "array([405, 371, 366])"
      ]
     },
     "execution_count": 17,
     "metadata": {},
     "output_type": "execute_result"
    }
   ],
   "source": [
    "ind"
   ]
  },
  {
   "cell_type": "code",
   "execution_count": 28,
   "metadata": {},
   "outputs": [
    {
     "name": "stdout",
     "output_type": "stream",
     "text": [
      "2019-05-27 00:39:39.116507\n",
      "2019-05-27 00:44:27.845775\n"
     ]
    }
   ],
   "source": [
    "def helper_kdree(curent_tree, current_kdtree_indx, start_indx, end_indx):\n",
    "        for i in range(start_indx, end_indx, 1):\n",
    "            for j in range(448):\n",
    "                for h in range(32):\n",
    "                    current_points = current_tree.get_k_nearest_neighbors([i, j, h])\n",
    "                    current_points = list(map(lambda p: np.append(p , 1), current_points))\n",
    "                    current_kdtree_indx[i, j, h, :, :] = current_points\n",
    "        return current_kdtree_indx\n",
    "\n",
    "def prepare_kdree(lidar_data):\n",
    "\n",
    "        points = np.where(lidar_data > 0)\n",
    "        indx = np.array(list(map(lambda i: [points[0][i], points[1][i], points[2][i]], range(len(points[0])))))\n",
    "        current_tree = KNN(indx)\n",
    "        current_kdtree_indx = np.zeros((512, 448, 32, 1, 4))\n",
    "\n",
    "        print(datetime.datetime.now())\n",
    "        with Pool(processes=4) as pool:\n",
    "#             results = pool.starmap(helper_kdree, \n",
    "#                                 [[current_tree, current_kdtree_indx, 0, 128],\n",
    "#                                 [current_tree, current_kdtree_indx, 128, 256],\n",
    "#                                 [current_tree, current_kdtree_indx, 256, 384],\n",
    "#                                 [current_tree, current_kdtree_indx, 384, 512]])\n",
    "            results = pool.starmap(helper_kdree, \n",
    "                                [[current_tree, current_kdtree_indx, 0, 60]])\n",
    "        print(datetime.datetime.now())\n",
    "        \n",
    "prepare_kdree(lidar_data)"
   ]
  },
  {
   "cell_type": "code",
   "execution_count": null,
   "metadata": {
    "collapsed": true
   },
   "outputs": [],
   "source": []
  },
  {
   "cell_type": "code",
   "execution_count": null,
   "metadata": {
    "collapsed": true
   },
   "outputs": [],
   "source": []
  },
  {
   "cell_type": "code",
   "execution_count": 104,
   "metadata": {
    "collapsed": true
   },
   "outputs": [],
   "source": [
    "iterator = make_dataset()"
   ]
  },
  {
   "cell_type": "code",
   "execution_count": 119,
   "metadata": {},
   "outputs": [
    {
     "name": "stdout",
     "output_type": "stream",
     "text": [
      "(4, 370, 1224, 3)\n",
      "(4, 512, 448, 32)\n",
      "(4, 128, 112, 2, 9)\n",
      "(4, 3, 4)\n",
      "(4, 3, 3)\n",
      "(4, 3, 4)\n"
     ]
    }
   ],
   "source": [
    "with tf.Session() as sess:\n",
    "    temp = sess.run(iterator)\n",
    "    print(temp[0].shape)\n",
    "    print(temp[1].shape)\n",
    "    print(temp[2].shape)\n",
    "    print(temp[3].shape)\n",
    "    print(temp[4].shape)\n",
    "    print(temp[5].shape)"
   ]
  },
  {
   "cell_type": "code",
   "execution_count": null,
   "metadata": {
    "collapsed": true
   },
   "outputs": [],
   "source": []
  },
  {
   "cell_type": "code",
   "execution_count": 57,
   "metadata": {},
   "outputs": [
    {
     "data": {
      "text/plain": [
       "(<tf.Tensor 'IteratorGetNext_3:0' shape=<unknown> dtype=float32>,\n",
       " <tf.Tensor 'IteratorGetNext_3:1' shape=<unknown> dtype=float32>,\n",
       " <tf.Tensor 'IteratorGetNext_3:2' shape=<unknown> dtype=float32>)"
      ]
     },
     "execution_count": 57,
     "metadata": {},
     "output_type": "execute_result"
    }
   ],
   "source": [
    "temp"
   ]
  },
  {
   "cell_type": "code",
   "execution_count": null,
   "metadata": {
    "collapsed": true
   },
   "outputs": [],
   "source": []
  },
  {
   "cell_type": "code",
   "execution_count": 36,
   "metadata": {},
   "outputs": [
    {
     "data": {
      "text/plain": [
       "(array([  0,   0,   0, 124, 124, 124, 124, 124, 124, 124, 124, 124, 124]),\n",
       " array([10, 10, 10, 13, 13, 13, 13, 13, 15, 15, 15, 15, 15]),\n",
       " array([1, 1, 1, 0, 0, 0, 0, 0, 0, 0, 0, 0, 0]),\n",
       " array([0, 7, 8, 0, 3, 6, 7, 8, 0, 3, 6, 7, 8]))"
      ]
     },
     "execution_count": 36,
     "metadata": {},
     "output_type": "execute_result"
    }
   ],
   "source": [
    "np.where(label > 0)"
   ]
  },
  {
   "cell_type": "code",
   "execution_count": 212,
   "metadata": {},
   "outputs": [
    {
     "data": {
      "image/png": "[encoded data removed]",
      "text/plain": [
       "<Figure size 432x288 with 1 Axes>"
      ]
     },
     "metadata": {},
     "output_type": "display_data"
    }
   ],
   "source": [
    "fig,ax = plt.subplots(1)\n",
    "\n",
    "# Display the image\n",
    "ax.imshow(img)\n",
    "\n",
    "# Create a Rectangle patch\n",
    "rect = patches.Rectangle((785, 2306.5),40,30,linewidth=1,edgecolor='r',facecolor='none')\n",
    "\n",
    "# Add the patch to the Axes\n",
    "ax.add_patch(rect)\n",
    "\n",
    "plt.show()\n"
   ]
  },
  {
   "cell_type": "code",
   "execution_count": 217,
   "metadata": {},
   "outputs": [
    {
     "data": {
      "text/plain": [
       "array([[ 2.47,  0.69, 43.65]])"
      ]
     },
     "execution_count": 217,
     "metadata": {},
     "output_type": "execute_result"
    }
   ],
   "source": [
    "# label[0][0].reshape((-1, 3))"
   ]
  },
  {
   "cell_type": "code",
   "execution_count": 38,
   "metadata": {},
   "outputs": [
    {
     "data": {
      "text/plain": [
       "1.0"
      ]
     },
     "execution_count": 38,
     "metadata": {},
     "output_type": "execute_result"
    }
   ],
   "source": [
    "np.max(lidar_data)"
   ]
  },
  {
   "cell_type": "code",
   "execution_count": 209,
   "metadata": {
    "collapsed": true
   },
   "outputs": [],
   "source": [
    "def in_range_points2(points, x, y, z, x_range, y_range, z_range):\n",
    "    \"\"\" \n",
    "    This function is imported from https://github.com/windowsub0406/KITTI_Tutorial/blob/master/Convert_Velo_2_Topview_detail.ipynb\n",
    "    extract in-range points \n",
    "    \"\"\"\n",
    "    return points[np.logical_and.reduce((x > x_range[0], x < x_range[1], y > y_range[0], \\\n",
    "                                         y < y_range[1], z > z_range[0], z < z_range[1]))]\n",
    "\n",
    "\n",
    "def velo_points_bev2(points, x_range=(0, 70), y_range=(-40, 40), z_range=(-2.5, 1), size=(512, 448, 32)):\n",
    "    \"\"\"\n",
    "    # TODO :  8-neighbor interpolation\n",
    "    \"\"\"\n",
    "#     points = np.fromfile(lidar_path, dtype=np.float32).reshape(-1, 4)\n",
    "    x = points[:, 0]\n",
    "    y = points[:, 1]\n",
    "    z = points[:, 2]\n",
    "\n",
    "    x_lim = in_range_points2(x, x, y, z, x_range, y_range, z_range)\n",
    "    y_lim = in_range_points2(y, x, y, z, x_range, y_range, z_range)\n",
    "    z_lim = in_range_points2(z, x, y, z, x_range, y_range, z_range)\n",
    "\n",
    "    x_size = (x_range[1] - x_range[0])\n",
    "    y_size = (y_range[1] - y_range[0])\n",
    "    z_size = (z_range[1] - z_range[0])\n",
    "        \n",
    "    x_fac = (size[0]-1) / x_size\n",
    "    y_fac = (size[1]-1) / y_size\n",
    "    z_fac = (size[2]-1) / z_size\n",
    "    \n",
    "    if x_range[0] < 0:\n",
    "        x_lim = x_lim + -1*x_range[0]\n",
    "    if y_range[0] < 0:\n",
    "        y_lim = y_lim + -1*y_range[0]\n",
    "    if z_range[0] < 0:\n",
    "        z_lim = z_lim + -1*z_range[0]\n",
    "        \n",
    "    x_lim = -1 * (x_lim * x_fac).astype(np.int32)\n",
    "    y_lim = -1 * (y_lim * y_fac).astype(np.int32)\n",
    "    z_lim = -1 * (z_lim * z_fac).astype(np.int32)\n",
    "    \n",
    "    img = np.zeros([size[0], size[1], size[2]], dtype=np.uint8)\n",
    "    # occupancy grid\n",
    "    img[x_lim, y_lim, z_lim] = 255\n",
    "    return img"
   ]
  },
  {
   "cell_type": "code",
   "execution_count": 221,
   "metadata": {
    "collapsed": true
   },
   "outputs": [],
   "source": [
    "temp2 = velo_points_bev2(np.array([[ 43.65, 2.47,  0.69]]))"
   ]
  },
  {
   "cell_type": "code",
   "execution_count": 222,
   "metadata": {},
   "outputs": [
    {
     "data": {
      "text/plain": [
       "255"
      ]
     },
     "execution_count": 222,
     "metadata": {},
     "output_type": "execute_result"
    }
   ],
   "source": [
    "np.max(temp2)"
   ]
  },
  {
   "cell_type": "code",
   "execution_count": 227,
   "metadata": {},
   "outputs": [
    {
     "data": {
      "text/plain": [
       "(array([194]), array([211]), array([15]))"
      ]
     },
     "execution_count": 227,
     "metadata": {},
     "output_type": "execute_result"
    }
   ],
   "source": [
    "np.where(temp2==255)"
   ]
  },
  {
   "cell_type": "code",
   "execution_count": 224,
   "metadata": {},
   "outputs": [
    {
     "data": {
      "text/plain": [
       "(512, 448, 32)"
      ]
     },
     "execution_count": 224,
     "metadata": {},
     "output_type": "execute_result"
    }
   ],
   "source": [
    "temp2.shape"
   ]
  },
  {
   "cell_type": "code",
   "execution_count": 228,
   "metadata": {},
   "outputs": [
    {
     "name": "stdout",
     "output_type": "stream",
     "text": [
      "(512, 448, 32)\n",
      "(512, 448)\n"
     ]
    },
    {
     "data": {
      "text/plain": [
       "<matplotlib.image.AxesImage at 0x1c2d58ab70>"
      ]
     },
     "execution_count": 228,
     "metadata": {},
     "output_type": "execute_result"
    },
    {
     "data": {
      "image/png": "[encoded data removed]",
      "text/plain": [
       "<Figure size 720x720 with 1 Axes>"
      ]
     },
     "metadata": {},
     "output_type": "display_data"
    }
   ],
   "source": [
    "print(lidar_data.shape)\n",
    "plt.figure(figsize=(10, 10))\n",
    "temp = np.max(temp2, 2)\n",
    "print(temp.shape)\n",
    "plt.imshow(temp)"
   ]
  },
  {
   "cell_type": "code",
   "execution_count": null,
   "metadata": {
    "collapsed": true
   },
   "outputs": [],
   "source": []
  },
  {
   "cell_type": "code",
   "execution_count": 193,
   "metadata": {},
   "outputs": [
    {
     "name": "stdout",
     "output_type": "stream",
     "text": [
      "bb3d xpnd cam2 image [-3.33952435e+03 -4.58860036e+03 -3.38192955e+00]\n",
      "bb3d xpnd cam2 image [9.87461240e+02 1.35679951e+03 1.00000000e+00]\n",
      "bb3d xpnd cam2 image [ 4.20413720e+02 -6.57127686e+03  2.67224737e+00]\n",
      "bb3d xpnd cam2 image [ 1.57325899e+02 -2.45908254e+03  1.00000000e+00]\n",
      "bb3d xpnd cam2 image [-4.36291405e+03 -4.36602623e+04 -3.49607011e+00]\n",
      "bb3d xpnd cam2 image [1.24794810e+03 1.24883829e+04 1.00000000e+00]\n",
      "bb3d xpnd cam2 image [-3.36425636e+01 -2.50827507e+04  2.52006130e+00]\n",
      "bb3d xpnd cam2 image [-1.33498989e+01 -9.95323040e+03  1.00000000e+00]\n",
      "bb3d xpnd cam2 image [112854.40490061 531521.45773951  -1010.79044385]\n",
      "bb3d xpnd cam2 image [-111.64965556 -525.84733163    1.        ]\n",
      "bb3d xpnd cam2 image [112854.40490061 531521.45773951  -1010.79044385]\n",
      "bb3d xpnd cam2 image [-111.64965556 -525.84733163    1.        ]\n",
      "bb3d [[   -3.17     1.77     5.46]\n",
      " [    2.84     1.63     9.72]\n",
      " [   -3.85     2.52    59.59]\n",
      " [    2.42     1.86    35.34]\n",
      " [-1000.   -1000.   -1000.  ]\n",
      " [-1000.   -1000.   -1000.  ]]\n",
      "bb2d [[212.37  187.   ]\n",
      " [843.485 252.94 ]\n",
      " [563.215 194.175]\n",
      " [661.325 191.33 ]\n",
      " [606.455 189.63 ]\n",
      " [535.625 194.31 ]]\n"
     ]
    },
    {
     "data": {
      "image/png": "[encoded data removed]",
      "text/plain": [
       "<Figure size 576x288 with 3 Axes>"
      ]
     },
     "metadata": {},
     "output_type": "display_data"
    }
   ],
   "source": [
    "\"\"\"\n",
    "Created on Sat Mar 24 12:38:17 2018\n",
    "The KITTI is one of the well known benchmarks for 3D Object detection. Working \n",
    "on this dataset requires some understanding of what the different files and their\n",
    "contnts are. In this piece we use  4 different types of files used from the \n",
    "KITTI 3D Objection Detection dataset as follows to do some basic manipulation \n",
    "and sanity checks to get basic underdstanding. \n",
    " camera2 image (.png), \n",
    " camera2 label label (.txt),\n",
    " calibration (.txt), \n",
    " velodyne point cloud (.bin),\n",
    "Codes to project 3D data from  camera co-ordinate and velodyne coordinate to  \n",
    "camera image.  The goal is to see if the  data along with appropriate geometry \n",
    "matrices are handled correctly.  2 different types of images are generated - \n",
    "camera2 image and bird's eye view of point cloud.  \n",
    "@author: sg\n",
    "Refs :\n",
    "  1. Vision meets Robotics: The KITTI Dataset - http://www.cvlibs.net/publications/Geiger2013IJRR.pdf\n",
    "  2. 3D Object Detection Evaluation 2017 - http://www.cvlibs.net/datasets/kitti/eval_object.php?obj_benchmark=3d\n",
    "  3. Download left color images of object data set (12 GB) - http://www.cvlibs.net/download.php?file=data_object_image_2.zip\n",
    "  4. Download Velodyne point clouds, if you want to use laser information (29 GB) - http://www.cvlibs.net/download.php?file=data_object_velodyne.zip\n",
    "  5. Download camera calibration matrices of object data set (16 MB) - http://www.cvlibs.net/download.php?file=data_object_calib.zip\n",
    "  6. Download training labels of object data set (5 MB) - http://www.cvlibs.net/download.php?file=data_object_label_2.zip\n",
    "  7. Download object development kit (1 MB) (including 3D object detection and bird's eye view evaluation code) - http://kitti.is.tue.mpg.de/kitti/devkit_object.zip\n",
    "  \n",
    "\"\"\"\n",
    "\n",
    "import os\n",
    "import os.path\n",
    "import matplotlib.pyplot as plt\n",
    "import matplotlib.patches as patches\n",
    "from   matplotlib.path import Path\n",
    "from matplotlib import colors\n",
    "import numpy as np\n",
    "from PIL import Image\n",
    "from math import sin, cos\n",
    "import argparse\n",
    "\n",
    "\n",
    "basedir = 'C:/data/kitti/data_small/training' # windows\n",
    "basedir = '../data.2/object/training' # *nix\n",
    "basedir = 'data' # *nix\n",
    "left_cam_rgb= 'image_2'\n",
    "label = 'label_2'\n",
    "velodyne = 'velodyne'\n",
    "calib = 'calib'\n",
    "\n",
    "\n",
    "def loadKittiFiles (frame) :\n",
    "  '''\n",
    "  Load KITTI image (.png), calibration (.txt), velodyne (.bin), and label (.txt),  files\n",
    "  corresponding to a shot.\n",
    "  Args:\n",
    "    frame :  name of the shot , which will be appended to externsions to load\n",
    "                the appropriate file.\n",
    "  '''\n",
    "  # load image file \n",
    "  fn = '/Volumes/My Passport/Kitti_data/data_object_image_3/training/image_3/' + frame+'.png'\n",
    "#   fn = os.path.join(basedir, left_cam_rgb, frame+'.png')\n",
    "  left_cam = Image.open(fn).convert ('RGB')\n",
    "  \n",
    "  # load velodyne file \n",
    "  fn = '/Volumes/My Passport/Kitti_data/data_object_velodyne/training/velodyne/' + frame+'.bin'\n",
    "#   fn = os.path.join(basedir, velodyne, frame+'.bin')\n",
    "  velo = np.fromfile(fn, dtype=np.float32).reshape(-1, 4)\n",
    "  \n",
    "  # load calibration file\n",
    "  fn = '/Volumes/My Passport/Kitti_data/data_object_calib/training/calib/' + frame+'.txt'\n",
    "#   fn = os.path.join(basedir, calib, frame+'.txt')\n",
    "  calib_data = {}\n",
    "  with open (fn, 'r') as f :\n",
    "    for line in f.readlines():\n",
    "      if ':' in line :\n",
    "        key, value = line.split(':', 1)\n",
    "        calib_data[key] = np.array([float(x) for x in value.split()])\n",
    "  \n",
    "  # load label file\n",
    "  fn = '/Volumes/My Passport/Kitti_data/training/label_2/' + frame+'.txt'\n",
    "#   fn = os.path.join(basedir, label, frame+'.txt')\n",
    "  label_data = {}\n",
    "  with open (fn, 'r') as f :\n",
    "    for line in f.readlines():\n",
    "      if len(line) > 3:\n",
    "        key, value = line.split(' ', 1)\n",
    "        #print ('key', key, 'value', value)\n",
    "        if key in label_data.keys() :\n",
    "          label_data[key].append([float(x) for x in value.split()] )\n",
    "        else:\n",
    "          label_data[key] =[[float(x) for x in value.split()]]\n",
    "\n",
    "  for key in label_data.keys():\n",
    "    label_data[key] = np.array( label_data[key])\n",
    "    \n",
    "  return left_cam, velo, label_data, calib_data\n",
    "\n",
    "\n",
    "\n",
    "def computeBox3D(label, P):\n",
    "  '''\n",
    "  takes an object label and a projection matrix (P) and projects the 3D\n",
    "  bounding box into the image plane.\n",
    "  \n",
    "  (Adapted from devkit_object/matlab/computeBox3D.m)\n",
    "  \n",
    "  Args:\n",
    "    label -  object label list or array\n",
    "  '''\n",
    "  w = label[7]\n",
    "  h = label[8]\n",
    "  l = label[9]\n",
    "  x = label[10]\n",
    "  y = label[11]\n",
    "  z = label[12]\n",
    "  ry = label[13]\n",
    "  \n",
    "  # compute rotational matrix around yaw axis\n",
    "  R = np.array([ [+cos(ry), 0, +sin(ry)],\n",
    "                 [0, 1,               0],\n",
    "                 [-sin(ry), 0, +cos(ry)] ] )\n",
    "\n",
    "  # 3D bounding box corners\n",
    "\n",
    "  x_corners = [0, l, l, l, l, 0, 0, 0] # -l/2\n",
    "  y_corners = [0, 0, h, h, 0, 0, h, h] # -h\n",
    "  z_corners = [0, 0, 0, w, w, w, w, 0] # --w/2\n",
    "  \n",
    "  x_corners += -l/2\n",
    "  y_corners += -h\n",
    "  z_corners += -w/2\n",
    "  \n",
    "  \n",
    "  # bounding box in object co-ordinate\n",
    "  corners_3D = np.array([x_corners, y_corners, z_corners])\n",
    "  #print ( 'corners_3d', corners_3D.shape, corners_3D)\n",
    "  \n",
    "  # rotate \n",
    "  corners_3D = R.dot(corners_3D)\n",
    "  #print ( 'corners_3d', corners_3D.shape, corners_3D)\n",
    "  \n",
    "  #translate \n",
    "  corners_3D += np.array([x, y, z]).reshape((3,1))\n",
    "  #print ( 'corners_3d', corners_3D)\n",
    "  \n",
    "\n",
    "  \n",
    "  corners_3D_1 = np.vstack((corners_3D,np.ones((corners_3D.shape[-1]))))\n",
    "  corners_2D = P.dot (corners_3D_1)\n",
    "  corners_2D = corners_2D/corners_2D[2]\n",
    "  \n",
    "  # edges, lines 3d/2d bounding box in vertex index \n",
    "  edges = [[0,1], [1,2], [2,3], [3,4], [4,5], [5,6], [6,7], [7,0], [0,5], [1,4], [2,7], [3, 6]]\n",
    "  lines = [[0,1], [1,2], [2,3], [3,4], [4,5], [5,6], [6,7], [7,0], [0,5], [5, 4], [4, 1], [1,2], [2,7], [7,6], [6,3]]\n",
    "  bb3d_lines_verts_idx = [0,1,2,3,4,5,6,7,0,5,4,1,2,7,6,3]\n",
    "  \n",
    "  bb2d_lines_verts = corners_2D[:,bb3d_lines_verts_idx] # \n",
    "   \n",
    "  return corners_2D[:2], corners_3D, bb2d_lines_verts[:2]\n",
    "  \n",
    "  \n",
    "  \n",
    " \n",
    "def labelToBoundingBox(ax, labeld, calibd):\n",
    "  '''\n",
    "  Draw 2D and 3D bpunding boxes.  \n",
    "  \n",
    "  Each label  file contains the following ( copied from devkit_object/matlab/readLabels.m)\n",
    "  #  % extract label, truncation, occlusion\n",
    "  #  lbl = C{1}(o);                   % for converting: cell -> string\n",
    "  #  objects(o).type       = lbl{1};  % 'Car', 'Pedestrian', ...\n",
    "  #  objects(o).truncation = C{2}(o); % truncated pixel ratio ([0..1])\n",
    "  #  objects(o).occlusion  = C{3}(o); % 0 = visible, 1 = partly occluded, 2 = fully occluded, 3 = unknown\n",
    "  #  objects(o).alpha      = C{4}(o); % object observation angle ([-pi..pi])\n",
    "  #\n",
    "  #  % extract 2D bounding box in 0-based coordinates\n",
    "  #  objects(o).x1 = C{5}(o); % left   -> in pixel\n",
    "  #  objects(o).y1 = C{6}(o); % top\n",
    "  #  objects(o).x2 = C{7}(o); % right\n",
    "  #  objects(o).y2 = C{8}(o); % bottom\n",
    "  #\n",
    "  #  % extract 3D bounding box information\n",
    "  #  objects(o).h    = C{9} (o); % box width    -> in object coordinate\n",
    "  #  objects(o).w    = C{10}(o); % box height\n",
    "  #  objects(o).l    = C{11}(o); % box length\n",
    "  #  objects(o).t(1) = C{12}(o); % location (x) -> in camera coordinate \n",
    "  #  objects(o).t(2) = C{13}(o); % location (y)\n",
    "  #  objects(o).t(3) = C{14}(o); % location (z)\n",
    "  #  objects(o).ry   = C{15}(o); % yaw angle  -> rotation aroun the y/vetical axis\n",
    "  '''\n",
    "  \n",
    "  # Velodyne to/from referenece camera (0) matrix\n",
    "  Tr_velo_to_cam = np.zeros((4,4))\n",
    "  Tr_velo_to_cam[3,3] = 1\n",
    "  Tr_velo_to_cam[:3,:4] = calibd['Tr_velo_to_cam'].reshape(3,4)\n",
    "  #print ('Tr_velo_to_cam', Tr_velo_to_cam)\n",
    "  \n",
    "  Tr_cam_to_velo = np.linalg.inv(Tr_velo_to_cam)\n",
    "  #print ('Tr_cam_to_velo', Tr_cam_to_velo)\n",
    "  \n",
    "  # \n",
    "  R0_rect = np.zeros ((4,4))\n",
    "  R0_rect[:3,:3] = calibd['R0_rect'].reshape(3,3)\n",
    "  R0_rect[3,3] = 1\n",
    "  #print ('R0_rect', R0_rect)\n",
    "  P2_rect = calibd['P2'].reshape(3,4)\n",
    "  #print('P2_rect', P2_rect)\n",
    "  \n",
    "  bb3d = []\n",
    "  bb2d = []\n",
    "  \n",
    "  for key in labeld.keys ():\n",
    "    \n",
    "    color = 'white'\n",
    "    if key == 'Car':\n",
    "      color = 'red'\n",
    "    elif key == 'Pedestrian':\n",
    "      color = 'pink'\n",
    "    elif key == 'Cyclist':\n",
    "      color = 'purple'\n",
    "    elif key == 'DontCare':\n",
    "      color = 'white'\n",
    "    \n",
    "   \n",
    "    for o in range( labeld[key].shape[0]):\n",
    "      \n",
    "      #2D\n",
    "      left   = labeld[key][o][3]\n",
    "      bottom = labeld[key][o][4]\n",
    "      width  = labeld[key][o][5]- labeld[key][o][3]\n",
    "      height = labeld[key][o][6]- labeld[key][o][4]\n",
    "    \n",
    "      \n",
    "      p = patches.Rectangle(\n",
    "        (left, bottom), width, height, fill=False, edgecolor=color, linewidth=1)\n",
    "      ax.add_patch(p)\n",
    "      \n",
    "      xc = (labeld[key][o][5]+labeld[key][o][3])/2\n",
    "      yc = (labeld[key][o][6]+labeld[key][o][4])/2\n",
    "      bb2d.append([xc,yc])\n",
    "      \n",
    "      #3D\n",
    "      w3d = labeld[key][o][7]\n",
    "      h3d = labeld[key][o][8]\n",
    "      l3d = labeld[key][o][9]\n",
    "      x3d = labeld[key][o][10]\n",
    "      y3d = labeld[key][o][11]\n",
    "      z3d = labeld[key][o][12]\n",
    "      yaw3d = labeld[key][o][13]\n",
    "      \n",
    "   \n",
    "      if key != 'DontCare' :\n",
    "        \n",
    "        corners_2D, corners_3D, paths_2D = computeBox3D(labeld[key][o], P2_rect)\n",
    "        verts = paths_2D.T # corners_2D.T\n",
    "        codes = [Path.LINETO]*verts.shape[0]\n",
    "        codes[0] = Path.MOVETO\n",
    "        pth  = Path (verts, codes)\n",
    "        p = patches.PathPatch( pth, fill=False, color='purple', linewidth=2)\n",
    "        ax.add_patch(p)\n",
    "        \n",
    "        \n",
    "  \n",
    "      # a sanity test point in velodyne co-ordinate to check  camera2 imaging plane projection\n",
    "      testp = [ x3d, y3d, z3d]\n",
    "      bb3d.append(testp)\n",
    "\n",
    "      xnd = np.array(testp+[1.0])\n",
    "      #print ('bb3d xnd velodyne   ', xnd)\n",
    "      #xpnd = P2.dot(R0_rect.dot(Tr_velo_to_cam.dot(xnd)))\n",
    "      xpnd = Tr_velo_to_cam.dot(xnd)\n",
    "      #print ('bb3d xpnd cam0      ', xpnd)\n",
    "      xpnd = R0_rect.dot(xpnd)\n",
    "      #print ('bb3d xpnd rect cam0 ', xpnd)\n",
    "      xpnd = P2_rect.dot(xpnd)\n",
    "      print ('bb3d xpnd cam2 image', xpnd)\n",
    "      print ('bb3d xpnd cam2 image', xpnd/xpnd[2])\n",
    "\n",
    "#       p = patches.Rectangle( pth, fill=False, color='red', linewidth=2)\n",
    "\n",
    "#       p = patches.Circle( (xpnd[0]/xpnd[2], xpnd[1]/xpnd[2]), fill=False, radius=5, color='red', linewidth=1)\n",
    "#       ax.add_patch(p)\n",
    "  \n",
    "  return np.array(bb2d), np.array(bb3d)\n",
    "\n",
    "\n",
    "def pointCloudToBirdsEyeView(ax2, velo, bb3d):\n",
    "  ax2.set_xlim (-10,10)\n",
    "  ax2.set_ylim (-35,35)\n",
    "  hmax = velo[:,2].max()\n",
    "  hmin = velo[:,2].min()\n",
    "  hmean = velo[:, 2].mean()\n",
    "  hmeadian = np.median ( velo[:, 2] )\n",
    "  hstd = np.std(velo[:, 2])\n",
    "  #print ('scalledh', hmax, hmean, hmeadian, hmin, hstd, scalledh.shape, scalledh[:10])\n",
    "  norm = colors.Normalize(hmean-2*hstd, hmean+2*hstd, clip=True)\n",
    "  sc2= ax2.scatter(-velo[:,1],\n",
    "             velo[:,0],\n",
    "             s = 1,\n",
    "             c=velo[:,2],\n",
    "             cmap = 'viridis',\n",
    "             norm=norm,\n",
    "             marker = \".\",\n",
    "             )\n",
    "  ax2.scatter(-bb3d[:,1],\n",
    "             bb3d[:,0],\n",
    "             c='red')\n",
    "  ax2.set_facecolor('xkcd:grey')\n",
    "  plt.colorbar(sc2)\n",
    "\n",
    "def main (frame='000008'):\n",
    "  \"\"\"\n",
    "  Completes the plots \n",
    "  \"\"\"\n",
    "  left_cam, velo, label_data, calib_data = loadKittiFiles(frame)\n",
    "  \n",
    "  f = plt.figure(figsize=plt.figaspect(0.5))\n",
    "  \n",
    "  # show the left camera image \n",
    "  ax = f.add_subplot(3,1,1,)\n",
    "  ax.imshow(left_cam)\n",
    "  \n",
    "  \n",
    "  bb2d, bb3d = labelToBoundingBox(ax, label_data, calib_data)\n",
    "  print ('bb3d', bb3d)\n",
    "  print ('bb2d', bb2d)\n",
    "  \n",
    "  # point cloud to bird's eye view scatter plot\n",
    "  ax2 = f.add_subplot(3,1,2, )#projection=\"3d\" )\n",
    "  pointCloudToBirdsEyeView(ax2, velo, bb3d)\n",
    "\n",
    "  \n",
    "  plt.show()\n",
    "\n",
    "\n",
    "if __name__ == '__main__':\n",
    "  parser = argparse.ArgumentParser()\n",
    "  parser.add_argument('--frame', type=str,\n",
    "                      default='000019',\n",
    "                      help='frame name without extension')\n",
    "  FLAGS, unparsed = parser.parse_known_args()\n",
    "  #print ('FLAGS', FLAGS)\n",
    "  main(frame=FLAGS.frame)"
   ]
  },
  {
   "cell_type": "code",
   "execution_count": null,
   "metadata": {
    "collapsed": true
   },
   "outputs": [],
   "source": []
  },
  {
   "cell_type": "code",
   "execution_count": null,
   "metadata": {
    "collapsed": true
   },
   "outputs": [],
   "source": []
  },
  {
   "cell_type": "code",
   "execution_count": null,
   "metadata": {
    "collapsed": true
   },
   "outputs": [],
   "source": []
  },
  {
   "cell_type": "code",
   "execution_count": null,
   "metadata": {
    "collapsed": true
   },
   "outputs": [],
   "source": []
  },
  {
   "cell_type": "code",
   "execution_count": null,
   "metadata": {
    "collapsed": true
   },
   "outputs": [],
   "source": []
  },
  {
   "cell_type": "code",
   "execution_count": 14,
   "metadata": {},
   "outputs": [
    {
     "data": {
      "text/plain": [
       "[name: \"/device:CPU:0\"\n",
       " device_type: \"CPU\"\n",
       " memory_limit: 268435456\n",
       " locality {\n",
       " }\n",
       " incarnation: 1964018690428927198]"
      ]
     },
     "execution_count": 14,
     "metadata": {},
     "output_type": "execute_result"
    }
   ],
   "source": [
    "from tensorflow.python.client import device_lib\n",
    "device_lib.list_local_devices()"
   ]
  }
 ],
 "metadata": {
  "kernelspec": {
   "display_name": "Python 3",
   "language": "python",
   "name": "python3"
  },
  "language_info": {
   "codemirror_mode": {
    "name": "ipython",
    "version": 3
   },
   "file_extension": ".py",
   "mimetype": "text/x-python",
   "name": "python",
   "nbconvert_exporter": "python",
   "pygments_lexer": "ipython3",
   "version": "3.6.7"
  }
 },
 "nbformat": 4,
 "nbformat_minor": 2
}
