{
 "cells": [
  {
   "cell_type": "code",
   "execution_count": 1,
   "metadata": {},
   "outputs": [],
   "source": [
    "%load_ext autoreload\n",
    "%autoreload 2.0\n",
    "%matplotlib inline"
   ]
  },
  {
   "cell_type": "code",
   "execution_count": 2,
   "metadata": {},
   "outputs": [
    {
     "name": "stderr",
     "output_type": "stream",
     "text": [
      "/home/injy/mariam_workspace/env/lib/python3.5/site-packages/tensorflow/python/framework/dtypes.py:516: FutureWarning: Passing (type, 1) or '1type' as a synonym of type is deprecated; in a future version of numpy, it will be understood as (type, (1,)) / '(1,)type'.\n",
      "  _np_qint8 = np.dtype([(\"qint8\", np.int8, 1)])\n",
      "/home/injy/mariam_workspace/env/lib/python3.5/site-packages/tensorflow/python/framework/dtypes.py:517: FutureWarning: Passing (type, 1) or '1type' as a synonym of type is deprecated; in a future version of numpy, it will be understood as (type, (1,)) / '(1,)type'.\n",
      "  _np_quint8 = np.dtype([(\"quint8\", np.uint8, 1)])\n",
      "/home/injy/mariam_workspace/env/lib/python3.5/site-packages/tensorflow/python/framework/dtypes.py:518: FutureWarning: Passing (type, 1) or '1type' as a synonym of type is deprecated; in a future version of numpy, it will be understood as (type, (1,)) / '(1,)type'.\n",
      "  _np_qint16 = np.dtype([(\"qint16\", np.int16, 1)])\n",
      "/home/injy/mariam_workspace/env/lib/python3.5/site-packages/tensorflow/python/framework/dtypes.py:519: FutureWarning: Passing (type, 1) or '1type' as a synonym of type is deprecated; in a future version of numpy, it will be understood as (type, (1,)) / '(1,)type'.\n",
      "  _np_quint16 = np.dtype([(\"quint16\", np.uint16, 1)])\n",
      "/home/injy/mariam_workspace/env/lib/python3.5/site-packages/tensorflow/python/framework/dtypes.py:520: FutureWarning: Passing (type, 1) or '1type' as a synonym of type is deprecated; in a future version of numpy, it will be understood as (type, (1,)) / '(1,)type'.\n",
      "  _np_qint32 = np.dtype([(\"qint32\", np.int32, 1)])\n",
      "/home/injy/mariam_workspace/env/lib/python3.5/site-packages/tensorflow/python/framework/dtypes.py:525: FutureWarning: Passing (type, 1) or '1type' as a synonym of type is deprecated; in a future version of numpy, it will be understood as (type, (1,)) / '(1,)type'.\n",
      "  np_resource = np.dtype([(\"resource\", np.ubyte, 1)])\n",
      "/home/injy/mariam_workspace/env/lib/python3.5/site-packages/tensorboard/compat/tensorflow_stub/dtypes.py:541: FutureWarning: Passing (type, 1) or '1type' as a synonym of type is deprecated; in a future version of numpy, it will be understood as (type, (1,)) / '(1,)type'.\n",
      "  _np_qint8 = np.dtype([(\"qint8\", np.int8, 1)])\n",
      "/home/injy/mariam_workspace/env/lib/python3.5/site-packages/tensorboard/compat/tensorflow_stub/dtypes.py:542: FutureWarning: Passing (type, 1) or '1type' as a synonym of type is deprecated; in a future version of numpy, it will be understood as (type, (1,)) / '(1,)type'.\n",
      "  _np_quint8 = np.dtype([(\"quint8\", np.uint8, 1)])\n",
      "/home/injy/mariam_workspace/env/lib/python3.5/site-packages/tensorboard/compat/tensorflow_stub/dtypes.py:543: FutureWarning: Passing (type, 1) or '1type' as a synonym of type is deprecated; in a future version of numpy, it will be understood as (type, (1,)) / '(1,)type'.\n",
      "  _np_qint16 = np.dtype([(\"qint16\", np.int16, 1)])\n",
      "/home/injy/mariam_workspace/env/lib/python3.5/site-packages/tensorboard/compat/tensorflow_stub/dtypes.py:544: FutureWarning: Passing (type, 1) or '1type' as a synonym of type is deprecated; in a future version of numpy, it will be understood as (type, (1,)) / '(1,)type'.\n",
      "  _np_quint16 = np.dtype([(\"quint16\", np.uint16, 1)])\n",
      "/home/injy/mariam_workspace/env/lib/python3.5/site-packages/tensorboard/compat/tensorflow_stub/dtypes.py:545: FutureWarning: Passing (type, 1) or '1type' as a synonym of type is deprecated; in a future version of numpy, it will be understood as (type, (1,)) / '(1,)type'.\n",
      "  _np_qint32 = np.dtype([(\"qint32\", np.int32, 1)])\n",
      "/home/injy/mariam_workspace/env/lib/python3.5/site-packages/tensorboard/compat/tensorflow_stub/dtypes.py:550: FutureWarning: Passing (type, 1) or '1type' as a synonym of type is deprecated; in a future version of numpy, it will be understood as (type, (1,)) / '(1,)type'.\n",
      "  np_resource = np.dtype([(\"resource\", np.ubyte, 1)])\n"
     ]
    }
   ],
   "source": [
    "import glob\n",
    "import os\n",
    "import matplotlib.pyplot as plt\n",
    "import matplotlib.image as mpimg\n",
    "import matplotlib.patches as patches\n",
    "import numpy as np\n",
    "import tensorflow as tf"
   ]
  },
  {
   "cell_type": "code",
   "execution_count": 3,
   "metadata": {},
   "outputs": [],
   "source": [
    "import sys\n",
    "sys.path.insert(0, '../.')"
   ]
  },
  {
   "cell_type": "code",
   "execution_count": 4,
   "metadata": {},
   "outputs": [],
   "source": [
    "from data.segmentation_dataset_loader import *\n",
    "from data.detection_dataset_loader import *\n",
    "from model import *\n",
    "from Trainer import *\n",
    "from evaluation.evaluate import *"
   ]
  },
  {
   "cell_type": "code",
   "execution_count": null,
   "metadata": {},
   "outputs": [],
   "source": []
  },
  {
   "cell_type": "code",
   "execution_count": 5,
   "metadata": {},
   "outputs": [],
   "source": [
    "base_path = '../../../Data'"
   ]
  },
  {
   "cell_type": "code",
   "execution_count": 14,
   "metadata": {},
   "outputs": [],
   "source": [
    "import numpy as np\n",
    "import cv2\n",
    "from data.data_utils.velodyne_points import *\n",
    "from utils.utils import *\n",
    "import math\n",
    "import os\n",
    "import random\n",
    "\n",
    "from data.data_utils.reader import *\n",
    "from data.data_utils.target_utils import *\n",
    "from data.data_utils.fv_utils import *\n",
    "from data.dataset_loader import *\n",
    "\n",
    "\n",
    "class DetectionDatasetLoader(DatasetLoader):\n",
    "\n",
    "    def _defaults(self, **kwargs):\n",
    "        defaults = {\n",
    "            'image_size': (370, 1224),\n",
    "            'lidar_size': (512, 448, 40), \n",
    "            'anchors': np.array([3.9, 1.6, 1.5])\n",
    "        }\n",
    "        for k in kwargs:\n",
    "            if k in defaults:\n",
    "                defaults[k] = kwargs[k]\n",
    "        return defaults\n",
    "        \n",
    "\n",
    "    def _init_generator(self):\n",
    "\n",
    "        list_files = list(map(lambda x: x.split('.')[0], os.listdir(self.base_path+'/data_object_image_3/training/image_3')))\n",
    "        random.seed(self.random_seed)\n",
    "        random.shuffle(list_files)\n",
    "\n",
    "        camera_paths = list(map(lambda x: self.base_path+'/data_object_image_3/training/image_3/' + x + '.png', list_files))\n",
    "        lidar_paths = list(map(lambda x: self.base_path+'/data_object_velodyne/training/velodyne/' + x + '.bin', list_files))\n",
    "        label_paths = list(map(lambda x: self.base_path + '/data_object_label_2/training/label_2/' + x + '.txt', list_files))\n",
    "        calib_paths = list(map(lambda x: self.base_path + '/data_object_calib/training/calib/' + x + '.txt', list_files))\n",
    "        \n",
    "        if self.num_samples is None:\n",
    "            ln = int(len(list_files) * self.training_per)\n",
    "            final_sample = len(list_files)\n",
    "        else:\n",
    "            ln = int(self.num_samples * self.training_per)\n",
    "            final_sample = self.num_samples\n",
    "        \n",
    "        if self.training:\n",
    "            self.list_camera_paths = camera_paths[:ln]\n",
    "            self.list_lidar_paths = lidar_paths[:ln]\n",
    "            self.list_label_paths = label_paths[:ln]\n",
    "            self.list_calib_paths = calib_paths[:ln]\n",
    "        else:\n",
    "            self.list_camera_paths = camera_paths[ln:final_sample]\n",
    "            self.list_lidar_paths = lidar_paths[ln:final_sample]\n",
    "            self.list_label_paths = label_paths[ln:final_sample]\n",
    "            self.list_calib_paths = calib_paths[ln:final_sample]\n",
    "\n",
    "        augment = self.training\n",
    "        return self.__data_generator(self.base_path, \n",
    "                                    image_size=self.params['image_size'],\n",
    "                                    lidar_size=self.params['lidar_size'], \n",
    "                                    anchors=self.params['anchors'],\n",
    "                                    list_camera_paths=self.list_camera_paths[:], \n",
    "                                    list_lidar_paths=self.list_lidar_paths[:], \n",
    "                                    list_label_paths=self.list_label_paths[:], \n",
    "                                    list_calib_paths=self.list_calib_paths[:], \n",
    "                                    augment_translate=augment, \n",
    "                                    augment_rotate=augment,\n",
    "                                    negative_samples=augment,\n",
    "                                    training=self.training)\n",
    "                    \n",
    "    def reset_generator(self):\n",
    "        augment = self.training\n",
    "        self.generator = self.__data_generator(self.base_path, \n",
    "                                    image_size=self.params['image_size'],\n",
    "                                    lidar_size=self.params['lidar_size'], \n",
    "                                    anchors=self.params['anchors'],\n",
    "                                    list_camera_paths=self.list_camera_paths[:], \n",
    "                                    list_lidar_paths=self.list_lidar_paths[:], \n",
    "                                    list_label_paths=self.list_label_paths[:], \n",
    "                                    list_calib_paths=self.list_calib_paths[:], \n",
    "                                    augment_translate=augment, \n",
    "                                    augment_rotate=augment,\n",
    "                                    negative_samples=augment,\n",
    "                                    training=self.training)\n",
    "        \n",
    "\n",
    "    def get_next(self, batch_size=1):\n",
    "        camera_tensors = []\n",
    "        lidar_tensors = []\n",
    "        fv_velo_tensors = []\n",
    "        label_tensors = []\n",
    "        Tr_velo_to_cams = []\n",
    "        R0_rects = []\n",
    "        P3s = [] \n",
    "        shift_hs = []\n",
    "        shift_ws = [] \n",
    "\n",
    "        for _ in range(batch_size):\n",
    "            camera_tensor, lidar_tensor, label_tensor, Tr_velo_to_cam, R0_rect, P3, shift_h, shift_w = list(next(self.generator))\n",
    "            camera_tensors.append(camera_tensor)\n",
    "            lidar_tensors.append(lidar_tensor)\n",
    "            label_tensors.append(label_tensor)\n",
    "            Tr_velo_to_cams.append(Tr_velo_to_cam)\n",
    "            R0_rects.append(R0_rect)\n",
    "            P3s.append(P3)\n",
    "            shift_hs.append(shift_h)\n",
    "            shift_ws.append(shift_w)\n",
    "\n",
    "        camera_tensors = np.array(camera_tensors)\n",
    "        lidar_tensors = np.array(lidar_tensors)\n",
    "        label_tensors = np.array(label_tensors)\n",
    "        \n",
    "        Tr_velo_to_cams = np.array(Tr_velo_to_cams)\n",
    "        R0_rects = np.array(R0_rects)\n",
    "        P3s = np.array(P3s)\n",
    "        shift_hs = np.array(shift_hs)\n",
    "        shift_ws = np.array(shift_hs)\n",
    "        return (camera_tensors, lidar_tensors, label_tensors, Tr_velo_to_cams, R0_rects, P3s, shift_hs, shift_ws)\n",
    "\n",
    "\n",
    "    def __data_generator(self, base_path, image_size, lidar_size, anchors, list_camera_paths, list_lidar_paths, list_label_paths, list_calib_paths, \n",
    "                        augment_translate=False, augment_rotate=False, negative_samples=False, training=True):\n",
    "\n",
    "#         if training:\n",
    "#             value = random.randint(0, 50)\n",
    "#             random.seed(value)\n",
    "#             random.shuffle(list_camera_paths)\n",
    "#             random.seed(value)\n",
    "#             random.shuffle(list_lidar_paths)\n",
    "#             random.seed(value)\n",
    "#             random.shuffle(list_label_paths)\n",
    "#             random.seed(value)\n",
    "#             random.shuffle(list_calib_paths)\n",
    "\n",
    "        for camera_path, lidar_path, label_path, calib_path in zip(list_camera_paths, list_lidar_paths, list_label_paths, list_calib_paths):\n",
    "                camera_image, shift_h, shift_w = read_camera(camera_path, image_size)\n",
    "                h, w, _ = cv2.imread(camera_path).shape\n",
    "                lidar_image = read_lidar(lidar_path, calib_path, lidar_size, img_height=h, img_width=w)\n",
    "                velo_front_view = read_pc_fv(calib_path, lidar_path)\n",
    "                _, label, Tr_velo_to_cam, R0_rect, P3, directions = read_label(label_path, calib_path, shift_h, shift_w)\n",
    "                label = get_target(label, directions,  anchors=anchors)\n",
    "                camera_image = camera_image / 255.\n",
    "                lidar_image = lidar_image / 255.\n",
    "                yield(camera_image, lidar_image, label,\n",
    "                            np.concatenate([np.array(Tr_velo_to_cam).reshape((3, 4)), np.array([[0, 0, 0, 1]])], axis=0),\n",
    "                            np.concatenate([np.concatenate([np.array(R0_rect).reshape((3, 3)), np.array([[0], [0], [0]])], axis=1),  np.array([[0, 0, 0, 1]])], axis=0),\n",
    "                            np.array(P3).reshape((3, 4)), \n",
    "                            np.array([shift_h]), \n",
    "                            np.array([shift_w])\n",
    "                            )\n",
    "\n",
    "                if augment_rotate:\n",
    "                        translate_x = 0\n",
    "                        translate_y = 0\n",
    "                        ang = random.randint(-5, 5)\n",
    "                    \n",
    "                        camera_image, shift_h, shift_w = read_camera(camera_path, image_size)\n",
    "                        h, w, _ = cv2.imread(camera_path).shape\n",
    "                        lidar_image = read_lidar(lidar_path, calib_path, lidar_size, img_height=h, img_width=w, ang=ang, translate_x=translate_x, translate_y=translate_y)\n",
    "                        _, label, Tr_velo_to_cam, R0_rect, P3, directions = read_label(label_path, calib_path, shift_h, shift_w, translate_x=translate_x, translate_y=translate_y, ang=ang)\n",
    "                        label = get_target(label, directions,  anchors=anchors)\n",
    "                        camera_image = camera_image / 255.\n",
    "                        lidar_image = lidar_image / 255.\n",
    "                        yield(camera_image, lidar_image, label,\n",
    "                                    np.concatenate([np.array(Tr_velo_to_cam).reshape((3, 4)), np.array([[0, 0, 0, 1]])], axis=0),\n",
    "                                    np.concatenate([np.concatenate([np.array(R0_rect).reshape((3, 3)), np.array([[0], [0], [0]])], axis=1),  np.array([[0, 0, 0, 1]])], axis=0),\n",
    "                                    np.array(P3).reshape((3, 4)), \n",
    "                                    np.array([shift_h]), \n",
    "                                    np.array([shift_w])\n",
    "                                    )\n",
    "\n",
    "                if augment_translate:\n",
    "                        translate_x = random.randint(-5, 5)\n",
    "                        translate_y = random.randint(-5, 5)\n",
    "                        translate_z = random.random() - 0.5\n",
    "                        ang = 0\n",
    "                        \n",
    "                        camera_image, shift_h, shift_w = read_camera(camera_path, image_size)\n",
    "                        h, w, _ = cv2.imread(camera_path).shape\n",
    "                        lidar_image = read_lidar(lidar_path, calib_path, lidar_size, img_height=h, img_width=w, ang=ang, translate_x=translate_x, translate_y=translate_y, translate_z=translate_z)\n",
    "                        _, label, Tr_velo_to_cam, R0_rect, P3, directions = read_label(label_path, calib_path, shift_h, shift_w, translate_x=translate_x, translate_y=translate_y, translate_z=-translate_z, ang=ang)\n",
    "                        label = get_target(label, directions,  anchors=anchors)\n",
    "                        camera_image = camera_image / 255.\n",
    "                        lidar_image = lidar_image / 255.\n",
    "                        yield(camera_image, lidar_image, label,\n",
    "                                    np.concatenate([np.array(Tr_velo_to_cam).reshape((3, 4)), np.array([[0, 0, 0, 1]])], axis=0),\n",
    "                                    np.concatenate([np.concatenate([np.array(R0_rect).reshape((3, 3)), np.array([[0], [0], [0]])], axis=1),  np.array([[0, 0, 0, 1]])], axis=0),\n",
    "                                    np.array(P3).reshape((3, 4)), \n",
    "                                    np.array([shift_h]), \n",
    "                                    np.array([shift_w])\n",
    "                                    )\n",
    "\n",
    "                if augment_rotate and augment_translate:\n",
    "                        translate_x = random.randint(-5, 5)\n",
    "                        translate_y = random.randint(-5, 5)\n",
    "                        translate_z = random.random() - 0.5\n",
    "                        ang = random.randint(-5, 5)\n",
    "                    \n",
    "                        camera_image, shift_h, shift_w = read_camera(camera_path, image_size)\n",
    "                        h, w, _ = cv2.imread(camera_path).shape\n",
    "                        lidar_image = read_lidar(lidar_path, calib_path, lidar_size, img_height=h, img_width=w, ang=ang, translate_x=translate_x, translate_y=translate_y, translate_z=translate_z)\n",
    "                        _, label, Tr_velo_to_cam, R0_rect, P3, directions = read_label(label_path, calib_path, shift_h, shift_w, translate_x=translate_x, translate_y=translate_y, translate_z=-translate_z, ang=ang)\n",
    "                        label = get_target(label, directions,  anchors=anchors)\n",
    "                        camera_image = camera_image / 255.\n",
    "                        lidar_image = lidar_image / 255.\n",
    "                        yield(camera_image, lidar_image, label,\n",
    "                                    np.concatenate([np.array(Tr_velo_to_cam).reshape((3, 4)), np.array([[0, 0, 0, 1]])], axis=0),\n",
    "                                    np.concatenate([np.concatenate([np.array(R0_rect).reshape((3, 3)), np.array([[0], [0], [0]])], axis=1),  np.array([[0, 0, 0, 1]])], axis=0),\n",
    "                                    np.array(P3).reshape((3, 4)), \n",
    "                                    np.array([shift_h]), \n",
    "                                    np.array([shift_w])\n",
    "                                    )\n",
    "\n",
    "\n",
    "                        translate_x = random.randint(-5, 5)\n",
    "                        translate_y = random.randint(-5, 5)\n",
    "                        translate_z = random.random() - 0.5\n",
    "                        ang = random.randint(-15, -5)\n",
    "                    \n",
    "                        camera_image, shift_h, shift_w = read_camera(camera_path, image_size)\n",
    "                        h, w, _ = cv2.imread(camera_path).shape\n",
    "                        lidar_image = read_lidar(lidar_path, calib_path, lidar_size, img_height=h, img_width=w, ang=ang, translate_x=translate_x, translate_y=translate_y, translate_z=translate_z)\n",
    "                        _, label, Tr_velo_to_cam, R0_rect, P3, directions = read_label(label_path, calib_path, shift_h, shift_w, translate_x=translate_x, translate_y=translate_y, translate_z=-translate_z, ang=ang)\n",
    "                        label = get_target(label, directions,  anchors=anchors)\n",
    "                        camera_image = camera_image / 255.\n",
    "                        lidar_image = lidar_image / 255.\n",
    "                        yield(camera_image, lidar_image, label,\n",
    "                                    np.concatenate([np.array(Tr_velo_to_cam).reshape((3, 4)), np.array([[0, 0, 0, 1]])], axis=0),\n",
    "                                    np.concatenate([np.concatenate([np.array(R0_rect).reshape((3, 3)), np.array([[0], [0], [0]])], axis=1),  np.array([[0, 0, 0, 1]])], axis=0),\n",
    "                                    np.array(P3).reshape((3, 4)), \n",
    "                                    np.array([shift_h]), \n",
    "                                    np.array([shift_w])\n",
    "                                    )\n",
    "\n",
    "\n",
    "                        translate_x = random.randint(-5, 5)\n",
    "                        translate_y = random.randint(-5, 5)\n",
    "                        translate_z = random.random() - 0.5\n",
    "                        ang = random.randint(5, 15)\n",
    "                    \n",
    "                        camera_image, shift_h, shift_w = read_camera(camera_path, image_size)\n",
    "                        h, w, _ = cv2.imread(camera_path).shape\n",
    "                        lidar_image = read_lidar(lidar_path, calib_path, lidar_size, img_height=h, img_width=w, ang=ang, translate_x=translate_x, translate_y=translate_y, translate_z=translate_z)\n",
    "                        _, label, Tr_velo_to_cam, R0_rect, P3, directions = read_label(label_path, calib_path, shift_h, shift_w, translate_x=translate_x, translate_y=translate_y, translate_z=-translate_z, ang=ang)\n",
    "                        label = get_target(label, directions,  anchors=anchors)\n",
    "                        camera_image = camera_image / 255.\n",
    "                        lidar_image = lidar_image / 255.\n",
    "                        yield(camera_image, lidar_image, label,\n",
    "                                    np.concatenate([np.array(Tr_velo_to_cam).reshape((3, 4)), np.array([[0, 0, 0, 1]])], axis=0),\n",
    "                                    np.concatenate([np.concatenate([np.array(R0_rect).reshape((3, 3)), np.array([[0], [0], [0]])], axis=1),  np.array([[0, 0, 0, 1]])], axis=0),\n",
    "                                    np.array(P3).reshape((3, 4)), \n",
    "                                    np.array([shift_h]), \n",
    "                                    np.array([shift_w])\n",
    "                                    )\n",
    "\n",
    "\n",
    "                        \n",
    "\n",
    "\n"
   ]
  },
  {
   "cell_type": "code",
   "execution_count": 15,
   "metadata": {},
   "outputs": [],
   "source": [
    "def read_label(label_path, calib_path, shift_h, shift_w, x_range=(0, 71), y_range=(-40, 40), z_range=(-3.0, 1), \n",
    "                    size=(512, 448, 40), get_actual_dims=False, from_file=True, translate_x=0, translate_y=0, translate_z=0, ang=0, get_neg=False):\n",
    "\n",
    "    \"\"\"\n",
    "    the file format is as follows: \n",
    "    type, truncated, occluded, alpha, bbox_left, bbox_top, bbox_right, bbox_bottom,\n",
    "    dimensions_height, dimensions_width, dimensions_length, location_x, location_y, location_z,\n",
    "    rotation_y, score) \n",
    "    \"\"\"\n",
    "    if from_file:\n",
    "        lines = []\n",
    "        with open(label_path) as label_file:\n",
    "            lines = label_file.readlines()\n",
    "    else:\n",
    "        lines = label_path.split('\\n')\n",
    "    # filter car class\n",
    "    lines = list(map(lambda x: x.split(), lines))\n",
    "    if len(lines) > 0:\n",
    "        if get_neg:\n",
    "            lines = list(filter(lambda x: len(x) > 0 and ( x[0] not in ['Car', 'Van', 'Truck', 'Tram', 'DontCare']), lines))\n",
    "            if len(lines) > 0:\n",
    "                lines = lines[:1]\n",
    "        else:\n",
    "            lines = list(filter(lambda x: len(x) > 0 and ( x[0] in ['Car', 'Van', 'Truck', 'Tram']), lines))\n",
    "    \n",
    "    def get_parameter(index):\n",
    "        return list(map(lambda x: x[index], lines))\n",
    "    \n",
    "    classes = np.array(get_parameter(0))\n",
    "    dimension_height = np.array(get_parameter(8)).astype(float)\n",
    "    dimension_width = np.array(get_parameter(9)).astype(float)\n",
    "    dimension_length = np.array(get_parameter(10)).astype(float)\n",
    "    # TODO: take shift into consideration - URGENT\n",
    "    location_x = np.array(get_parameter(11)).astype(float)\n",
    "    location_y = np.array(get_parameter(12)).astype(float)\n",
    "    location_z = np.array(get_parameter(13)).astype(float)\n",
    "    angles = np.array(get_parameter(14)).astype(float)\n",
    "    directions = np.array(angles>= 0).astype(float)\n",
    "    \n",
    "    # print(len(classes))\n",
    "    calib_data = read_calib(calib_path)\n",
    "\n",
    "    locations = np.array([[location_x[i], location_y[i], location_z[i]] for i in range(len(classes))])\n",
    "    # print(locations)\n",
    "    if len(locations) > 0 and len(locations[0]) > 0:\n",
    "        locations = project_rect_to_velo(locations, calib_data['R0_rect'].reshape((3, 3)), calib_data['Tr_velo_to_cam'].reshape((3, 4)))\n",
    "    # print(locations)\n",
    "    # print(z_range)\n",
    "\n",
    "    indx = []\n",
    "    i = 0\n",
    "    for point in locations:\n",
    "        if (point[0] >= x_range[0]  and point[0] <= x_range[1])\\\n",
    "            and (point[1] >= y_range[0] and point[1] <= y_range[1])\\\n",
    "            and (point[2] >= z_range[0] and point[2] <= z_range[1]):\n",
    "            indx.append(i)\n",
    "        i += 1\n",
    "\n",
    "    locations = np.array(list(filter(lambda point: (point[0] >= x_range[0]  and point[0] <= x_range[1])\n",
    "                                    and (point[1] >= y_range[0] and point[1] <= y_range[1])\n",
    "                                    and (point[2] >= z_range[0] and point[2] <= z_range[1]) , locations)))\n",
    "\n",
    "    if len(indx) > 0:\n",
    "        dimension_height = dimension_height[indx]\n",
    "        dimension_width = dimension_width[indx]\n",
    "        dimension_length = dimension_length[indx]\n",
    "        location_x = location_x[indx]\n",
    "        location_y = location_y[indx]\n",
    "        location_z = location_z[indx]\n",
    "        angles = angles[indx]\n",
    "        classes = classes[indx]\n",
    "        directions = directions[indx]\n",
    "    \n",
    "    print(dimension_height)\n",
    "    print(dimension_width)\n",
    "    print(dimension_length)\n",
    "    \n",
    "    if len(locations) > 0:\n",
    "        locations[:, :3] = locations[:, :3] - np.array([translate_x, translate_y, translate_z])\n",
    "#         location_x -= translate_x\n",
    "#         location_y -= translate_y\n",
    "#         location_z -= translate_z\n",
    "\n",
    "    # print('.......')\n",
    "    # print(len(locations))\n",
    "\n",
    "    points = [project_point_from_camera_coor_to_velo_coor([location_x[i], location_y[i], location_z[i]], \n",
    "                                                        [dimension_height[i], dimension_width[i], dimension_length[i]],\n",
    "                                                        angles[i],\n",
    "                                                         calib_data)\n",
    "                for i in range(len(locations))]\n",
    "    \n",
    "    x_size = (x_range[1] - x_range[0])\n",
    "    y_size = (y_range[1] - y_range[0])\n",
    "    z_size = (z_range[1] - z_range[0])\n",
    "            \n",
    "    x_fac = (size[0]-1) / x_size\n",
    "    y_fac = (size[1]-1) / y_size\n",
    "    z_fac = (size[2]-1) / z_size\n",
    "    if get_actual_dims:\n",
    "        import math\n",
    "        for i in range(len(points)):\n",
    "            b = points[i]\n",
    "            x0 = b[0][0]\n",
    "            y0 = b[0][1]\n",
    "            x1 = b[1][0]\n",
    "            y1 = b[1][1]\n",
    "            x2 = b[2][0]\n",
    "            y2 = b[2][1]\n",
    "            u0 = -(x0) * x_fac + size[0]\n",
    "            v0 = -(y0 + 40) * y_fac + size[1]\n",
    "            u1 = -(x1) * x_fac + size[0]\n",
    "            v1 = -(y1 + 40) * y_fac + size[1]\n",
    "            u2 = -(x2) * x_fac + size[0]\n",
    "            v2 = -(y2 + 40) * y_fac + size[1]\n",
    "            dimension_length[i] = math.sqrt((v1-v2)**2 + (u1-u2)**2)\n",
    "            dimension_width[i] = math.sqrt((v1-v0)**2 + (u1-u0)**2)\n",
    "            dimension_height[i] = math.sqrt((-(b[0][2]+(-1*z_range[1]))*z_fac+(-b[4][2]+z_range[1])*z_fac)**2)\n",
    "\n",
    "      \n",
    "    for i in range(len(locations)):\n",
    "        if angles[i] < 0:\n",
    "            angles[i] += 3.14\n",
    "\n",
    "    x_range = (x_range[0] + translate_x, x_range[1] + translate_x)\n",
    "    y_range = (y_range[0] + translate_y, y_range[1] + translate_y)\n",
    "    z_range = (z_range[0] + translate_z, z_range[1] + translate_z)\n",
    "    output = [[-(locations[i][0] + -1*x_range[0]) * x_fac + size[0], -(locations[i][1] + -1*y_range[0]) * y_fac + size[1], -(locations[i][2] + -1*z_range[0]) * z_fac + size[2], \n",
    "                dimension_length[i], dimension_width[i], dimension_height[i], angles[i]] \n",
    "                for i in range(len(locations))]\n",
    "    # import math\n",
    "    if ang != 0:\n",
    "        for i in range(len(locations)):\n",
    "            w = size[0]\n",
    "            h = size[1]\n",
    "            output[i][0], output[i][1] = rotate2((w//2, h//2), (output[i][0], output[i][1]), ang / 57.2958)\n",
    "            output[i][6] = output[i][6] - ang / 57.2958\n",
    "\n",
    "    output = list(filter(lambda point: 0 <= point[0] < size[0] and 0 <= point[1] < size[1] and 0 <= point[2] < size[2] , output))\n",
    "    output = np.array(output)\n",
    "    print(output)\n",
    "    return points, output, calib_data['Tr_velo_to_cam'], calib_data['R0_rect'], calib_data['P2'], directions\n"
   ]
  },
  {
   "cell_type": "code",
   "execution_count": 16,
   "metadata": {},
   "outputs": [],
   "source": [
    "list_files2 = list(map(lambda x: x.split('.')[0], os.listdir(base_path+'/data_object_image_3/training/image_3')))\n",
    "random.seed(0)\n",
    "random.shuffle(list_files2)\n",
    "ln = int(len(list_files2) * 0.5)\n",
    "list_files2= list_files2[:ln]"
   ]
  },
  {
   "cell_type": "code",
   "execution_count": 17,
   "metadata": {},
   "outputs": [],
   "source": [
    "i_c = 3\n",
    "current_file = list_files2[i_c]\n",
    "current_file = '005588'"
   ]
  },
  {
   "cell_type": "code",
   "execution_count": 18,
   "metadata": {},
   "outputs": [],
   "source": [
    "def sigmoid(x):\n",
    "    x = x.astype(np.float128)\n",
    "    x = 1 / (1 + np.exp(-x))\n",
    "    x = x.astype(np.float32)\n",
    "    return x\n",
    "\n",
    "def convert_prediction_into_real_values(label_tensor, truth_value=None,\n",
    "            anchors=np.array([3.9, 1.6, 1.5]), \n",
    "            input_size=(512, 448), output_size=(128, 112), is_label=False, th=0.5):\n",
    "\n",
    "    ratio = input_size[0] // output_size[0]\n",
    "    result = []\n",
    "    ones_index = np.where(sigmoid(label_tensor[:, :, :, -1])>=th)\n",
    "    if truth_value is not None:\n",
    "        ones_index = np.where(truth_value[:, :, :, -1]>=th)\n",
    "#     print(ones_index)\n",
    "    if len(ones_index) > 0 and len(ones_index[0]) > 0:\n",
    "        for i in range(0, len(ones_index[0]), 1):\n",
    "            x = ones_index[0][i]\n",
    "            y = ones_index[1][i]\n",
    "            \n",
    "            out = np.copy(label_tensor[ones_index[0][i], ones_index[1][i], ones_index[2][i], :])\n",
    "            anchor = np.array([x+0.5, y+0.5, 0.5, anchors[0], anchors[1], anchors[2]])\n",
    "#             if not is_label:\n",
    "#               out[:3] = sigmoid(out[:3])\n",
    "#             if not is_label:\n",
    "#                 out[:3] = 2 * sigmoid(out[:3]) - 1\n",
    "            out[:3] = np.tanh(out[:3])*0.5 * anchor[3:6] + anchor[:3]\n",
    "            \n",
    "            out[:2] = out[:2] * ratio\n",
    "            out[2] = out[2] * 40\n",
    "            \n",
    "            out[3:6] = np.square(np.maximum(0, out[3:6])) * anchors\n",
    "            \n",
    "            k = ones_index[2][i]\n",
    "            if not is_label:\n",
    "              out[6] = sigmoid(out[6]) * np.pi/2 - np.pi/4\n",
    "            if k == 0 and out[6] < 0:\n",
    "                out[6] = out[6] + np.pi\n",
    "                \n",
    "            out[6] = out[6] + k * (np.pi/2)\n",
    "                        \n",
    "            result.append(out)\n",
    "            \n",
    "    return np.array(result)"
   ]
  },
  {
   "cell_type": "code",
   "execution_count": 19,
   "metadata": {},
   "outputs": [],
   "source": [
    "def read_label(label_path, calib_path, shift_h, shift_w, x_range=(0, 71), y_range=(-40, 40), z_range=(-3.0, 1), \n",
    "                    size=(512, 448, 40), get_actual_dims=False, from_file=True, translate_x=0, translate_y=0, translate_z=0, ang=0, get_neg=False):\n",
    "\n",
    "    \"\"\"\n",
    "    the file format is as follows: \n",
    "    type, truncated, occluded, alpha, bbox_left, bbox_top, bbox_right, bbox_bottom,\n",
    "    dimensions_height, dimensions_width, dimensions_length, location_x, location_y, location_z,\n",
    "    rotation_y, score) \n",
    "    \"\"\"\n",
    "    if from_file:\n",
    "        lines = []\n",
    "        with open(label_path) as label_file:\n",
    "            lines = label_file.readlines()\n",
    "    else:\n",
    "        lines = label_path.split('\\n')\n",
    "    # filter car class\n",
    "    lines = list(map(lambda x: x.split(), lines))\n",
    "    if len(lines) > 0:\n",
    "        if get_neg:\n",
    "            lines = list(filter(lambda x: len(x) > 0 and ( x[0] not in ['Car', 'Van', 'Truck', 'Tram', 'DontCare']), lines))\n",
    "            if len(lines) > 0:\n",
    "                lines = lines[:1]\n",
    "        else:\n",
    "            lines = list(filter(lambda x: len(x) > 0 and ( x[0] in ['Car', 'Van', 'Truck', 'Tram']), lines))\n",
    "    \n",
    "    def get_parameter(index):\n",
    "        return list(map(lambda x: x[index], lines))\n",
    "    \n",
    "    classes = np.array(get_parameter(0))\n",
    "    dimension_height = np.array(get_parameter(8)).astype(float)\n",
    "    dimension_width = np.array(get_parameter(9)).astype(float)\n",
    "    dimension_length = np.array(get_parameter(10)).astype(float)\n",
    "    # TODO: take shift into consideration - URGENT\n",
    "    location_x = np.array(get_parameter(11)).astype(float)\n",
    "    location_y = np.array(get_parameter(12)).astype(float)\n",
    "    location_z = np.array(get_parameter(13)).astype(float)\n",
    "    angles = np.array(get_parameter(14)).astype(float)\n",
    "    directions = np.array(angles>= 0).astype(float)\n",
    "    \n",
    "    # print(len(classes))\n",
    "    calib_data = read_calib(calib_path)\n",
    "\n",
    "    locations = np.array([[location_x[i], location_y[i], location_z[i]] for i in range(len(classes))])\n",
    "    # print(locations)\n",
    "    if len(locations) > 0 and len(locations[0]) > 0:\n",
    "        locations = project_rect_to_velo(locations, calib_data['R0_rect'].reshape((3, 3)), calib_data['Tr_velo_to_cam'].reshape((3, 4)))\n",
    "    # print(locations)\n",
    "    # print(z_range)\n",
    "\n",
    "    indx = []\n",
    "    i = 0\n",
    "    for point in locations:\n",
    "        if (point[0] >= x_range[0]  and point[0] <= x_range[1])\\\n",
    "            and (point[1] >= y_range[0] and point[1] <= y_range[1])\\\n",
    "            and (point[2] >= z_range[0] and point[2] <= z_range[1]):\n",
    "            indx.append(i)\n",
    "        i += 1\n",
    "\n",
    "    locations = np.array(list(filter(lambda point: (point[0] >= x_range[0]  and point[0] <= x_range[1])\n",
    "                                    and (point[1] >= y_range[0] and point[1] <= y_range[1])\n",
    "                                    and (point[2] >= z_range[0] and point[2] <= z_range[1]) , locations)))\n",
    "\n",
    "    if len(indx) > 0:\n",
    "        dimension_height = dimension_height[indx]\n",
    "        dimension_width = dimension_width[indx]\n",
    "        dimension_length = dimension_length[indx]\n",
    "        location_x = location_x[indx]\n",
    "        location_y = location_y[indx]\n",
    "        location_z = location_z[indx]\n",
    "        angles = angles[indx]\n",
    "        classes = classes[indx]\n",
    "        directions = directions[indx]\n",
    "\n",
    "    if len(locations) > 0:\n",
    "        locations[:, :3] = locations[:, :3] - np.array([translate_x, translate_y, translate_z])\n",
    "\n",
    "    # print('.......')\n",
    "    # print(len(locations))\n",
    "\n",
    "    points = [project_point_from_camera_coor_to_velo_coor([location_x[i], location_y[i], location_z[i]], \n",
    "                                                        [dimension_height[i], dimension_width[i], dimension_length[i]],\n",
    "                                                        angles[i],\n",
    "                                                         calib_data)\n",
    "                for i in range(len(locations))]\n",
    "    \n",
    "    x_size = (x_range[1] - x_range[0])\n",
    "    y_size = (y_range[1] - y_range[0])\n",
    "    z_size = (z_range[1] - z_range[0])\n",
    "            \n",
    "    x_fac = (size[0]-1) / x_size\n",
    "    y_fac = (size[1]-1) / y_size\n",
    "    z_fac = (size[2]-1) / z_size\n",
    "#     z_range = (z_range[0] + translate_z, z_range[1] + translate_z)\n",
    "    if get_actual_dims:\n",
    "        import math\n",
    "        for i in range(len(points)):\n",
    "            print(points[i])\n",
    "            b = points[i]\n",
    "            x0 = b[0][0]\n",
    "            y0 = b[0][1]\n",
    "            x1 = b[1][0]\n",
    "            y1 = b[1][1]\n",
    "            x2 = b[2][0]\n",
    "            y2 = b[2][1]\n",
    "            u0 = -(x0) * x_fac + size[0]\n",
    "            v0 = -(y0 + 40) * y_fac + size[1]\n",
    "            u1 = -(x1) * x_fac + size[0]\n",
    "            v1 = -(y1 + 40) * y_fac + size[1]\n",
    "            u2 = -(x2) * x_fac + size[0]\n",
    "            v2 = -(y2 + 40) * y_fac + size[1]\n",
    "            dimension_length[i] = math.sqrt((v1-v2)**2 + (u1-u2)**2)\n",
    "            dimension_width[i] = math.sqrt((v1-v0)**2 + (u1-u0)**2)\n",
    "            print('----')\n",
    "            print(dimension_height[i])\n",
    "            dimension_height[i] = math.sqrt((-(b[0][2]+(-1*z_range[1]))*z_fac - (-b[4][2]+z_range[1])*z_fac)**2)\n",
    "            print(dimension_height[i])\n",
    "            print((-(b[0][2]+(-1*z_range[1]))*z_fac, (-b[4][2]+z_range[1])*z_fac))\n",
    "            print('----')\n",
    "      \n",
    "    for i in range(len(locations)):\n",
    "        if angles[i] < 0:\n",
    "            angles[i] += 3.14\n",
    "\n",
    "    x_range = (x_range[0] + translate_x, x_range[1] + translate_x)\n",
    "    y_range = (y_range[0] + translate_y, y_range[1] + translate_y)\n",
    "    z_range = (z_range[0] + translate_z, z_range[1] + translate_z)\n",
    "    output = [[-(locations[i][0] + -1*x_range[0]) * x_fac + size[0], -(locations[i][1] + -1*y_range[0]) * y_fac + size[1], -(locations[i][2] + -1*z_range[0]) * z_fac + size[2], \n",
    "                dimension_length[i], dimension_width[i], dimension_height[i], angles[i]] \n",
    "                for i in range(len(locations))]\n",
    "    # import math\n",
    "    if ang != 0:\n",
    "        for i in range(len(locations)):\n",
    "            w = size[0]\n",
    "            h = size[1]\n",
    "            output[i][0], output[i][1] = rotate2((w//2, h//2), (output[i][0], output[i][1]), ang / 57.2958)\n",
    "            output[i][6] = output[i][6] - ang / 57.2958\n",
    "\n",
    "    output = list(filter(lambda point: 0 <= point[0] < size[0] and 0 <= point[1] < size[1] and 0 <= point[2] < size[2] , output))\n",
    "    output = np.array(output)\n",
    "    print(output)\n",
    "    return points, output, calib_data['Tr_velo_to_cam'], calib_data['R0_rect'], calib_data['P2'], directions\n",
    "\n"
   ]
  },
  {
   "cell_type": "code",
   "execution_count": 20,
   "metadata": {},
   "outputs": [],
   "source": [
    "i_c = 0\n",
    "current_file = list_files2[i_c]"
   ]
  },
  {
   "cell_type": "code",
   "execution_count": 21,
   "metadata": {},
   "outputs": [],
   "source": [
    "dataset = DetectionDatasetLoader(base_path, None, 0.5, 0, True)"
   ]
  },
  {
   "cell_type": "code",
   "execution_count": 22,
   "metadata": {},
   "outputs": [
    {
     "name": "stdout",
     "output_type": "stream",
     "text": [
      "[[277.93890202 241.81142024  26.52739454   6.19         2.23\n",
      "    2.66         1.9       ]\n",
      " [ 54.2109628  199.61245091  21.60682072   3.64         1.59\n",
      "    1.53         1.4       ]]\n"
     ]
    }
   ],
   "source": [
    "camera_tensor, lidar_tensor, label_tensor, Tr_velo_to_cam, R0_rect, P3, shift_h, shift_w = dataset.get_next(1)"
   ]
  },
  {
   "cell_type": "code",
   "execution_count": 40,
   "metadata": {},
   "outputs": [
    {
     "name": "stdout",
     "output_type": "stream",
     "text": [
      "[[234.75580343 219.46142024  19.92399805   6.19         2.23\n",
      "    2.66         1.9       ]\n",
      " [ 11.0278642  177.26245091  15.00342423   3.64         1.59\n",
      "    1.53         1.4       ]]\n"
     ]
    }
   ],
   "source": [
    "camera_tensor, lidar_tensor, label_tensor, Tr_velo_to_cam, R0_rect, P3, shift_h, shift_w = dataset.get_next(1)"
   ]
  },
  {
   "cell_type": "code",
   "execution_count": 41,
   "metadata": {},
   "outputs": [
    {
     "data": {
      "text/plain": [
       "<matplotlib.image.AxesImage at 0x7f5474038860>"
      ]
     },
     "execution_count": 41,
     "metadata": {},
     "output_type": "execute_result"
    },
    {
     "data": {
      "image/png": "[encoded data removed]",
      "text/plain": [
       "<Figure size 432x288 with 1 Axes>"
      ]
     },
     "metadata": {
      "needs_background": "light"
     },
     "output_type": "display_data"
    }
   ],
   "source": [
    "plt.imshow(camera_tensor[0])"
   ]
  },
  {
   "cell_type": "code",
   "execution_count": 42,
   "metadata": {},
   "outputs": [
    {
     "data": {
      "text/plain": [
       "<matplotlib.image.AxesImage at 0x7f546c7c66d8>"
      ]
     },
     "execution_count": 42,
     "metadata": {},
     "output_type": "execute_result"
    },
    {
     "data": {
      "image/png": "[encoded data removed]",
      "text/plain": [
       "<Figure size 432x288 with 1 Axes>"
      ]
     },
     "metadata": {
      "needs_background": "light"
     },
     "output_type": "display_data"
    }
   ],
   "source": [
    "plt.imshow(np.clip(np.mean(lidar_tensor[0][:, :, :], 2), 0, 1)*255.)"
   ]
  },
  {
   "cell_type": "code",
   "execution_count": 43,
   "metadata": {},
   "outputs": [
    {
     "data": {
      "image/png": "[encoded data removed]",
      "text/plain": [
       "<Figure size 432x288 with 1 Axes>"
      ]
     },
     "metadata": {
      "needs_background": "light"
     },
     "output_type": "display_data"
    }
   ],
   "source": [
    "plt.imshow(label_tensor[0, :, :, 0, -1])\n",
    "plt.show()"
   ]
  },
  {
   "cell_type": "code",
   "execution_count": 44,
   "metadata": {},
   "outputs": [
    {
     "data": {
      "image/png": "[encoded data removed]",
      "text/plain": [
       "<Figure size 432x288 with 1 Axes>"
      ]
     },
     "metadata": {
      "needs_background": "light"
     },
     "output_type": "display_data"
    }
   ],
   "source": [
    "plt.imshow(label_tensor[0, :, :, 1, -1])\n",
    "plt.show()"
   ]
  },
  {
   "cell_type": "code",
   "execution_count": 45,
   "metadata": {},
   "outputs": [
    {
     "name": "stdout",
     "output_type": "stream",
     "text": [
      "[[67.91574903  7.47278477 -0.721162  ]\n",
      " [67.80907639  9.05912509 -0.70551469]\n",
      " [71.44067667  9.30293037 -0.66498627]\n",
      " [71.54734931  7.71659005 -0.68063358]\n",
      " [67.89976143  7.45661978  0.80866937]\n",
      " [67.79308879  9.04296009  0.82431668]\n",
      " [71.42468908  9.28676538  0.8648451 ]\n",
      " [71.53136172  7.70042506  0.84919779]]\n",
      "----\n",
      "1.5300002\n",
      "14.915855843764541\n",
      "(16.781329528972506, 1.8654736852079647)\n",
      "----\n",
      "[[35.36200416  0.32399885 -0.98589539]\n",
      " [35.64640255  2.53563248 -0.95955399]\n",
      " [41.78551646  1.74552705 -0.90374548]\n",
      " [41.50111807 -0.46610658 -0.93008688]\n",
      " [35.33420874  0.29589501  1.67381089]\n",
      " [35.61860712  2.50752864  1.70015229]\n",
      " [41.75772104  1.71742321  1.75596079]\n",
      " [41.47332265 -0.49421042  1.7296194 ]]\n",
      "----\n",
      "2.6599998\n",
      "25.932136192689732\n",
      "(19.362480020383966, -6.5696561723057645)\n",
      "----\n",
      "[[ 10.51314414 177.63284582  17.50747281  26.17276833   8.89686405\n",
      "   14.91585584   1.5038873 ]\n",
      " [234.37758424 218.71826202  19.96199924  44.40432911  12.52587498\n",
      "   25.93213619   1.6989193 ]]\n",
      "\n"
     ]
    },
    {
     "data": {
      "text/plain": [
       "<Figure size 432x288 with 0 Axes>"
      ]
     },
     "metadata": {},
     "output_type": "display_data"
    },
    {
     "data": {
      "image/png": "[encoded data removed]",
      "text/plain": [
       "<Figure size 432x288 with 1 Axes>"
      ]
     },
     "metadata": {
      "needs_background": "light"
     },
     "output_type": "display_data"
    }
   ],
   "source": [
    "converted_points = convert_prediction_into_real_values(label_tensor[0, :, :, :, :], th=0.6)\n",
    "points = get_points(converted_points, base_path + '/data_object_calib/training/calib/'+ current_file + '.txt', th=0.6)\n",
    "\n",
    "res = '\\n'.join([' '.join([str(l) for l in points[i]]) for i in range(len(points))])\n",
    "label_file_new = './'+ current_file + '.txt'\n",
    "text_file = open(label_file_new, \"wb+\")\n",
    "text_file.write(res.encode())\n",
    "text_file.close()\n",
    "\n",
    "all_data, label_bev, Tr_velo_to_cam, R0_rect, P3, _ = read_label(label_file_new, \n",
    "                                                  base_path + '/data_object_calib/training/calib/'+ current_file + '.txt', \n",
    "                                                  0, 0, get_actual_dims=True)\n",
    "\n",
    "plt.clf()\n",
    "fig,ax = plt.subplots(1)\n",
    "img = np.clip(np.mean(lidar_tensor[0][:, :, 13:], 2)*255, 0, 1)\n",
    "# img = cv2.resize(img, (112, 128))\n",
    "ax.imshow(img)\n",
    "\n",
    "for i in range(0, len(label_bev)):\n",
    "    w = label_bev[i][3] \n",
    "    h = label_bev[i][4] \n",
    "    x = label_bev[i][0]\n",
    "    y = label_bev[i][1]\n",
    "    plt.scatter(y, x, s=5, c='b')\n",
    "#     print(label_bev[i][6]*57.2958)\n",
    "    polygon = convert5Pointto8Point(y, x, w, h, -label_bev[i][6]*57.2958)\n",
    "    xs = polygon[0::2]\n",
    "    ys = polygon[1::2]\n",
    "    l = []\n",
    "    for j in range(4):\n",
    "        l.append([xs[j], ys[j]])\n",
    "\n",
    "    rect = patches.Polygon(l,linewidth=0.75,edgecolor='g',facecolor='none')\n",
    "    ax.add_patch(rect)\n",
    "#     if i ==1:\n",
    "#         break\n",
    "\n",
    "print()\n",
    "\n",
    "\n",
    "plt.show()"
   ]
  },
  {
   "cell_type": "code",
   "execution_count": 46,
   "metadata": {},
   "outputs": [
    {
     "name": "stdout",
     "output_type": "stream",
     "text": [
      "[[67.91574903  7.47278477 -0.721162  ]\n",
      " [67.80907639  9.05912509 -0.70551469]\n",
      " [71.44067667  9.30293037 -0.66498627]\n",
      " [71.54734931  7.71659005 -0.68063358]\n",
      " [67.89976143  7.45661978  0.80866937]\n",
      " [67.79308879  9.04296009  0.82431668]\n",
      " [71.42468908  9.28676538  0.8648451 ]\n",
      " [71.53136172  7.70042506  0.84919779]]\n",
      "----\n",
      "1.5300002\n",
      "14.915855843764541\n",
      "(16.781329528972506, 1.8654736852079647)\n",
      "----\n",
      "[[35.36200416  0.32399885 -0.98589539]\n",
      " [35.64640255  2.53563248 -0.95955399]\n",
      " [41.78551646  1.74552705 -0.90374548]\n",
      " [41.50111807 -0.46610658 -0.93008688]\n",
      " [35.33420874  0.29589501  1.67381089]\n",
      " [35.61860712  2.50752864  1.70015229]\n",
      " [41.75772104  1.71742321  1.75596079]\n",
      " [41.47332265 -0.49421042  1.7296194 ]]\n",
      "----\n",
      "2.6599998\n",
      "25.932136192689732\n",
      "(19.362480020383966, -6.5696561723057645)\n",
      "----\n",
      "[[ 10.51314414 177.63284582  17.50747281  26.17276833   8.89686405\n",
      "   14.91585584   1.5038873 ]\n",
      " [234.37758424 218.71826202  19.96199924  44.40432911  12.52587498\n",
      "   25.93213619   1.6989193 ]]\n",
      "\n"
     ]
    },
    {
     "data": {
      "text/plain": [
       "<Figure size 432x288 with 0 Axes>"
      ]
     },
     "metadata": {},
     "output_type": "display_data"
    },
    {
     "data": {
      "image/png": "[encoded data removed]",
      "text/plain": [
       "<Figure size 432x288 with 1 Axes>"
      ]
     },
     "metadata": {
      "needs_background": "light"
     },
     "output_type": "display_data"
    }
   ],
   "source": [
    "converted_points = convert_prediction_into_real_values(label_tensor[0, :, :, :, :], th=0.6)\n",
    "points = get_points(converted_points, base_path + '/data_object_calib/training/calib/'+ current_file + '.txt', th=0.6)\n",
    "\n",
    "res = '\\n'.join([' '.join([str(l) for l in points[i]]) for i in range(len(points))])\n",
    "label_file_new = './'+ current_file + '.txt'\n",
    "text_file = open(label_file_new, \"wb+\")\n",
    "text_file.write(res.encode())\n",
    "text_file.close()\n",
    "\n",
    "all_data, label_bev, Tr_velo_to_cam, R0_rect, P3, _ = read_label(label_file_new, \n",
    "                                                  base_path + '/data_object_calib/training/calib/'+ current_file + '.txt', \n",
    "                                                  0, 0, get_actual_dims=True)\n",
    "\n",
    "plt.clf()\n",
    "fig,ax = plt.subplots(1)\n",
    "img = np.clip(np.mean(lidar_tensor[0][:, :, 13:], 2)*255, 0, 1)\n",
    "# img = cv2.resize(img, (112, 128))\n",
    "ax.imshow(img)\n",
    "\n",
    "for i in range(0, len(label_bev)):\n",
    "    w = label_bev[i][3] \n",
    "    h = label_bev[i][4] \n",
    "    x = label_bev[i][0]\n",
    "    y = label_bev[i][1]\n",
    "    plt.scatter(y, x, s=5, c='b')\n",
    "#     print(label_bev[i][6]*57.2958)\n",
    "    polygon = convert5Pointto8Point(y, x, w, h, -label_bev[i][6]*57.2958)\n",
    "    xs = polygon[0::2]\n",
    "    ys = polygon[1::2]\n",
    "    l = []\n",
    "    for j in range(4):\n",
    "        l.append([xs[j], ys[j]])\n",
    "\n",
    "    rect = patches.Polygon(l,linewidth=0.75,edgecolor='g',facecolor='none')\n",
    "    ax.add_patch(rect)\n",
    "#     if i ==1:\n",
    "#         break\n",
    "\n",
    "print()\n",
    "\n",
    "\n",
    "plt.show()"
   ]
  },
  {
   "cell_type": "code",
   "execution_count": 47,
   "metadata": {},
   "outputs": [
    {
     "data": {
      "text/plain": [
       "(0.375, 0.375)"
      ]
     },
     "execution_count": 47,
     "metadata": {},
     "output_type": "execute_result"
    }
   ],
   "source": [
    "1.5/4, 15/40"
   ]
  },
  {
   "cell_type": "code",
   "execution_count": 48,
   "metadata": {},
   "outputs": [
    {
     "name": "stdout",
     "output_type": "stream",
     "text": [
      "(40, 448)\n",
      "26.172768330233417 8.896864050695118 14.915855843764541\n",
      "44.40432911176266 12.525874977753292 25.932136192689732\n"
     ]
    },
    {
     "data": {
      "text/plain": [
       "<Figure size 432x288 with 0 Axes>"
      ]
     },
     "metadata": {},
     "output_type": "display_data"
    },
    {
     "data": {
      "image/png": "[encoded data removed]",
      "text/plain": [
       "<Figure size 432x288 with 1 Axes>"
      ]
     },
     "metadata": {
      "needs_background": "light"
     },
     "output_type": "display_data"
    }
   ],
   "source": [
    "# Create figure and axes\n",
    "plt.clf()\n",
    "fig,ax = plt.subplots(1)\n",
    "\n",
    "# Display the image\n",
    "img = np.clip(np.mean(lidar_tensor[0].transpose()[:, :, :], 2), 0, 1)\n",
    "# img = cv2.resize(img, (112, 128))\n",
    "print(img.shape)\n",
    "ax.imshow(img)\n",
    "\n",
    "for i in range(0, len(label_bev)):\n",
    "    w = label_bev[i][3]\n",
    "    h = label_bev[i][4] \n",
    "    d = label_bev[i][5]\n",
    "    x = label_bev[i][0]\n",
    "    y = label_bev[i][1]\n",
    "    z = label_bev[i][2]\n",
    "    print(w, h, d)\n",
    "    plt.scatter(y, z, s=30)\n",
    "    a = label_bev[i][6]\n",
    "    if a < 0:\n",
    "      a = a + 3.14\n",
    "    \n",
    "    rect = patches.Rectangle((y-h/2, z-d/2),h, d, angle= 0,linewidth=0.75,edgecolor='r',facecolor='none')\n",
    "\n",
    "    ax.add_patch(rect)\n",
    "    \n",
    "plt.show()\n"
   ]
  },
  {
   "cell_type": "code",
   "execution_count": 49,
   "metadata": {},
   "outputs": [
    {
     "name": "stdout",
     "output_type": "stream",
     "text": [
      "(40, 448)\n",
      "26.172768330233417 8.896864050695118 14.915855843764541\n",
      "44.40432911176266 12.525874977753292 25.932136192689732\n"
     ]
    },
    {
     "data": {
      "text/plain": [
       "<Figure size 432x288 with 0 Axes>"
      ]
     },
     "metadata": {},
     "output_type": "display_data"
    },
    {
     "data": {
      "image/png": "[encoded data removed]",
      "text/plain": [
       "<Figure size 432x288 with 1 Axes>"
      ]
     },
     "metadata": {
      "needs_background": "light"
     },
     "output_type": "display_data"
    }
   ],
   "source": [
    "# Create figure and axes\n",
    "plt.clf()\n",
    "fig,ax = plt.subplots(1)\n",
    "\n",
    "# Display the image\n",
    "img = np.clip(np.mean(lidar_tensor[0].transpose()[:, :, :], 2), 0, 1)\n",
    "# img = cv2.resize(img, (112, 128))\n",
    "print(img.shape)\n",
    "ax.imshow(img)\n",
    "\n",
    "for i in range(0, len(label_bev)):\n",
    "    w = label_bev[i][3]\n",
    "    h = label_bev[i][4] \n",
    "    d = label_bev[i][5]\n",
    "    x = label_bev[i][0]\n",
    "    y = label_bev[i][1]\n",
    "    z = label_bev[i][2]\n",
    "    print(w, h, d)\n",
    "    plt.scatter(y, z, s=30)\n",
    "    a = label_bev[i][6]\n",
    "    if a < 0:\n",
    "      a = a + 3.14\n",
    "    \n",
    "    rect = patches.Rectangle((y-h/2, z-d/2),h, d, angle= 0,linewidth=0.75,edgecolor='r',facecolor='none')\n",
    "\n",
    "    ax.add_patch(rect)\n",
    "    \n",
    "plt.show()\n"
   ]
  },
  {
   "cell_type": "code",
   "execution_count": 50,
   "metadata": {},
   "outputs": [
    {
     "name": "stdout",
     "output_type": "stream",
     "text": [
      "Car -1 -1 -10 513 171 532 188 1.5300002 1.5899999 3.6400003 -8.366506584489384 1.4346052880763513 69.3960681823127 1.5038873 0.7310586\r\n",
      "Car -1 -1 -10 559 144 619 199 2.6599998 2.23 6.1899996 -1.018465341600835 1.2836127200713054 38.28977155635845 1.6989193 0.7310586"
     ]
    }
   ],
   "source": [
    "!cat $label_file_new "
   ]
  },
  {
   "cell_type": "code",
   "execution_count": 171,
   "metadata": {},
   "outputs": [
    {
     "name": "stdout",
     "output_type": "stream",
     "text": [
      "Car -1 -1 -10 548 180 567 198 1.5300002 1.5899999 3.6400003 -4.572588823367057 2.193394517367604 63.3300631724375 1.5038873 0.7310586\r\n",
      "Car -1 -1 -10 651 158 706 225 2.6599998 2.23 6.1899996 3.1395481537964036 2.102636953513009 32.22311335889085 1.6989193 0.7310586"
     ]
    }
   ],
   "source": [
    "!cat $label_file_new "
   ]
  },
  {
   "cell_type": "code",
   "execution_count": 48,
   "metadata": {},
   "outputs": [
    {
     "name": "stdout",
     "output_type": "stream",
     "text": [
      "95.11102799999999\n",
      "89.954406\n",
      "89.954406\n",
      "\n"
     ]
    },
    {
     "data": {
      "text/plain": [
       "<Figure size 432x288 with 0 Axes>"
      ]
     },
     "metadata": {},
     "output_type": "display_data"
    },
    {
     "data": {
      "image/png": "[encoded data removed]",
      "text/plain": [
       "<Figure size 432x288 with 1 Axes>"
      ]
     },
     "metadata": {
      "needs_background": "light"
     },
     "output_type": "display_data"
    }
   ],
   "source": [
    "converted_points = convert_prediction_into_real_values(label_tensor[0, :, :, :, :], th=0.6)\n",
    "points = get_points(converted_points, base_path + '/data_object_calib/training/calib/'+ current_file + '.txt', th=0.6)\n",
    "res = '\\n'.join([' '.join([str(l) for l in points[i]]) for i in range(len(points))])\n",
    "label_file_new = './'+ current_file + '.txt'\n",
    "text_file = open(label_file_new, \"wb+\")\n",
    "text_file.write(res.encode())\n",
    "text_file.close()\n",
    "\n",
    "all_data, label_bev, Tr_velo_to_cam, R0_rect, P3, _ = read_label(label_file_new, \n",
    "                                                  base_path + '/data_object_calib/training/calib/'+ current_file + '.txt', \n",
    "                                                  0, 0, get_actual_dims=True)\n",
    "\n",
    "plt.clf()\n",
    "fig,ax = plt.subplots(1)\n",
    "ax.imshow(np.clip(np.mean(lidar_tensor[0][:, :, 9:], 2), 0, 1)*255.)\n",
    "\n",
    "for i in range(0, len(label_bev)):\n",
    "    w = label_bev[i][3] \n",
    "    h = label_bev[i][4] \n",
    "    x = label_bev[i][0]\n",
    "    y = label_bev[i][1]\n",
    "    plt.scatter(y, x, s=10, c='b')\n",
    "    print(label_bev[i][6]*57.2958)\n",
    "    polygon = convert5Pointto8Point(y, x, w, h, label_bev[i][6]*57.2958)\n",
    "    xs = polygon[0::2]\n",
    "    ys = polygon[1::2]\n",
    "    l = []\n",
    "    for j in range(4):\n",
    "        l.append([xs[j], ys[j]])\n",
    "\n",
    "    rect = patches.Polygon(l,linewidth=0.75,edgecolor='g',facecolor='none')\n",
    "    ax.add_patch(rect)\n",
    "\n",
    "print()\n",
    "\n",
    "\n",
    "plt.show()"
   ]
  },
  {
   "cell_type": "code",
   "execution_count": null,
   "metadata": {},
   "outputs": [],
   "source": []
  },
  {
   "cell_type": "code",
   "execution_count": null,
   "metadata": {},
   "outputs": [],
   "source": []
  },
  {
   "cell_type": "code",
   "execution_count": null,
   "metadata": {},
   "outputs": [],
   "source": []
  },
  {
   "cell_type": "code",
   "execution_count": null,
   "metadata": {},
   "outputs": [],
   "source": []
  },
  {
   "cell_type": "code",
   "execution_count": null,
   "metadata": {},
   "outputs": [],
   "source": []
  }
 ],
 "metadata": {
  "kernelspec": {
   "display_name": "env",
   "language": "python",
   "name": "env"
  },
  "language_info": {
   "codemirror_mode": {
    "name": "ipython",
    "version": 3
   },
   "file_extension": ".py",
   "mimetype": "text/x-python",
   "name": "python",
   "nbconvert_exporter": "python",
   "pygments_lexer": "ipython3",
   "version": "3.5.2"
  }
 },
 "nbformat": 4,
 "nbformat_minor": 2
}
