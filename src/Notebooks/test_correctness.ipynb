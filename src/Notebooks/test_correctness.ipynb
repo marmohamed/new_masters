{
 "cells": [
  {
   "cell_type": "code",
   "execution_count": 1,
   "metadata": {},
   "outputs": [],
   "source": [
    "%load_ext autoreload\n",
    "%autoreload 2.0\n",
    "%matplotlib inline"
   ]
  },
  {
   "cell_type": "code",
   "execution_count": 2,
   "metadata": {},
   "outputs": [
    {
     "name": "stderr",
     "output_type": "stream",
     "text": [
      "/home/injy/mariam_workspace/env/lib/python3.5/site-packages/tensorflow/python/framework/dtypes.py:516: FutureWarning: Passing (type, 1) or '1type' as a synonym of type is deprecated; in a future version of numpy, it will be understood as (type, (1,)) / '(1,)type'.\n",
      "  _np_qint8 = np.dtype([(\"qint8\", np.int8, 1)])\n",
      "/home/injy/mariam_workspace/env/lib/python3.5/site-packages/tensorflow/python/framework/dtypes.py:517: FutureWarning: Passing (type, 1) or '1type' as a synonym of type is deprecated; in a future version of numpy, it will be understood as (type, (1,)) / '(1,)type'.\n",
      "  _np_quint8 = np.dtype([(\"quint8\", np.uint8, 1)])\n",
      "/home/injy/mariam_workspace/env/lib/python3.5/site-packages/tensorflow/python/framework/dtypes.py:518: FutureWarning: Passing (type, 1) or '1type' as a synonym of type is deprecated; in a future version of numpy, it will be understood as (type, (1,)) / '(1,)type'.\n",
      "  _np_qint16 = np.dtype([(\"qint16\", np.int16, 1)])\n",
      "/home/injy/mariam_workspace/env/lib/python3.5/site-packages/tensorflow/python/framework/dtypes.py:519: FutureWarning: Passing (type, 1) or '1type' as a synonym of type is deprecated; in a future version of numpy, it will be understood as (type, (1,)) / '(1,)type'.\n",
      "  _np_quint16 = np.dtype([(\"quint16\", np.uint16, 1)])\n",
      "/home/injy/mariam_workspace/env/lib/python3.5/site-packages/tensorflow/python/framework/dtypes.py:520: FutureWarning: Passing (type, 1) or '1type' as a synonym of type is deprecated; in a future version of numpy, it will be understood as (type, (1,)) / '(1,)type'.\n",
      "  _np_qint32 = np.dtype([(\"qint32\", np.int32, 1)])\n",
      "/home/injy/mariam_workspace/env/lib/python3.5/site-packages/tensorflow/python/framework/dtypes.py:525: FutureWarning: Passing (type, 1) or '1type' as a synonym of type is deprecated; in a future version of numpy, it will be understood as (type, (1,)) / '(1,)type'.\n",
      "  np_resource = np.dtype([(\"resource\", np.ubyte, 1)])\n",
      "/home/injy/mariam_workspace/env/lib/python3.5/site-packages/tensorboard/compat/tensorflow_stub/dtypes.py:541: FutureWarning: Passing (type, 1) or '1type' as a synonym of type is deprecated; in a future version of numpy, it will be understood as (type, (1,)) / '(1,)type'.\n",
      "  _np_qint8 = np.dtype([(\"qint8\", np.int8, 1)])\n",
      "/home/injy/mariam_workspace/env/lib/python3.5/site-packages/tensorboard/compat/tensorflow_stub/dtypes.py:542: FutureWarning: Passing (type, 1) or '1type' as a synonym of type is deprecated; in a future version of numpy, it will be understood as (type, (1,)) / '(1,)type'.\n",
      "  _np_quint8 = np.dtype([(\"quint8\", np.uint8, 1)])\n",
      "/home/injy/mariam_workspace/env/lib/python3.5/site-packages/tensorboard/compat/tensorflow_stub/dtypes.py:543: FutureWarning: Passing (type, 1) or '1type' as a synonym of type is deprecated; in a future version of numpy, it will be understood as (type, (1,)) / '(1,)type'.\n",
      "  _np_qint16 = np.dtype([(\"qint16\", np.int16, 1)])\n",
      "/home/injy/mariam_workspace/env/lib/python3.5/site-packages/tensorboard/compat/tensorflow_stub/dtypes.py:544: FutureWarning: Passing (type, 1) or '1type' as a synonym of type is deprecated; in a future version of numpy, it will be understood as (type, (1,)) / '(1,)type'.\n",
      "  _np_quint16 = np.dtype([(\"quint16\", np.uint16, 1)])\n",
      "/home/injy/mariam_workspace/env/lib/python3.5/site-packages/tensorboard/compat/tensorflow_stub/dtypes.py:545: FutureWarning: Passing (type, 1) or '1type' as a synonym of type is deprecated; in a future version of numpy, it will be understood as (type, (1,)) / '(1,)type'.\n",
      "  _np_qint32 = np.dtype([(\"qint32\", np.int32, 1)])\n",
      "/home/injy/mariam_workspace/env/lib/python3.5/site-packages/tensorboard/compat/tensorflow_stub/dtypes.py:550: FutureWarning: Passing (type, 1) or '1type' as a synonym of type is deprecated; in a future version of numpy, it will be understood as (type, (1,)) / '(1,)type'.\n",
      "  np_resource = np.dtype([(\"resource\", np.ubyte, 1)])\n"
     ]
    }
   ],
   "source": [
    "import os\n",
    "import glob\n",
    "import matplotlib.pyplot as plt\n",
    "import matplotlib.image as mpimg\n",
    "import matplotlib.patches as patches\n",
    "import numpy as np\n",
    "import sys\n",
    "sys.path.insert(0, '../.')\n",
    "from data.detection_dataset_loader import *\n",
    "from scipy.spatial.transform import Rotation as R\n",
    "from data.data_utils.data_reader import *\n",
    "from data.data_utils.reader_utils import *\n",
    "import math\n",
    "import numpy.matlib as npm\n",
    "\n",
    "from scipy.interpolate import RegularGridInterpolator, NearestNDInterpolator"
   ]
  },
  {
   "cell_type": "code",
   "execution_count": 17,
   "metadata": {},
   "outputs": [],
   "source": [
    "def get_augmentation_parameters( training):\n",
    "        if training:\n",
    "\n",
    "                    if np.random.random_sample() >= 0.5:\n",
    "                        image_translate_x = random.randint(-50, 50)\n",
    "                    else:\n",
    "                        image_translate_x = 0\n",
    "                    if np.random.random_sample() >= 0.5:\n",
    "                        image_translate_y = random.randint(-25, 25)\n",
    "                    else:\n",
    "                        image_translate_y = 0\n",
    "\n",
    "                    if np.random.random_sample() >= 0.5:\n",
    "                        translate_x = random.randint(-20, 20)\n",
    "                    else:\n",
    "                        translate_x = 0\n",
    "                    if np.random.random_sample() >= 0.5:\n",
    "                        translate_y = random.randint(-20, 20)\n",
    "                    else:\n",
    "                        translate_y = 0\n",
    "\n",
    "                    if np.random.random_sample() >= 0.8:\n",
    "                        translate_z = random.random() - 0.5\n",
    "                    else:\n",
    "                        translate_z = 0\n",
    "\n",
    "                    if np.random.random_sample() >= 0.3:\n",
    "                        ang = random.randint(-5, 5)\n",
    "                    else:\n",
    "                        ang = 0\n",
    "\n",
    "                    r = R.from_rotvec(np.radians(ang) * np.array([0, 0, 1]))\n",
    "                    rot = r.as_dcm()\n",
    "                    rot = np.append(rot, np.array([[0,0,0]]), axis=0)\n",
    "                    rot = np.append(rot, np.array([[0],[0],[0],[1]]), axis=1)\n",
    "\n",
    "                    tr_x = translate_x\n",
    "                    tr_y = translate_y\n",
    "                    tr_z = translate_z\n",
    "                    tr = np.array([[tr_x], [tr_y], [tr_z], [0]])\n",
    "                    \n",
    "                    translate_x = 0\n",
    "                    translate_y = 0\n",
    "                    translate_z = 0\n",
    "                    \n",
    "                    sc_x = 1\n",
    "                    sc_y = 2\n",
    "                    sc_z = 1\n",
    "\n",
    "                    if np.random.random_sample() >= 0.5:\n",
    "                       sc_x += ((random.random() * 2) - 1.) / 10.\n",
    "\n",
    "                    if np.random.random_sample() >= 0.5:\n",
    "                       sc_y += ((random.random() * 2) - 1.) / 10.\n",
    "\n",
    "\n",
    "                    sc = np.array([[sc_x, 0, 0, 0], [0, sc_y, 0, 0], [0, 0, sc_z, 0], [0, 0, 0, 1]])\n",
    "                    \n",
    "                    fliplr = np.random.random_sample() >= 0.5\n",
    "\n",
    "        else:\n",
    "                    image_translate_x = 0\n",
    "                    image_translate_y = 0\n",
    "\n",
    "                    translate_x = 0\n",
    "                    translate_y = 0\n",
    "                    translate_z = 0\n",
    "                    ang = 0\n",
    "\n",
    "                    r = R.from_rotvec(np.radians(0) * np.array([0, 0, 1]))\n",
    "                    rot = r.as_dcm()\n",
    "                    rot = np.append(rot, np.array([[0,0,0]]), axis=0)\n",
    "                    rot = np.append(rot, np.array([[0],[0],[0],[1]]), axis=1)\n",
    "\n",
    "                    tr_x = 0\n",
    "                    tr_y = 0\n",
    "                    tr_z = 0\n",
    "                    tr = np.array([[tr_x], [tr_y], [tr_z], [0]])\n",
    "\n",
    "                    sc_x = 1\n",
    "                    sc_y = 1\n",
    "                    sc_z = 1\n",
    "                    sc = np.array([[sc_x, 0, 0, 0], [0, sc_y, 0, 0], [0, 0, sc_z, 0], [0, 0, 0, 1]])\n",
    "                    \n",
    "                    fliplr = False\n",
    "\n",
    "        return rot, tr, sc, image_translate_x, image_translate_y, ang, fliplr"
   ]
  },
  {
   "cell_type": "code",
   "execution_count": 18,
   "metadata": {},
   "outputs": [],
   "source": [
    "training=True\n",
    "base_path = '../../../Data/'\n",
    "list_files = list(map(lambda x: x.split('.')[0], os.listdir(base_path+'/data_object_image_3/training/image_3/')))\n",
    "# print(len(list_files))\n",
    "# random.seed(0)\n",
    "# random.shuffle(list_files)\n",
    "if True:\n",
    "    file_name = '/train.txt'\n",
    "else:\n",
    "    file_name = '/val.txt'\n",
    "with open(base_path + file_name, 'r') as f:\n",
    "            list_file_nums = f.readlines()\n",
    "list_files = [ l.strip() for l in list_file_nums]\n",
    "\n",
    "            \n",
    "\n",
    "\n",
    "label_paths = list(map(lambda x: base_path + '/data_object_label_2/training/label_2/' + x + '.txt', list_files[:]))\n",
    "calib_paths = list(map(lambda x: base_path + '/data_object_calib/training/calib/' + x + '.txt', list_files[:]))\n",
    "\n",
    "\n",
    "# camera_paths = list(map(lambda x: base_path+'/data_object_image_3/training/image_3/' + x + '.png', list_files))\n",
    "# lidar_paths = list(map(lambda x: base_path+'/data_object_velodyne/training/velodyne/' + x + '.bin', list_files))\n",
    "# label_paths = list(map(lambda x: base_path + '/data_object_label_2/training/label_2/' + x + '.txt', list_files))\n",
    "# calib_paths = list(map(lambda x: base_path + '/data_object_calib/training/calib/' + x + '.txt', list_files))\n",
    "\n",
    "list_files = list_files[:]\n",
    "list_label_paths = label_paths[:]\n",
    "list_calib_paths = calib_paths[:]"
   ]
  },
  {
   "cell_type": "code",
   "execution_count": 19,
   "metadata": {},
   "outputs": [],
   "source": [
    "def get_target2(labels, truncated, occlusion, anchors=np.array([3.9, 1.6, 1.5]), input_size=(448, 512), output_size=(112, 128, 35)):\n",
    "    ratio = input_size[0] // output_size[0]\n",
    "    ratio = 1\n",
    "    y_target = np.zeros((output_size[0], output_size[1], 2, 13), np.float32)\n",
    "    for i in range(len(labels)):\n",
    "        label_i = np.array(labels[i])\n",
    "\n",
    "        x = int(label_i[0]/ratio)\n",
    "        y = int(label_i[1]/ratio)\n",
    "\n",
    "        if x >= output_size[0]:\n",
    "            x = output_size[0] - 1\n",
    "        if y >= output_size[1]:\n",
    "            y = output_size[1] - 1\n",
    "\n",
    "        if x < 0 or y < 0:\n",
    "            continue\n",
    "\n",
    "        # label_i[0:2] = label_i[0:2] / (ratio*1.0)\n",
    "        label_i[2] = label_i[2] / (output_size[2]*1.)\n",
    "        ang = label_i[6]\n",
    "\n",
    "        if ang < 0:\n",
    "          dir_ = 0\n",
    "        else:\n",
    "          dir_ = 1\n",
    "        while ang < 0:\n",
    "          ang += np.pi\n",
    "        k = 0\n",
    "        if (ang > np.pi/4 and ang < (3/4.)* np.pi) or (ang < -np.pi/4 and ang > -(3./4.)* np.pi):\n",
    "          k = 1\n",
    "\n",
    "        if ang > (3./4.) * np.pi:\n",
    "          ang -= np.pi\n",
    "        label_i[6] = ang - k * (np.pi/2)\n",
    "        label_i = np.append(label_i, [dir_])\n",
    "        \n",
    "        anchor = np.array([x+0.5, y+0.5, 0.5, anchors[0], anchors[1], anchors[2]])\n",
    "    \n",
    "        label_i[:3] = (label_i[:3] - anchor[:3]) \n",
    "        label_i[3:6] = np.log(label_i[3:6])\n",
    "\n",
    "#         mins = np.array([-0.5, -0.5, 0, 0.8, 0.3, 0.13, -1.1, -1.1])\n",
    "#         maxs = np.array([0.5, 0.5, 1, 2.6, 1.4, 0.82, 1.1, 1.1])\n",
    "        mins = np.array([0, 0, 0, -0.1, -0.1, -0.1, -1.1, -1.1])\n",
    "        maxs = np.array([0, 0, 0, 3, 2, 2, 1.1, 1.1])\n",
    "        \n",
    "        label_i[3:6] = ((label_i[3:6] - mins[3:6]) / (maxs[3:6]-mins[3:6])) * 2 - 1\n",
    "        z = [0, 0, 0, 0]\n",
    "        z[occlusion[i]] = 1\n",
    "\n",
    "        y_target[x, y, k, :8] = label_i\n",
    "        y_target[x, y, k, 8:9] = [1]\n",
    "        y_target[x, y, k, 9:13] = z\n",
    "        \n",
    "    return y_target"
   ]
  },
  {
   "cell_type": "code",
   "execution_count": 20,
   "metadata": {},
   "outputs": [],
   "source": [
    "new_labels = []\n",
    "max_labels = []\n",
    "for i_c in range(len(list_files)):\n",
    "    rot, tr, sc, image_translate_x, image_translate_y, ang, fliplr = get_augmentation_parameters(True)\n",
    "    data_reader_obj = DataReader(None,\n",
    "                                 list_calib_paths[i_c], \n",
    "                                 list_label_paths[i_c], \n",
    "                                 None, \n",
    "                                 rot, sc, tr, ang, image_translate_x, image_translate_y, get_actual_dims=False, fliplr=fliplr)\n",
    "    _, label, truncated, occlusion = data_reader_obj.read_label()\n",
    "    label2 = get_target(label, truncated, occlusion, anchors=np.array([3.9, 1.6, 1.5]))\n",
    "    new_labels.extend(label2)"
   ]
  },
  {
   "cell_type": "code",
   "execution_count": 21,
   "metadata": {},
   "outputs": [],
   "source": [
    "new_labels = np.array(new_labels)"
   ]
  },
  {
   "cell_type": "code",
   "execution_count": 22,
   "metadata": {},
   "outputs": [
    {
     "name": "stdout",
     "output_type": "stream",
     "text": [
      "i =  0 , min =  -0.49998975 , max =  0.49981305\n",
      "i =  1 , min =  -0.4999575 , max =  0.49991935\n",
      "i =  2 , min =  -0.39025956 , max =  0.4961353\n",
      "i =  3 , min =  -0.4738529 , max =  0.73042744\n",
      "i =  4 , min =  -0.68063706 , max =  0.44166318\n",
      "i =  5 , min =  -0.7799731 , max =  0.0\n",
      "i =  6 , min =  -0.7842971 , max =  0.7850934\n",
      "i =  7 , min =  0.0 , max =  1.0\n"
     ]
    }
   ],
   "source": [
    "for i in range(8):\n",
    "    print(\"i = \", i, \", min = \", np.min(new_labels[:, :, :, i]), \", max = \", np.max(new_labels[:, :, :, i]))"
   ]
  },
  {
   "cell_type": "code",
   "execution_count": null,
   "metadata": {},
   "outputs": [],
   "source": []
  },
  {
   "cell_type": "code",
   "execution_count": 39,
   "metadata": {},
   "outputs": [
    {
     "name": "stdout",
     "output_type": "stream",
     "text": [
      "i =  0 , min =  -0.49985272 , max =  0.49995843\n",
      "i =  1 , min =  -0.49997813 , max =  0.49999264\n",
      "i =  2 , min =  -0.39025956 , max =  0.4961353\n",
      "i =  3 , min =  -0.99777603 , max =  0.21957763\n",
      "i =  4 , min =  -1.3072213 , max =  0.0\n",
      "i =  5 , min =  -0.9970195 , max =  1.255822\n",
      "i =  6 , min =  -0.78159267 , max =  0.78159267\n",
      "i =  7 , min =  0.0 , max =  1.0\n"
     ]
    }
   ],
   "source": [
    "for i in range(8):\n",
    "    print(\"i = \", i, \", min = \", np.min(new_labels[:, :, :, i]), \", max = \", np.max(new_labels[:, :, :, i]))"
   ]
  },
  {
   "cell_type": "code",
   "execution_count": null,
   "metadata": {},
   "outputs": [],
   "source": []
  },
  {
   "cell_type": "code",
   "execution_count": 9,
   "metadata": {},
   "outputs": [
    {
     "name": "stdout",
     "output_type": "stream",
     "text": [
      "i =  0 , min =  -0.49999299862620816 , max =  0.4999807417197495\n",
      "i =  1 , min =  -0.4999349434847602 , max =  0.49983609717586575\n",
      "i =  2 , min =  -0.3902595577127191 , max =  0.4961353037370957\n",
      "i =  3 , min =  0.8020267138550041 , max =  2.590198504028226\n",
      "i =  4 , min =  0.3146345576980875 , max =  1.3812716659764364\n",
      "i =  5 , min =  0.1310282624064038 , max =  0.810930216216329\n",
      "i =  6 , min =  -0.9999998142567856 , max =  0.9999998142567856\n",
      "i =  7 , min =  -1.0 , max =  1.0\n"
     ]
    }
   ],
   "source": [
    "for i in range(8):\n",
    "    print(\"i = \", i, \", min = \", np.min(new_labels[:, i]), \", max = \", np.max(new_labels[:, i]))"
   ]
  },
  {
   "cell_type": "code",
   "execution_count": 28,
   "metadata": {},
   "outputs": [
    {
     "data": {
      "text/plain": [
       "(array([   8.,  104., 1305., 4762., 3925., 1728.,  786.,  276.,  126.,\n",
       "          14.]),\n",
       " array([-0.99701953, -0.7999465 , -0.60287347, -0.40580044, -0.20872741,\n",
       "        -0.01165438,  0.18541865,  0.38249168,  0.57956471,  0.77663774,\n",
       "         0.97371077]),\n",
       " <a list of 10 Patch objects>)"
      ]
     },
     "execution_count": 28,
     "metadata": {},
     "output_type": "execute_result"
    },
    {
     "data": {
      "image/png": "[encoded data removed]",
      "text/plain": [
       "<Figure size 432x288 with 1 Axes>"
      ]
     },
     "metadata": {
      "needs_background": "light"
     },
     "output_type": "display_data"
    }
   ],
   "source": [
    "plt.hist(new_labels[:, 5])"
   ]
  },
  {
   "cell_type": "code",
   "execution_count": 33,
   "metadata": {},
   "outputs": [
    {
     "data": {
      "text/plain": [
       "(array([1283., 1249., 1315., 1298., 1357., 1407., 1282., 1267., 1298.,\n",
       "        1295.]),\n",
       " array([-4.99830863e-01, -3.99861966e-01, -2.99893069e-01, -1.99924172e-01,\n",
       "        -9.99552754e-02,  1.36214511e-05,  9.99825183e-02,  1.99951415e-01,\n",
       "         2.99920312e-01,  3.99889209e-01,  4.99858106e-01]),\n",
       " <a list of 10 Patch objects>)"
      ]
     },
     "execution_count": 33,
     "metadata": {},
     "output_type": "execute_result"
    },
    {
     "data": {
      "image/png": "[encoded data removed]",
      "text/plain": [
       "<Figure size 432x288 with 1 Axes>"
      ]
     },
     "metadata": {
      "needs_background": "light"
     },
     "output_type": "display_data"
    }
   ],
   "source": [
    "plt.hist(new_labels[:, 0])"
   ]
  },
  {
   "cell_type": "code",
   "execution_count": 35,
   "metadata": {},
   "outputs": [
    {
     "data": {
      "text/plain": [
       "(array([2.000e+00, 3.000e+00, 2.100e+01, 4.100e+01, 9.500e+01, 2.450e+02,\n",
       "        5.590e+02, 1.269e+03, 3.193e+03, 7.623e+03]),\n",
       " array([-8.68479956e+00, -7.81633379e+00, -6.94786803e+00, -6.07940226e+00,\n",
       "        -5.21093650e+00, -4.34247073e+00, -3.47400496e+00, -2.60553920e+00,\n",
       "        -1.73707343e+00, -8.68607670e-01, -1.41904498e-04]),\n",
       " <a list of 10 Patch objects>)"
      ]
     },
     "execution_count": 35,
     "metadata": {},
     "output_type": "execute_result"
    },
    {
     "data": {
      "image/png": "[encoded data removed]",
      "text/plain": [
       "<Figure size 432x288 with 1 Axes>"
      ]
     },
     "metadata": {
      "needs_background": "light"
     },
     "output_type": "display_data"
    }
   ],
   "source": [
    "plt.hist(np.log(new_labels[:, 0]+0.5))"
   ]
  },
  {
   "cell_type": "code",
   "execution_count": 7,
   "metadata": {
    "collapsed": true
   },
   "outputs": [],
   "source": [
    "list_angles = np.array(list_angles)\n",
    "list_original_angles = np.array(list_original_angles)\n",
    "list_angles_0 = np.array(list_angles_0)\n",
    "list_angles_1 = np.array(list_angles_1)"
   ]
  },
  {
   "cell_type": "code",
   "execution_count": 8,
   "metadata": {},
   "outputs": [
    {
     "data": {
      "text/plain": [
       "(0.7815926535897932, -0.7815926535897932)"
      ]
     },
     "execution_count": 8,
     "metadata": {},
     "output_type": "execute_result"
    }
   ],
   "source": [
    "np.max(list_angles), np.min(list_angles)"
   ]
  },
  {
   "cell_type": "code",
   "execution_count": 9,
   "metadata": {},
   "outputs": [
    {
     "data": {
      "text/plain": [
       "(0.7815926535897932, -0.7815926535897932)"
      ]
     },
     "execution_count": 9,
     "metadata": {},
     "output_type": "execute_result"
    }
   ],
   "source": [
    "np.max(list_angles_0), np.min(list_angles_0)"
   ]
  },
  {
   "cell_type": "code",
   "execution_count": 10,
   "metadata": {},
   "outputs": [
    {
     "data": {
      "text/plain": [
       "(2.351592653589793, 0.79)"
      ]
     },
     "execution_count": 10,
     "metadata": {},
     "output_type": "execute_result"
    }
   ],
   "source": [
    "np.max(list_angles_1), np.min(list_angles_1)"
   ]
  },
  {
   "cell_type": "code",
   "execution_count": 11,
   "metadata": {},
   "outputs": [
    {
     "data": {
      "text/plain": [
       "(3.14, 0.0)"
      ]
     },
     "execution_count": 11,
     "metadata": {},
     "output_type": "execute_result"
    }
   ],
   "source": [
    "np.max(list_original_angles), np.min(list_original_angles)"
   ]
  },
  {
   "cell_type": "code",
   "execution_count": null,
   "metadata": {
    "collapsed": true
   },
   "outputs": [],
   "source": []
  },
  {
   "cell_type": "code",
   "execution_count": 19,
   "metadata": {},
   "outputs": [
    {
     "data": {
      "text/plain": [
       "(0.7800000000000002, -0.7815926535897932)"
      ]
     },
     "execution_count": 19,
     "metadata": {},
     "output_type": "execute_result"
    }
   ],
   "source": [
    "np.max(list_angles), np.min(list_angles)"
   ]
  },
  {
   "cell_type": "code",
   "execution_count": 20,
   "metadata": {},
   "outputs": [
    {
     "data": {
      "text/plain": [
       "(3.14, 0.0)"
      ]
     },
     "execution_count": 20,
     "metadata": {},
     "output_type": "execute_result"
    }
   ],
   "source": [
    "np.max(list_original_angles), np.min(list_original_angles)"
   ]
  },
  {
   "cell_type": "code",
   "execution_count": 23,
   "metadata": {},
   "outputs": [
    {
     "data": {
      "text/plain": [
       "(3.141592653589793, 1.5707963267948966, 0.7853981633974483)"
      ]
     },
     "execution_count": 23,
     "metadata": {},
     "output_type": "execute_result"
    }
   ],
   "source": [
    "np.pi, np.pi/2, np.pi/4"
   ]
  },
  {
   "cell_type": "code",
   "execution_count": null,
   "metadata": {
    "collapsed": true
   },
   "outputs": [],
   "source": []
  },
  {
   "cell_type": "code",
   "execution_count": 7,
   "metadata": {},
   "outputs": [],
   "source": [
    "i_c = 3\n",
    "rot, tr, sc, image_translate_x, image_translate_y, ang, fliplr = get_augmentation_parameters(False)\n",
    "data_reader_obj = DataReader(None,\n",
    "                                 list_calib_paths[i_c], \n",
    "                                 list_label_paths[i_c], \n",
    "                                 None, \n",
    "                                 rot, sc, tr, ang, image_translate_x, image_translate_y, get_actual_dims=False, fliplr=fliplr)\n",
    "_, label, directions = data_reader_obj.label_reader.read_label()\n",
    "label2 = get_target(label, directions,  anchors=np.array([3.9, 1.6, 1.5]))"
   ]
  },
  {
   "cell_type": "code",
   "execution_count": 9,
   "metadata": {},
   "outputs": [
    {
     "data": {
      "text/plain": [
       "(1, array([[278.3097315 , 178.11101949,  26.43074065,   4.26      ,\n",
       "           1.74      ,   1.47      ,   3.09      ]]))"
      ]
     },
     "execution_count": 9,
     "metadata": {},
     "output_type": "execute_result"
    }
   ],
   "source": [
    "len(label), label"
   ]
  },
  {
   "cell_type": "code",
   "execution_count": 10,
   "metadata": {},
   "outputs": [
    {
     "data": {
      "text/plain": [
       "(array([69]), array([44]), array([0]))"
      ]
     },
     "execution_count": 10,
     "metadata": {},
     "output_type": "execute_result"
    }
   ],
   "source": [
    "np.where(label2[:, :, :, 8] >= 0.5)"
   ]
  },
  {
   "cell_type": "code",
   "execution_count": 11,
   "metadata": {},
   "outputs": [
    {
     "data": {
      "text/plain": [
       "array([ 0.01985458,  0.0173468 , -0.22615433,  0.08829261,  0.08388148,\n",
       "       -0.02020271, -0.05159265,  1.        ,  1.        ], dtype=float32)"
      ]
     },
     "execution_count": 11,
     "metadata": {},
     "output_type": "execute_result"
    }
   ],
   "source": [
    "label2[69, 44, 0, :]"
   ]
  },
  {
   "cell_type": "code",
   "execution_count": 41,
   "metadata": {},
   "outputs": [
    {
     "data": {
      "text/plain": [
       "0.08388148398070203"
      ]
     },
     "execution_count": 41,
     "metadata": {},
     "output_type": "execute_result"
    }
   ],
   "source": [
    "np.log(1.74/1.6)"
   ]
  },
  {
   "cell_type": "code",
   "execution_count": 56,
   "metadata": {},
   "outputs": [
    {
     "data": {
      "text/plain": [
       "(0.22314355131420976, 1.25, 0.44628710262841953, 1.5625)"
      ]
     },
     "execution_count": 56,
     "metadata": {},
     "output_type": "execute_result"
    }
   ],
   "source": [
    "np.log(2/1.6), 2/1.6, np.log(2.5/1.6), 2.5/1.6"
   ]
  },
  {
   "cell_type": "code",
   "execution_count": 49,
   "metadata": {},
   "outputs": [
    {
     "data": {
      "text/plain": [
       "0.009696961699001222"
      ]
     },
     "execution_count": 49,
     "metadata": {},
     "output_type": "execute_result"
    }
   ],
   "source": [
    "(abs(0.22314355131420976-0.08388148398070203)**2) * 0.5"
   ]
  },
  {
   "cell_type": "code",
   "execution_count": 40,
   "metadata": {},
   "outputs": [
    {
     "data": {
      "text/plain": [
       "4.26000001215941"
      ]
     },
     "execution_count": 40,
     "metadata": {},
     "output_type": "execute_result"
    }
   ],
   "source": [
    "np.exp(0.08829261) * 3.9"
   ]
  },
  {
   "cell_type": "code",
   "execution_count": 42,
   "metadata": {},
   "outputs": [
    {
     "data": {
      "text/plain": [
       "(-0.06410256410256411, 69)"
      ]
     },
     "execution_count": 42,
     "metadata": {},
     "output_type": "execute_result"
    }
   ],
   "source": [
    "temp = 277\n",
    "# temp = 278.3097315\n",
    "((temp/4 - temp//4) - 0.5)/3.9, temp//4"
   ]
  },
  {
   "cell_type": "code",
   "execution_count": 45,
   "metadata": {},
   "outputs": [
    {
     "data": {
      "text/plain": [
       "-0.4160428558974359"
      ]
     },
     "execution_count": 45,
     "metadata": {},
     "output_type": "execute_result"
    }
   ],
   "source": [
    "abs(-0.06410256410256411 - 0.01985458) - 0.5"
   ]
  },
  {
   "cell_type": "code",
   "execution_count": null,
   "metadata": {
    "collapsed": true
   },
   "outputs": [],
   "source": [
    "0.06410256410256411"
   ]
  },
  {
   "cell_type": "code",
   "execution_count": 25,
   "metadata": {},
   "outputs": [
    {
     "data": {
      "text/plain": [
       "278.309731448"
      ]
     },
     "execution_count": 25,
     "metadata": {},
     "output_type": "execute_result"
    }
   ],
   "source": [
    "(0.01985458*3.9 + 69.5) * 4"
   ]
  },
  {
   "cell_type": "code",
   "execution_count": 54,
   "metadata": {},
   "outputs": [
    {
     "data": {
      "text/plain": [
       "(0.577432862, 2.309731448)"
      ]
     },
     "execution_count": 54,
     "metadata": {},
     "output_type": "execute_result"
    }
   ],
   "source": [
    "(0.01985458*3.9 + .5), (0.01985458*3.9 + .5) * 4"
   ]
  },
  {
   "cell_type": "code",
   "execution_count": 16,
   "metadata": {},
   "outputs": [
    {
     "data": {
      "text/plain": [
       "(0.577432862, 0.52775488, 0.6607685050000001)"
      ]
     },
     "execution_count": 16,
     "metadata": {},
     "output_type": "execute_result"
    }
   ],
   "source": [
    "0.01985458*3.9 + 0.5, 0.0173468*1.6 + 0.5, -0.22615433*1.5 + 1"
   ]
  },
  {
   "cell_type": "code",
   "execution_count": 17,
   "metadata": {},
   "outputs": [
    {
     "data": {
      "text/plain": [
       "(69.577432875, 69.0, 44.5277548725, 44.0, 0.66076851625, 0.0)"
      ]
     },
     "execution_count": 17,
     "metadata": {},
     "output_type": "execute_result"
    }
   ],
   "source": [
    "278.3097315 / 4, 278.3097315//4, 178.11101949/4, 178.11101949//4, 26.43074065/40, 26.43074065//40"
   ]
  },
  {
   "cell_type": "code",
   "execution_count": 20,
   "metadata": {},
   "outputs": [
    {
     "data": {
      "text/plain": [
       "278.3097315"
      ]
     },
     "execution_count": 20,
     "metadata": {},
     "output_type": "execute_result"
    }
   ],
   "source": [
    "69.577432875 * 4"
   ]
  },
  {
   "cell_type": "code",
   "execution_count": 21,
   "metadata": {},
   "outputs": [
    {
     "data": {
      "text/plain": [
       "-0.048786794871794874"
      ]
     },
     "execution_count": 21,
     "metadata": {},
     "output_type": "execute_result"
    }
   ],
   "source": [
    "(0.3097315 - 0.5) / 3.9"
   ]
  },
  {
   "cell_type": "code",
   "execution_count": 23,
   "metadata": {},
   "outputs": [
    {
     "data": {
      "text/plain": [
       "0.01985458333333332"
      ]
     },
     "execution_count": 23,
     "metadata": {},
     "output_type": "execute_result"
    }
   ],
   "source": [
    "(0.577432875 - 0.5) / 3.9"
   ]
  },
  {
   "cell_type": "code",
   "execution_count": null,
   "metadata": {
    "collapsed": true
   },
   "outputs": [],
   "source": []
  },
  {
   "cell_type": "code",
   "execution_count": null,
   "metadata": {
    "collapsed": true
   },
   "outputs": [],
   "source": []
  },
  {
   "cell_type": "code",
   "execution_count": null,
   "metadata": {
    "collapsed": true
   },
   "outputs": [],
   "source": []
  },
  {
   "cell_type": "code",
   "execution_count": null,
   "metadata": {
    "collapsed": true
   },
   "outputs": [],
   "source": []
  },
  {
   "cell_type": "code",
   "execution_count": null,
   "metadata": {
    "collapsed": true
   },
   "outputs": [],
   "source": []
  }
 ],
 "metadata": {
  "kernelspec": {
   "display_name": "env",
   "language": "python",
   "name": "env"
  },
  "language_info": {
   "codemirror_mode": {
    "name": "ipython",
    "version": 3
   },
   "file_extension": ".py",
   "mimetype": "text/x-python",
   "name": "python",
   "nbconvert_exporter": "python",
   "pygments_lexer": "ipython3",
   "version": "3.5.2"
  }
 },
 "nbformat": 4,
 "nbformat_minor": 2
}
