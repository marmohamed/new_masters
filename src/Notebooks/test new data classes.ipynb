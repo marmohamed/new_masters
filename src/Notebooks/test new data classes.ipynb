{
 "cells": [
  {
   "cell_type": "code",
   "execution_count": 1,
   "metadata": {},
   "outputs": [],
   "source": [
    "%load_ext autoreload\n",
    "%autoreload 2.0\n",
    "%matplotlib inline"
   ]
  },
  {
   "cell_type": "code",
   "execution_count": 59,
   "metadata": {},

   "outputs": [],
   "source": [
    "import os\n",
    "import glob\n",
    "import matplotlib.pyplot as plt\n",
    "import matplotlib.image as mpimg\n",
    "import matplotlib.patches as patches\n",
    "import numpy as np\n",
    "import sys\n",
    "sys.path.insert(0, '../.')\n",
    "from data.detection_dataset_loader import *\n",
    "from scipy.spatial.transform import Rotation as R\n",
    "from data.data_utils.data_reader import *\n",
    "from data.data_utils.reader_utils import *\n",
    "import math\n",
    "import numpy.matlib as npm\n"
   ]
  },
  {
   "cell_type": "code",
   "execution_count": 3,
   "metadata": {},
   "outputs": [],
   "source": [
    "def convert5Pointto8Point(cx_, cy_, w_, h_, a_):\n",
    "\n",
    "    theta = math.radians(a_)\n",
    "    bbox = npm.repmat([[cx_], [cy_]], 1, 5) + \\\n",
    "       np.matmul([[math.cos(theta), math.sin(theta)],\n",
    "                  [-math.sin(theta), math.cos(theta)]],\n",
    "                 [[-w_ / 2, w_/ 2, w_ / 2, -w_ / 2, w_ / 2 + 8],\n",
    "                  [-h_ / 2, -h_ / 2, h_ / 2, h_ / 2, 0]])\n",
    "    # add first point\n",
    "    x1, y1 = bbox[0][0], bbox[1][0]\n",
    "    # add second point\n",
    "    x2, y2 = bbox[0][1], bbox[1][1]\n",
    "    # add third point\n",
    "    #x3, y3 = bbox[0][4], bbox[1][4]   \n",
    "    # add forth point\n",
    "    x3, y3 = bbox[0][2], bbox[1][2]\n",
    "    # add fifth point\n",
    "    x4, y4 = bbox[0][3], bbox[1][3]\n",
    "\n",
    "    return [x1, y1, x2, y2, x3, y3, x4, y4]\n"
   ]
  },
  {
   "cell_type": "code",
   "execution_count": 234,
   "metadata": {},
   "outputs": [],
   "source": [
    "def get_augmentation_parameters( training):\n",
    "        if training:\n",
    "\n",
    "                    if np.random.random_sample() >= 0.5:\n",
    "                        image_translate_x = random.randint(-50, 50)\n",
    "                    else:\n",
    "                        image_translate_x = 0\n",
    "                    if np.random.random_sample() >= 0.5:\n",
    "                        image_translate_y = random.randint(-25, 25)\n",
    "                    else:\n",
    "                        image_translate_y = 0\n",
    "\n",
    "                    if np.random.random_sample() >= 0.5:\n",
    "                        translate_x = random.randint(-5, 5)\n",
    "                    else:\n",
    "                        translate_x = 0\n",
    "                    if np.random.random_sample() >= 0.5:\n",
    "                        translate_y = random.randint(-5, 5)\n",
    "                    else:\n",
    "                        translate_y = 0\n",
    "\n",
    "                    if np.random.random_sample() >= 0.8:\n",
    "                        translate_z = random.random() - 0.5\n",
    "                    else:\n",
    "                        translate_z = 0\n",
    "\n",
    "                    if np.random.random_sample() >= 0.0:\n",
    "                        ang = random.randint(-50, 50)\n",
    "                    else:\n",
    "                        ang = 0\n",
    "\n",
    "                    r = R.from_rotvec(np.radians(ang) * np.array([0, 0, 1]))\n",
    "                    rot = r.as_dcm()\n",
    "                    rot = np.append(rot, np.array([[0,0,0]]), axis=0)\n",
    "                    rot = np.append(rot, np.array([[0],[0],[0],[1]]), axis=1)\n",
    "\n",
    "                    tr_x = translate_x\n",
    "                    tr_y = translate_y\n",
    "                    tr_z = translate_z\n",
    "                    tr = np.array([[tr_x], [tr_y], [tr_z], [0]])\n",
    "                    \n",
    "                    translate_x = 0\n",
    "                    translate_y = 0\n",
    "                    translate_z = 0\n",
    "                    \n",
    "                    sc_x = 1\n",
    "                    sc_y = 1\n",
    "                    sc_z = 1\n",
    "\n",
    "                    # if np.random.random_sample() >= 0.5:\n",
    "                    #    sc_x += ((random.random() * 2) - 1.) / 10.\n",
    "\n",
    "                    # if np.random.random_sample() >= 0.5:\n",
    "                    #    sc_y += ((random.random() * 2) - 1.) / 10.\n",
    "\n",
    "\n",
    "                    sc = np.array([[sc_x, 0, 0, 0], [0, sc_y, 0, 0], [0, 0, sc_z, 0], [0, 0, 0, 1]])\n",
    "                    \n",
    "\n",
    "        else:\n",
    "                    image_translate_x = 0\n",
    "                    image_translate_y = 0\n",
    "\n",
    "                    translate_x = 0\n",
    "                    translate_y = 0\n",
    "                    translate_z = 0\n",
    "                    ang = 0\n",
    "\n",
    "                    r = R.from_rotvec(np.radians(0) * np.array([0, 0, 1]))\n",
    "                    rot = r.as_dcm()\n",
    "                    rot = np.append(rot, np.array([[0,0,0]]), axis=0)\n",
    "                    rot = np.append(rot, np.array([[0],[0],[0],[1]]), axis=1)\n",
    "\n",
    "                    tr_x = 0\n",
    "                    tr_y = 0\n",
    "                    tr_z = 0\n",
    "                    tr = np.array([[tr_x], [tr_y], [tr_z], [0]])\n",
    "\n",
    "                    sc_x = 1\n",
    "                    sc_y = 1\n",
    "                    sc_z = 1\n",
    "                    sc = np.array([[sc_x, 0, 0, 0], [0, sc_y, 0, 0], [0, 0, sc_z, 0], [0, 0, 0, 1]])\n",
    "\n",
    "        return rot, tr, sc, image_translate_x, image_translate_y, ang"
   ]
  },
  {
   "cell_type": "code",
   "execution_count": 235,
   "metadata": {},
   "outputs": [],
   "source": [
    "training=True\n",
    "base_path = '../../../Data/'\n",
    "list_files = list(map(lambda x: x.split('.')[0], os.listdir(base_path+'/data_object_image_3/training/image_3')))\n",
    "random.seed(0)\n",
    "random.shuffle(list_files)\n",
    "\n",
    "camera_paths = list(map(lambda x: base_path+'/data_object_image_3/training/image_3/' + x + '.png', list_files))\n",
    "lidar_paths = list(map(lambda x: base_path+'/data_object_velodyne/training/velodyne/' + x + '.bin', list_files))\n",
    "label_paths = list(map(lambda x: base_path + '/data_object_label_2/training/label_2/' + x + '.txt', list_files))\n",
    "calib_paths = list(map(lambda x: base_path + '/data_object_calib/training/calib/' + x + '.txt', list_files))\n",
    "        \n",
    "ln = int(len(list_files) * 0.5)\n",
    "final_sample = len(list_files)\n",
    "\n",
    "# ln = int(10 * 0.5)\n",
    "# final_sample = 10\n",
    "        \n",
    "if training:\n",
    "            list_files = list_files[:ln]\n",
    "            list_camera_paths = camera_paths[:ln]\n",
    "            list_lidar_paths = lidar_paths[:ln]\n",
    "            list_label_paths = label_paths[:ln]\n",
    "            list_calib_paths = calib_paths[:ln]\n",
    "else:\n",
    "            list_camera_paths = camera_paths[ln:final_sample]\n",
    "            list_lidar_paths = lidar_paths[ln:final_sample]\n",
    "            list_label_paths = label_paths[ln:final_sample]\n",
    "            list_calib_paths = calib_paths[ln:final_sample]\n",
    "            list_files = list_files[ln:final_sample]\n"
   ]
  },
  {
   "cell_type": "code",

   "execution_count": 109,
   "metadata": {
    "collapsed": true
   },
   "outputs": [],
   "source": [
    "def get_target2(labels, directions, anchors=np.array([3.9, 1.6, 1.5]), input_size=(512, 448), output_size=(128, 112)):\n",
    "    # ASSUMPTION: I will assume that the anchors contain a record for the height\n",
    "    \"\"\"\n",
    "    - calculate the ratio = input size / final output size\n",
    "    - divide each of the x, y and z by the ratio\n",
    "    - subtract each of the x, y and z ....\n",
    "    \"\"\"\n",
    "\n",
    "    ratio = input_size[0] // output_size[0]\n",
    "    y_target = np.zeros((output_size[0], output_size[1], 2, 9), np.float32)\n",
    "   \n",
    "    for i in range(len(labels)):\n",
    "        label_i = np.array(labels[i])\n",
    "        print(label_i)\n",
    "\n",
    "        x = int(label_i[0]/ratio)\n",
    "        y = int(label_i[1]/ratio)\n",
    "\n",
    "        if x >= output_size[0]:\n",
    "            x = output_size[0] - 1\n",
    "        if y >= output_size[1]:\n",
    "            y = output_size[1] - 1\n",
    "\n",
    "        if x < 0 or y < 0:\n",
    "            continue\n",
    "\n",
    "        label_i[0:2] = label_i[0:2] / (ratio*1.0)\n",
    "        label_i[0] = label_i[0] + 0.5\n",
    "        label_i[3] = label_i[3] * 2\n",
    "        label_i[2] = label_i[2] / 40.\n",
    "\n",
    "        if label_i[6] < 0:\n",
    "            label_i[6] += 3.14\n",
    "\n",
    "        angle = label_i[6] * 57.2958\n",
    "        if (angle >= 0 and angle <= 45) or (angle >= 135 and angle <= 225) or (angle >= 315 and angle <= 360):\n",
    "            k = 0\n",
    "        else:\n",
    "            k = 1\n",
    "\n",
    "        if label_i[6] >= 3 * np.pi / 4:\n",
    "            label_i[6] = label_i[6] - np.pi\n",
    "        \n",
    "        label_i[6] = label_i[6] - k * (np.pi/2)\n",
    "\n",
    "        anchor = np.array([x+0.5, y+0.5, 1., anchors[0], anchors[1], anchors[2]])\n",
    "    \n",
    "        label_i[:3] = (label_i[:3] - anchor[:3]) / anchor[3:6]\n",
    "        label_i[3:6] = np.log(label_i[3:6]/anchors)\n",
    "\n",
    "        y_target[x, y, k, :7] = label_i\n",
    "        y_target[x, y, k, 7:8] = [directions[i]]\n",
    "        y_target[x, y, k, 8:9] = [1]\n",
    "        print(x, y, k, y_target[x, y, k, :])\n",
    "    return y_target"
   ]
  },
  {
   "cell_type": "code",

   "execution_count": 110,
   "metadata": {
    "collapsed": true
   },
   "outputs": [],
   "source": [
    "# data = np.fromfile(list_lidar_paths[i_c], dtype=np.float32).reshape(-1, 4)\n",
    "# x = data[:, 0]\n",
    "# y = data[:, 1]\n",
    "# z = data[:, 2]\n",
    "# i = data[:, 3]\n",
    "# i = i[x >= 0]\n",
    "# y = y[x >= 0]\n",
    "# z = z[x >= 0]\n",
    "# x = x[x >= 0]\n",
    "# import matplotlib.pyplot as plt\n",
    "# from mpl_toolkits.mplot3d import proj3d\n",
    "\n",
    "# fig = plt.figure(figsize=(8, 8))\n",
    "\n",
    "# # ax = fig.add_subplot(111, projection='3d')\n",
    "# # ax.scatter(x, y, z, s=1)\n",
    "\n",
    "# ax = fig.add_subplot(111)\n",
    "# ax.scatter(x, y, s=0.5)\n",
    "\n",
    "# plt.show()"
   ]
  },
  {
   "cell_type": "code",
   "execution_count": 111,
   "metadata": {
    "collapsed": true
   },
   "outputs": [],
   "source": [
    "# np.max(x), np.min(x), np.max(y), np.min(y), np.max(z), np.min(z), np.max(i), np.min(i)"
   ]
  },
  {
   "cell_type": "code",
   "execution_count": 112,
   "metadata": {
    "collapsed": true
   },
   "outputs": [],
   "source": [
    "import numpy as np\n",
    "import math\n",
    "from scipy.ndimage import rotate\n",
    "import cv2\n",
    "from data.data_utils.fv_utils import *\n",
    "\n",
    "class LidarReader:\n",
    "\n",
    "    def __init__(self, lidar_path, calib_path, image_path, rot, tr, sc, \n",
    "                        x_range=(0, 71), \n",
    "                        y_range=(-40, 40), \n",
    "                        z_range=(-3.0, 1), \n",
    "                        size=(512, 448, 40)):\n",
    "        self.lidar_path = lidar_path\n",
    "        self.calib_path = calib_path\n",
    "        self.image_path = image_path\n",
    "        self.rot = rot\n",
    "        self.sc = sc\n",
    "        self.tr = tr\n",
    "        self.x_range = x_range\n",
    "        self.y_range = y_range\n",
    "        self.z_range = z_range\n",
    "        self.size = size\n",
    "\n",
    "\n",
    "\n",
    "    def read_lidar(self):\n",
    "\n",
    "        points = np.fromfile(self.lidar_path, dtype=np.float32).reshape(-1, 4)\n",
    "        calib = Calibration(self.calib_path)\n",
    "        img_height, img_width, _ = cv2.imread(self.image_path).shape\n",
    "        imgfov_pc_velo, pts_2d, fov_inds = get_lidar_in_image_fov(points[:, :3],\n",
    "            calib, 0, 0, img_width, img_height, True)\n",
    "\n",
    "        points = points[fov_inds, :]\n",
    "        points = (points.transpose() + self.tr).transpose()\n",
    "        points = np.matmul(self.rot, points.transpose()).transpose()\n",
    "        points = np.matmul(self.sc, points.transpose()).transpose()\n",
    "        x = points[:, 0]\n",
    "        y = points[:, 1]\n",
    "        z = points[:, 2]\n",
    "        intensity = points[:, 3]\n",
    "        \n",
    "        x_lim = self.in_range_points(x, x, y, z, self.x_range, self.y_range, self.z_range)\n",
    "        y_lim = self.in_range_points(y, x, y, z, self.x_range, self.y_range, self.z_range)\n",
    "        z_lim = self.in_range_points(z, x, y, z, self.x_range, self.y_range, self.z_range)\n",
    "        i_lim = self.in_range_points(intensity, x, y, z, self.x_range, self.y_range, self.z_range)\n",
    "        \n",
    "        x_size = (self.x_range[1] - self.x_range[0])\n",
    "        y_size = (self.y_range[1] - self.y_range[0])\n",
    "        z_size = (self.z_range[1] - self.z_range[0])\n",
    "            \n",
    "        x_fac = (self.size[0]-1) / x_size\n",
    "        y_fac = (self.size[1]-1) / y_size\n",
    "        z_fac = (self.size[2]-1) / z_size\n",
    "\n",
    "        x_lim = x_lim + -1*self.x_range[0]\n",
    "        y_lim = y_lim + -1*self.y_range[0]\n",
    "        z_lim = z_lim + -1*self.z_range[0]\n",
    "                    \n",
    "        x_lim = -1 * (x_lim * x_fac).astype(np.int32)\n",
    "        y_lim = -1 * (y_lim * y_fac).astype(np.int32)\n",
    "        z_lim = -1 * (z_lim * z_fac).astype(np.int32)\n",
    "        \n",
    "        x_lim2 = x_lim[:]\n",
    "        y_lim2 = y_lim[:]\n",
    "        z_lim2 = z_lim[:]\n",
    "        i_lim2 = i_lim[:]\n",
    "\n",
    "        x_lim = x_lim[(x_lim2>-self.size[0]) & (x_lim2<= 0) & (y_lim2>-self.size[1]) & (y_lim2 <= 0) & (z_lim2>-self.size[2]) & (z_lim2 <= 0)]\n",
    "        y_lim = y_lim[(x_lim2>-self.size[0]) & (x_lim2<= 0) & (y_lim2>-self.size[1]) & (y_lim2 <= 0) & (z_lim2>-self.size[2]) & (z_lim2 <= 0)]\n",
    "        z_lim = z_lim[(x_lim2>-self.size[0]) & (x_lim2<= 0) & (y_lim2>-self.size[1]) & (y_lim2 <= 0) & (z_lim2>-self.size[2]) & (z_lim2 <= 0)]\n",
    "        i_lim = i_lim[(x_lim2>-self.size[0]) & (x_lim2<= 0) & (y_lim2>-self.size[1]) & (y_lim2 <= 0) & (z_lim2>-self.size[2]) & (z_lim2 <= 0)]\n",
    "        \n",
    "        print(np.max(i_lim), np.min(i_lim))\n",
    "        \n",
    "        img = np.zeros([self.size[0], self.size[1], self.size[2]], dtype=np.float32)\n",
    "        # occupancy grid\n",
    "        img[x_lim, y_lim, z_lim] = 255.\n",
    "#         img[x_lim, y_lim, -1] = i_lim * 255.\n",
    "#         img = img[:,:, ::-1]\n",
    "        img = (img - 127.) / 127.\n",
    "        return img\n",
    "\n",
    "\n",
    "    def in_range_points(self, points, x, y, z, x_range, y_range, z_range):\n",
    "        \"\"\" \n",
    "        This function is imported from https://github.com/windowsub0406/KITTI_Tutorial/blob/master/Convert_Velo_2_Topview_detail.ipynb\n",
    "        extract in-range points \n",
    "        \"\"\"\n",
    "        return points[np.logical_and.reduce((x >= x_range[0], x <= x_range[1], y >= y_range[0], \\\n",
    "                                            y <= y_range[1], z >= z_range[0], z <= z_range[1]))]\n"
   ]
  },
  {
   "cell_type": "code",
   "execution_count": 113,
   "metadata": {
    "collapsed": true
   },
   "outputs": [],
   "source": [
    "i_c = 4"
   ]
  },
  {
   "cell_type": "code",
   "execution_count": 114,
   "metadata": {},
   "outputs": [
    {
     "name": "stdout",
     "output_type": "stream",
     "text": [
      "[472.48097741 249.16122614  27.46689431   3.35         1.65\n",
      "   1.57         1.72      ]\n",
      "118 62 1 [ 0.03083188 -0.13105841 -0.20888509  0.54113096  0.03077166  0.04561051\n",
      "  0.14920367  0.          1.        ]\n",
      "[424.99293173 211.0514282   26.18942373   3.95         1.7\n",
      "   1.43         1.76      ]\n",
      "106 52 1 [ 0.06364947  0.16428566 -0.23017627  0.7058862   0.06062462 -0.04779067\n",
      "  0.18920368  1.          1.        ]\n",
      "[391.15559726 257.08777095  26.36418409   3.24         1.6\n",
      "   1.51         1.7       ]\n",
      "97 64 1 [ 0.20228188 -0.14253579 -0.2272636   0.50774395  0.          0.00664454\n",
      "  0.12920368  0.          1.        ]\n",
      "[351.21319053 262.78402659  25.70871325   4.1          1.74\n",
      "   1.45         1.75      ]\n",
      "87 65 1 [ 0.20597374  0.12250415 -0.23818812  0.7431576   0.08388148 -0.03390155\n",
      "  0.17920367  0.          1.        ]\n",
      "[339.77201509 222.26754488  26.16483546   3.79         1.68\n",
      "   1.54         1.78      ]\n",
      "84 55 1 [ 0.24179584  0.04180389 -0.23058608  0.66453665  0.04879016  0.02631731\n",
      "  0.20920368  1.          1.        ]\n",
      "[300.69322321 227.96388391  25.52159265   3.35         1.52\n",
      "   1.49         1.79      ]\n",
      "75 56 1 [ 0.04443739  0.30685687 -0.24130678  0.54113096 -0.05129329 -0.00668899\n",
      "  0.21920367  1.          1.        ]\n",
      "[304.56650456 268.41490902  26.4197839    4.37         1.65\n",
      "   1.53         1.74      ]\n",
      "76 67 1 [ 0.03631439 -0.24767047 -0.22633694  0.80693364  0.03077166  0.01980263\n",
      "  0.16920367  0.          1.        ]\n",
      "[201.51041527 249.51731142  25.09989975   3.48         1.45\n",
      "   1.64         2.02      ]\n",
      "50 62 1 [ 0.09682149 -0.07542009 -0.248335    0.57920295 -0.09844007  0.08923113\n",
      "  0.44920367  1.          1.        ]\n"
     ]
    }
   ],
   "source": [
    "rot, tr, sc, image_translate_x, image_translate_y, ang = get_augmentation_parameters(False)\n",
    "# print(rot)\n",
    "# print(tr)\n",
    "# print(sc)\n",
    "# print(ang)\n",
    "data_reader_obj = DataReader(list_camera_paths[i_c],\n",
    "                             list_calib_paths[i_c], \n",
    "                             list_label_paths[i_c], \n",
    "                             list_lidar_paths[i_c], \n",
    "                             rot, sc, tr, ang, image_translate_x, image_translate_y, get_actual_dims=False)\n",
    "# data_reader_obj.lidar_reader = LidarReader(list_lidar_paths[i_c], list_calib_paths[i_c], list_camera_paths[i_c], rot, tr, sc)\n",
    "camera_image = data_reader_obj.read_image()\n",
    "lidar_image = data_reader_obj.lidar_reader.read_lidar()\n",
    "_, label, directions = data_reader_obj.label_reader.read_label()\n",
    "label2 = get_target(label, directions,  anchors=np.array([3.9, 1.6, 1.5]))\n",
    "label3 = get_target2(label, directions,  anchors=np.array([3.9, 1.6, 1.5]))"
   ]
  },
  {
   "cell_type": "code",
   "execution_count": null,
   "metadata": {
    "collapsed": true
   },
   "outputs": [],
   "source": []
  },
  {
   "cell_type": "code",
   "execution_count": 115,
   "metadata": {},
   "outputs": [
    {
     "name": "stdout",
     "output_type": "stream",
     "text": [
      "0.49999999526375555 0.49999999526375555 0.7601667466931498\n"
     ]
    }
   ],
   "source": [
    "if True:\n",
    "    \n",
    "        truth = np.array([label2])\n",
    "        predictions = np.array([label3])\n",
    "        anchors_size=np.array([3.9, 1.6, 1.5])\n",
    "\n",
    "        x = truth[:, :, :, :, 0]*anchors_size[0] + 0.5\n",
    "        x_ = predictions[:, :, :, :, 0] * anchors_size[0] + 0.5\n",
    "        y = truth[:, :, :, :, 1]*anchors_size[1] + 0.5\n",
    "        y_ = predictions[:, :, :, :, 1]*anchors_size[1] + 0.5\n",
    "        z = truth[:, :, :, :, 2]*anchors_size[2] + 1.\n",
    "        z_ = predictions[:, :, :, :, 2]*anchors_size[2] + 1.\n",
    "\n",
    "        size_true = np.exp(truth[:, :, :, :, 3:6])*anchors_size\n",
    "        size_pred = np.exp(predictions[:, :, :, :, 3:6])*anchors_size\n",
    "\n",
    "\n",
    "        x1 = x + size_true[:, :, :, :, 0]/2\n",
    "        x2 = x - size_true[:, :, :, :, 0]/2\n",
    "        y1 = y + size_true[:, :, :, :, 1]/2\n",
    "        y2 = y - size_true[:, :, :, :, 1]/2\n",
    "        z1 = z\n",
    "        z2 = z - size_true[:, :, :, :, 2]\n",
    "\n",
    "        x1_ = x_ + size_pred[:, :, :, :, 0]/2\n",
    "        x2_ = x_ - size_pred[:, :, :, :, 0]/2\n",
    "        y1_ = y_ + size_pred[:, :, :, :, 1]/2\n",
    "        y2_ = y_ - size_pred[:, :, :, :, 1]/2\n",
    "        z1_ = z_\n",
    "        z2_ = z_ - size_pred[:, :, :, :, 2]\n",
    "\n",
    "        area_g = size_true[:, :, :, :, 0] * size_true[:, :, :, :, 1]\n",
    "        area_d = size_pred[:, :, :, :, 0] * size_pred[:, :, :, :, 1]\n",
    "        h_g = size_true[:, :, :, :, 2]\n",
    "        h_d = size_pred[:, :, :, :, 2]\n",
    "\n",
    "        area_overlap = np.maximum(0., (np.minimum(x1, x1_) - np.maximum(x2, x2_))) * np.maximum(0., (np.minimum(y1, y1_) - np.maximum(y2, y2_)))\n",
    "        h_overlap = np.maximum(0., np.minimum(z1, z1_) - np.maximum(z2, z2_))\n",
    "\n",
    "        iou = (area_overlap * h_overlap) / (area_g*h_g + area_d*h_d - area_overlap*h_overlap + 1e-8)\n",
    "        iou = np.where(iou >= 0, iou, np.zeros_like(truth[:, :, :, :, 8]))\n",
    "        iou = np.where(truth[:, :, :, :, 8] >= 0.5, iou, np.zeros_like(truth[:, :, :, :, 8]))\n",
    "        iou = np.sum(iou) / (np.sum(truth[:, :, :, :, 8])+1e-8)\n",
    "\n",
    "\n",
    "        x = truth[:, :, :, :, 0]*anchors_size[0] + 0.5\n",
    "        x_ = predictions[:, :, :, :, 0]*anchors_size[0] + 0.5\n",
    "        y = truth[:, :, :, :, 1]*anchors_size[1] + 0.5\n",
    "        y_ = predictions[:, :, :, :, 1]*anchors_size[1] + 0.5\n",
    "        z = truth[:, :, :, :, 2]*anchors_size[2] + 1.\n",
    "        z_ = predictions[:, :, :, :, 2]*anchors_size[2] + 1.\n",
    "\n",
    "        x1 = x + size_true[:, :, :, :, 0]/2\n",
    "        x2 = x - size_true[:, :, :, :, 0]/2\n",
    "        y1 = y + size_true[:, :, :, :, 1]/2\n",
    "        y2 = y - size_true[:, :, :, :, 1]/2\n",
    "        z1 = z\n",
    "        z2 = z - size_true[:, :, :, :, 2]\n",
    "\n",
    "        x1_ = x_ + size_true[:, :, :, :, 0]/2\n",
    "        x2_ = x_ - size_true[:, :, :, :, 0]/2\n",
    "        y1_ = y_ + size_true[:, :, :, :, 1]/2\n",
    "        y2_ = y_ - size_true[:, :, :, :, 1]/2\n",
    "        z1_ = z_\n",
    "        z2_ = z_ - size_true[:, :, :, :, 2]\n",
    "\n",
    "        area_g = size_true[:, :, :, :, 0] * size_true[:, :, :, :, 1]\n",
    "        area_d = size_true[:, :, :, :, 0] * size_true[:, :, :, :, 1]\n",
    "        h_g = size_true[:, :, :, :, 2]\n",
    "        h_d = size_true[:, :, :, :, 2]\n",
    "\n",
    "        area_overlap = np.maximum(0., (np.minimum(x1, x1_) - np.maximum(x2, x2_))) * np.maximum(0., (np.minimum(y1, y1_) - np.maximum(y2, y2_)))\n",
    "        h_overlap = np.maximum(0., np.minimum(z1, z1_) - np.maximum(z2, z2_))\n",
    "\n",
    "        iou_loc = (area_overlap * h_overlap) / (area_g*h_g + area_d*h_d - area_overlap*h_overlap + 1e-8)\n",
    "        iou_loc = np.where(iou_loc >= 0, iou_loc, np.zeros_like(truth[:, :, :, :, 8]))\n",
    "        iou_loc = np.where(truth[:, :, :, :, 8] >= 0.5, iou_loc, np.zeros_like(truth[:, :, :, :, 8]))\n",
    "        iou_loc = np.sum(iou_loc) / (np.sum(truth[:, :, :, :, 8])+1e-8)\n",
    "\n",
    "        x = truth[:, :, :, :, 0]*anchors_size[0] + 0.5\n",
    "        y = truth[:, :, :, :, 1]*anchors_size[1] + 0.5\n",
    "        z = truth[:, :, :, :, 2]*anchors_size[2] + 1.\n",
    "\n",
    "        size_true = np.exp(truth[:, :, :, :, 3:6])*anchors_size\n",
    "        size_pred = np.exp(predictions[:, :, :, :, 3:6])*anchors_size\n",
    "\n",
    "\n",
    "        x1 = x + size_true[:, :, :, :, 0]/2\n",
    "        x2 = x - size_true[:, :, :, :, 0]/2\n",
    "        y1 = y + size_true[:, :, :, :, 1]/2\n",
    "        y2 = y - size_true[:, :, :, :, 1]/2\n",
    "        z1 = z\n",
    "        z2 = z - size_true[:, :, :, :, 2]\n",
    "\n",
    "        x1_ = x + size_pred[:, :, :, :, 0]/2\n",
    "        x2_ = x - size_pred[:, :, :, :, 0]/2\n",
    "        y1_ = y + size_pred[:, :, :, :, 1]/2\n",
    "        y2_ = y - size_pred[:, :, :, :, 1]/2\n",
    "        z1_ = z\n",
    "        z2_ = z - size_pred[:, :, :, :, 2]\n",
    "\n",
    "        area_g = size_true[:, :, :, :, 0] * size_true[:, :, :, :, 1]\n",
    "        area_d = size_pred[:, :, :, :, 0] * size_pred[:, :, :, :, 1]\n",
    "        h_g = size_true[:, :, :, :, 2]\n",
    "        h_d = size_pred[:, :, :, :, 2]\n",
    "\n",
    "        area_overlap = np.maximum(0., (np.minimum(x1, x1_) - np.maximum(x2, x2_))) * np.maximum(0., (np.minimum(y1, y1_) - np.maximum(y2, y2_)))\n",
    "        h_overlap = np.maximum(0., np.minimum(z1, z1_) - np.maximum(z2, z2_))\n",
    "\n",
    "        iou_dim = (area_overlap * h_overlap) / (area_g*h_g + area_d*h_d - area_overlap*h_overlap + 1e-8)\n",
    "        iou_dim = np.where( iou_dim >= 0, iou_dim, np.zeros_like(truth[:, :, :, :, 8]))\n",
    "        iou_dim = np.where(truth[:, :, :, :, 8] >= 0.5, iou_dim, np.zeros_like(truth[:, :, :, :, 8]))\n",
    "        iou_dim = np.sum(iou_dim) / (np.sum(truth[:, :, :, :, 8])+1e-8)\n",
    "\n",
    "        print(iou, iou_dim, iou_loc)\n"
   ]
  },
  {
   "cell_type": "code",
   "execution_count": null,
   "metadata": {},
   "outputs": [],
   "source": []
  },
  {
   "cell_type": "code",
   "execution_count": 19,
   "metadata": {},
   "outputs": [],
   "source": [
    "# label2 = get_target2(label, directions, anchors=np.array([3.9, 1.6, 1.5]))"
   ]
  },
  {
   "cell_type": "code",
   "execution_count": 20,
   "metadata": {},
   "outputs": [
    {
     "data": {

      "text/plain": [
       "<matplotlib.image.AxesImage at 0x1c4f86f048>"
      ]
     },
     "execution_count": 20,
     "metadata": {},
     "output_type": "execute_result"
    },
    {
     "data": {
      "image/png": "[encoded data removed]",
      "text/plain": [
       "<Figure size 432x288 with 1 Axes>"
      ]
     },
     "metadata": {
      "needs_background": "light"
     },
     "output_type": "display_data"
    }
   ],
   "source": [
    "temp = label2[:, :, 1, 8]\n",
    "# temp = cv2.resize(temp, (448, 512))\n",
    "plt.imshow(temp)"
   ]
  },
  {
   "cell_type": "code",

   "execution_count": 21,
   "metadata": {},
   "outputs": [
    {
     "data": {
      "text/plain": [
       "<matplotlib.image.AxesImage at 0x1c4fa98908>"
      ]
     },

     "execution_count": 21,
     "metadata": {},
     "output_type": "execute_result"
    },
    {
     "data": {
      "image/png": "[encoded data removed]",
      "text/plain": [

       "<Figure size 432x288 with 1 Axes>"
      ]
     },
     "metadata": {
      "needs_background": "light"
     },
     "output_type": "display_data"
    }
   ],
   "source": [
    "temp = label2[:, :, 0, -1]\n",
    "temp = cv2.resize(temp, (448, 512))\n",
    "plt.imshow(temp)"
   ]
  },
  {
   "cell_type": "code",

   "execution_count": 22,
   "metadata": {},
   "outputs": [
    {
     "data": {
      "text/plain": [
       "<Figure size 432x288 with 0 Axes>"
      ]
     },
     "metadata": {},
     "output_type": "display_data"
    },
    {
     "data": {

      "image/png": "[encoded data removed]",
      "text/plain": [
       "<Figure size 432x288 with 1 Axes>"
      ]
     },
     "metadata": {
      "needs_background": "light"
     },
     "output_type": "display_data"

    },
    {
     "data": {
      "text/plain": [
       "<Figure size 432x288 with 0 Axes>"
      ]
     },
     "metadata": {},
     "output_type": "display_data"
    },
    {
     "data": {

      "image/png": "[encoded data removed]",
      "text/plain": [
       "<Figure size 432x288 with 1 Axes>"
      ]
     },
     "metadata": {
      "needs_background": "light"
     },
     "output_type": "display_data"
    }
   ],
   "source": [
    "# Create figure and axes\n",
    "plt.clf()\n",
    "fig,ax = plt.subplots(1)\n",
    "img = (lidar_image*127. + 127.)\n",
    "img = img[:, :, 0]\n",
    "plt.imshow(img>=150)\n",
    "plt.show()\n",
    "\n",
    "plt.clf()\n",
    "fig,ax = plt.subplots(1)\n",
    "temp = label2[:, :, 1, -1]\n",
    "temp = cv2.resize(temp, (448, 512)) * 255.\n",
    "plt.imshow(temp>100)\n",
    "plt.show()"
   ]
  },
  {
   "cell_type": "code",
   "execution_count": 23,
   "metadata": {},
   "outputs": [
    {
     "data": {
      "text/plain": [
       "-0.22913978616666672"
      ]
     },
     "execution_count": 23,
     "metadata": {},
     "output_type": "execute_result"
    }
   ],
   "source": [
    "(26.25161283/40 - 1) / 1.5"
   ]
  },
  {
   "cell_type": "code",
   "execution_count": 24,
   "metadata": {},
   "outputs": [
    {
     "data": {
      "text/plain": [
       "0.6562903207499999"
      ]
     },
     "execution_count": 24,
     "metadata": {},
     "output_type": "execute_result"
    }
   ],
   "source": [
    "-0.22913978616666672 * 1.5 + 1"
   ]
  },
  {
   "cell_type": "code",
   "execution_count": 25,
   "metadata": {
    "collapsed": true
   },
   "outputs": [],
   "source": [
    "\n",
    "# anchors_size=np.array([3.9, 1.6, 1.5])\n",
    "# truth = np.array([label2])\n",
    "# predictions = np.array([label3])\n",
    "# x = truth[:, :, :, :, 0]*anchors_size[0] + 0.5\n",
    "# x_ = predictions[:, :, :, :, 0] * anchors_size[0] + 0.5\n",
    "# y = truth[:, :, :, :, 1]*anchors_size[1] + 0.5\n",
    "# y_ = predictions[:, :, :, :, 1]*anchors_size[1] + 0.5\n",
    "# z = truth[:, :, :, :, 2]*anchors_size[2] + 1.\n",
    "# z_ = predictions[:, :, :, :, 2]*anchors_size[2] + 1.\n",
    "\n",
    "# size_true = np.exp(truth[:, :, :, :, 3:6])*anchors_size\n",
    "# size_pred = np.exp(predictions[:, :, :, :, 3:6])*anchors_size\n",
    "\n",
    "\n",
    "# x1 = x + size_true[:, :, :, :, 0]/2\n",
    "# x2 = x - size_true[:, :, :, :, 0]/2\n",
    "# y1 = y + size_true[:, :, :, :, 1]/2\n",
    "# y2 = y - size_true[:, :, :, :, 1]/2\n",
    "# z1 = z\n",
    "# z2 = z - size_true[:, :, :, :, 2]\n",
    "\n",
    "# x1_ = x_ + size_pred[:, :, :, :, 0]/2\n",
    "# x2_ = x_ - size_pred[:, :, :, :, 0]/2\n",
    "# y1_ = y_ + size_pred[:, :, :, :, 1]/2\n",
    "# y2_ = y_ - size_pred[:, :, :, :, 1]/2\n",
    "# z1_ = z_\n",
    "# z2_ = z_ - size_pred[:, :, :, :, 2]\n",
    "\n",
    "# area_g = size_true[:, :, :, :, 0] * size_true[:, :, :, :, 1]\n",
    "# area_d = size_pred[:, :, :, :, 0] * size_pred[:, :, :, :, 1]\n",
    "# h_g = size_true[:, :, :, :, 2]\n",
    "# h_d = size_pred[:, :, :, :, 2]\n",
    "# area_overlap = np.maximum(0., (np.minimum(x1, x1_) - np.maximum(x2, x2_))) * np.maximum(0., (np.minimum(y1, y1_) - np.maximum(y2, y2_)))\n",
    "# h_overlap = np.maximum(0., np.minimum(z1, z1_) - np.maximum(z2, z2_))\n",
    "\n",
    "# iou = (area_overlap * h_overlap) / (area_g*h_g + area_d*h_d - area_overlap*h_overlap + 1e-8)\n",
    "# iou = np.where(iou > 0, iou, np.zeros_like(truth[:, :, :, :, 8]))\n",
    "# iou = np.where(truth[:, :, :, :, 8]> 0.5, iou, np.zeros_like(truth[:, :, :, :, 8]))\n",
    "# iou = np.sum(iou) / (np.sum(truth[:, :, :, :, 8])+1e-8)\n",
    "# print(iou)"
   ]
  },
  {
   "cell_type": "code",
   "execution_count": null,
   "metadata": {
    "collapsed": true
   },
   "outputs": [],
   "source": []
  },
  {
   "cell_type": "code",
   "execution_count": 26,
   "metadata": {},
   "outputs": [
    {
     "data": {
      "image/png": "[encoded data removed]",
      "text/plain": [
       "<Figure size 432x288 with 1 Axes>"
      ]
     },
     "metadata": {
      "needs_background": "light"
     },
     "output_type": "display_data"
    }
   ],
   "source": [
    "plt.imshow(camera_image)\n",
    "plt.show()"
   ]
  },
  {
   "cell_type": "code",
   "execution_count": 27,
   "metadata": {},
   "outputs": [
    {
     "data": {
      "text/plain": [
       "(512, 448, 41)"
      ]
     },
     "execution_count": 27,
     "metadata": {},
     "output_type": "execute_result"
    }
   ],
   "source": [
    "lidar_image.shape"
   ]
  },
  {
   "cell_type": "code",
   "execution_count": 28,
   "metadata": {},
   "outputs": [
    {
     "data": {
      "text/plain": [
       "(1.0, 0.0)"
      ]
     },
     "execution_count": 28,
     "metadata": {},
     "output_type": "execute_result"
    }
   ],
   "source": [
    "np.max(lidar_image), np.min(lidar_image)"
   ]
  },
  {
   "cell_type": "code",
   "execution_count": 37,
   "metadata": {},
   "outputs": [
    {
     "name": "stdout",
     "output_type": "stream",
     "text": [
      "472.48097740610626 249.16122613804237 27.466894307628436 24.00149925368652 9.28681659952163 15.30581085852821 -98.54877600000002\n",
      "424.9929317312524 211.05142819540308 26.18942373151885 28.22771262209276 9.607855791839205 13.940961482608502 -100.840608\n",
      "391.1555972604508 257.0877709495571 26.364184090276634 23.239160838355325 8.989174544173867 14.72087541170548 -97.40286\n",
      "351.2131905251017 262.7840265944085 25.70871325222467 29.317554092563466 9.824308244325316 14.135939964882745 -100.26765000000002\n",
      "339.7720150870124 222.26754487852784 26.16483546169767 27.04202514527551 9.518475543921216 15.013343135116841 -101.986524\n",
      "300.69322321354207 227.96388391072577 25.521592648354662 23.882541549395164 8.62339255908189 14.525896929431235 -102.559482\n",
      "304.5665045610459 268.4149090210218 26.41978390064676 31.269821417509014 9.305816739808408 14.915853893979724 -99.69469200000002\n",
      "201.51041526606144 249.51731142165195 25.099899745868065 24.090049285090245 8.589393750842019 15.988235546488069 -115.737516\n"
     ]
    },
    {
     "data": {
      "text/plain": [
       "<Figure size 432x288 with 0 Axes>"
      ]
     },
     "metadata": {},
     "output_type": "display_data"
    },
    {
     "data": {
      "image/png": "[encoded data removed]",
      "text/plain": [
       "<Figure size 432x288 with 1 Axes>"
      ]
     },
     "metadata": {
      "needs_background": "light"
     },
     "output_type": "display_data"
    }
   ],
   "source": [
    "\n",
    "#groundtruth\n",
    "# Create figure and axes\n",
    "plt.clf()\n",
    "fig,ax = plt.subplots(1)\n",
    "\n",
    "img = (lidar_image*255. + 0.)\n",
    "\n",
    "img = np.clip(np.mean(img[:, :, 5:25], 2), 0, 1)\n",
    "\n",
    "ax.imshow(img)\n",
    "\n",
    "# print(img.shape)\n",
    "for i in range(0, len(label)):\n",
    "    w = label[i][3] \n",
    "    h = label[i][4] \n",
    "    d = label[i][5] \n",
    "    x = label[i][0]\n",
    "    y = label[i][1]\n",
    "    z = label[i][2]\n",
    "    c = 'g'\n",
    "    if directions[i] >= 1.:\n",
    "        c = 'b'\n",
    "    polygon = convert5Pointto8Point(y, x, w, h, -label[i][6]*57.2958)\n",
    "    xs = polygon[0::2]\n",
    "    ys = polygon[1::2]\n",
    "    l = []\n",
    "    plt.scatter([y], [x], s=3)\n",
    "    for j in range(4):\n",
    "        l.append([xs[j], ys[j]])\n",
    "    rect = patches.Polygon(l,linewidth=.75,edgecolor='b',facecolor='none')\n",
    "    ax.add_patch(rect)\n",
    "    print(x, y, z, w, h, d, -label[i][6]*57.2958)\n",
    "\n",
    "# plt.imshow(temp)\n",
    "plt.show()\n"
   ]
  },
  {
   "cell_type": "code",
   "execution_count": 38,
   "metadata": {},
   "outputs": [
    {
     "name": "stdout",
     "output_type": "stream",
     "text": [
      "472.48097740610626 249.16122613804237 27.466894307628436 24.00149925368652 9.28681659952163 15.30581085852821 -98.54877600000002\n",
      "424.9929317312524 211.05142819540308 26.18942373151885 28.22771262209276 9.607855791839205 13.940961482608502 -100.840608\n",
      "391.1555972604508 257.0877709495571 26.364184090276634 23.239160838355325 8.989174544173867 14.72087541170548 -97.40286\n",
      "351.2131905251017 262.7840265944085 25.70871325222467 29.317554092563466 9.824308244325316 14.135939964882745 -100.26765000000002\n",
      "339.7720150870124 222.26754487852784 26.16483546169767 27.04202514527551 9.518475543921216 15.013343135116841 -101.986524\n",
      "300.69322321354207 227.96388391072577 25.521592648354662 23.882541549395164 8.62339255908189 14.525896929431235 -102.559482\n",
      "304.5665045610459 268.4149090210218 26.41978390064676 31.269821417509014 9.305816739808408 14.915853893979724 -99.69469200000002\n",
      "201.51041526606144 249.51731142165195 25.099899745868065 24.090049285090245 8.589393750842019 15.988235546488069 -115.737516\n"
     ]
    },
    {
     "data": {
      "text/plain": [
       "<Figure size 432x288 with 0 Axes>"
      ]
     },
     "metadata": {},
     "output_type": "display_data"
    },
    {
     "data": {
      "image/png": "[encoded data removed]",
      "text/plain": [
       "<Figure size 432x288 with 1 Axes>"
      ]
     },
     "metadata": {
      "needs_background": "light"
     },
     "output_type": "display_data"
    }
   ],
   "source": [
    "\n",
    "#groundtruth\n",
    "# Create figure and axes\n",
    "plt.clf()\n",
    "fig,ax = plt.subplots(1)\n",
    "\n",
    "img = (lidar_image*255. + 0.)\n",
    "\n",
    "img = np.clip(np.mean(img[:, :, :], 2), 0, 1)\n",
    "\n",
    "ax.imshow(img)\n",
    "\n",
    "# print(img.shape)\n",
    "for i in range(0, len(label)):\n",
    "    w = label[i][3] \n",
    "    h = label[i][4] \n",
    "    d = label[i][5] \n",
    "    x = label[i][0]\n",
    "    y = label[i][1]\n",
    "    z = label[i][2]\n",
    "    c = 'g'\n",
    "    if directions[i] >= 1.:\n",
    "        c = 'b'\n",
    "    polygon = convert5Pointto8Point(y, x, w, h, -label[i][6]*57.2958)\n",
    "    xs = polygon[0::2]\n",
    "    ys = polygon[1::2]\n",
    "    l = []\n",
    "    plt.scatter([y], [x], s=3)\n",
    "    for j in range(4):\n",
    "        l.append([xs[j], ys[j]])\n",
    "    rect = patches.Polygon(l,linewidth=.75,edgecolor='b',facecolor='none')\n",
    "    ax.add_patch(rect)\n",
    "    print(x, y, z, w, h, d, -label[i][6]*57.2958)\n",
    "\n",
    "# plt.imshow(temp)\n",
    "plt.show()\n"
   ]
  },
  {
   "cell_type": "code",
   "execution_count": 41,
   "metadata": {},
   "outputs": [
    {
     "data": {
      "text/plain": [
       "<matplotlib.image.AxesImage at 0x1c4ce0f198>"
      ]
     },
     "execution_count": 41,
     "metadata": {},
     "output_type": "execute_result"
    },
    {
     "data": {
      "text/plain": [
       "<Figure size 432x288 with 0 Axes>"
      ]
     },
     "metadata": {},
     "output_type": "display_data"
    },
    {
     "data": {
      "image/png": "[encoded data removed]",
      "text/plain": [
       "<Figure size 432x288 with 1 Axes>"
      ]
     },
     "metadata": {
      "needs_background": "light"
     },
     "output_type": "display_data"
    }
   ],
   "source": [
    "plt.clf()\n",
    "fig,ax = plt.subplots(1)\n",
    "\n",
    "img = (lidar_image*255. + 0.)\n",
    "\n",
    "img = np.clip(np.mean(img[:, :, :40], 2), 0, 1)\n",
    "\n",
    "ax.imshow(img)\n"
   ]
  },
  {
   "cell_type": "code",
   "execution_count": 42,
   "metadata": {},
   "outputs": [
    {
     "data": {
      "text/plain": [
       "<Figure size 432x288 with 0 Axes>"
      ]
     },
     "metadata": {},
     "output_type": "display_data"
    },
    {
     "data": {
      "image/png": "[encoded data removed]",
      "text/plain": [
       "<Figure size 432x288 with 1 Axes>"
      ]
     },
     "metadata": {
      "needs_background": "light"
     },
     "output_type": "display_data"
    }
   ],
   "source": [
    "plt.clf()\n",
    "fig,ax = plt.subplots(1)\n",
    "img = (lidar_image*255. + 0.)\n",
    "img = img[:, :, -1]\n",
    "plt.imshow(img)\n",
    "plt.show()\n"
   ]
  },
  {
   "cell_type": "code",
   "execution_count": 43,
   "metadata": {},
   "outputs": [
    {
     "data": {
      "text/plain": [
       "<Figure size 432x288 with 0 Axes>"
      ]
     },
     "metadata": {},
     "output_type": "display_data"
    },
    {
     "data": {
      "image/png": "[encoded data removed]",
      "text/plain": [
       "<Figure size 432x288 with 1 Axes>"
      ]
     },
     "metadata": {
      "needs_background": "light"
     },
     "output_type": "display_data"
    },
    {
     "data": {
      "text/plain": [
       "<Figure size 432x288 with 0 Axes>"
      ]
     },
     "metadata": {},
     "output_type": "display_data"
    },
    {
     "data": {
      "image/png": "[encoded data removed]",
      "text/plain": [
       "<Figure size 432x288 with 1 Axes>"
      ]
     },
     "metadata": {
      "needs_background": "light"
     },
     "output_type": "display_data"
    }
   ],
   "source": [
    "# Create figure and axes\n",
    "plt.clf()\n",
    "fig,ax = plt.subplots(1)\n",
    "img = (lidar_image*255. + 0.)\n",
    "img = img[:, :, -1]\n",
    "plt.imshow(img>=100)\n",
    "plt.show()\n",
    "\n",
    "plt.clf()\n",
    "fig,ax = plt.subplots(1)\n",
    "temp = label2[:, :, 1, -1]*255.\n",
    "# temp = cv2.resize(temp, (448, 512)) * 255.\n",
    "plt.imshow(temp>100)\n",
    "plt.show()"
   ]
  },
  {
   "cell_type": "code",

   "execution_count": 44,
   "metadata": {},
   "outputs": [
    {
     "name": "stdout",
     "output_type": "stream",
     "text": [

      "15.30581085852821 9.28681659952163 24.00149925368652\n",
      "249.16122613804237 27.466894307628436 472.48097740610626\n",
      "13.940961482608502 9.607855791839205 28.22771262209276\n",
      "211.05142819540308 26.18942373151885 424.9929317312524\n",
      "14.72087541170548 8.989174544173867 23.239160838355325\n",
      "257.0877709495571 26.364184090276634 391.1555972604508\n",
      "14.135939964882745 9.824308244325316 29.317554092563466\n",
      "262.7840265944085 25.70871325222467 351.2131905251017\n",
      "15.013343135116841 9.518475543921216 27.04202514527551\n",
      "222.26754487852784 26.16483546169767 339.7720150870124\n",
      "14.525896929431235 8.62339255908189 23.882541549395164\n",
      "227.96388391072577 25.521592648354662 300.69322321354207\n",
      "14.915853893979724 9.305816739808408 31.269821417509014\n",
      "268.4149090210218 26.41978390064676 304.5665045610459\n",
      "15.988235546488069 8.589393750842019 24.090049285090245\n",
      "249.51731142165195 25.099899745868065 201.51041526606144\n"
     ]
    },
    {
     "data": {
      "text/plain": [
       "<Figure size 432x288 with 0 Axes>"
      ]
     },
     "metadata": {},
     "output_type": "display_data"
    },
    {
     "data": {

      "image/png": "[encoded data removed]",
      "text/plain": [
       "<Figure size 432x288 with 1 Axes>"
      ]
     },
     "metadata": {
      "needs_background": "light"
     },
     "output_type": "display_data"
    }
   ],
   "source": [
    "# Create figure and axes\n",
    "plt.clf()\n",
    "fig,ax = plt.subplots(1)\n",
    "\n",
    "img = (lidar_image*255. + 0.)\n",
    "# Display the image\n",
    "img = np.clip(np.mean(img.transpose()[:, :, :], 2), 0, 1)\n",
    "# img = cv2.resize(img, (112, 128))\n",
    "ax.imshow(img)\n",
    "\n",
    "for i in range(0, len(label)):\n",
    "    l = label[i][3]\n",
    "    w = label[i][4] \n",
    "    h = label[i][5]\n",
    "    x = label[i][0]\n",
    "    y = label[i][1]\n",
    "    z = label[i][2]\n",
    "\n",
    "    plt.scatter(y, z-h/2, s=10, c='r')\n",
    "    plt.scatter(y-w/2, z-h, s=10, c='g')\n",
    "    a = label[i][6]\n",
    "    if a < 0:\n",
    "      a = a + 3.14\n",
    "    print(h, w, l)\n",
    "    print(y, z, x)\n",
    "#     print()\n",
    "    rect = patches.Rectangle((y-w/2, z-h),w, h, angle=0,linewidth=0.75,edgecolor='r',facecolor='none')\n",
    "\n",
    "    ax.add_patch(rect)\n",
    "#     break\n",
    "\n",
    "\n",
    "plt.show()\n"
   ]
  },
  {
   "cell_type": "code",
   "execution_count": 45,
   "metadata": {},
   "outputs": [
    {
     "data": {
      "text/plain": [
       "<Figure size 432x288 with 0 Axes>"
      ]
     },
     "metadata": {},
     "output_type": "display_data"
    },
    {
     "data": {
      "image/png": "[encoded data removed]",
      "text/plain": [
       "<Figure size 432x288 with 1 Axes>"
      ]
     },
     "metadata": {
      "needs_background": "light"
     },
     "output_type": "display_data"
    }
   ],
   "source": [
    "plt.clf()\n",
    "fig,ax = plt.subplots(1)\n",
    "# 338.0429604813074 228.30154100755286 26.251612833821447 22.992421447451175 9.299607994828627 15.695767823076704 -95.111028\n",
    "\n",
    "img = (lidar_image*255. + 0.)\n",
    "img = np.clip(np.mean(img[338-12:338+12, 228-5:228+5, 5:25], 2), 0, 1)\n",
    "ax.imshow(img)\n",
    "plt.show()"
   ]
  },
  {
   "cell_type": "code",
   "execution_count": 46,
   "metadata": {},
   "outputs": [
    {
     "data": {
      "text/plain": [
       "<Figure size 432x288 with 0 Axes>"
      ]
     },
     "metadata": {},
     "output_type": "display_data"
    },
    {
     "data": {
      "image/png": "[encoded data removed]",
      "text/plain": [
       "<Figure size 432x288 with 1 Axes>"
      ]
     },
     "metadata": {
      "needs_background": "light"
     },
     "output_type": "display_data"
    }
   ],
   "source": [
    "plt.clf()\n",
    "fig,ax = plt.subplots(1)\n",
    "# 15.695767823076704 9.299607994828627 22.992421447451175\n",
    "# 228.30154100755286 26.251612833821447 338.0429604813074\n",
    "\n",
    "\n",
    "# 15.695767823076704 9.27595552418579 23.02796916185907\n",
    "# 217.70232382225657 26.251612833821447 316.5861802528655\n",
    "img = (lidar_image*255. + 0.)\n",
    "img = np.clip(np.mean(img.transpose()[:, 228-5:228+5, 338-11:338+11], 2), 0, 1)\n",
    "# img = cv2.resize(img, (112, 128))\n",
    "ax.imshow(img)\n",
    "plt.show()"
   ]
  },
  {
   "cell_type": "code",
   "execution_count": null,
   "metadata": {},
   "outputs": [],
   "source": []
  },
  {
   "cell_type": "code",
   "execution_count": null,
   "metadata": {},
   "outputs": [],
   "source": []
  },
  {
   "cell_type": "code",
   "execution_count": null,
   "metadata": {
    "collapsed": true
   },
   "outputs": [],
   "source": []
  },
  {
   "cell_type": "code",
   "execution_count": null,
   "metadata": {
    "collapsed": true
   },
   "outputs": [],
   "source": []
  },
  {
   "cell_type": "code",
   "execution_count": null,
   "metadata": {
    "collapsed": true
   },
   "outputs": [],
   "source": []
  },
  {
   "cell_type": "code",
   "execution_count": 64,
   "metadata": {
    "collapsed": true
   },
   "outputs": [],
   "source": [
    "def cart2hom(pts_3d):\n",
    "    ''' Input: nx3 points in Cartesian\n",
    "        Oupput: nx4 points in Homogeneous by pending 1\n",
    "    '''\n",
    "    n = pts_3d.shape[0]\n",
    "    pts_3d_hom = np.hstack((pts_3d, np.ones((n,1))))\n",
    "    return pts_3d_hom\n",
    "\n",
    "def project_velo_to_ref(pts_3d_velo, Tr_velo_to_cam):\n",
    "    pts_3d_velo = cart2hom(pts_3d_velo) # nx4\n",
    "    return np.dot(pts_3d_velo, np.transpose(Tr_velo_to_cam))\n",
    "\n",
    "    \n",
    "def project_ref_to_rect(pts_3d_ref, R0_rect):\n",
    "        ''' Input and Output are nx3 points '''\n",
    "        return np.transpose(np.dot(R0_rect, np.transpose(pts_3d_ref)))\n",
    "\n",
    "def ProjectTo2Dbbox(center, h, w, l, r_y, P2):\n",
    "    # input: 3Dbbox in (rectified) camera coords\n",
    "\n",
    "    Rmat = np.asarray([[math.cos(r_y), 0, math.sin(r_y)],\n",
    "                       [0, 1, 0],\n",
    "                       [-math.sin(r_y), 0, math.cos(r_y)]],\n",
    "                       dtype='float32')\n",
    "\n",
    "    p0 = center + np.dot(Rmat, np.asarray([l/2.0, 0, w/2.0], dtype='float32').flatten())\n",
    "    p1 = center + np.dot(Rmat, np.asarray([-l/2.0, 0, w/2.0], dtype='float32').flatten())\n",
    "    p2 = center + np.dot(Rmat, np.asarray([-l/2.0, 0, -w/2.0], dtype='float32').flatten())\n",
    "    p3 = center + np.dot(Rmat, np.asarray([l/2.0, 0, -w/2.0], dtype='float32').flatten())\n",
    "    p4 = center + np.dot(Rmat, np.asarray([l/2.0, -h, w/2.0], dtype='float32').flatten())\n",
    "    p5 = center + np.dot(Rmat, np.asarray([-l/2.0, -h, w/2.0], dtype='float32').flatten())\n",
    "    p6 = center + np.dot(Rmat, np.asarray([-l/2.0, -h, -w/2.0], dtype='float32').flatten())\n",
    "    p7 = center + np.dot(Rmat, np.asarray([l/2.0, -h, -w/2.0], dtype='float32').flatten())\n",
    "\n",
    "    points = np.array([p0, p1, p2, p3, p4, p5, p6, p7])\n",
    "\n",
    "    points_hom = np.ones((points.shape[0], 4)) # (shape: (8, 4))\n",
    "    points_hom[:, 0:3] = points\n",
    "\n",
    "    # project the points onto the image plane (homogeneous coords):\n",
    "    img_points_hom = np.dot(P2, points_hom.T).T # (shape: (8, 3)) (points_hom.T has shape (4, 8))\n",
    "    # normalize:\n",
    "    img_points = np.zeros((img_points_hom.shape[0], 2)) # (shape: (8, 2))\n",
    "    img_points[:, 0] = img_points_hom[:, 0]/img_points_hom[:, 2]\n",
    "    img_points[:, 1] = img_points_hom[:, 1]/img_points_hom[:, 2]\n",
    "\n",
    "    u_min = np.min(img_points[:, 0])\n",
    "    v_min = np.min(img_points[:, 1])\n",
    "    u_max = np.max(img_points[:, 0])\n",
    "    v_max = np.max(img_points[:, 1])\n",
    "\n",
    "    left = int(u_min)\n",
    "    top = int(v_min)\n",
    "    right = int(u_max)\n",
    "    bottom = int(v_max)\n",
    "\n",
    "    projected_2Dbbox = [left, top, right, bottom]\n",
    "\n",
    "    return projected_2Dbbox\n"
   ]
  },
  {
   "cell_type": "code",
   "execution_count": 84,
   "metadata": {
    "collapsed": true
   },
   "outputs": [],
   "source": [
    "def sigmoid(x):\n",
    "    x = x.astype(np.float128)\n",
    "    x = 1 / (1 + np.exp(-x))\n",
    "    x = x.astype(np.float32)\n",
    "    return x\n",
    "\n",
    "def convert_prediction_into_real_values(label_tensor, truth_value=None,\n",
    "            anchors=np.array([3.9, 1.6, 1.5]), \n",
    "            input_size=(512, 448), output_size=(128, 112), is_label=False, th=0.5):\n",
    "\n",
    "    ratio = input_size[0] // output_size[0]\n",
    "    result = []\n",
    "    if not is_label:\n",
    "        ones_index = np.where(sigmoid(label_tensor[:, :, :, -1])>=th)\n",
    "    else:\n",
    "        ones_index = np.where(label_tensor[:, :, :, -1]>=th)\n",
    "    if truth_value is not None:\n",
    "        ones_index = np.where(truth_value[:, :, :, -1]>=th)\n",
    "#     print(ones_index)\n",
    "    if len(ones_index) > 0 and len(ones_index[0]) > 0:\n",
    "        for i in range(0, len(ones_index[0]), 1):\n",
    "            x = ones_index[0][i]\n",
    "            y = ones_index[1][i]\n",
    "            \n",
    "            out = np.copy(label_tensor[ones_index[0][i], ones_index[1][i], ones_index[2][i], :])\n",
    "            anchor = np.array([x+0.5, y+0.5, 1., anchors[0], anchors[1], anchors[2]])\n",
    "\n",
    "            out[:3] = out[:3] * anchor[3:6] + anchor[:3]\n",
    "            \n",
    "            out[:2] = out[:2] * ratio\n",
    "            out[2] = out[2] * 40\n",
    "            \n",
    "            out[3:6] = np.exp(out[3:6]) * anchors\n",
    "            \n",
    "            k = ones_index[2][i]\n",
    "            if not is_label:\n",
    "              out[6] = sigmoid(out[6]) * np.pi/2 - np.pi/4\n",
    "            else:\n",
    "                out[6] = out[6]\n",
    "            \n",
    "            if k == 0 and out[6] < 0:\n",
    "                out[6] = out[6] + np.pi\n",
    "                \n",
    "            out[6] = out[6] + k * (np.pi/2)\n",
    "                        \n",
    "            result.append(out)\n",
    "            \n",
    "    return np.array(result)"
   ]
  },
  {
   "cell_type": "code",
   "execution_count": 85,
   "metadata": {
    "collapsed": true
   },
   "outputs": [],
   "source": [
    "def get_points(converted_points, calib_path, \n",
    "                x_range=(0, 71), y_range=(-40, 40), z_range=(-3.0, 1), \n",
    "                size=(512, 448, 40), th=0.5):\n",
    "    all_result = []\n",
    "    for converted_points_ in converted_points:\n",
    "        if converted_points_[-1] >= th:\n",
    "            result = [0] * 16\n",
    "            result[0] = 'Car'\n",
    "            result[1] = -1\n",
    "            result[2] = -1\n",
    "            result[3] = -10\n",
    "            result[8] = converted_points_[5]\n",
    "            result[9] = converted_points_[4]\n",
    "            result[10] = converted_points_[3]\n",
    "            result[14] = converted_points_[6]\n",
    "            result[15] = sigmoid(converted_points_[-1])\n",
    "\n",
    "            \n",
    "            calib_reader = CalibReader(calib_path)\n",
    "            calib_data = calib_reader.read_calib()\n",
    "\n",
    "            # x_range=(0, 70)\n",
    "            # y_range=(-40, 40)\n",
    "            # z_range=(-2.5, 1)\n",
    "\n",
    "            x_size = (x_range[1] - x_range[0])\n",
    "            y_size = (y_range[1] - y_range[0])\n",
    "            z_size = (z_range[1] - z_range[0])\n",
    "\n",
    "            x_fac = (size[0]-1) / x_size\n",
    "            y_fac = (size[1]-1) / y_size\n",
    "            z_fac = (size[2]-1) / z_size\n",
    "\n",
    "            x, y, z = -((converted_points_[:3] - size) / np.array([x_fac, y_fac, z_fac])) - np.array([0, -1*y_range[0], -1*z_range[0]]) \n",
    "            point = np.array([[x, y, z]])\n",
    "            box3d_pts_3d = point\n",
    "\n",
    "            pts_3d_ref = project_velo_to_ref(box3d_pts_3d, calib_data['Tr_velo_to_cam'].reshape((3, 4)))\n",
    "            pts_3d_ref = project_ref_to_rect(pts_3d_ref, calib_data['R0_rect'].reshape((3, 3)))[0]\n",
    "            for k in range(3):\n",
    "                result[11 + k] = pts_3d_ref[k]\n",
    "\n",
    "            imgbbox = ProjectTo2Dbbox(pts_3d_ref, converted_points_[5], converted_points_[4],\n",
    "                         converted_points_[3], converted_points_[6], calib_data['P2'].reshape((3, 4)))\n",
    "\n",
    "            result[4:8] = imgbbox\n",
    "            all_result.append(result)\n",
    "    return all_result"
   ]
  },
  {
   "cell_type": "code",
   "execution_count": 86,
   "metadata": {},
   "outputs": [
    {
     "name": "stdout",
     "output_type": "stream",
     "text": [
      "8\n",
      "[[201.51042   249.51732    25.0999      3.48        1.45        1.6400001\n",
      "    2.02        1.          1.       ]\n",
      " [300.69324   227.96388    25.521593    3.35        1.52        1.49\n",
      "    1.79        1.          1.       ]\n",
      " [304.5665    268.41492    26.419783    4.37        1.65        1.53\n",
      "    1.74        0.          1.       ]\n",
      " [339.772     222.26755    26.164835    3.79        1.68        1.54\n",
      "    1.78        1.          1.       ]\n",
      " [351.2132    262.78403    25.708714    4.1         1.74        1.4499999\n",
      "    1.75        0.          1.       ]\n",
      " [391.1556    257.08777    26.364183    3.24        1.6         1.51\n",
      "    1.7         0.          1.       ]\n",
      " [424.99292   211.05142    26.189423    3.9499998   1.7         1.43\n",
      "    1.76        1.          1.       ]\n",
      " [472.481     249.16122    27.466896    3.35        1.65        1.5699999\n",
      "    1.72        0.          1.       ]]\n",
      "Car -1 -1 -10 664 175 707 204 1.6400001 1.45 3.48 4.50000102280246 1.800000140509439 42.850002983386354 2.02 0.7310586\n",
      "Car -1 -1 -10 598 178 652 218 1.49 1.52 3.35 0.6399996948758297 1.7400001984185178 29.07000068655939 1.79 0.7310586\n",
      "Car -1 -1 -10 784 177 840 220 1.53 1.65 4.37 7.88000093597288 1.7500000433070635 28.530003534979468 1.74 0.7310586\n",
      "Car -1 -1 -10 559 179 635 231 1.54 1.68 3.79 -0.37999949090237206 1.7600001200661182 23.640003811955424 1.78 0.7310586\n",
      "Car -1 -1 -10 801 177 878 231 1.4499999 1.74 4.1 6.869999664483156 1.6200001745158321 22.050001278259003 1.75 0.7310586\n",
      "Car -1 -1 -10 820 177 926 252 1.51 1.6 3.24 5.849999208208778 1.6400000606723575 16.49999986385523 1.7 0.7310586\n",
      "Car -1 -1 -10 354 184 549 296 1.43 1.7 3.9499998 -2.390000941322865 1.6600000356115876 11.800002733011423 1.76 0.7310586\n",
      "Car -1 -1 -10 1014 181 1675 520 1.5699999 1.65 3.35 4.429999411901295 1.6500002821637558 5.19999908463219 1.72 0.7310586\n"
     ]
    }
   ],
   "source": [
    "th=0.5\n",
    "# truth_value = None\n",
    "converted_points = convert_prediction_into_real_values(label2, truth_value=None, th=th, is_label=True)\n",
    "print(len(converted_points))\n",
    "# converted_points = convert_prediction_into_real_values(final_output[0, :, :, :, :], th=th)\n",
    "points = get_points(converted_points, list_calib_paths[i_c], th=th)\n",
    "print(converted_points)\n",
    "res = '\\n'.join([' '.join([str(l) for l in points[i]]) for i in range(len(points))])\n",
    "print(res)"
   ]
  },
  {
   "cell_type": "code",
   "execution_count": 87,
   "metadata": {},
   "outputs": [
    {
     "name": "stdout",
     "output_type": "stream",
     "text": [
      "Car 0.80 0 -2.09 1013.39 182.46 1241.00 374.00 1.57 1.65 3.35 4.43 1.65 5.20 -1.42\r\n",
      "Car 0.00 0 1.95 354.43 185.52 549.52 294.49 1.43 1.70 3.95 -2.39 1.66 11.80 1.76\r\n",
      "Pedestrian 0.00 2 1.41 859.54 159.80 879.68 221.40 1.96 0.72 1.09 8.33 1.55 23.51 1.75\r\n",
      "Car 0.00 0 -1.78 819.63 178.12 926.85 251.56 1.51 1.60 3.24 5.85 1.64 16.50 -1.44\r\n",
      "Car 0.00 2 -1.69 800.54 178.06 878.75 230.56 1.45 1.74 4.10 6.87 1.62 22.05 -1.39\r\n",
      "Car 0.00 0 1.80 558.55 179.04 635.05 230.61 1.54 1.68 3.79 -0.38 1.76 23.64 1.78\r\n",
      "Car 0.00 2 1.77 598.30 178.68 652.25 218.17 1.49 1.52 3.35 0.64 1.74 29.07 1.79\r\n",
      "Car 0.00 1 -1.67 784.59 178.04 839.98 220.10 1.53 1.65 4.37 7.88 1.75 28.53 -1.40\r\n",
      "Car 0.00 1 1.92 663.74 175.36 707.21 204.15 1.64 1.45 3.48 4.50 1.80 42.85 2.02\r\n",
      "DontCare -1 -1 -10 737.69 163.56 790.86 197.98 -1 -1 -1 -1000 -1000 -1000 -10\r\n",
      "DontCare -1 -1 -10 135.60 185.44 196.06 202.15 -1 -1 -1 -1000 -1000 -1000 -10\r\n",
      "DontCare -1 -1 -10 796.02 162.52 862.73 183.40 -1 -1 -1 -1000 -1000 -1000 -10\r\n",
      "DontCare -1 -1 -10 879.35 165.65 931.48 182.36 -1 -1 -1 -1000 -1000 -1000 -10\r\n"
     ]
    }
   ],
   "source": [
    "t = list_label_paths[i_c]\n",
    "!cat $t"
   ]
  },
  {
   "cell_type": "code",
   "execution_count": null,
   "metadata": {
    "collapsed": true
   },
   "outputs": [],
   "source": []
  }
 ],
 "metadata": {
  "kernelspec": {
   "display_name": "env",
   "language": "python",
   "name": "env"
  },
  "language_info": {
   "codemirror_mode": {
    "name": "ipython",
    "version": 3
   },
   "file_extension": ".py",
   "mimetype": "text/x-python",
   "name": "python",
   "nbconvert_exporter": "python",
   "pygments_lexer": "ipython3",
   "version": "3.5.2"
  }
 },
 "nbformat": 4,
 "nbformat_minor": 2
}
