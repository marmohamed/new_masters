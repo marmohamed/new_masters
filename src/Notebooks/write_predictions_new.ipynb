{
 "cells": [
  {
   "cell_type": "code",
   "execution_count": 1,
   "metadata": {},
   "outputs": [
    {
     "name": "stderr",
     "output_type": "stream",
     "text": [
      "/home/injy/mariam_workspace/env3/lib/python3.5/site-packages/tensorflow/python/framework/dtypes.py:523: FutureWarning: Passing (type, 1) or '1type' as a synonym of type is deprecated; in a future version of numpy, it will be understood as (type, (1,)) / '(1,)type'.\n",
      "  _np_qint8 = np.dtype([(\"qint8\", np.int8, 1)])\n",
      "/home/injy/mariam_workspace/env3/lib/python3.5/site-packages/tensorflow/python/framework/dtypes.py:524: FutureWarning: Passing (type, 1) or '1type' as a synonym of type is deprecated; in a future version of numpy, it will be understood as (type, (1,)) / '(1,)type'.\n",
      "  _np_quint8 = np.dtype([(\"quint8\", np.uint8, 1)])\n",
      "/home/injy/mariam_workspace/env3/lib/python3.5/site-packages/tensorflow/python/framework/dtypes.py:525: FutureWarning: Passing (type, 1) or '1type' as a synonym of type is deprecated; in a future version of numpy, it will be understood as (type, (1,)) / '(1,)type'.\n",
      "  _np_qint16 = np.dtype([(\"qint16\", np.int16, 1)])\n",
      "/home/injy/mariam_workspace/env3/lib/python3.5/site-packages/tensorflow/python/framework/dtypes.py:526: FutureWarning: Passing (type, 1) or '1type' as a synonym of type is deprecated; in a future version of numpy, it will be understood as (type, (1,)) / '(1,)type'.\n",
      "  _np_quint16 = np.dtype([(\"quint16\", np.uint16, 1)])\n",
      "/home/injy/mariam_workspace/env3/lib/python3.5/site-packages/tensorflow/python/framework/dtypes.py:527: FutureWarning: Passing (type, 1) or '1type' as a synonym of type is deprecated; in a future version of numpy, it will be understood as (type, (1,)) / '(1,)type'.\n",
      "  _np_qint32 = np.dtype([(\"qint32\", np.int32, 1)])\n",
      "/home/injy/mariam_workspace/env3/lib/python3.5/site-packages/tensorflow/python/framework/dtypes.py:532: FutureWarning: Passing (type, 1) or '1type' as a synonym of type is deprecated; in a future version of numpy, it will be understood as (type, (1,)) / '(1,)type'.\n",
      "  np_resource = np.dtype([(\"resource\", np.ubyte, 1)])\n"
     ]
    }
   ],
   "source": [
    "import sys\n",
    "sys.path.insert(0, '../.')\n",
    "import numpy as np\n",
    "import math\n",
    "from data.data_utils.reader_utils import read_calib\n",
    "import tensorflow as tf\n",
    "from data.detection_dataset_loader import *\n",
    "from data.data_utils.data_reader import *\n",
    "from data.data_utils.reader_utils import *\n",
    "from model_fusion import *\n",
    "from data.postprocessing.nms import *"
   ]
  },
  {
   "cell_type": "code",
   "execution_count": 2,
   "metadata": {},
   "outputs": [],
   "source": [
    "import matplotlib.pyplot as plt"
   ]
  },
  {
   "cell_type": "code",
   "execution_count": 3,
   "metadata": {},
   "outputs": [
    {
     "data": {
      "text/plain": [
       "'1.12.0'"
      ]
     },
     "execution_count": 3,
     "metadata": {},
     "output_type": "execute_result"
    }
   ],
   "source": [
    "tf.__version__"
   ]
  },
  {
   "cell_type": "code",
   "execution_count": 4,
   "metadata": {},
   "outputs": [],
   "source": [
    "def read_label2(calib_reader, label_path, shift_h, shift_w, x_range=(0, 70), y_range=(-40, 40), z_range=(-2.5, 1), \n",
    "                    size=(448//4, 512//4, 35), get_actual_dims=False, from_file=True, translate_x=0, translate_y=0, translate_z=0, ang=0, get_neg=False):\n",
    "\n",
    "    \"\"\"\n",
    "    the file format is as follows: \n",
    "    type, truncated, occluded, alpha, bbox_left, bbox_top, bbox_right, bbox_bottom,\n",
    "    dimensions_height, dimensions_width, dimensions_length, location_x, location_y, location_z,\n",
    "    rotation_y, score) \n",
    "    \"\"\"\n",
    "    if from_file:\n",
    "        lines = []\n",
    "        with open(label_path) as label_file:\n",
    "            lines = label_file.readlines()\n",
    "    else:\n",
    "        lines = label_path.split('\\n')\n",
    "#     print(len(lines))\n",
    "    # filter car class\n",
    "    lines = list(map(lambda x: x.split(), lines))\n",
    "    if len(lines) > 0:\n",
    "        if get_neg:\n",
    "            lines = list(filter(lambda x: len(x) > 0 and ( x[0] not in ['Car', 'Van', 'Truck', 'Tram', 'DontCare']), lines))\n",
    "            if len(lines) > 0:\n",
    "                lines = lines[:1]\n",
    "        else:\n",
    "            lines = list(filter(lambda x: len(x) > 0 and ( x[0] in ['Car', 'Van', 'Truck', 'Tram']), lines))\n",
    "    \n",
    "    def get_parameter(index):\n",
    "        return list(map(lambda x: x[index], lines))\n",
    "    \n",
    "    classes = np.array(get_parameter(0))\n",
    "    dimension_height = np.array(get_parameter(8)).astype(float)\n",
    "    dimension_width = np.array(get_parameter(9)).astype(float)\n",
    "    dimension_length = np.array(get_parameter(10)).astype(float)\n",
    "    # TODO: take shift into consideration - URGENT\n",
    "    location_x = np.array(get_parameter(11)).astype(float)\n",
    "    location_y = np.array(get_parameter(12)).astype(float)\n",
    "    location_z = np.array(get_parameter(13)).astype(float)\n",
    "    angles = np.array(get_parameter(14)).astype(float)\n",
    "    directions = np.array(angles>= 0).astype(float)\n",
    "    \n",
    "    # print(len(classes))\n",
    "    calib_data = calib_reader.read_calib()\n",
    "\n",
    "    locations = np.array([[location_x[i], location_y[i], location_z[i]] for i in range(len(classes))])\n",
    "\n",
    "    if len(locations) > 0 and len(locations[0]) > 0:\n",
    "        locations = project_rect_to_velo(locations, calib_data['R0_rect'].reshape((3, 3)), calib_data['Tr_velo_to_cam'].reshape((3, 4)))\n",
    "#     print(len(locations))\n",
    "    # print(z_range)\n",
    "\n",
    "    indx = []\n",
    "    i = 0\n",
    "    for point in locations:\n",
    "        if (point[0] >= x_range[0]  and point[0] <= x_range[1])\\\n",
    "            and (point[1] >= y_range[0] and point[1] <= y_range[1])\\\n",
    "            and (point[2] >= z_range[0] and point[2] <= z_range[1]):\n",
    "            indx.append(i)\n",
    "        i += 1\n",
    "\n",
    "    indxes = np.array(list(map(lambda point: (point[0] >= x_range[0]  and point[0] <= x_range[1])\n",
    "                                    and (point[1] >= y_range[0] and point[1] <= y_range[1])\n",
    "                                    and (point[2] >= z_range[0] and point[2] <= z_range[1]) , locations)))\n",
    "    locations = np.array(list(filter(lambda point: (point[0] >= x_range[0]  and point[0] <= x_range[1])\n",
    "                                    and (point[1] >= y_range[0] and point[1] <= y_range[1])\n",
    "                                    and (point[2] >= z_range[0] and point[2] <= z_range[1]) , locations)))\n",
    "\n",
    "    if len(indx) > 0:\n",
    "        dimension_height = dimension_height[indx]\n",
    "        dimension_width = dimension_width[indx]\n",
    "        dimension_length = dimension_length[indx]\n",
    "        location_x = location_x[indx]\n",
    "        location_y = location_y[indx]\n",
    "        location_z = location_z[indx]\n",
    "        angles = angles[indx]\n",
    "        classes = classes[indx]\n",
    "        directions = directions[indx]\n",
    "\n",
    "    if len(locations) > 0:\n",
    "        locations[:, :3] = locations[:, :3] - np.array([translate_x, translate_y, -translate_z])\n",
    "\n",
    "    # print('.......')\n",
    "    # print(len(locations))\n",
    "\n",
    "    points = [project_point_from_camera_coor_to_velo_coor([location_x[i], location_y[i], location_z[i]], \n",
    "                                                        [dimension_height[i], dimension_width[i], dimension_length[i]],\n",
    "                                                        angles[i],\n",
    "                                                         calib_data)\n",
    "                for i in range(len(locations))]\n",
    "    \n",
    "    x_size = (x_range[1] - x_range[0])\n",
    "    y_size = (y_range[1] - y_range[0])\n",
    "    z_size = (z_range[1] - z_range[0])\n",
    "            \n",
    "    x_fac = (size[0]-1) / x_size\n",
    "    y_fac = (size[1]-1) / y_size\n",
    "    z_fac = (size[2]-1) / z_size\n",
    "    if get_actual_dims:\n",
    "        import math\n",
    "        for i in range(len(points)):\n",
    "            b = points[i]\n",
    "            x0 = b[0][0]\n",
    "            y0 = b[0][1]\n",
    "            x1 = b[1][0]\n",
    "            y1 = b[1][1]\n",
    "            x2 = b[2][0]\n",
    "            y2 = b[2][1]\n",
    "            u0 = -(x0) * x_fac + size[0]\n",
    "            v0 = -(y0 + 35) * y_fac + size[1]\n",
    "            u1 = -(x1) * x_fac + size[0]\n",
    "            v1 = -(y1 + 35) * y_fac + size[1]\n",
    "            u2 = -(x2) * x_fac + size[0]\n",
    "            v2 = -(y2 + 35) * y_fac + size[1]\n",
    "            dimension_length[i] = math.sqrt((v1-v2)**2 + (u1-u2)**2)\n",
    "            dimension_width[i] = math.sqrt((v1-v0)**2 + (u1-u0)**2)\n",
    "            dimension_height[i] = math.sqrt((-(b[0][2]+(-1*z_range[1]))*z_fac-(-b[4][2]+z_range[1])*z_fac)**2)\n",
    "\n",
    "      \n",
    "#     for i in range(len(locations)):\n",
    "#         if angles[i] < 0:\n",
    "#             angles[i] += 3.14\n",
    "\n",
    "    x_range = (x_range[0] + translate_x, x_range[1] + translate_x)\n",
    "    y_range = (y_range[0] + translate_y, y_range[1] + translate_y)\n",
    "    z_range = (z_range[0] + translate_z, z_range[1] + translate_z)\n",
    "    output = [[-(locations[i][0] + -1*x_range[0]) * x_fac + size[0], -(locations[i][1] + -1*y_range[0]) * y_fac + size[1], -(locations[i][2] + -1*z_range[0]) * z_fac + size[2], \n",
    "                dimension_length[i], dimension_width[i], dimension_height[i], angles[i]] \n",
    "                for i in range(len(locations))]\n",
    "    # import math\n",
    "    if ang != 0:\n",
    "        for i in range(len(locations)):\n",
    "            w = size[0]\n",
    "            h = size[1]\n",
    "            output[i][0], output[i][1] = rotate2((w//2, h//2), (output[i][0], output[i][1]), ang / 57.2958)\n",
    "            output[i][6] = output[i][6] - ang / 57.2958\n",
    "\n",
    "    output = list(filter(lambda point: 0 <= point[0] < size[0] and 0 <= point[1] < size[1] and 0 <= point[2] < size[2] , output))\n",
    "    output = np.array(output)\n",
    "\n",
    "    if from_file:\n",
    "        return points, output, calib_data['Tr_velo_to_cam'], calib_data['R0_rect'], calib_data['P2'], directions\n",
    "    else:\n",
    "        return output, indxes\n"
   ]
  },
  {
   "cell_type": "code",
   "execution_count": 5,
   "metadata": {},
   "outputs": [],
   "source": [
    "def nms2(label, scores, max_output_size=100, iou_threshold=0.1, sess=None):\n",
    "    boxes = []\n",
    "\n",
    "    for j in range(0, len(label)):\n",
    "\n",
    "        w = label[j][3]\n",
    "        h = label[j][4] \n",
    "        x = label[j][0]\n",
    "        y = label[j][1]\n",
    "        a = label[j][6]\n",
    "        \n",
    "\n",
    "        polygon = convert5Pointto8Point(y, x, w, h, -a*57.2958)\n",
    "        xs = polygon[0::2]\n",
    "        ys = polygon[1::2]\n",
    "            \n",
    "        boxes.append([xs[0], ys[0], xs[2], ys[2]])\n",
    "\n",
    "    boxes = np.array(boxes)\n",
    "    with tf.Graph().as_default():\n",
    "        selected_indices = tf.image.non_max_suppression(\n",
    "                    boxes, scores, max_output_size=max_output_size, iou_threshold=iou_threshold)\n",
    "        if sess is not None:\n",
    "            selected_indices = sess.run(selected_indices)\n",
    "        else:\n",
    "            with tf.Session() as sess:\n",
    "                selected_indices = sess.run(selected_indices)\n",
    "\n",
    "    return selected_indices\n",
    "\n"
   ]
  },
  {
   "cell_type": "code",
   "execution_count": 6,
   "metadata": {},
   "outputs": [],
   "source": [
    "\n",
    "def cart2hom(pts_3d):\n",
    "    ''' Input: nx3 points in Cartesian\n",
    "        Oupput: nx4 points in Homogeneous by pending 1\n",
    "    '''\n",
    "    n = pts_3d.shape[0]\n",
    "    pts_3d_hom = np.hstack((pts_3d, np.ones((n,1))))\n",
    "    return pts_3d_hom\n",
    "\n",
    "def project_velo_to_ref(pts_3d_velo, Tr_velo_to_cam):\n",
    "    pts_3d_velo = cart2hom(pts_3d_velo) # nx4\n",
    "    return np.dot(pts_3d_velo, np.transpose(Tr_velo_to_cam))\n",
    "\n",
    "    \n",
    "def project_ref_to_rect(pts_3d_ref, R0_rect):\n",
    "        ''' Input and Output are nx3 points '''\n",
    "        return np.transpose(np.dot(R0_rect, np.transpose(pts_3d_ref)))\n",
    "\n",
    "def ProjectTo2Dbbox(center, h, w, l, r_y, P2):\n",
    "    # input: 3Dbbox in (rectified) camera coords\n",
    "\n",
    "    Rmat = np.asarray([[math.cos(r_y), 0, math.sin(r_y)],\n",
    "                       [0, 1, 0],\n",
    "                       [-math.sin(r_y), 0, math.cos(r_y)]],\n",
    "                       dtype='float32')\n",
    "\n",
    "    p0 = center + np.dot(Rmat, np.asarray([l/2.0, 0, w/2.0], dtype='float32').flatten())\n",
    "    p1 = center + np.dot(Rmat, np.asarray([-l/2.0, 0, w/2.0], dtype='float32').flatten())\n",
    "    p2 = center + np.dot(Rmat, np.asarray([-l/2.0, 0, -w/2.0], dtype='float32').flatten())\n",
    "    p3 = center + np.dot(Rmat, np.asarray([l/2.0, 0, -w/2.0], dtype='float32').flatten())\n",
    "    p4 = center + np.dot(Rmat, np.asarray([l/2.0, -h, w/2.0], dtype='float32').flatten())\n",
    "    p5 = center + np.dot(Rmat, np.asarray([-l/2.0, -h, w/2.0], dtype='float32').flatten())\n",
    "    p6 = center + np.dot(Rmat, np.asarray([-l/2.0, -h, -w/2.0], dtype='float32').flatten())\n",
    "    p7 = center + np.dot(Rmat, np.asarray([l/2.0, -h, -w/2.0], dtype='float32').flatten())\n",
    "\n",
    "    points = np.array([p0, p1, p2, p3, p4, p5, p6, p7])\n",
    "\n",
    "    points_hom = np.ones((points.shape[0], 4)) # (shape: (8, 4))\n",
    "    points_hom[:, 0:3] = points\n",
    "\n",
    "    # project the points onto the image plane (homogeneous coords):\n",
    "    img_points_hom = np.dot(P2, points_hom.T).T # (shape: (8, 3)) (points_hom.T has shape (4, 8))\n",
    "    # normalize:\n",
    "    img_points = np.zeros((img_points_hom.shape[0], 2)) # (shape: (8, 2))\n",
    "    img_points[:, 0] = img_points_hom[:, 0]/img_points_hom[:, 2]\n",
    "    img_points[:, 1] = img_points_hom[:, 1]/img_points_hom[:, 2]\n",
    "\n",
    "    u_min = np.min(img_points[:, 0])\n",
    "    v_min = np.min(img_points[:, 1])\n",
    "    u_max = np.max(img_points[:, 0])\n",
    "    v_max = np.max(img_points[:, 1])\n",
    "\n",
    "    left = int(u_min)\n",
    "    top = int(v_min)\n",
    "    right = int(u_max)\n",
    "    bottom = int(v_max)\n",
    "\n",
    "    projected_2Dbbox = [left, top, right, bottom]\n",
    "\n",
    "    return projected_2Dbbox\n",
    "\n",
    "\n",
    "def sigmoid(x):\n",
    "    x = x.astype(np.float128)\n",
    "    x = 1 / (1 + np.exp(-x))\n",
    "    x = x.astype(np.float32)\n",
    "    return x\n",
    "\n",
    "\n",
    "def convert_prediction_into_real_values(label_tensor, truth_value=None,\n",
    "            anchors=np.array([3.9, 1.6, 1.5]), \n",
    "            input_size=(448, 512), output_size=(112, 128), is_label=False, th=0.5):\n",
    "\n",
    "    ratio = input_size[0] // output_size[0]\n",
    "    result = []\n",
    "    ones_index = np.where(sigmoid(label_tensor[:, :, :, 8])>=th)\n",
    "    if truth_value is not None:\n",
    "        ones_index = np.where(truth_value[:, :, :, 8]>=th)\n",
    "    if len(ones_index) > 0 and len(ones_index[0]) > 0:\n",
    "        for i in range(0, len(ones_index[0]), 1):\n",
    "            x = ones_index[0][i]\n",
    "            y = ones_index[1][i]\n",
    "                        \n",
    "            out = np.copy(label_tensor[ones_index[0][i], ones_index[1][i], ones_index[2][i], :])\n",
    "            anchor = np.array([x+0.5, y+0.5, 0.5, anchors[0], anchors[1], anchors[2]])\n",
    "\n",
    "#             mins = np.array([-0.5, -0.5, 0, 0.8, 0.3, 0.13, -1.1, -1.1])\n",
    "#             maxs = np.array([0.5, 0.5, 1, 2.6, 1.4, 0.82, 1.1, 1.1])\n",
    "            \n",
    "            mins = np.array([0, 0, 0, -0.1, -0.1, -0.1, -1.1, -1.1])\n",
    "            maxs = np.array([0, 0, 0, 3, 2, 2, 1.1, 1.1])\n",
    "\n",
    "            out[3:6] = ((np.tanh(out[3:6]) + 1) / 2) * (maxs[3:6] - mins[3:6]) + mins[3:6]\n",
    "\n",
    "            out[3:6] = np.exp(out[3:6])\n",
    "\n",
    "            out[:3] = sigmoid(out[:3]) - 0.5 + anchor[:3]\n",
    "\n",
    "            out[2] = out[2] * 35\n",
    "        \n",
    "            k = ones_index[2][i]\n",
    "            if not is_label:\n",
    "              out[6] = sigmoid(out[6]) * np.pi/2 - np.pi/4\n",
    "            if k == 0 and out[6] < 0:\n",
    "                out[6] = out[6] + np.pi\n",
    "                \n",
    "            out[6] = out[6] + k * (np.pi/2)\n",
    "\n",
    "            result.append(out)\n",
    "            \n",
    "    return np.array(result)\n",
    "\n",
    "def get_points(converted_points, calib_path, \n",
    "                x_range=(0, 70), y_range=(-40, 40), z_range=(-2.5, 1), \n",
    "                size=(448//4, 512//4, 35), th=0.5):\n",
    "    all_result = []\n",
    "    for converted_points_ in converted_points:\n",
    "        if sigmoid(converted_points_[8]) >= th:\n",
    "            result = [0] * 16\n",
    "            result[0] = 'Car'\n",
    "            result[1] = -1\n",
    "            result[2] = -1\n",
    "            result[3] = -10\n",
    "            result[8] = converted_points_[5]\n",
    "            result[9] = converted_points_[4]\n",
    "            result[10] = converted_points_[3]\n",
    "            result[14] = converted_points_[6]\n",
    "            result[15] = sigmoid(converted_points_[8])\n",
    "\n",
    "            calib_data = read_calib(calib_path)\n",
    "\n",
    "            x_size = (x_range[1] - x_range[0])\n",
    "            y_size = (y_range[1] - y_range[0])\n",
    "            z_size = (z_range[1] - z_range[0])\n",
    "\n",
    "            x_fac = (size[0]-1) / x_size\n",
    "            y_fac = (size[1]-1) / y_size\n",
    "            z_fac = (size[2]-1) / z_size          \n",
    "\n",
    "            x, y, z = -((converted_points_[:3] - size) / np.array([x_fac, y_fac, z_fac])) - np.array([0, -1*y_range[0], -1*z_range[0]]) \n",
    "            point = np.array([[x, y, z]])\n",
    "\n",
    "            box3d_pts_3d = point\n",
    "\n",
    "            pts_3d_ref = project_velo_to_ref(box3d_pts_3d, calib_data['Tr_velo_to_cam'].reshape((3, 4)))\n",
    "\n",
    "            pts_3d_ref = project_ref_to_rect(pts_3d_ref, calib_data['R0_rect'].reshape((3, 3)))[0]\n",
    "\n",
    "            for k in range(3):\n",
    "                result[11 + k] = pts_3d_ref[k]\n",
    "\n",
    "            imgbbox = ProjectTo2Dbbox(pts_3d_ref, converted_points_[5], converted_points_[4],\n",
    "                         converted_points_[3], converted_points_[6], calib_data['P2'].reshape((3, 4)))\n",
    "\n",
    "            result[4:8] = imgbbox\n",
    "            all_result.append(result)\n",
    "    return all_result\n",
    "\n",
    "# def get_points(converted_points, calib_path, \n",
    "#                 x_range=(0, 70), y_range=(-40, 40), z_range=(-2.5, 1), \n",
    "#                 size=(448//4, 512//4, 35), th=0.5):\n",
    "#     all_result = []\n",
    "#     for converted_points_ in converted_points:\n",
    "#         if sigmoid(converted_points_[-1]) >= th:\n",
    "#             result = [0] * 16\n",
    "#             result[0] = 'Car'\n",
    "#             result[1] = -1\n",
    "#             result[2] = -1\n",
    "#             result[3] = -10\n",
    "#             result[8] = converted_points_[5]\n",
    "#             result[9] = converted_points_[4]\n",
    "#             result[10] = converted_points_[3]\n",
    "#             result[14] = converted_points_[6]\n",
    "#             result[15] = sigmoid(converted_points_[-1])\n",
    "\n",
    "            \n",
    "#             calib_reader = CalibReader(calib_path)\n",
    "#             calib_data = calib_reader.read_calib()\n",
    "\n",
    "#             x_size = (x_range[1] - x_range[0])\n",
    "#             y_size = (y_range[1] - y_range[0])\n",
    "#             z_size = (z_range[1] - z_range[0])\n",
    "\n",
    "#             x_fac = (size[0]-1) / x_size\n",
    "#             y_fac = (size[1]-1) / y_size\n",
    "#             z_fac = (size[2]-1) / z_size\n",
    "\n",
    "#             x, y, z = -((converted_points_[:3] - size) / np.array([x_fac, y_fac, z_fac])) - np.array([0, -1*y_range[0], -1*z_range[0]]) \n",
    "#             point = np.array([[x, y, z]])\n",
    "#             box3d_pts_3d = point\n",
    "\n",
    "#             pts_3d_ref = project_velo_to_ref(box3d_pts_3d, calib_data['Tr_velo_to_cam'].reshape((3, 4)))\n",
    "#             pts_3d_ref = project_ref_to_rect(pts_3d_ref, calib_data['R0_rect'].reshape((3, 3)))[0]\n",
    "#             for k in range(3):\n",
    "#                 result[11 + k] = pts_3d_ref[k]\n",
    "\n",
    "#             imgbbox = ProjectTo2Dbbox(pts_3d_ref, converted_points_[5], converted_points_[4],\n",
    "#                          converted_points_[3], converted_points_[6], calib_data['P2'].reshape((3, 4)))\n",
    "\n",
    "#             result[4:8] = imgbbox\n",
    "#             all_result.append(result)\n",
    "#     return all_result\n",
    "\n",
    "\n",
    "def prepare_dataset_feed_dict(model, dataset, train_fusion_rgb):\n",
    "        data = dataset.get_next(batch_size=1)\n",
    "        camera_tensor, lidar_tensor, label_tensor= data\n",
    "        d = {model.train_inputs_rgb: camera_tensor,\n",
    "                model.train_inputs_lidar: lidar_tensor,\n",
    "                model.y_true: label_tensor,\n",
    "                model.train_fusion_rgb: train_fusion_rgb,\n",
    "                model.is_training: False,\n",
    "                model.weight_cls: 1,\n",
    "                model.weight_dim: 1,\n",
    "                model.weight_loc: 1,\n",
    "                model.weight_theta: 1}\n",
    "        return d\n",
    "\n"
   ]
  },
  {
   "cell_type": "code",
   "execution_count": 7,
   "metadata": {},
   "outputs": [],
   "source": [
    "\n",
    "def write_predictions(labels_output, calib_path, new_file_path, th=0.5, truth_value=None, is_label=False, base_path = '../../../Data'):\n",
    "    converted_points = convert_prediction_into_real_values(labels_output, truth_value=truth_value, th=th, is_label=is_label)\n",
    "#     print(len(converted_points))\n",
    "    points = get_points(converted_points, calib_path, th=th)\n",
    "#     print(len(points))\n",
    "#     print('---')\n",
    "    res = '\\n'.join([' '.join([str(l) for l in points[i]]) for i in range(len(points))])\n",
    "    text_file = open(new_file_path, \"wb+\")\n",
    "    text_file.write(res.encode())\n",
    "    text_file.close()\n",
    "\n",
    "def write_all_predictions(model, dir_name, training, augment=False, get_best=False, fusion=False, base_path = '../../../Data'):\n",
    "    with model.graph.as_default() :\n",
    "            \n",
    "        config = tf.ConfigProto()\n",
    "        config.gpu_options.allow_growth = True\n",
    "\n",
    "        with tf.Session(config=config) as sess:\n",
    "            if get_best:\n",
    "                model.saver.restore(sess, tf.train.latest_checkpoint('../training_files/tmp_best2/'))\n",
    "            else:\n",
    "                model.saver.restore(sess, tf.train.latest_checkpoint('../training_files/tmp/'))\n",
    "                \n",
    "\n",
    "            dataset = DetectionDatasetLoader(base_path='../../../Data', training_per=0.5, batch_size=1, random_seed=0, training=training, augment=augment)\n",
    "        \n",
    "            cls_losses = []\n",
    "            reg_losses = []\n",
    "            total_losses = []\n",
    "            i = 0\n",
    "            \n",
    "            apply_nms=False\n",
    "\n",
    "            if training:\n",
    "                file_name = '/train.txt'\n",
    "            else:\n",
    "                file_name = '/val.txt'\n",
    "            with open(base_path + file_name, 'r') as f:\n",
    "                            list_file_nums = f.readlines()\n",
    "            list_files = [l.strip() for l in list_file_nums]\n",
    "            list_calib_paths = list(map(lambda x: base_path + '/data_object_calib/training/calib/' + x + '.txt', list_files))\n",
    "            \n",
    "            try:    \n",
    "                while True:\n",
    "                    feed_dict = prepare_dataset_feed_dict(model, dataset, fusion)\n",
    "                    if True:\n",
    "                        final_output= sess.run(model.final_output, feed_dict=feed_dict)\n",
    "#                         final_output2= sess.run(model2.final_output, feed_dict=feed_dict)\n",
    "#                         final_output = (final_output + final_output2) * 0.5\n",
    "                    \n",
    "#                     print(i, np.where(sigmoid(final_output[0][:, :, :, -1])>=0.2))\n",
    "                        if i < len(list_files):\n",
    "                            current_file = list_files[i]\n",
    "\n",
    "                            for th, th_str in zip([0.01, 0.05, 0.1, 0.2, 0.3, 0.4, 0.5], ['01', '05', '10', '20', '30', '40', '50']):\n",
    "                                new_file_path = '../prediction_files/' + dir_name + '/bev/th' + th_str + '_2/data/' + current_file + '.txt'\n",
    "                                write_predictions(final_output[0], list_calib_paths[i], new_file_path, th=th)\n",
    "    #                         th, th_str = 0.1, '10'\n",
    "    #                         new_file_path = '../prediction_files/' + dir_name + '/bev/th' + th_str + '_2/data/' + current_file + '.txt'\n",
    "    #                         write_predictions(final_output[0], list_calib_paths[i], new_file_path, th=th)\n",
    "\n",
    "                        else:\n",
    "                            break\n",
    "#                     elif i > 22:\n",
    "#                         return\n",
    "                        \n",
    "#                     if i == 2:\n",
    "#                         return\n",
    "#                     print('--------')\n",
    "#                     print('i = ', i)\n",
    "                    i += 1\n",
    "                    if i % 100 == 0:\n",
    "                        print('i = ', i)\n",
    "            except tf.errors.OutOfRangeError:\n",
    "                pass\n",
    "            except StopIteration:\n",
    "                pass\n",
    "            finally:\n",
    "                print('Done')"
   ]
  },
  {
   "cell_type": "code",
   "execution_count": 8,
   "metadata": {},
   "outputs": [],
   "source": [
    "def write_predictions_nms(th, new_file_path, old_file_path, calib_reader, base_path = '../../../Data'):\n",
    "    \n",
    "    res = []\n",
    "    with open(old_file_path) as label_file:\n",
    "            res = label_file.readlines()\n",
    "    res = ''.join(res)\n",
    "    points2 = res.split('\\n')\n",
    "    points = []\n",
    "    for i in range(len(points2)):\n",
    "        temp = []\n",
    "        temp = points2[i].split(' ')\n",
    "        points.append(temp)\n",
    "#     print('here')\n",
    "    labels, indxes = read_label2(calib_reader, res, 0, 0, get_actual_dims=True, from_file=False)\n",
    "\n",
    "    points = np.array(points)\n",
    "#     print('here')\n",
    "    if len(labels) > 0:\n",
    "        points = points[indxes]\n",
    "        selected_idx = nms2(labels, np.array([points[i][-1] for i in range(len(points))]), max_output_size=100, iou_threshold=0.3)\n",
    "    else:\n",
    "        selected_idx = []\n",
    "\n",
    "    if len(selected_idx) > 0:\n",
    "        points = points[selected_idx]\n",
    "        res = '\\n'.join([' '.join([str(l) for l in points[i]]) for i in range(len(points))])\n",
    "    else:\n",
    "        res=\"\"\n",
    "    \n",
    "    text_file = open(new_file_path, \"wb+\")\n",
    "    text_file.write(res.encode())\n",
    "    text_file.close()\n",
    "\n",
    "def get_augmentation_parameters():\n",
    "                    image_translate_x = 0\n",
    "                    image_translate_y = 0\n",
    "\n",
    "                    translate_x = 0\n",
    "                    translate_y = 0\n",
    "                    translate_z = 0\n",
    "                    ang = 0\n",
    "\n",
    "                    r = R.from_rotvec(np.radians(0) * np.array([0, 0, 1]))\n",
    "                    rot = r.as_dcm()\n",
    "                    rot = np.append(rot, np.array([[0,0,0]]), axis=0)\n",
    "                    rot = np.append(rot, np.array([[0],[0],[0],[1]]), axis=1)\n",
    "\n",
    "                    tr_x = 0\n",
    "                    tr_y = 0\n",
    "                    tr_z = 0\n",
    "                    tr = np.array([[tr_x], [tr_y], [tr_z], [0]])\n",
    "\n",
    "                    sc_x = 1\n",
    "                    sc_y = 1\n",
    "                    sc_z = 1\n",
    "                    sc = np.array([[sc_x, 0, 0, 0], [0, sc_y, 0, 0], [0, 0, sc_z, 0], [0, 0, 0, 1]])\n",
    "\n",
    "                    return rot, tr, sc, image_translate_x, image_translate_y, ang\n",
    "    \n",
    "def write_all_predictions_nms(old_dir, training, base_path = '../../../Data'):\n",
    "    i = 0       \n",
    "    try:    \n",
    "        while True:\n",
    "            \n",
    "            if training:\n",
    "                file_name = '/train.txt'\n",
    "            else:\n",
    "                            file_name = '/val.txt'\n",
    "            with open(base_path + file_name, 'r') as f:\n",
    "                            list_file_nums = f.readlines()\n",
    "            list_files = [l.strip() for l in list_file_nums]\n",
    "\n",
    "            list_camera_paths = list(map(lambda x: base_path+'/data_object_image_3/training/image_3/' + x + '.png', list_files))\n",
    "            list_lidar_paths = list(map(lambda x: base_path+'/data_object_velodyne/training/velodyne/' + x + '.bin', list_files))\n",
    "            list_label_paths = list(map(lambda x: base_path + '/data_object_label_2/training/label_2/' + x + '.txt', list_files))\n",
    "            list_calib_paths = list(map(lambda x: base_path + '/data_object_calib/training/calib/' + x + '.txt', list_files))\n",
    "            \n",
    "            rot, tr, sc, image_translate_x, image_translate_y, ang = get_augmentation_parameters()\n",
    "            \n",
    "            if i < len(list_files):\n",
    "                current_file = list_files[i]\n",
    "                data_reader_obj = DataReader(list_camera_paths[i],\n",
    "                             list_calib_paths[i], \n",
    "                             list_label_paths[i], \n",
    "                             list_lidar_paths[i], \n",
    "                            rot, sc, tr, ang, image_translate_x, image_translate_y, get_actual_dims=True)\n",
    "            \n",
    "                for th, th_str in zip([0.01, 0.05, 0.1, 0.2, 0.3, 0.4, 0.5], ['01', '05', '10', '20', '30', '40', '50']):\n",
    "                    old_file_path = '../prediction_files/' + old_dir + '/bev/th' + th_str + '_2/data/' + current_file + '.txt'\n",
    "                    new_file_path = '../prediction_files/' + old_dir + '/nms/th' + th_str + '_2/data/' + current_file + '.txt'\n",
    "                    write_predictions_nms(th, new_file_path, old_file_path, data_reader_obj.calib_reader)\n",
    "      \n",
    "            else:\n",
    "                break\n",
    "            i += 1\n",
    "            if i % 100 == 0:\n",
    "                print('i = ', i)\n",
    "    except tf.errors.OutOfRangeError as e:\n",
    "        print(\"i at break1 = \", i)\n",
    "    except StopIteration as e:\n",
    "        print(\"i at break2 = \", i)\n",
    "    except Exception as e:\n",
    "        print(\"i at break3 = \", i, e)"
   ]
  },
  {
   "cell_type": "code",
   "execution_count": 9,
   "metadata": {},
   "outputs": [
    {
     "name": "stderr",
     "output_type": "stream",
     "text": [
      "/home/injy/mariam_workspace/env3/lib/python3.5/site-packages/torch/hub.py:411: UserWarning: TORCH_MODEL_ZOO is deprecated, please use env TORCH_HOME instead\n",
      "  warnings.warn('TORCH_MODEL_ZOO is deprecated, please use env TORCH_HOME instead')\n"
     ]
    },
    {
     "name": "stdout",
     "output_type": "stream",
     "text": [
      "[<tf.Tensor 'lidar_branch_1/network_lidar/resblock1_3/LeakyRelu_1:0' shape=(?, 224, 256, 64) dtype=float32>, <tf.Tensor 'fusion/attention_fusion_0/LeakyRelu_2:0' shape=(?, 112, 128, 128) dtype=float32>, <tf.Tensor 'fusion_1/attention_fusion_1/LeakyRelu_2:0' shape=(?, 112, 128, 128) dtype=float32>, <tf.Tensor 'fusion_2/attention_fusion_2/LeakyRelu_2:0' shape=(?, 112, 128, 128) dtype=float32>]\n",
      "decoded_reg_truth Tensor(\"Loss/concat_1:0\", shape=(?, 112, 128, 2, 8), dtype=float32)\n",
      "WARNING:tensorflow:From .././loss/losses.py:54: softmax_cross_entropy_with_logits (from tensorflow.python.ops.nn_ops) is deprecated and will be removed in a future version.\n",
      "Instructions for updating:\n",
      "\n",
      "Future major versions of TensorFlow will allow gradients to flow\n",
      "into the labels input on backprop by default.\n",
      "\n",
      "See `tf.nn.softmax_cross_entropy_with_logits_v2`.\n",
      "\n",
      "decoded_reg_truth_height Tensor(\"Loss/concat_2:0\", shape=(?, 112, 128, 2, 2), dtype=float32)\n",
      "loss_height  Tensor(\"Loss/Mean_1:0\", shape=(?, 112, 128, 2), dtype=float32)\n"
     ]
    }
   ],
   "source": [
    "params = {\n",
    "    'fusion': True\n",
    "}\n",
    "model = Model(graph=None, **params)"
   ]
  },
  {
   "cell_type": "code",
   "execution_count": 10,
   "metadata": {},
   "outputs": [],
   "source": [
    "dir_name = 'test_fusion_best_noimgaug_23_1_2021'"
   ]
  },
  {
   "cell_type": "code",
   "execution_count": 11,
   "metadata": {},
   "outputs": [
    {
     "name": "stdout",
     "output_type": "stream",
     "text": [
      "rm: cannot remove '../prediction_files/test_fusion_best_noimgaug_23_1_2021': No such file or directory\r\n"
     ]
    }
   ],
   "source": [
    "temp = \"../prediction_files/\" + dir_name\n",
    "!rm -r $temp\n",
    "# !ls $temp"
   ]
  },
  {
   "cell_type": "code",
   "execution_count": 12,
   "metadata": {},
   "outputs": [],
   "source": [
    "# !mkdir \"../prediction_files\"\n",
    "!mkdir \"../prediction_files/\"\"$dir_name\"\n",
    "!mkdir \"../prediction_files/\"\"$dir_name\"\"/bev/\"\n",
    "!mkdir \"../prediction_files/\"\"$dir_name\"\"/nms/\"\n",
    "for d in ['01', '05', '10', '20', '30', '40', '50']:\n",
    "    t1 = \"../prediction_files/\" + dir_name + \"/bev/th\" + d + \"_2\"\n",
    "    t2 = t1+ \"/data\"\n",
    "    t3 = \"../prediction_files/\" + dir_name + \"/nms/th\" + d + \"_2\"\n",
    "    t4 = t3+ \"/data\"\n",
    "    !mkdir $t1\n",
    "    !mkdir $t2\n",
    "    !mkdir $t3\n",
    "    !mkdir $t4\n",
    "    "
   ]
  },
  {
   "cell_type": "code",
   "execution_count": 33,
   "metadata": {},
   "outputs": [
    {
     "name": "stdout",
     "output_type": "stream",
     "text": [
      "INFO:tensorflow:Restoring parameters from ../training_files/tmp_best2/model.ckpt-167040\n",
      "i =  100\n",
      "i =  200\n",
      "i =  300\n",
      "i =  400\n",
      "i =  500\n",
      "i =  600\n",
      "i =  700\n",
      "i =  800\n",
      "i =  900\n",
      "i =  1000\n",
      "i =  1100\n",
      "i =  1200\n",
      "i =  1300\n",
      "i =  1400\n",
      "i =  1500\n",
      "i =  1600\n",
      "i =  1700\n",
      "i =  1800\n",
      "i =  1900\n",
      "i =  2000\n",
      "i =  2100\n",
      "i =  2200\n",
      "i =  2300\n",
      "i =  2400\n",
      "i =  2500\n",
      "i =  2600\n",
      "i =  2700\n",
      "i =  2800\n",
      "i =  2900\n",
      "i =  3000\n",
      "i =  3100\n",
      "i =  3200\n",
      "i =  3300\n",
      "i =  3400\n",
      "i =  3500\n",
      "i =  3600\n",
      "i =  3700\n",
      "Done\n"
     ]
    }
   ],
   "source": [
    "write_all_predictions(model, dir_name, training=True, augment=False, get_best=True, fusion=False)"
   ]
  },
  {
   "cell_type": "code",
   "execution_count": 34,
   "metadata": {},
   "outputs": [
    {
     "name": "stdout",
     "output_type": "stream",
     "text": [
      "i =  100\n",
      "i =  200\n",
      "i =  300\n",
      "i =  400\n",
      "i =  500\n",
      "i =  600\n",
      "i =  700\n",
      "i =  800\n",
      "i =  900\n",
      "i =  1000\n",
      "i =  1100\n",
      "i =  1200\n",
      "i =  1300\n",
      "i =  1400\n",
      "i =  1500\n",
      "i =  1600\n",
      "i =  1700\n",
      "i =  1800\n",
      "i =  1900\n",
      "i =  2000\n",
      "i =  2100\n",
      "i =  2200\n",
      "i =  2300\n",
      "i =  2400\n",
      "i =  2500\n",
      "i =  2600\n",
      "i =  2700\n",
      "i =  2800\n",
      "i =  2900\n",
      "i =  3000\n",
      "i =  3100\n",
      "i =  3200\n",
      "i =  3300\n",
      "i =  3400\n",
      "i =  3500\n",
      "i =  3600\n",
      "i =  3700\n"
     ]
    }
   ],
   "source": [
    "write_all_predictions_nms(dir_name, training=True)"
   ]
  },
  {
   "cell_type": "code",
   "execution_count": 13,
   "metadata": {
    "scrolled": true
   },
   "outputs": [
    {
     "name": "stdout",
     "output_type": "stream",
     "text": [
      "INFO:tensorflow:Restoring parameters from ../training_files/tmp_best2/model.ckpt-174464\n",
      "i =  100\n",
      "i =  200\n",
      "i =  300\n",
      "i =  400\n",
      "i =  500\n",
      "i =  600\n",
      "i =  700\n",
      "i =  800\n",
      "i =  900\n",
      "i =  1000\n",
      "i =  1100\n",
      "i =  1200\n",
      "i =  1300\n",
      "i =  1400\n",
      "i =  1500\n",
      "i =  1600\n",
      "i =  1700\n",
      "i =  1800\n",
      "i =  1900\n",
      "i =  2000\n",
      "i =  2100\n",
      "i =  2200\n",
      "i =  2300\n",
      "i =  2400\n",
      "i =  2500\n",
      "i =  2600\n",
      "i =  2700\n",
      "i =  2800\n",
      "i =  2900\n",
      "i =  3000\n",
      "i =  3100\n",
      "i =  3200\n",
      "i =  3300\n",
      "i =  3400\n",
      "i =  3500\n",
      "i =  3600\n",
      "i =  3700\n",
      "Done\n"
     ]
    }
   ],
   "source": [
    "write_all_predictions(model, dir_name, training=False, augment=False, get_best=True, fusion=True)"
   ]
  },
  {
   "cell_type": "code",
   "execution_count": 14,
   "metadata": {
    "scrolled": true
   },
   "outputs": [
    {
     "name": "stdout",
     "output_type": "stream",
     "text": [
      "i =  100\n",
      "i =  200\n",
      "i =  300\n",
      "i =  400\n",
      "i =  500\n",
      "i =  600\n",
      "i =  700\n",
      "i =  800\n",
      "i =  900\n",
      "i =  1000\n",
      "i =  1100\n",
      "i =  1200\n",
      "i =  1300\n",
      "i =  1400\n",
      "i =  1500\n",
      "i =  1600\n",
      "i =  1700\n",
      "i =  1800\n",
      "i =  1900\n",
      "i =  2000\n",
      "i =  2100\n",
      "i =  2200\n",
      "i =  2300\n",
      "i =  2400\n",
      "i =  2500\n",
      "i =  2600\n",
      "i =  2700\n",
      "i =  2800\n",
      "i =  2900\n",
      "i =  3000\n",
      "i =  3100\n",
      "i =  3200\n",
      "i =  3300\n",
      "i =  3400\n",
      "i =  3500\n",
      "i =  3600\n",
      "i =  3700\n"
     ]
    }
   ],
   "source": [
    "write_all_predictions_nms(dir_name, training=False)"
   ]
  },
  {
   "cell_type": "code",
   "execution_count": null,
   "metadata": {},
   "outputs": [],
   "source": []
  },
  {
   "cell_type": "code",
   "execution_count": 35,
   "metadata": {},
   "outputs": [],
   "source": [
    "def get_stats(model, training, augment=False, get_best=False, fusion=False, base_path = '../../../Data'):\n",
    "    with model.graph.as_default():\n",
    "            \n",
    "        config = tf.ConfigProto()\n",
    "        config.gpu_options.allow_growth = True\n",
    "\n",
    "        with tf.Session(config=config) as sess:\n",
    "#             if get_best:\n",
    "#                 model.saver.restore(sess, tf.train.latest_checkpoint('../training_files/tmp_best2/'))\n",
    "#             else:\n",
    "#                 model.saver.restore(sess, tf.train.latest_checkpoint('../training_files/tmp/'))\n",
    "                \n",
    "            model.saver.restore(sess, '../training_files/tmp/model.ckpt-125188')\n",
    "\n",
    "            dataset = DetectionDatasetLoader(base_path='../../../Data', training_per=0.5, batch_size=1, random_seed=0, training=training, augment=augment)\n",
    "        \n",
    "            cls_losses = []\n",
    "            reg_losses = []\n",
    "            total_losses = []\n",
    "            i = 0\n",
    "            \n",
    "            apply_nms=False\n",
    "\n",
    "            if training:\n",
    "                file_name = '/trainsplit.txt'\n",
    "            else:\n",
    "                file_name = '/valsplit.txt'\n",
    "            with open(base_path + file_name, 'r') as f:\n",
    "                            list_file_nums = f.readlines()\n",
    "            list_files = ['0'*(6-len(l.strip())) + l.strip() for l in list_file_nums]\n",
    "            list_calib_paths = list(map(lambda x: base_path + '/data_object_calib/training/calib/' + x + '.txt', list_files))\n",
    "            cls_losses = []\n",
    "            dim_losses = []\n",
    "            loc_losses = []\n",
    "            theta_losses = []\n",
    "            ious = []\n",
    "            dim_ious = []\n",
    "            loc_ious = []\n",
    "            theta_diffs = []\n",
    "            precisions = []\n",
    "            recalls = []\n",
    "            try:  \n",
    "                c = 0\n",
    "                while c < 200:\n",
    "                    feed_dict = prepare_dataset_feed_dict(model, dataset, fusion)\n",
    "                    \n",
    "                    final_output, cls_loss, loc_loss, dim_loss, theta_loss,\\\n",
    "                        reg_loss, iou, iou_dim, iou_loc, precision, recall, theta_accuracy = sess.run([model.final_output,\\\n",
    "                                                              model.classification_loss, model.loc_reg_loss, model.dim_reg_loss, model.theta_reg_loss,\\\n",
    "                                                             model.regression_loss,\\\n",
    "                                                             model.iou, model.iou_dim, model.iou_loc,\\\n",
    "                                                             model.precision, model.recall,\\\n",
    "                                                              model.theta_accuracy ],\\\n",
    "                                                             feed_dict=feed_dict) \n",
    "                    cls_losses.append(cls_loss)\n",
    "                    dim_losses.append(dim_loss)\n",
    "                    loc_losses.append(loc_loss)\n",
    "                    theta_losses.append(theta_loss)\n",
    "                    ious.append(iou)\n",
    "                    dim_ious.append(iou_dim)\n",
    "                    loc_ious.append(iou_loc)\n",
    "                    theta_diffs.append(theta_accuracy)\n",
    "                    precisions.append(precision)\n",
    "                    recalls.append(recall)\n",
    "                    c += 1\n",
    "            except: \n",
    "                pass\n",
    "                    \n",
    "            return cls_losses, dim_losses, loc_losses, theta_losses, ious, dim_ious, loc_ious, theta_diffs, precisions, recalls\n",
    "        "
   ]
  },
  {
   "cell_type": "code",
   "execution_count": 21,
   "metadata": {},
   "outputs": [
    {
     "name": "stdout",
     "output_type": "stream",
     "text": [
      "INFO:tensorflow:Restoring parameters from ../training_files/tmp/model.ckpt-287196\n"
     ]
    }
   ],
   "source": [
    "cls_losses, dim_losses, loc_losses, theta_losses,\\\n",
    "            ious, dim_ious, loc_ious, theta_diffs,\\\n",
    "            precisions, recalls = get_stats(model, training=True, get_best=False)"
   ]
  },
  {
   "cell_type": "code",
   "execution_count": 33,
   "metadata": {},
   "outputs": [
    {
     "data": {
      "text/plain": [
       "(array([ 42,  50, 141, 162, 178]),)"
      ]
     },
     "execution_count": 33,
     "metadata": {},
     "output_type": "execute_result"
    }
   ],
   "source": [
    "ious = np.array(ious)\n",
    "np.where((ious < 0.5) & (ious > 0))"
   ]
  },
  {
   "cell_type": "code",
   "execution_count": 22,
   "metadata": {},
   "outputs": [
    {
     "data": {
      "image/png": "[encoded data removed]",
      "text/plain": [
       "<Figure size 432x288 with 1 Axes>"
      ]
     },
     "metadata": {
      "needs_background": "light"
     },
     "output_type": "display_data"
    }
   ],
   "source": [
    "plt.hist(recalls, bins=100)\n",
    "plt.show()"
   ]
  },
  {
   "cell_type": "code",
   "execution_count": 23,
   "metadata": {},
   "outputs": [
    {
     "data": {
      "image/png": "[encoded data removed]",
      "text/plain": [
       "<Figure size 432x288 with 1 Axes>"
      ]
     },
     "metadata": {
      "needs_background": "light"
     },
     "output_type": "display_data"
    }
   ],
   "source": [
    "plt.hist(precisions, bins=100)\n",
    "plt.show()"
   ]
  },
  {
   "cell_type": "code",
   "execution_count": 24,
   "metadata": {},
   "outputs": [
    {
     "data": {
      "image/png": "[encoded data removed]",
      "text/plain": [
       "<Figure size 432x288 with 1 Axes>"
      ]
     },
     "metadata": {
      "needs_background": "light"
     },
     "output_type": "display_data"
    }
   ],
   "source": [
    "plt.hist(cls_losses, bins=100)\n",
    "plt.show()"
   ]
  },
  {
   "cell_type": "code",
   "execution_count": 25,
   "metadata": {},
   "outputs": [
    {
     "data": {
      "image/png": "[encoded data removed]",
      "text/plain": [
       "<Figure size 432x288 with 1 Axes>"
      ]
     },
     "metadata": {
      "needs_background": "light"
     },
     "output_type": "display_data"
    }
   ],
   "source": [
    "plt.hist(ious, bins=100)\n",
    "plt.show()"
   ]
  },
  {
   "cell_type": "code",
   "execution_count": 26,
   "metadata": {},
   "outputs": [
    {
     "data": {
      "image/png": "[encoded data removed]",
      "text/plain": [
       "<Figure size 432x288 with 1 Axes>"
      ]
     },
     "metadata": {
      "needs_background": "light"
     },
     "output_type": "display_data"
    }
   ],
   "source": [
    "plt.hist(theta_diffs, bins=100)\n",
    "plt.show()"
   ]
  },
  {
   "cell_type": "code",
   "execution_count": 27,
   "metadata": {},
   "outputs": [
    {
     "data": {
      "image/png": "[encoded data removed]",
      "text/plain": [
       "<Figure size 432x288 with 1 Axes>"
      ]
     },
     "metadata": {
      "needs_background": "light"
     },
     "output_type": "display_data"
    }
   ],
   "source": [
    "plt.hist(theta_losses, bins=100)\n",
    "plt.show()"
   ]
  },
  {
   "cell_type": "code",
   "execution_count": null,
   "metadata": {},
   "outputs": [],
   "source": []
  },
  {
   "cell_type": "code",
   "execution_count": 36,
   "metadata": {},
   "outputs": [
    {
     "name": "stdout",
     "output_type": "stream",
     "text": [
      "INFO:tensorflow:Restoring parameters from ../training_files/tmp/model.ckpt-125188\n"
     ]
    }
   ],
   "source": [
    "cls_losses_test, dim_losses_test, loc_losses_test, theta_losses_test,\\\n",
    "            ious_test, dim_ious_test, loc_ious_test, theta_diffs_test,\\\n",
    "            precisions_test, recalls_test = get_stats(model, training=False, get_best=True)"
   ]
  },
  {
   "cell_type": "code",
   "execution_count": 43,
   "metadata": {},
   "outputs": [
    {
     "data": {
      "text/plain": [
       "[0.0,\n",
       " 0.43219683,\n",
       " 0.745555,\n",
       " 0.0,\n",
       " 0.6602779,\n",
       " 0.66935486,\n",
       " 0.74854803,\n",
       " 0.8861931,\n",
       " 0.77676725,\n",
       " 0.7312043,\n",
       " 0.66946,\n",
       " 0.6760372,\n",
       " 0.62654716,\n",
       " 0.5926412,\n",
       " 0.0,\n",
       " 0.58384365,\n",
       " 0.8215821,\n",
       " 0.76533306,\n",
       " 0.71019,\n",
       " 0.60522044,\n",
       " 0.7435319,\n",
       " 0.9009169,\n",
       " 0.90507966,\n",
       " 0.82133657,\n",
       " 0.67270267,\n",
       " 0.6804948,\n",
       " 0.0,\n",
       " 0.6582035,\n",
       " 0.79586333,\n",
       " 0.0,\n",
       " 0.78797317,\n",
       " 0.6930176,\n",
       " 0.74146533,\n",
       " 0.68471754,\n",
       " 0.6901567,\n",
       " 0.0,\n",
       " 0.0,\n",
       " 0.7729192,\n",
       " 0.80922973,\n",
       " 0.5963738,\n",
       " 0.64263386,\n",
       " 0.71475637,\n",
       " 0.612792,\n",
       " 0.6321238,\n",
       " 0.84683746,\n",
       " 0.7117473,\n",
       " 0.6165764,\n",
       " 0.750239,\n",
       " 0.6271988,\n",
       " 0.800263,\n",
       " 0.6248838,\n",
       " 0.0,\n",
       " 0.73815876,\n",
       " 0.0,\n",
       " 0.5855968,\n",
       " 0.5947856,\n",
       " 0.6371158,\n",
       " 0.6576049,\n",
       " 0.7321892,\n",
       " 0.6304323,\n",
       " 0.7741113,\n",
       " 0.7291346,\n",
       " 0.65374476,\n",
       " 0.71687603,\n",
       " 0.0,\n",
       " 0.7231232,\n",
       " 0.6035422,\n",
       " 0.71447444,\n",
       " 0.7230201,\n",
       " 0.60007995,\n",
       " 0.0,\n",
       " 0.71512413,\n",
       " 0.63620216,\n",
       " 0.6381933,\n",
       " 0.62946385,\n",
       " 0.78296715,\n",
       " 0.7594386,\n",
       " 0.8113456,\n",
       " 0.7173376,\n",
       " 0.7016406,\n",
       " 0.7839985,\n",
       " 0.7696762,\n",
       " 0.76582843,\n",
       " 0.0,\n",
       " 0.7079873,\n",
       " 0.0,\n",
       " 0.0,\n",
       " 0.8349761,\n",
       " 0.0,\n",
       " 0.71254456,\n",
       " 0.0,\n",
       " 0.7360624,\n",
       " 0.5303096,\n",
       " 0.7539549,\n",
       " 0.0,\n",
       " 0.7873688,\n",
       " 0.6974911,\n",
       " 0.5845887,\n",
       " 0.72358525,\n",
       " 0.752973,\n",
       " 0.7001449,\n",
       " 0.7009231,\n",
       " 0.6567594,\n",
       " 0.7237166,\n",
       " 0.6540051,\n",
       " 0.6871219,\n",
       " 0.8053795,\n",
       " 0.74097884,\n",
       " 0.76918435,\n",
       " 0.6857191,\n",
       " 0.5984315,\n",
       " 0.6745793,\n",
       " 0.7573673,\n",
       " 0.72683996,\n",
       " 0.68508166,\n",
       " 0.92939067,\n",
       " 0.7009196,\n",
       " 0.7228985,\n",
       " 0.79966056,\n",
       " 0.71634835,\n",
       " 0.6771994,\n",
       " 0.0,\n",
       " 0.7908377,\n",
       " 0.6850659,\n",
       " 0.71794623,\n",
       " 0.636619,\n",
       " 0.5985863,\n",
       " 0.8559824,\n",
       " 0.6077157,\n",
       " 0.6968598,\n",
       " 0.65737945,\n",
       " 0.0,\n",
       " 0.0,\n",
       " 0.6817695,\n",
       " 0.7580865,\n",
       " 0.0,\n",
       " 0.0,\n",
       " 0.50783783,\n",
       " 0.6810542,\n",
       " 0.0,\n",
       " 0.6322814,\n",
       " 0.7052069,\n",
       " 0.71237725,\n",
       " 0.68712825,\n",
       " 0.6162667,\n",
       " 0.4342001,\n",
       " 0.6728899,\n",
       " 0.0,\n",
       " 0.73931307,\n",
       " 0.7699086,\n",
       " 0.79646677,\n",
       " 0.7430782,\n",
       " 0.0,\n",
       " 0.0,\n",
       " 0.7491759,\n",
       " 0.79208064,\n",
       " 0.7464003,\n",
       " 0.0,\n",
       " 0.7502154,\n",
       " 0.61415976,\n",
       " 0.68637013,\n",
       " 0.6766113,\n",
       " 0.7221387,\n",
       " 0.81792116,\n",
       " 0.6620551,\n",
       " 0.5897993,\n",
       " 0.72814125,\n",
       " 0.7328067,\n",
       " 0.69582975,\n",
       " 0.0,\n",
       " 0.0,\n",
       " 0.6893867,\n",
       " 0.697199,\n",
       " 0.8158732,\n",
       " 0.75725585,\n",
       " 0.0,\n",
       " 0.6570764,\n",
       " 0.6436192,\n",
       " 0.6293069,\n",
       " 0.7158022,\n",
       " 0.69719034,\n",
       " 0.68256664,\n",
       " 0.6916385,\n",
       " 0.73420835,\n",
       " 0.0,\n",
       " 0.69639426,\n",
       " 0.620103,\n",
       " 0.7583507,\n",
       " 0.0,\n",
       " 0.6956963,\n",
       " 0.7377848,\n",
       " 0.8284309,\n",
       " 0.53442323,\n",
       " 0.6440346,\n",
       " 0.8002795,\n",
       " 0.64095944,\n",
       " 0.62091446,\n",
       " 0.7575309,\n",
       " 0.6415981,\n",
       " 0.6137494]"
      ]
     },
     "execution_count": 43,
     "metadata": {},
     "output_type": "execute_result"
    }
   ],
   "source": [
    "ious_test"
   ]
  },
  {
   "cell_type": "code",
   "execution_count": 37,
   "metadata": {},
   "outputs": [
    {
     "data": {
      "image/png": "[encoded data removed]",
      "text/plain": [
       "<Figure size 432x288 with 1 Axes>"
      ]
     },
     "metadata": {
      "needs_background": "light"
     },
     "output_type": "display_data"
    }
   ],
   "source": [
    "plt.hist(recalls_test, bins=100)\n",
    "plt.show()"
   ]
  },
  {
   "cell_type": "code",
   "execution_count": 38,
   "metadata": {},
   "outputs": [
    {
     "data": {
      "image/png": "[encoded data removed]",
      "text/plain": [
       "<Figure size 432x288 with 1 Axes>"
      ]
     },
     "metadata": {
      "needs_background": "light"
     },
     "output_type": "display_data"
    }
   ],
   "source": [
    "plt.hist(precisions_test, bins=100)\n",
    "plt.show()"
   ]
  },
  {
   "cell_type": "code",
   "execution_count": 39,
   "metadata": {},
   "outputs": [
    {
     "data": {
      "image/png": "[encoded data removed]",
      "text/plain": [
       "<Figure size 432x288 with 1 Axes>"
      ]
     },
     "metadata": {
      "needs_background": "light"
     },
     "output_type": "display_data"
    }
   ],
   "source": [
    "plt.hist(cls_losses_test, bins=100)\n",
    "plt.show()"
   ]
  },
  {
   "cell_type": "code",
   "execution_count": 40,
   "metadata": {},
   "outputs": [
    {
     "data": {
      "image/png": "[encoded data removed]",
      "text/plain": [
       "<Figure size 432x288 with 1 Axes>"
      ]
     },
     "metadata": {
      "needs_background": "light"
     },
     "output_type": "display_data"
    }
   ],
   "source": [
    "plt.hist(ious_test, bins=100)\n",
    "plt.show()"
   ]
  },
  {
   "cell_type": "code",
   "execution_count": 41,
   "metadata": {},
   "outputs": [
    {
     "data": {
      "image/png": "[encoded data removed]",
      "text/plain": [
       "<Figure size 432x288 with 1 Axes>"
      ]
     },
     "metadata": {
      "needs_background": "light"
     },
     "output_type": "display_data"
    }
   ],
   "source": [
    "plt.hist(theta_diffs_test, bins=100)\n",
    "plt.show()"
   ]
  },
  {
   "cell_type": "code",
   "execution_count": 42,
   "metadata": {},
   "outputs": [
    {
     "data": {
      "image/png": "[encoded data removed]",
      "text/plain": [
       "<Figure size 432x288 with 1 Axes>"
      ]
     },
     "metadata": {
      "needs_background": "light"
     },
     "output_type": "display_data"
    }
   ],
   "source": [
    "plt.hist(theta_losses_test, bins=100)\n",
    "plt.show()"
   ]
  },
  {
   "cell_type": "code",
   "execution_count": null,
   "metadata": {},
   "outputs": [],
   "source": []
  },
  {
   "cell_type": "code",
   "execution_count": 27,
   "metadata": {},
   "outputs": [
    {
     "name": "stdout",
     "output_type": "stream",
     "text": [
      "INFO:tensorflow:Restoring parameters from ../training_files/tmp/model.ckpt-147280\n"
     ]
    }
   ],
   "source": [
    "cls_losses_test2, dim_losses_test2, loc_losses_test2, theta_losses_test2,\\\n",
    "            ious_test2, dim_ious_test2, loc_ious_test2, theta_diffs_test2,\\\n",
    "            precisions_test2, recalls_test2 = get_stats(model, training=False, get_best=False)"
   ]
  },
  {
   "cell_type": "code",
   "execution_count": 28,
   "metadata": {},
   "outputs": [
    {
     "data": {
      "image/png": "[encoded data removed]",
      "text/plain": [
       "<Figure size 432x288 with 1 Axes>"
      ]
     },
     "metadata": {
      "needs_background": "light"
     },
     "output_type": "display_data"
    }
   ],
   "source": [
    "plt.hist(recalls_test2, bins=100)\n",
    "plt.show()"
   ]
  },
  {
   "cell_type": "code",
   "execution_count": 29,
   "metadata": {},
   "outputs": [
    {
     "data": {
      "image/png": "[encoded data removed]",
      "text/plain": [
       "<Figure size 432x288 with 1 Axes>"
      ]
     },
     "metadata": {
      "needs_background": "light"
     },
     "output_type": "display_data"
    }
   ],
   "source": [
    "plt.hist(precisions_test2, bins=100)\n",
    "plt.show()"
   ]
  },
  {
   "cell_type": "code",
   "execution_count": 30,
   "metadata": {},
   "outputs": [
    {
     "data": {
      "image/png": "[encoded data removed]",
      "text/plain": [
       "<Figure size 432x288 with 1 Axes>"
      ]
     },
     "metadata": {
      "needs_background": "light"
     },
     "output_type": "display_data"
    }
   ],
   "source": [
    "plt.hist(cls_losses_test2, bins=100)\n",
    "plt.show()"
   ]
  },
  {
   "cell_type": "code",
   "execution_count": 31,
   "metadata": {},
   "outputs": [
    {
     "data": {
      "image/png": "[encoded data removed]",
      "text/plain": [
       "<Figure size 432x288 with 1 Axes>"
      ]
     },
     "metadata": {
      "needs_background": "light"
     },
     "output_type": "display_data"
    }
   ],
   "source": [
    "plt.hist(ious_test2, bins=100)\n",
    "plt.show()"
   ]
  },
  {
   "cell_type": "code",
   "execution_count": 32,
   "metadata": {},
   "outputs": [
    {
     "data": {
      "image/png": "[encoded data removed]",
      "text/plain": [
       "<Figure size 432x288 with 1 Axes>"
      ]
     },
     "metadata": {
      "needs_background": "light"
     },
     "output_type": "display_data"
    }
   ],
   "source": [
    "plt.hist(theta_diffs_test2, bins=100)\n",
    "plt.show()"
   ]
  },
  {
   "cell_type": "code",
   "execution_count": 33,
   "metadata": {},
   "outputs": [
    {
     "data": {
      "image/png": "[encoded data removed]",
      "text/plain": [
       "<Figure size 432x288 with 1 Axes>"
      ]
     },
     "metadata": {
      "needs_background": "light"
     },
     "output_type": "display_data"
    }
   ],
   "source": [
    "plt.hist(theta_losses_test2, bins=100)\n",
    "plt.show()"
   ]
  },
  {
   "cell_type": "code",
   "execution_count": null,
   "metadata": {},
   "outputs": [],
   "source": []
  },
  {
   "cell_type": "code",
   "execution_count": null,
   "metadata": {},
   "outputs": [],
   "source": []
  }
 ],
 "metadata": {
  "kernelspec": {
   "display_name": "env3",
   "language": "python",
   "name": "env3"
  },
  "language_info": {
   "codemirror_mode": {
    "name": "ipython",
    "version": 3
   },
   "file_extension": ".py",
   "mimetype": "text/x-python",
   "name": "python",
   "nbconvert_exporter": "python",
   "pygments_lexer": "ipython3",
   "version": "3.5.2"
  }
 },
 "nbformat": 4,
 "nbformat_minor": 2
}
